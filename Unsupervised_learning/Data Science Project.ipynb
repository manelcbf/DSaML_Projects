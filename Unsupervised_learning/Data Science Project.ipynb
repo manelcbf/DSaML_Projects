{
 "cells": [
  {
   "cell_type": "code",
   "execution_count": 53,
   "id": "197e86aa",
   "metadata": {
    "scrolled": false
   },
   "outputs": [
    {
     "name": "stdout",
     "output_type": "stream",
     "text": [
      "<class 'pandas.core.frame.DataFrame'>\n",
      "Int64Index: 15586 entries, 0 to 15588\n",
      "Data columns (total 21 columns):\n",
      " #   Column             Non-Null Count  Dtype  \n",
      "---  ------             --------------  -----  \n",
      " 0   Churn              15586 non-null  object \n",
      " 1   Name               15586 non-null  object \n",
      " 2   Longevity          15586 non-null  object \n",
      " 3   Year_Birth         15391 non-null  float64\n",
      " 4   TypeTravel         15586 non-null  object \n",
      " 5   RoomType           15586 non-null  object \n",
      " 6   RewardPoints       15586 non-null  int64  \n",
      " 7   Comfort            15586 non-null  int64  \n",
      " 8   ReceptionSchedule  15586 non-null  int64  \n",
      " 9   FoodDrink          15586 non-null  int64  \n",
      " 10  Location           15586 non-null  int64  \n",
      " 11  Wifi               15586 non-null  int64  \n",
      " 12  Amenities          15586 non-null  int64  \n",
      " 13  Staff              15586 non-null  int64  \n",
      " 14  OnlineBooking      15586 non-null  int64  \n",
      " 15  PriceQuality       15586 non-null  int64  \n",
      " 16  RoomSpace          15586 non-null  int64  \n",
      " 17  CheckOut           15586 non-null  int64  \n",
      " 18  Checkin            15586 non-null  int64  \n",
      " 19  Cleanliness        15586 non-null  int64  \n",
      " 20  BarService         15586 non-null  int64  \n",
      "dtypes: float64(1), int64(15), object(5)\n",
      "memory usage: 2.6+ MB\n",
      "<class 'pandas.core.frame.DataFrame'>\n",
      "Int64Index: 15586 entries, 0 to 15588\n",
      "Data columns (total 21 columns):\n",
      " #   Column             Non-Null Count  Dtype  \n",
      "---  ------             --------------  -----  \n",
      " 0   Churn              15586 non-null  object \n",
      " 1   Name               15586 non-null  object \n",
      " 2   Longevity          15586 non-null  object \n",
      " 3   Year_Birth         15586 non-null  float64\n",
      " 4   TypeTravel         15586 non-null  object \n",
      " 5   RoomType           15586 non-null  object \n",
      " 6   RewardPoints       15586 non-null  int64  \n",
      " 7   Comfort            15586 non-null  int64  \n",
      " 8   ReceptionSchedule  15586 non-null  int64  \n",
      " 9   FoodDrink          15586 non-null  int64  \n",
      " 10  Location           15586 non-null  int64  \n",
      " 11  Wifi               15586 non-null  int64  \n",
      " 12  Amenities          15586 non-null  int64  \n",
      " 13  Staff              15586 non-null  int64  \n",
      " 14  OnlineBooking      15586 non-null  int64  \n",
      " 15  PriceQuality       15586 non-null  int64  \n",
      " 16  RoomSpace          15586 non-null  int64  \n",
      " 17  CheckOut           15586 non-null  int64  \n",
      " 18  Checkin            15586 non-null  int64  \n",
      " 19  Cleanliness        15586 non-null  int64  \n",
      " 20  BarService         15586 non-null  int64  \n",
      "dtypes: float64(1), int64(15), object(5)\n",
      "memory usage: 2.6+ MB\n"
     ]
    },
    {
     "name": "stderr",
     "output_type": "stream",
     "text": [
      "C:\\Users\\jfred\\AppData\\Local\\Temp/ipykernel_8780/331900573.py:16: FutureWarning: Dropping of nuisance columns in DataFrame reductions (with 'numeric_only=None') is deprecated; in a future version this will raise TypeError.  Select only valid columns before calling the reduction.\n",
      "  db.skew()\n",
      "C:\\Users\\jfred\\AppData\\Local\\Temp/ipykernel_8780/331900573.py:17: FutureWarning: Dropping of nuisance columns in DataFrame reductions (with 'numeric_only=None') is deprecated; in a future version this will raise TypeError.  Select only valid columns before calling the reduction.\n",
      "  db.kurt()\n"
     ]
    }
   ],
   "source": [
    "# Relevant Package Importing\n",
    "import pandas as pd\n",
    "import numpy as np\n",
    "import matplotlib.pyplot as plt\n",
    "import seaborn as sns\n",
    "from sklearn.preprocessing import MinMaxScaler\n",
    "\n",
    "#Import Data from cluster.csv\n",
    "db = pd.read_csv('cluster.csv')\n",
    "db[db.duplicated(keep = False)]\n",
    "db.drop_duplicates(inplace = True)\n",
    "\n",
    "#Explore Data\n",
    "db.info() #From the start, the only Attribute with missing non-null values is Year_Birth. For storytelling purposes, we should discuss how to explore the narrative here for median vs mode vs mean\n",
    "db.describe() #Include in storytelling the type of clients that use all 0 or all 5. Also, check the type of clients that use 1 instead of 0, does that make sense? Is check in and Check out necessary?\n",
    "db.skew()\n",
    "db.kurt()\n",
    "db.describe(include = ['O']) #O from object\n",
    "db['RoomType'].value_counts() #cycle through Churn, Name, Longevity, TypeTravel, RoomType\n",
    "#Check how many repeat visits do we have from the potential customers. (Name)\n",
    "#We need to clean Longevity: yes, no and y. (Longevity)\n",
    "#Churn, Longevity and TypeTravel can be Boolean\n",
    "\n",
    "#Data Cleaning\n",
    "db['Longevity'] = db['Longevity'].replace('y','yes')\n",
    "db['Longevity'].value_counts() #Best practice for minimizing data usage.\n",
    "db.fillna({'Year_Birth': db['Year_Birth'].median() }, inplace = True) #Changed by median \n",
    "db.info()\n"
   ]
  },
  {
   "cell_type": "code",
   "execution_count": 54,
   "id": "6a84c5eb",
   "metadata": {},
   "outputs": [
    {
     "data": {
      "text/plain": [
       "<AxesSubplot:xlabel='Year_Birth', ylabel='Count'>"
      ]
     },
     "execution_count": 54,
     "metadata": {},
     "output_type": "execute_result"
    },
    {
     "data": {
      "image/png": "[encoded data removed]",
      "text/plain": [
       "<Figure size 432x288 with 1 Axes>"
      ]
     },
     "metadata": {
      "needs_background": "light"
     },
     "output_type": "display_data"
    }
   ],
   "source": [
    "sns.histplot(db['Year_Birth'], color=\"g\", bins = 10)"
   ]
  },
  {
   "cell_type": "code",
   "execution_count": null,
   "id": "61d89d0c",
   "metadata": {},
   "outputs": [],
   "source": []
  }
 ],
 "metadata": {
  "kernelspec": {
   "display_name": "Python 3 (ipykernel)",
   "language": "python",
   "name": "python3"
  },
  "language_info": {
   "codemirror_mode": {
    "name": "ipython",
    "version": 3
   },
   "file_extension": ".py",
   "mimetype": "text/x-python",
   "name": "python",
   "nbconvert_exporter": "python",
   "pygments_lexer": "ipython3",
   "version": "3.9.7"
  }
 },
 "nbformat": 4,
 "nbformat_minor": 5
}
