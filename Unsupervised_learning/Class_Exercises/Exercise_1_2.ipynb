{
 "cells": [
  {
   "cell_type": "markdown",
   "id": "69afc379",
   "metadata": {},
   "source": [
    "# Exercise 1\n",
    "\n",
    "Answers to questionaire"
   ]
  },
  {
   "cell_type": "code",
   "execution_count": null,
   "id": "9759cc16",
   "metadata": {},
   "outputs": [],
   "source": [
    "# Relevant Package Importing\n",
    "import pandas as pd"
   ]
  },
  {
   "cell_type": "code",
   "execution_count": 67,
   "id": "19e8655b",
   "metadata": {},
   "outputs": [
    {
     "name": "stdout",
     "output_type": "stream",
     "text": [
      "<class 'pandas.core.frame.DataFrame'>\n",
      "RangeIndex: 18723 entries, 0 to 18722\n",
      "Data columns (total 20 columns):\n",
      " #   Column                Non-Null Count  Dtype  \n",
      "---  ------                --------------  -----  \n",
      " 0   room_id               18723 non-null  int64  \n",
      " 1   survey_id             18723 non-null  int64  \n",
      " 2   host_id               18723 non-null  int64  \n",
      " 3   room_type             18723 non-null  object \n",
      " 4   country               0 non-null      float64\n",
      " 5   city                  18723 non-null  object \n",
      " 6   borough               0 non-null      float64\n",
      " 7   neighborhood          18723 non-null  object \n",
      " 8   reviews               18723 non-null  int64  \n",
      " 9   overall_satisfaction  18723 non-null  float64\n",
      " 10  accommodates          18723 non-null  int64  \n",
      " 11  bedrooms              18723 non-null  float64\n",
      " 12  bathrooms             0 non-null      float64\n",
      " 13  price                 18723 non-null  float64\n",
      " 14  minstay               0 non-null      float64\n",
      " 15  name                  18671 non-null  object \n",
      " 16  last_modified         18723 non-null  object \n",
      " 17  latitude              18723 non-null  float64\n",
      " 18  longitude             18723 non-null  float64\n",
      " 19  location              18723 non-null  object \n",
      "dtypes: float64(9), int64(5), object(6)\n",
      "memory usage: 2.9+ MB\n"
     ]
    }
   ],
   "source": [
    "#Import Data from cluster.csv\n",
    "db = pd.read_csv('airbnb.csv')\n",
    "db.info()"
   ]
  },
  {
   "cell_type": "code",
   "execution_count": 34,
   "id": "f3da1549",
   "metadata": {},
   "outputs": [
    {
     "data": {
      "text/plain": [
       "object     6\n",
       "float64    5\n",
       "int64      5\n",
       "dtype: int64"
      ]
     },
     "execution_count": 34,
     "metadata": {},
     "output_type": "execute_result"
    }
   ],
   "source": [
    "db.dtypes.value_counts()"
   ]
  },
  {
   "cell_type": "code",
   "execution_count": 35,
   "id": "e5a7e192",
   "metadata": {},
   "outputs": [
    {
     "data": {
      "text/plain": [
       "0.3167053557900961"
      ]
     },
     "execution_count": 35,
     "metadata": {},
     "output_type": "execute_result"
    }
   ],
   "source": [
    "db['reviews'].corr(db['overall_satisfaction'])"
   ]
  },
  {
   "cell_type": "code",
   "execution_count": 54,
   "id": "d633b11b",
   "metadata": {},
   "outputs": [
    {
     "data": {
      "text/plain": [
       "room_id                -0.008476\n",
       "survey_id                    NaN\n",
       "host_id                -0.016390\n",
       "reviews                -0.084516\n",
       "overall_satisfaction   -0.044775\n",
       "accommodates            0.500350\n",
       "bedrooms                0.446144\n",
       "price                   1.000000\n",
       "latitude                0.013759\n",
       "longitude               0.021770\n",
       "Name: price, dtype: float64"
      ]
     },
     "execution_count": 54,
     "metadata": {},
     "output_type": "execute_result"
    }
   ],
   "source": [
    "db.corr()['price']"
   ]
  },
  {
   "cell_type": "code",
   "execution_count": 62,
   "id": "560d7e92",
   "metadata": {},
   "outputs": [
    {
     "data": {
      "text/plain": [
       "2     10024\n",
       "4      5579\n",
       "3      1585\n",
       "6       476\n",
       "5       471\n",
       "1       367\n",
       "8       105\n",
       "7        52\n",
       "16       20\n",
       "10       16\n",
       "12       10\n",
       "9         8\n",
       "14        6\n",
       "11        2\n",
       "17        1\n",
       "13        1\n",
       "Name: accommodates, dtype: int64"
      ]
     },
     "execution_count": 62,
     "metadata": {},
     "output_type": "execute_result"
    }
   ],
   "source": [
    "db['accommodates'].value_counts()"
   ]
  },
  {
   "cell_type": "code",
   "execution_count": 63,
   "id": "79151352",
   "metadata": {
    "scrolled": false
   },
   "outputs": [
    {
     "data": {
      "text/plain": [
       "10.0"
      ]
     },
     "execution_count": 63,
     "metadata": {},
     "output_type": "execute_result"
    }
   ],
   "source": [
    "db.bedrooms.max()"
   ]
  },
  {
   "cell_type": "code",
   "execution_count": 65,
   "id": "0f19c8f9",
   "metadata": {},
   "outputs": [
    {
     "data": {
      "text/plain": [
       "3.3011269561501897"
      ]
     },
     "execution_count": 65,
     "metadata": {},
     "output_type": "execute_result"
    }
   ],
   "source": [
    "db['overall_satisfaction'].mean()"
   ]
  },
  {
   "cell_type": "code",
   "execution_count": 68,
   "id": "f2dca2a6",
   "metadata": {},
   "outputs": [
    {
     "name": "stdout",
     "output_type": "stream",
     "text": [
      "<class 'pandas.core.frame.DataFrame'>\n",
      "RangeIndex: 18723 entries, 0 to 18722\n",
      "Data columns (total 20 columns):\n",
      " #   Column                Non-Null Count  Dtype  \n",
      "---  ------                --------------  -----  \n",
      " 0   room_id               18723 non-null  int64  \n",
      " 1   survey_id             18723 non-null  int64  \n",
      " 2   host_id               18723 non-null  int64  \n",
      " 3   room_type             18723 non-null  object \n",
      " 4   country               0 non-null      float64\n",
      " 5   city                  18723 non-null  object \n",
      " 6   borough               0 non-null      float64\n",
      " 7   neighborhood          18723 non-null  object \n",
      " 8   reviews               18723 non-null  int64  \n",
      " 9   overall_satisfaction  18723 non-null  float64\n",
      " 10  accommodates          18723 non-null  int64  \n",
      " 11  bedrooms              18723 non-null  float64\n",
      " 12  bathrooms             0 non-null      float64\n",
      " 13  price                 18723 non-null  float64\n",
      " 14  minstay               0 non-null      float64\n",
      " 15  name                  18671 non-null  object \n",
      " 16  last_modified         18723 non-null  object \n",
      " 17  latitude              18723 non-null  float64\n",
      " 18  longitude             18723 non-null  float64\n",
      " 19  location              18723 non-null  object \n",
      "dtypes: float64(9), int64(5), object(6)\n",
      "memory usage: 2.9+ MB\n"
     ]
    }
   ],
   "source": [
    "db.info()"
   ]
  },
  {
   "cell_type": "code",
   "execution_count": 73,
   "id": "33af32d2",
   "metadata": {},
   "outputs": [
    {
     "data": {
      "text/plain": [
       "21"
      ]
     },
     "execution_count": 73,
     "metadata": {},
     "output_type": "execute_result"
    }
   ],
   "source": [
    "(db['accommodates'] > 15).sum()"
   ]
  },
  {
   "cell_type": "code",
   "execution_count": 74,
   "id": "7c240156",
   "metadata": {},
   "outputs": [
    {
     "data": {
      "text/plain": [
       "room_id                 18723\n",
       "survey_id               18723\n",
       "host_id                 18723\n",
       "room_type               18723\n",
       "country                     0\n",
       "city                    18723\n",
       "borough                     0\n",
       "neighborhood            18723\n",
       "reviews                 18723\n",
       "overall_satisfaction    18723\n",
       "accommodates            18723\n",
       "bedrooms                18723\n",
       "bathrooms                   0\n",
       "price                   18723\n",
       "minstay                     0\n",
       "name                    18671\n",
       "last_modified           18723\n",
       "latitude                18723\n",
       "longitude               18723\n",
       "location                18723\n",
       "dtype: int64"
      ]
     },
     "execution_count": 74,
     "metadata": {},
     "output_type": "execute_result"
    }
   ],
   "source": [
    "db.count()"
   ]
  },
  {
   "cell_type": "code",
   "execution_count": 77,
   "id": "99e5af1c",
   "metadata": {},
   "outputs": [
    {
     "data": {
      "text/plain": [
       "count    18723.000000\n",
       "mean       166.599477\n",
       "std        108.943849\n",
       "min         12.000000\n",
       "25%        108.000000\n",
       "50%        144.000000\n",
       "75%        192.000000\n",
       "max       6000.000000\n",
       "Name: price, dtype: float64"
      ]
     },
     "execution_count": 77,
     "metadata": {},
     "output_type": "execute_result"
    }
   ],
   "source": [
    "db['price'].describe()"
   ]
  },
  {
   "cell_type": "code",
   "execution_count": 83,
   "id": "6c99d12d",
   "metadata": {},
   "outputs": [
    {
     "data": {
      "text/plain": [
       "745.7"
      ]
     },
     "execution_count": 83,
     "metadata": {},
     "output_type": "execute_result"
    }
   ],
   "source": [
    "db[db['accommodates'] == 16]['price'].mean()"
   ]
  },
  {
   "cell_type": "code",
   "execution_count": 85,
   "id": "49966e9f",
   "metadata": {},
   "outputs": [
    {
     "data": {
      "text/plain": [
       "170.23196678775298"
      ]
     },
     "execution_count": 85,
     "metadata": {},
     "output_type": "execute_result"
    }
   ],
   "source": [
    "db[db['overall_satisfaction'] == 5]['price'].mean()"
   ]
  },
  {
   "cell_type": "code",
   "execution_count": 86,
   "id": "b82fe1eb",
   "metadata": {},
   "outputs": [
    {
     "data": {
      "text/plain": [
       "Entire home/apt    14978\n",
       "Private room        3682\n",
       "Shared room           63\n",
       "Name: room_type, dtype: int64"
      ]
     },
     "execution_count": 86,
     "metadata": {},
     "output_type": "execute_result"
    }
   ],
   "source": [
    "db['room_type'].value_counts()"
   ]
  },
  {
   "cell_type": "code",
   "execution_count": 87,
   "id": "c867b46f",
   "metadata": {},
   "outputs": [
    {
     "data": {
      "text/plain": [
       "De Baarsjes / Oud West                    3289\n",
       "De Pijp / Rivierenbuurt                   2378\n",
       "Centrum West                              2225\n",
       "Centrum Oost                              1730\n",
       "Westerpark                                1430\n",
       "Noord-West / Noord-Midden                 1418\n",
       "Oud Oost                                  1169\n",
       "Bos en Lommer                              988\n",
       "Oostelijk Havengebied / Indische Buurt     921\n",
       "Watergraafsmeer                            517\n",
       "Oud Noord                                  494\n",
       "Ijburg / Eiland Zeeburg                    378\n",
       "Slotervaart                                349\n",
       "Buitenveldert / Zuidas                     250\n",
       "Noord West                                 241\n",
       "Noord Oost                                 221\n",
       "Geuzenveld / Slotermeer                    195\n",
       "Osdorp                                     163\n",
       "De Aker / Nieuw Sloten                     114\n",
       "Bijlmer Centrum                             99\n",
       "Bijlmer Oost                                97\n",
       "Gaasperdam / Driemond                       42\n",
       "Westpoort                                   15\n",
       "Name: neighborhood, dtype: int64"
      ]
     },
     "execution_count": 87,
     "metadata": {},
     "output_type": "execute_result"
    }
   ],
   "source": [
    "db['neighborhood'].value_counts()"
   ]
  },
  {
   "cell_type": "markdown",
   "id": "e6ed145f",
   "metadata": {},
   "source": [
    "# Exercise 2\n",
    "\n",
    "Hints:\n",
    "\n",
    "1 - Import the dataset 'data.xlsx'\n",
    "\n",
    "2 - Create a figure with the size (8,8)\n",
    "\n",
    "3 - Create a countplot to check the frequency of Marital status, according to Gender. The Gender should be in the following order: ['Single', 'Together', 'Married', 'Divorced']\n",
    "\n",
    "4 - The size of the title is 14, the style is italic, and the fontweight is bold.\n",
    "\n",
    "5 - The size of the font for the labels is 12.\n",
    "\n",
    "6 - The ticks in x axis are between 0 and 19, with step of 2."
   ]
  },
  {
   "cell_type": "code",
   "execution_count": 93,
   "id": "f5f4692a",
   "metadata": {},
   "outputs": [
    {
     "data": {
      "text/html": [
       "<div>\n",
       "<style scoped>\n",
       "    .dataframe tbody tr th:only-of-type {\n",
       "        vertical-align: middle;\n",
       "    }\n",
       "\n",
       "    .dataframe tbody tr th {\n",
       "        vertical-align: top;\n",
       "    }\n",
       "\n",
       "    .dataframe thead th {\n",
       "        text-align: right;\n",
       "    }\n",
       "</style>\n",
       "<table border=\"1\" class=\"dataframe\">\n",
       "  <thead>\n",
       "    <tr style=\"text-align: right;\">\n",
       "      <th></th>\n",
       "      <th>ID</th>\n",
       "      <th>Name</th>\n",
       "      <th>Gender</th>\n",
       "      <th>BirthDate</th>\n",
       "      <th>Income</th>\n",
       "      <th>NumberKids</th>\n",
       "      <th>Marital Status</th>\n",
       "      <th>DistanceHomeOffice</th>\n",
       "      <th>JobDedication</th>\n",
       "      <th>JobPerformance</th>\n",
       "    </tr>\n",
       "  </thead>\n",
       "  <tbody>\n",
       "    <tr>\n",
       "      <th>0</th>\n",
       "      <td>E_501</td>\n",
       "      <td>Aston Fuller</td>\n",
       "      <td>M</td>\n",
       "      <td>18/03/1995</td>\n",
       "      <td>774.0</td>\n",
       "      <td>1</td>\n",
       "      <td>Divorced</td>\n",
       "      <td>32</td>\n",
       "      <td>3</td>\n",
       "      <td>3</td>\n",
       "    </tr>\n",
       "    <tr>\n",
       "      <th>1</th>\n",
       "      <td>E_502</td>\n",
       "      <td>Mahad Wynn</td>\n",
       "      <td>M</td>\n",
       "      <td>22/01/1951</td>\n",
       "      <td>1418.0</td>\n",
       "      <td>1</td>\n",
       "      <td>Together</td>\n",
       "      <td>14</td>\n",
       "      <td>3</td>\n",
       "      <td>3</td>\n",
       "    </tr>\n",
       "    <tr>\n",
       "      <th>2</th>\n",
       "      <td>E_503</td>\n",
       "      <td>Samual Peralta</td>\n",
       "      <td>M</td>\n",
       "      <td>1966-02-01 00:00:00</td>\n",
       "      <td>1507.0</td>\n",
       "      <td>1</td>\n",
       "      <td>Single</td>\n",
       "      <td>1</td>\n",
       "      <td>3</td>\n",
       "      <td>3</td>\n",
       "    </tr>\n",
       "    <tr>\n",
       "      <th>3</th>\n",
       "      <td>E_504</td>\n",
       "      <td>Aadil Kidd</td>\n",
       "      <td>M</td>\n",
       "      <td>23/11/1980</td>\n",
       "      <td>1379.0</td>\n",
       "      <td>2</td>\n",
       "      <td>Single</td>\n",
       "      <td>36</td>\n",
       "      <td>2</td>\n",
       "      <td>4</td>\n",
       "    </tr>\n",
       "    <tr>\n",
       "      <th>4</th>\n",
       "      <td>E_505</td>\n",
       "      <td>Akaash Carroll</td>\n",
       "      <td>M</td>\n",
       "      <td>22/04/1989</td>\n",
       "      <td>1763.0</td>\n",
       "      <td>2</td>\n",
       "      <td>Single</td>\n",
       "      <td>4</td>\n",
       "      <td>2</td>\n",
       "      <td>3</td>\n",
       "    </tr>\n",
       "    <tr>\n",
       "      <th>...</th>\n",
       "      <td>...</td>\n",
       "      <td>...</td>\n",
       "      <td>...</td>\n",
       "      <td>...</td>\n",
       "      <td>...</td>\n",
       "      <td>...</td>\n",
       "      <td>...</td>\n",
       "      <td>...</td>\n",
       "      <td>...</td>\n",
       "      <td>...</td>\n",
       "    </tr>\n",
       "    <tr>\n",
       "      <th>89</th>\n",
       "      <td>E_590</td>\n",
       "      <td>Hana Sellers</td>\n",
       "      <td>F</td>\n",
       "      <td>1963-03-03 00:00:00</td>\n",
       "      <td>1169.0</td>\n",
       "      <td>1</td>\n",
       "      <td>Married</td>\n",
       "      <td>21</td>\n",
       "      <td>3</td>\n",
       "      <td>3</td>\n",
       "    </tr>\n",
       "    <tr>\n",
       "      <th>90</th>\n",
       "      <td>E_591</td>\n",
       "      <td>Addison Banks</td>\n",
       "      <td>F</td>\n",
       "      <td>1985-06-06 00:00:00</td>\n",
       "      <td>967.0</td>\n",
       "      <td>1</td>\n",
       "      <td>Divorced</td>\n",
       "      <td>32</td>\n",
       "      <td>2</td>\n",
       "      <td>3</td>\n",
       "    </tr>\n",
       "    <tr>\n",
       "      <th>91</th>\n",
       "      <td>E_592</td>\n",
       "      <td>Josiah Bateman</td>\n",
       "      <td>M</td>\n",
       "      <td>1960-10-12 00:00:00</td>\n",
       "      <td>1688.0</td>\n",
       "      <td>3</td>\n",
       "      <td>Divorced</td>\n",
       "      <td>39</td>\n",
       "      <td>2</td>\n",
       "      <td>4</td>\n",
       "    </tr>\n",
       "    <tr>\n",
       "      <th>92</th>\n",
       "      <td>E_593</td>\n",
       "      <td>Shelby Moore</td>\n",
       "      <td>F</td>\n",
       "      <td>1981-04-02 00:00:00</td>\n",
       "      <td>1146.0</td>\n",
       "      <td>-1</td>\n",
       "      <td>Married</td>\n",
       "      <td>34</td>\n",
       "      <td>2</td>\n",
       "      <td>3</td>\n",
       "    </tr>\n",
       "    <tr>\n",
       "      <th>93</th>\n",
       "      <td>E_594</td>\n",
       "      <td>Vijay Terry</td>\n",
       "      <td>M</td>\n",
       "      <td>1958-09-07 00:00:00</td>\n",
       "      <td>1540.0</td>\n",
       "      <td>0</td>\n",
       "      <td>Single</td>\n",
       "      <td>8</td>\n",
       "      <td>2</td>\n",
       "      <td>3</td>\n",
       "    </tr>\n",
       "  </tbody>\n",
       "</table>\n",
       "<p>94 rows × 10 columns</p>\n",
       "</div>"
      ],
      "text/plain": [
       "       ID            Name Gender            BirthDate  Income  NumberKids  \\\n",
       "0   E_501    Aston Fuller      M           18/03/1995   774.0           1   \n",
       "1   E_502      Mahad Wynn      M           22/01/1951  1418.0           1   \n",
       "2   E_503  Samual Peralta      M  1966-02-01 00:00:00  1507.0           1   \n",
       "3   E_504      Aadil Kidd      M           23/11/1980  1379.0           2   \n",
       "4   E_505  Akaash Carroll      M           22/04/1989  1763.0           2   \n",
       "..    ...             ...    ...                  ...     ...         ...   \n",
       "89  E_590    Hana Sellers      F  1963-03-03 00:00:00  1169.0           1   \n",
       "90  E_591   Addison Banks      F  1985-06-06 00:00:00   967.0           1   \n",
       "91  E_592  Josiah Bateman      M  1960-10-12 00:00:00  1688.0           3   \n",
       "92  E_593    Shelby Moore      F  1981-04-02 00:00:00  1146.0          -1   \n",
       "93  E_594     Vijay Terry      M  1958-09-07 00:00:00  1540.0           0   \n",
       "\n",
       "   Marital Status  DistanceHomeOffice  JobDedication  JobPerformance  \n",
       "0        Divorced                  32              3               3  \n",
       "1        Together                  14              3               3  \n",
       "2          Single                   1              3               3  \n",
       "3          Single                  36              2               4  \n",
       "4          Single                   4              2               3  \n",
       "..            ...                 ...            ...             ...  \n",
       "89        Married                  21              3               3  \n",
       "90       Divorced                  32              2               3  \n",
       "91       Divorced                  39              2               4  \n",
       "92        Married                  34              2               3  \n",
       "93         Single                   8              2               3  \n",
       "\n",
       "[94 rows x 10 columns]"
      ]
     },
     "execution_count": 93,
     "metadata": {},
     "output_type": "execute_result"
    }
   ],
   "source": [
    "import matplotlib.pyplot as plt\n",
    "import seaborn as sns\n",
    "df = pd.read_excel('./Exercise_2/data.xlsx')\n",
    "df"
   ]
  },
  {
   "cell_type": "code",
   "execution_count": 105,
   "id": "9869c156",
   "metadata": {},
   "outputs": [
    {
     "data": {
      "text/plain": [
       "Text(0.5, 1.0, 'Frequency by Marital Status and Income by Marital Status and Gender')"
      ]
     },
     "execution_count": 105,
     "metadata": {},
     "output_type": "execute_result"
    },
    {
     "data": {
      "image/png": "[encoded data removed]",
      "text/plain": [
       "<Figure size 576x576 with 1 Axes>"
      ]
     },
     "metadata": {
      "needs_background": "light"
     },
     "output_type": "display_data"
    }
   ],
   "source": [
    "plt.figure(figsize=(8,8))\n",
    "sns.countplot(data=df,y='Marital Status',hue=\"Gender\",order=['Single','Together','Married','Divorced'])\n",
    "plt.xticks(np.arange(0,19,2))\n",
    "plt.xlabel(\"Frequency\")\n",
    "plt.legend(title = 'Gender',fontsize = 12)\n",
    "plt.title('Frequency by Marital Status and Income by Marital Status and Gender', fontsize= 14, color = 'black', fontweight='bold')\n"
   ]
  }
 ],
 "metadata": {
  "kernelspec": {
   "display_name": "Python 3",
   "language": "python",
   "name": "python3"
  },
  "language_info": {
   "codemirror_mode": {
    "name": "ipython",
    "version": 3
   },
   "file_extension": ".py",
   "mimetype": "text/x-python",
   "name": "python",
   "nbconvert_exporter": "python",
   "pygments_lexer": "ipython3",
   "version": "3.8.8"
  }
 },
 "nbformat": 4,
 "nbformat_minor": 5
}
