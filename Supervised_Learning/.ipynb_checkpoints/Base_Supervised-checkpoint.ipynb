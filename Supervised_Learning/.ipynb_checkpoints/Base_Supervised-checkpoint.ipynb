{
 "cells": [
  {
   "cell_type": "code",
   "execution_count": 53,
   "id": "68da1e64",
   "metadata": {},
   "outputs": [],
   "source": [
    "import pandas as pd\n",
    "import numpy as np\n",
    "import matplotlib.pyplot as plt\n",
    "import seaborn as sns\n",
    "from sklearn.feature_selection import RFE\n",
    "import scipy.stats as stats\n",
    "from scipy.stats import chi2_contingency\n",
    "# Scaling\n",
    "from sklearn.preprocessing import MinMaxScaler\n",
    "# Models\n",
    "from sklearn.neighbors import KNeighborsClassifier\n",
    "from sklearn.linear_model import LogisticRegression\n",
    "from sklearn.tree import DecisionTreeClassifier\n",
    "from sklearn.ensemble import RandomForestClassifier\n",
    "from sklearn.linear_model import LassoCV\n",
    "from sklearn.svm import SVC\n",
    "from sklearn.neural_network import MLPClassifier\n",
    "from sklearn.ensemble import GradientBoostingClassifier\n",
    "from sklearn.naive_bayes import GaussianNB\n",
    "# Model Assessment\n",
    "from sklearn.model_selection import train_test_split\n",
    "from sklearn.model_selection import StratifiedKFold\n",
    "from sklearn.metrics import f1_score\n",
    "import warnings\n",
    "warnings.filterwarnings('ignore')"
   ]
  },
  {
   "cell_type": "code",
   "execution_count": 2,
   "id": "9ba5d21c",
   "metadata": {},
   "outputs": [
    {
     "data": {
      "text/html": [
       "<div>\n",
       "<style scoped>\n",
       "    .dataframe tbody tr th:only-of-type {\n",
       "        vertical-align: middle;\n",
       "    }\n",
       "\n",
       "    .dataframe tbody tr th {\n",
       "        vertical-align: top;\n",
       "    }\n",
       "\n",
       "    .dataframe thead th {\n",
       "        text-align: right;\n",
       "    }\n",
       "</style>\n",
       "<table border=\"1\" class=\"dataframe\">\n",
       "  <thead>\n",
       "    <tr style=\"text-align: right;\">\n",
       "      <th></th>\n",
       "      <th>ID</th>\n",
       "      <th>Place</th>\n",
       "      <th>location</th>\n",
       "      <th>date</th>\n",
       "      <th>status</th>\n",
       "      <th>job_title</th>\n",
       "      <th>summary</th>\n",
       "      <th>positives</th>\n",
       "      <th>negatives</th>\n",
       "      <th>advice_to_mgmt</th>\n",
       "      <th>score_1</th>\n",
       "      <th>score_2</th>\n",
       "      <th>score_3</th>\n",
       "      <th>score_4</th>\n",
       "      <th>score_5</th>\n",
       "      <th>score_6</th>\n",
       "      <th>overall</th>\n",
       "    </tr>\n",
       "  </thead>\n",
       "  <tbody>\n",
       "  </tbody>\n",
       "</table>\n",
       "</div>"
      ],
      "text/plain": [
       "Empty DataFrame\n",
       "Columns: [ID, Place, location, date, status, job_title, summary, positives, negatives, advice_to_mgmt, score_1, score_2, score_3, score_4, score_5, score_6, overall]\n",
       "Index: []"
      ]
     },
     "execution_count": 2,
     "metadata": {},
     "output_type": "execute_result"
    }
   ],
   "source": [
    "db = pd.read_csv('/Users/manuel/Downloads/NLP_Data/train.csv')\n",
    "db[db.duplicated(keep = False)]"
   ]
  },
  {
   "cell_type": "code",
   "execution_count": 64,
   "id": "3da85107",
   "metadata": {},
   "outputs": [],
   "source": [
    "# if need to split between tain and test\n",
    "data = db.drop(['overall'], axis=1)\n",
    "target = db['overall']"
   ]
  },
  {
   "cell_type": "code",
   "execution_count": 27,
   "id": "ec20f60a",
   "metadata": {},
   "outputs": [
    {
     "data": {
      "text/html": [
       "<div>\n",
       "<style scoped>\n",
       "    .dataframe tbody tr th:only-of-type {\n",
       "        vertical-align: middle;\n",
       "    }\n",
       "\n",
       "    .dataframe tbody tr th {\n",
       "        vertical-align: top;\n",
       "    }\n",
       "\n",
       "    .dataframe thead th {\n",
       "        text-align: right;\n",
       "    }\n",
       "</style>\n",
       "<table border=\"1\" class=\"dataframe\">\n",
       "  <thead>\n",
       "    <tr style=\"text-align: right;\">\n",
       "      <th></th>\n",
       "      <th>ID</th>\n",
       "      <th>Place</th>\n",
       "      <th>location</th>\n",
       "      <th>date</th>\n",
       "      <th>status</th>\n",
       "      <th>job_title</th>\n",
       "      <th>summary</th>\n",
       "      <th>positives</th>\n",
       "      <th>negatives</th>\n",
       "      <th>advice_to_mgmt</th>\n",
       "      <th>score_1</th>\n",
       "      <th>score_2</th>\n",
       "      <th>score_3</th>\n",
       "      <th>score_4</th>\n",
       "      <th>score_5</th>\n",
       "      <th>score_6</th>\n",
       "    </tr>\n",
       "  </thead>\n",
       "  <tbody>\n",
       "    <tr>\n",
       "      <th>0</th>\n",
       "      <td>1</td>\n",
       "      <td>startup_1</td>\n",
       "      <td>NaN</td>\n",
       "      <td>Dec 11, 2018</td>\n",
       "      <td>Current Employee</td>\n",
       "      <td>Anonymous Employee</td>\n",
       "      <td>Best Company to work for</td>\n",
       "      <td>People are smart and friendly</td>\n",
       "      <td>Bureaucracy is slowing things down</td>\n",
       "      <td>NaN</td>\n",
       "      <td>4.0</td>\n",
       "      <td>5.0</td>\n",
       "      <td>5.0</td>\n",
       "      <td>4.0</td>\n",
       "      <td>5.0</td>\n",
       "      <td>0</td>\n",
       "    </tr>\n",
       "    <tr>\n",
       "      <th>1</th>\n",
       "      <td>2</td>\n",
       "      <td>startup_1</td>\n",
       "      <td>Mountain View, CA</td>\n",
       "      <td>Jun 21, 2013</td>\n",
       "      <td>Former Employee</td>\n",
       "      <td>Program Manager</td>\n",
       "      <td>Moving at the speed of light, burn out is inev...</td>\n",
       "      <td>1) Food, food, food. 15+ cafes on main campus ...</td>\n",
       "      <td>1) Work/life balance. What balance? All those ...</td>\n",
       "      <td>1) Don't dismiss emotional intelligence and ad...</td>\n",
       "      <td>2.0</td>\n",
       "      <td>3.0</td>\n",
       "      <td>3.0</td>\n",
       "      <td>5.0</td>\n",
       "      <td>3.0</td>\n",
       "      <td>2094</td>\n",
       "    </tr>\n",
       "    <tr>\n",
       "      <th>2</th>\n",
       "      <td>3</td>\n",
       "      <td>startup_1</td>\n",
       "      <td>New York, NY</td>\n",
       "      <td>May 10, 2014</td>\n",
       "      <td>Current Employee</td>\n",
       "      <td>Software Engineer III</td>\n",
       "      <td>Great balance between big-company security and...</td>\n",
       "      <td>* If you're a software engineer, you're among ...</td>\n",
       "      <td>* It *is* becoming larger, and with it comes g...</td>\n",
       "      <td>Keep the focus on the user. Everything else wi...</td>\n",
       "      <td>5.0</td>\n",
       "      <td>4.0</td>\n",
       "      <td>5.0</td>\n",
       "      <td>5.0</td>\n",
       "      <td>4.0</td>\n",
       "      <td>949</td>\n",
       "    </tr>\n",
       "  </tbody>\n",
       "</table>\n",
       "</div>"
      ],
      "text/plain": [
       "   ID      Place           location           date             status  \\\n",
       "0   1  startup_1                NaN   Dec 11, 2018  Current Employee    \n",
       "1   2  startup_1  Mountain View, CA   Jun 21, 2013   Former Employee    \n",
       "2   3  startup_1       New York, NY   May 10, 2014  Current Employee    \n",
       "\n",
       "                job_title                                            summary  \\\n",
       "0      Anonymous Employee                           Best Company to work for   \n",
       "1         Program Manager  Moving at the speed of light, burn out is inev...   \n",
       "2   Software Engineer III  Great balance between big-company security and...   \n",
       "\n",
       "                                           positives  \\\n",
       "0                      People are smart and friendly   \n",
       "1  1) Food, food, food. 15+ cafes on main campus ...   \n",
       "2  * If you're a software engineer, you're among ...   \n",
       "\n",
       "                                           negatives  \\\n",
       "0                 Bureaucracy is slowing things down   \n",
       "1  1) Work/life balance. What balance? All those ...   \n",
       "2  * It *is* becoming larger, and with it comes g...   \n",
       "\n",
       "                                      advice_to_mgmt  score_1  score_2  \\\n",
       "0                                                NaN      4.0      5.0   \n",
       "1  1) Don't dismiss emotional intelligence and ad...      2.0      3.0   \n",
       "2  Keep the focus on the user. Everything else wi...      5.0      4.0   \n",
       "\n",
       "   score_3  score_4  score_5  score_6  \n",
       "0      5.0      4.0      5.0        0  \n",
       "1      3.0      5.0      3.0     2094  \n",
       "2      5.0      5.0      4.0      949  "
      ]
     },
     "execution_count": 27,
     "metadata": {},
     "output_type": "execute_result"
    }
   ],
   "source": [
    "data.head(3)"
   ]
  },
  {
   "cell_type": "code",
   "execution_count": 28,
   "id": "34cc3f17",
   "metadata": {},
   "outputs": [
    {
     "name": "stdout",
     "output_type": "stream",
     "text": [
      "<class 'pandas.core.frame.DataFrame'>\n",
      "RangeIndex: 30336 entries, 0 to 30335\n",
      "Data columns (total 16 columns):\n",
      " #   Column          Non-Null Count  Dtype  \n",
      "---  ------          --------------  -----  \n",
      " 0   ID              30336 non-null  int64  \n",
      " 1   Place           30336 non-null  object \n",
      " 2   location        19082 non-null  object \n",
      " 3   date            30336 non-null  object \n",
      " 4   status          30336 non-null  object \n",
      " 5   job_title       30336 non-null  object \n",
      " 6   summary         30284 non-null  object \n",
      " 7   positives       30336 non-null  object \n",
      " 8   negatives       30336 non-null  object \n",
      " 9   advice_to_mgmt  17059 non-null  object \n",
      " 10  score_1         27150 non-null  float64\n",
      " 11  score_2         24286 non-null  float64\n",
      " 12  score_3         27167 non-null  float64\n",
      " 13  score_4         27145 non-null  float64\n",
      " 14  score_5         26851 non-null  float64\n",
      " 15  score_6         30336 non-null  int64  \n",
      "dtypes: float64(5), int64(2), object(9)\n",
      "memory usage: 3.7+ MB\n"
     ]
    }
   ],
   "source": [
    "data.info()"
   ]
  },
  {
   "cell_type": "code",
   "execution_count": 29,
   "id": "dcc7a15a",
   "metadata": {},
   "outputs": [
    {
     "data": {
      "text/html": [
       "<div>\n",
       "<style scoped>\n",
       "    .dataframe tbody tr th:only-of-type {\n",
       "        vertical-align: middle;\n",
       "    }\n",
       "\n",
       "    .dataframe tbody tr th {\n",
       "        vertical-align: top;\n",
       "    }\n",
       "\n",
       "    .dataframe thead th {\n",
       "        text-align: right;\n",
       "    }\n",
       "</style>\n",
       "<table border=\"1\" class=\"dataframe\">\n",
       "  <thead>\n",
       "    <tr style=\"text-align: right;\">\n",
       "      <th></th>\n",
       "      <th>count</th>\n",
       "      <th>mean</th>\n",
       "      <th>std</th>\n",
       "      <th>min</th>\n",
       "      <th>25%</th>\n",
       "      <th>50%</th>\n",
       "      <th>75%</th>\n",
       "      <th>max</th>\n",
       "      <th>var</th>\n",
       "      <th>skew</th>\n",
       "      <th>kurt</th>\n",
       "    </tr>\n",
       "  </thead>\n",
       "  <tbody>\n",
       "    <tr>\n",
       "      <th>ID</th>\n",
       "      <td>30336.0</td>\n",
       "      <td>33998.602716</td>\n",
       "      <td>19506.284643</td>\n",
       "      <td>1.0</td>\n",
       "      <td>17198.75</td>\n",
       "      <td>34121.5</td>\n",
       "      <td>50907.5</td>\n",
       "      <td>67528.0</td>\n",
       "      <td>3.804951e+08</td>\n",
       "      <td>-0.013219</td>\n",
       "      <td>-1.199237</td>\n",
       "    </tr>\n",
       "    <tr>\n",
       "      <th>score_1</th>\n",
       "      <td>27150.0</td>\n",
       "      <td>3.370460</td>\n",
       "      <td>1.301983</td>\n",
       "      <td>1.0</td>\n",
       "      <td>2.00</td>\n",
       "      <td>3.5</td>\n",
       "      <td>4.0</td>\n",
       "      <td>5.0</td>\n",
       "      <td>1.695160e+00</td>\n",
       "      <td>-0.386583</td>\n",
       "      <td>-0.927414</td>\n",
       "    </tr>\n",
       "    <tr>\n",
       "      <th>score_2</th>\n",
       "      <td>24286.0</td>\n",
       "      <td>3.784773</td>\n",
       "      <td>1.300164</td>\n",
       "      <td>1.0</td>\n",
       "      <td>3.00</td>\n",
       "      <td>4.0</td>\n",
       "      <td>5.0</td>\n",
       "      <td>5.0</td>\n",
       "      <td>1.690427e+00</td>\n",
       "      <td>-0.829125</td>\n",
       "      <td>-0.441708</td>\n",
       "    </tr>\n",
       "    <tr>\n",
       "      <th>score_3</th>\n",
       "      <td>27167.0</td>\n",
       "      <td>3.630047</td>\n",
       "      <td>1.225714</td>\n",
       "      <td>1.0</td>\n",
       "      <td>3.00</td>\n",
       "      <td>4.0</td>\n",
       "      <td>5.0</td>\n",
       "      <td>5.0</td>\n",
       "      <td>1.502376e+00</td>\n",
       "      <td>-0.609568</td>\n",
       "      <td>-0.563518</td>\n",
       "    </tr>\n",
       "    <tr>\n",
       "      <th>score_4</th>\n",
       "      <td>27145.0</td>\n",
       "      <td>3.943986</td>\n",
       "      <td>1.043053</td>\n",
       "      <td>1.0</td>\n",
       "      <td>3.00</td>\n",
       "      <td>4.0</td>\n",
       "      <td>5.0</td>\n",
       "      <td>5.0</td>\n",
       "      <td>1.087960e+00</td>\n",
       "      <td>-0.901750</td>\n",
       "      <td>0.311695</td>\n",
       "    </tr>\n",
       "    <tr>\n",
       "      <th>score_5</th>\n",
       "      <td>26851.0</td>\n",
       "      <td>3.322446</td>\n",
       "      <td>1.314696</td>\n",
       "      <td>1.0</td>\n",
       "      <td>2.00</td>\n",
       "      <td>3.0</td>\n",
       "      <td>4.0</td>\n",
       "      <td>5.0</td>\n",
       "      <td>1.728427e+00</td>\n",
       "      <td>-0.357418</td>\n",
       "      <td>-0.972319</td>\n",
       "    </tr>\n",
       "    <tr>\n",
       "      <th>score_6</th>\n",
       "      <td>30336.0</td>\n",
       "      <td>1.388482</td>\n",
       "      <td>21.390609</td>\n",
       "      <td>0.0</td>\n",
       "      <td>0.00</td>\n",
       "      <td>0.0</td>\n",
       "      <td>1.0</td>\n",
       "      <td>2094.0</td>\n",
       "      <td>4.575582e+02</td>\n",
       "      <td>71.499165</td>\n",
       "      <td>5770.001584</td>\n",
       "    </tr>\n",
       "  </tbody>\n",
       "</table>\n",
       "</div>"
      ],
      "text/plain": [
       "           count          mean           std  min       25%      50%      75%  \\\n",
       "ID       30336.0  33998.602716  19506.284643  1.0  17198.75  34121.5  50907.5   \n",
       "score_1  27150.0      3.370460      1.301983  1.0      2.00      3.5      4.0   \n",
       "score_2  24286.0      3.784773      1.300164  1.0      3.00      4.0      5.0   \n",
       "score_3  27167.0      3.630047      1.225714  1.0      3.00      4.0      5.0   \n",
       "score_4  27145.0      3.943986      1.043053  1.0      3.00      4.0      5.0   \n",
       "score_5  26851.0      3.322446      1.314696  1.0      2.00      3.0      4.0   \n",
       "score_6  30336.0      1.388482     21.390609  0.0      0.00      0.0      1.0   \n",
       "\n",
       "             max           var       skew         kurt  \n",
       "ID       67528.0  3.804951e+08  -0.013219    -1.199237  \n",
       "score_1      5.0  1.695160e+00  -0.386583    -0.927414  \n",
       "score_2      5.0  1.690427e+00  -0.829125    -0.441708  \n",
       "score_3      5.0  1.502376e+00  -0.609568    -0.563518  \n",
       "score_4      5.0  1.087960e+00  -0.901750     0.311695  \n",
       "score_5      5.0  1.728427e+00  -0.357418    -0.972319  \n",
       "score_6   2094.0  4.575582e+02  71.499165  5770.001584  "
      ]
     },
     "execution_count": 29,
     "metadata": {},
     "output_type": "execute_result"
    }
   ],
   "source": [
    "stats = data.describe()\n",
    "stats.loc['var'] = data.var().tolist()\n",
    "stats.loc['skew'] = data.skew().tolist()\n",
    "stats.loc['kurt'] = data.kurtosis().tolist()\n",
    "stats.T"
   ]
  },
  {
   "cell_type": "code",
   "execution_count": 30,
   "id": "1166d402",
   "metadata": {},
   "outputs": [
    {
     "data": {
      "text/html": [
       "<div>\n",
       "<style scoped>\n",
       "    .dataframe tbody tr th:only-of-type {\n",
       "        vertical-align: middle;\n",
       "    }\n",
       "\n",
       "    .dataframe tbody tr th {\n",
       "        vertical-align: top;\n",
       "    }\n",
       "\n",
       "    .dataframe thead th {\n",
       "        text-align: right;\n",
       "    }\n",
       "</style>\n",
       "<table border=\"1\" class=\"dataframe\">\n",
       "  <thead>\n",
       "    <tr style=\"text-align: right;\">\n",
       "      <th></th>\n",
       "      <th>count</th>\n",
       "      <th>unique</th>\n",
       "      <th>top</th>\n",
       "      <th>freq</th>\n",
       "    </tr>\n",
       "  </thead>\n",
       "  <tbody>\n",
       "    <tr>\n",
       "      <th>Place</th>\n",
       "      <td>30336</td>\n",
       "      <td>6</td>\n",
       "      <td>startup_4</td>\n",
       "      <td>11758</td>\n",
       "    </tr>\n",
       "    <tr>\n",
       "      <th>location</th>\n",
       "      <td>19082</td>\n",
       "      <td>1371</td>\n",
       "      <td>Redmond, WA</td>\n",
       "      <td>2486</td>\n",
       "    </tr>\n",
       "    <tr>\n",
       "      <th>date</th>\n",
       "      <td>30336</td>\n",
       "      <td>3508</td>\n",
       "      <td>Sep 19, 2017</td>\n",
       "      <td>110</td>\n",
       "    </tr>\n",
       "    <tr>\n",
       "      <th>status</th>\n",
       "      <td>30336</td>\n",
       "      <td>2</td>\n",
       "      <td>Current Employee</td>\n",
       "      <td>19087</td>\n",
       "    </tr>\n",
       "    <tr>\n",
       "      <th>job_title</th>\n",
       "      <td>30336</td>\n",
       "      <td>3920</td>\n",
       "      <td>Anonymous Employee</td>\n",
       "      <td>12079</td>\n",
       "    </tr>\n",
       "    <tr>\n",
       "      <th>summary</th>\n",
       "      <td>30284</td>\n",
       "      <td>20660</td>\n",
       "      <td>Great place to work</td>\n",
       "      <td>298</td>\n",
       "    </tr>\n",
       "    <tr>\n",
       "      <th>positives</th>\n",
       "      <td>30336</td>\n",
       "      <td>30000</td>\n",
       "      <td>Great company to work for</td>\n",
       "      <td>19</td>\n",
       "    </tr>\n",
       "    <tr>\n",
       "      <th>negatives</th>\n",
       "      <td>30336</td>\n",
       "      <td>29997</td>\n",
       "      <td>None that I can think of.</td>\n",
       "      <td>15</td>\n",
       "    </tr>\n",
       "    <tr>\n",
       "      <th>advice_to_mgmt</th>\n",
       "      <td>17059</td>\n",
       "      <td>16077</td>\n",
       "      <td>None</td>\n",
       "      <td>166</td>\n",
       "    </tr>\n",
       "  </tbody>\n",
       "</table>\n",
       "</div>"
      ],
      "text/plain": [
       "                count unique                        top   freq\n",
       "Place           30336      6                  startup_4  11758\n",
       "location        19082   1371                Redmond, WA   2486\n",
       "date            30336   3508               Sep 19, 2017    110\n",
       "status          30336      2          Current Employee   19087\n",
       "job_title       30336   3920         Anonymous Employee  12079\n",
       "summary         30284  20660        Great place to work    298\n",
       "positives       30336  30000  Great company to work for     19\n",
       "negatives       30336  29997  None that I can think of.     15\n",
       "advice_to_mgmt  17059  16077                       None    166"
      ]
     },
     "execution_count": 30,
     "metadata": {},
     "output_type": "execute_result"
    }
   ],
   "source": [
    "data.describe(include='O').T"
   ]
  },
  {
   "cell_type": "code",
   "execution_count": 94,
   "id": "9bce68d6",
   "metadata": {},
   "outputs": [],
   "source": [
    "data.set_index('ID', inplace = True)"
   ]
  },
  {
   "cell_type": "code",
   "execution_count": 31,
   "id": "5401d2d2",
   "metadata": {},
   "outputs": [
    {
     "data": {
      "text/plain": [
       "30336"
      ]
     },
     "execution_count": 31,
     "metadata": {},
     "output_type": "execute_result"
    }
   ],
   "source": [
    "data.shape[0]"
   ]
  },
  {
   "cell_type": "code",
   "execution_count": 19,
   "id": "6dd9a5a1",
   "metadata": {},
   "outputs": [
    {
     "name": "stdout",
     "output_type": "stream",
     "text": [
      "location\n",
      "summary\n",
      "advice_to_mgmt\n",
      "score_1\n",
      "score_2\n",
      "score_3\n",
      "score_4\n",
      "score_5\n"
     ]
    }
   ],
   "source": [
    "for i in range(db.shape[1]):\n",
    "    if db[db.columns[i]].count() < db.shape[0]:\n",
    "        print(db.columns[i])"
   ]
  },
  {
   "cell_type": "code",
   "execution_count": 33,
   "id": "ba67adc9",
   "metadata": {},
   "outputs": [
    {
     "name": "stdout",
     "output_type": "stream",
     "text": [
      "--> score_1:\n",
      " 4.0    6830\n",
      "5.0    6362\n",
      "3.0    6238\n",
      "2.0    3540\n",
      "1.0    3220\n",
      "3.5     352\n",
      "4.5     339\n",
      "2.5     203\n",
      "1.5      66\n",
      "Name: score_1, dtype: int64 \n",
      "\n",
      "--> score_2:\n",
      " 5.0    9736\n",
      "4.0    6103\n",
      "3.0    4154\n",
      "1.0    2223\n",
      "2.0    2070\n",
      "Name: score_2, dtype: int64 \n",
      "\n",
      "--> score_3:\n",
      " 5.0    8089\n",
      "4.0    7569\n",
      "3.0    5986\n",
      "2.0    2749\n",
      "1.0    2063\n",
      "3.5     298\n",
      "4.5     183\n",
      "2.5     166\n",
      "1.5      64\n",
      "Name: score_3, dtype: int64\n"
     ]
    }
   ],
   "source": [
    "print('--> score_1:\\n',data['score_1'].value_counts(),'\\n')\n",
    "print('--> score_2:\\n',data['score_2'].value_counts(),'\\n')\n",
    "print('--> score_3:\\n',data['score_3'].value_counts())"
   ]
  },
  {
   "cell_type": "code",
   "execution_count": 65,
   "id": "eacbdac5",
   "metadata": {},
   "outputs": [],
   "source": [
    "data_all = data.copy()"
   ]
  },
  {
   "cell_type": "code",
   "execution_count": 66,
   "id": "6c5c7e57",
   "metadata": {},
   "outputs": [],
   "source": [
    "# Replace every na value with Mode of variable\n",
    "for i in range(db.shape[1]):\n",
    "    if db[db.columns[i]].count() < db.shape[0]:\n",
    "        mode_do = data_all[data_all.columns[i]].mode()[0]\n",
    "        data_all[data_all.columns[i]].fillna(mode_do, inplace = True)"
   ]
  },
  {
   "cell_type": "code",
   "execution_count": 67,
   "id": "f3e17e14",
   "metadata": {},
   "outputs": [
    {
     "name": "stdout",
     "output_type": "stream",
     "text": [
      "<class 'pandas.core.frame.DataFrame'>\n",
      "RangeIndex: 30336 entries, 0 to 30335\n",
      "Data columns (total 16 columns):\n",
      " #   Column          Non-Null Count  Dtype  \n",
      "---  ------          --------------  -----  \n",
      " 0   ID              30336 non-null  int64  \n",
      " 1   Place           30336 non-null  object \n",
      " 2   location        30336 non-null  object \n",
      " 3   date            30336 non-null  object \n",
      " 4   status          30336 non-null  object \n",
      " 5   job_title       30336 non-null  object \n",
      " 6   summary         30336 non-null  object \n",
      " 7   positives       30336 non-null  object \n",
      " 8   negatives       30336 non-null  object \n",
      " 9   advice_to_mgmt  30336 non-null  object \n",
      " 10  score_1         30336 non-null  float64\n",
      " 11  score_2         30336 non-null  float64\n",
      " 12  score_3         30336 non-null  float64\n",
      " 13  score_4         30336 non-null  float64\n",
      " 14  score_5         30336 non-null  float64\n",
      " 15  score_6         30336 non-null  int64  \n",
      "dtypes: float64(5), int64(2), object(9)\n",
      "memory usage: 3.7+ MB\n"
     ]
    }
   ],
   "source": [
    "data_all.info()"
   ]
  },
  {
   "cell_type": "code",
   "execution_count": 39,
   "id": "41d11fe2",
   "metadata": {},
   "outputs": [
    {
     "data": {
      "text/plain": [
       "Text(0.5, 1.0, 'score_6')"
      ]
     },
     "execution_count": 39,
     "metadata": {},
     "output_type": "execute_result"
    },
    {
     "data": {
      "image/png": "[encoded data removed]",
      "text/plain": [
       "<Figure size 864x864 with 6 Axes>"
      ]
     },
     "metadata": {
      "needs_background": "light"
     },
     "output_type": "display_data"
    }
   ],
   "source": [
    "fig, axs = plt.subplots(3, 2, figsize = (12,12))\n",
    "\n",
    "axs[0, 0].boxplot(data = data_all, x = 'score_1')\n",
    "axs[0, 0].set_title('score_1')\n",
    "axs[0, 1].boxplot(data = data_all, x = 'score_2')\n",
    "axs[0, 1].set_title('score_2')\n",
    "axs[1, 0].boxplot(data = data_all, x = 'score_3')\n",
    "axs[1, 0].set_title('score_3')\n",
    "axs[1, 1].boxplot(data = data_all, x = 'score_4')\n",
    "axs[1, 1].set_title('score_4')\n",
    "axs[2, 0].boxplot(data = data_all, x = 'score_5')\n",
    "axs[2, 0].set_title('score_5')\n",
    "axs[2, 1].boxplot(data = data_all, x = 'score_6')\n",
    "axs[2, 1].set_title('score_6')"
   ]
  },
  {
   "cell_type": "code",
   "execution_count": 48,
   "id": "f16d687d",
   "metadata": {},
   "outputs": [
    {
     "data": {
      "text/plain": [
       "1279"
      ]
     },
     "execution_count": 48,
     "metadata": {},
     "output_type": "execute_result"
    }
   ],
   "source": [
    "len(data_all.query(\"score_6 > 5\"))"
   ]
  },
  {
   "cell_type": "code",
   "execution_count": null,
   "id": "056db419",
   "metadata": {},
   "outputs": [],
   "source": [
    "# Replace Values\n",
    "# data['Wifi'] = data['Wifi'].replace(6,5)"
   ]
  },
  {
   "cell_type": "code",
   "execution_count": 58,
   "id": "76023633",
   "metadata": {},
   "outputs": [],
   "source": [
    "from datetime import date\n",
    "from datetime import datetime"
   ]
  },
  {
   "cell_type": "code",
   "execution_count": 68,
   "id": "a9aa4b7c",
   "metadata": {},
   "outputs": [],
   "source": [
    "error = []\n",
    "for i in range(data_all.shape[0]):\n",
    "    try:\n",
    "        data_all['date'][i] = datetime.strptime(data_all['date'][i], ' %b %d, %Y')\n",
    "    except ValueError:\n",
    "        error.append(i)"
   ]
  },
  {
   "cell_type": "code",
   "execution_count": null,
   "id": "c6fecc7f",
   "metadata": {},
   "outputs": [],
   "source": [
    "print(error)"
   ]
  },
  {
   "cell_type": "code",
   "execution_count": 70,
   "id": "dc077521",
   "metadata": {},
   "outputs": [
    {
     "data": {
      "text/plain": [
       "' Jan 0, 0000'"
      ]
     },
     "execution_count": 70,
     "metadata": {},
     "output_type": "execute_result"
    }
   ],
   "source": [
    "data_all['date'][12751]"
   ]
  },
  {
   "cell_type": "code",
   "execution_count": 75,
   "id": "9ceeb638",
   "metadata": {},
   "outputs": [],
   "source": [
    "data_all.drop([12751], axis=0, inplace=True)\n",
    "target.drop([12751], axis=0, inplace=True)"
   ]
  },
  {
   "cell_type": "code",
   "execution_count": 77,
   "id": "488a655e",
   "metadata": {},
   "outputs": [
    {
     "name": "stdout",
     "output_type": "stream",
     "text": [
      "2008-02-14 00:00:00\n",
      "2018-12-11 00:00:00\n"
     ]
    }
   ],
   "source": [
    "print(data_all['date'].min())\n",
    "print(data_all['date'].max())"
   ]
  },
  {
   "cell_type": "code",
   "execution_count": null,
   "id": "0bf1926b",
   "metadata": {},
   "outputs": [],
   "source": [
    "# Bins\n",
    "data_all['RewardPoints_Bins'] = pd.cut(data_all['RewardPoints'], 4, labels=['Bronze', 'Silver', 'Gold', 'Platinum'])\n",
    "data_all.drop(columns = ['RewardPoints'], axis=1, inplace=True)"
   ]
  },
  {
   "cell_type": "code",
   "execution_count": null,
   "id": "1e24c45e",
   "metadata": {},
   "outputs": [],
   "source": [
    "gender = data['Name'].str.split(' ',expand = True,n=1)[0]\n",
    "data['Gender'] = gender\n",
    "data['Gender'] = data['Gender'].replace('Ms.','F').replace('Mr.','M')\n",
    "data.drop(columns = ['Name'], axis = 1, inplace = True)"
   ]
  },
  {
   "cell_type": "code",
   "execution_count": null,
   "id": "23796579",
   "metadata": {},
   "outputs": [],
   "source": [
    "# KNN Imputer\n",
    "from sklearn.impute import KNNImputer\n",
    "num_var = data.select_dtypes(include=np.number).set_index(data.index).columns\n",
    "k_imputer = round(np.sqrt(len(data[num_var])),0).astype('int32') # 125\n",
    "imputer = KNNImputer(n_neighbors=k_imputer, weights=\"uniform\", metric='nan_euclidean')\n",
    "imputer.fit(data[num_var])\n",
    "data_KNN = imputer.transform(data[num_var])\n",
    "data_KNN = pd.DataFrame(data_KNN)\n",
    "data_KNN[0] = data_KNN[0].round(0)\n",
    "data_KNN[0].count"
   ]
  },
  {
   "cell_type": "code",
   "execution_count": 95,
   "id": "82df1cca",
   "metadata": {},
   "outputs": [
    {
     "name": "stdout",
     "output_type": "stream",
     "text": [
      "Index(['score_1', 'score_2', 'score_3', 'score_4', 'score_5', 'score_6'], dtype='object')\n",
      "Index(['Place', 'location', 'date', 'status', 'job_title', 'summary',\n",
      "       'positives', 'negatives', 'advice_to_mgmt'],\n",
      "      dtype='object')\n"
     ]
    }
   ],
   "source": [
    "# Numeric and categorical variables\n",
    "num_var = data.select_dtypes(include=np.number).set_index(data.index).columns\n",
    "cat_var = data.select_dtypes(exclude=np.number).set_index(data.index).columns\n",
    "print(num_var)\n",
    "print(cat_var)"
   ]
  },
  {
   "cell_type": "code",
   "execution_count": null,
   "id": "2ac86d26",
   "metadata": {},
   "outputs": [],
   "source": [
    "# Converting every column that is int64 to int8 for performance issues\n",
    "data.iloc[:,(db.dtypes=='int64').values] = db.iloc[:,(db.dtypes=='int64').values].astype(np.int8)"
   ]
  },
  {
   "cell_type": "code",
   "execution_count": 82,
   "id": "221ba590",
   "metadata": {},
   "outputs": [
    {
     "data": {
      "text/plain": [
       "<AxesSubplot:>"
      ]
     },
     "execution_count": 82,
     "metadata": {},
     "output_type": "execute_result"
    },
    {
     "data": {
      "image/png": "[encoded data removed]",
      "text/plain": [
       "<Figure size 1152x720 with 2 Axes>"
      ]
     },
     "metadata": {
      "needs_background": "light"
     },
     "output_type": "display_data"
    }
   ],
   "source": [
    "all_data_cor = data_all.join(target)\n",
    "data_corr = all_data_cor.corr(method = 'spearman')\n",
    "matrix = np.triu(data_corr)\n",
    "figure = plt.figure(figsize=(16,10))\n",
    "sns.heatmap(data_corr, annot=True, cmap = sns.diverging_palette(220, 20, as_cmap=True), fmt = '.1g', mask = matrix)"
   ]
  },
  {
   "cell_type": "code",
   "execution_count": 90,
   "id": "b79996b0",
   "metadata": {},
   "outputs": [],
   "source": [
    "def proportion_charts(df, feature, target):\n",
    "    fig = plt.figure(figsize=(20, 5))\n",
    "    subplots=[151,152,153,154,155]\n",
    "    \n",
    "    for i in range(len(feature)):\n",
    "        cont_tab = pd.crosstab(df[feature[i]], df[target], margins = True)\n",
    "        categories = cont_tab.index[:-1]\n",
    "        obs_pct = np.array([np.divide(cont_tab.iloc[:-1, 0].values, cont_tab.iloc[:-1, 2].values), \n",
    "                            np.divide(cont_tab.iloc[:-1, 1].values, cont_tab.iloc[:-1, 2].values)])\n",
    "        plt.subplot(subplots[i])\n",
    "        p1 = plt.bar(categories, obs_pct[0], 0.55, color=\"gray\")\n",
    "        p2 = plt.bar(categories, obs_pct[1], 0.55, bottom=obs_pct[0], color=\"#AED6F1\")\n",
    "        plt.legend((p2[0], p1[0]), ('$y_i=0$', '$y_i=1$'))\n",
    "        plt.title(\"Proportion bar chart\")\n",
    "        plt.xlabel(feature)\n",
    "        plt.ylabel(\"$Proportion$\")\n",
    "\n",
    "    plt.show()"
   ]
  },
  {
   "cell_type": "code",
   "execution_count": 91,
   "id": "4cdf4500",
   "metadata": {},
   "outputs": [
    {
     "data": {
      "image/png": "[encoded data removed]",
      "text/plain": [
       "<Figure size 1440x360 with 5 Axes>"
      ]
     },
     "metadata": {
      "needs_background": "light"
     },
     "output_type": "display_data"
    }
   ],
   "source": [
    "proportion_charts(all_data_cor, ['score_1','score_2','score_3','score_4','score_5'], \"overall\")"
   ]
  },
  {
   "cell_type": "code",
   "execution_count": 96,
   "id": "87cdd357",
   "metadata": {},
   "outputs": [
    {
     "data": {
      "text/plain": [
       "Index(['score_1', 'score_2', 'score_3', 'score_4', 'score_5', 'score_6'], dtype='object')"
      ]
     },
     "execution_count": 96,
     "metadata": {},
     "output_type": "execute_result"
    }
   ],
   "source": [
    "num_var"
   ]
  },
  {
   "cell_type": "code",
   "execution_count": 97,
   "id": "d0bcdf92",
   "metadata": {},
   "outputs": [],
   "source": [
    "# Feature Selection\n",
    "def select_best_features(X, y, splits, variables):\n",
    "    # Nº of numeric variables\n",
    "    sel_log = [0, 0, 0, 0, 0, 0, 0, 0, 0, 0, 0, 0, 0, 0, 0]\n",
    "    sel_tree = [0, 0, 0, 0, 0, 0, 0, 0, 0, 0, 0, 0, 0, 0, 0]\n",
    "    sel_forest = [0, 0, 0, 0, 0, 0, 0, 0, 0, 0, 0, 0, 0, 0, 0]\n",
    "    sel_lasso = [0, 0, 0, 0, 0, 0, 0, 0, 0, 0, 0, 0, 0, 0, 0]\n",
    "    sel_svc = [0, 0, 0, 0, 0, 0, 0, 0, 0, 0, 0, 0, 0, 0, 0]\n",
    "    sel_gauss = [0, 0, 0, 0, 0, 0, 0, 0, 0, 0, 0, 0, 0, 0, 0]\n",
    "    skf = StratifiedKFold(n_splits =  splits)\n",
    "    counter = 0\n",
    "    for train_index, val_index in skf.split(X, y):\n",
    "        counter +=1\n",
    "        print('')\n",
    "        print('--------------------------------------------------------')\n",
    "        print('SPLIT ', counter)\n",
    "        print('--------------------------------------------------------')\n",
    "        print('')\n",
    "        X_train, X_val = X.iloc[train_index], X.iloc[val_index]\n",
    "        y_train, y_val = y.iloc[train_index], y.iloc[val_index]\n",
    "        \n",
    "        # get all numerical variables\n",
    "        X_train_num = X_train[num_var]\n",
    "        X_val_num = X_val[num_var]\n",
    "        \n",
    "        # get all categorical variables\n",
    "        X_train_cat = X_train[cat_var]\n",
    "        X_val_cat = X_val[cat_var]\n",
    "        \n",
    "        # Fill NA values\n",
    "        for i in range(db.shape[1]):\n",
    "            if db[db.columns[i]].count() < db.shape[0]:\n",
    "                mode_do = data_all[data_all.columns[i]].mode()[0]\n",
    "                data_all[data_all.columns[i]].fillna(mode_do, inplace = True)\n",
    "        \n",
    "        # fill missing values (KNN Imputer for Year of Birth: first variable of numerical variables)\n",
    "#         k_imputer = round(np.sqrt(len(X_train_num)),0).astype('int32') # 125\n",
    "#         imputer = KNNImputer(n_neighbors=k_imputer, weights=\"uniform\", metric='nan_euclidean')\n",
    "#         imputer.fit(X_train_num)\n",
    "#         data_KNN_train = imputer.transform(X_train_num)\n",
    "#         data_KNN_train = pd.DataFrame(data_KNN_train)\n",
    "#         data_KNN_train[0] = data_KNN_train[0].round(0)\n",
    "#         X_train_num['Year_Birth'] = data_KNN_train[0].values\n",
    "#         # Use Train Imputer for Validation Data\n",
    "#         data_KNN_val = imputer.transform(X_val_num)\n",
    "#         data_KNN_val = pd.DataFrame(data_KNN_val)\n",
    "#         data_KNN_val[0] = data_KNN_val[0].round(0)\n",
    "#         X_val_num['Year_Birth'] = data_KNN_val[0].values\n",
    "        \n",
    "        # Apply scaling to numerical data\n",
    "        scaler = MinMaxScaler().fit(X_train_num)\n",
    "        X_train_scaled = pd.DataFrame(scaler.transform(X_train_num), columns = X_train_num.columns, index = X_train_num.index,) # MinMaxScaler in the training data\n",
    "        X_val_scaled = pd.DataFrame(scaler.transform(X_val_num), columns = X_val_num.columns, index = X_val_num.index,) # MinMaxScaler in the validation data\n",
    "        \n",
    "        # Converting every column that is int64 to int8 for performance issues\n",
    "        X_train_scaled.iloc[:,(X_train_scaled.dtypes=='int64').values] = \\\n",
    "        X_train_scaled.iloc[:,(X_train_scaled.dtypes=='int64').values].astype(np.int8)\n",
    "        X_val_scaled.iloc[:,(X_val_scaled.dtypes=='int64').values] = \\\n",
    "        X_val_scaled.iloc[:,(X_val_scaled.dtypes=='int64').values].astype(np.int8)\n",
    "        \n",
    "        # Check which features to use using RFE and logistic regression\n",
    "        model = LogisticRegression()\n",
    "        rfe = RFE(estimator = model, n_features_to_select = variables)\n",
    "        X_rfe = rfe.fit_transform(X = X_train_scaled, y = y_train)\n",
    "        selected_features = pd.Series(rfe.support_, index = X_train_scaled.columns)\n",
    "        sel_log=np.add(sel_log,list(map(int, selected_features)))\n",
    "        \n",
    "        # Check which features to use using RFE and decision tree\n",
    "        model = DecisionTreeClassifier()\n",
    "        rfe = RFE(estimator = model, n_features_to_select = variables)\n",
    "        X_rfe = rfe.fit_transform(X = X_train_scaled, y = y_train)\n",
    "        selected_features = pd.Series(rfe.support_, index = X_train_scaled.columns)\n",
    "        sel_tree=np.add(sel_tree,list(map(int, selected_features)))\n",
    "        \n",
    "        # Check which features to use using RFE and random forest\n",
    "        model = RandomForestClassifier()\n",
    "        rfe = RFE(estimator = model, n_features_to_select = variables)\n",
    "        X_rfe = rfe.fit_transform(X = X_train_scaled, y = y_train)\n",
    "        selected_features = pd.Series(rfe.support_, index = X_train_scaled.columns)\n",
    "        sel_forest=np.add(sel_forest,list(map(int, selected_features)))\n",
    "        \n",
    "        # Check which features to use using RFE and SVC\n",
    "        model = SVC(kernel=\"linear\")\n",
    "        rfe = RFE(estimator = model, n_features_to_select = variables)\n",
    "        X_rfe = rfe.fit_transform(X = X_train_scaled, y = y_train)\n",
    "        selected_features = pd.Series(rfe.support_, index = X_train_scaled.columns)\n",
    "        sel_svc=np.add(sel_svc,list(map(int, selected_features)))\n",
    "\n",
    "        #Lasso\n",
    "        reg = LassoCV()\n",
    "        reg.fit(X=X_train_scaled, y=y_train.replace('nochurn',0).replace('churn',1))\n",
    "        print(\"Best alpha using built-in LassoCV: %f\" % reg.alpha_)\n",
    "        print(\"Best score using built-in LassoCV: %f\" %reg.score(X = X_train_scaled,y = y_train.replace('nochurn',0).replace('churn',1)))\n",
    "        coef = pd.Series(reg.coef_, index = X_train_scaled.columns)\n",
    "        sel_lasso=np.add(sel_lasso,coef.values)\n",
    "        \n",
    "        # Check which features to use using Chi-Square\n",
    "        print('')\n",
    "        print('----------------- CHI-SQUARE ----------------------')\n",
    "        def TestIndependence(X,y,var,alpha=0.05):        \n",
    "            dfObserved = pd.crosstab(y,X) \n",
    "            chi2, p, dof, expected = chi2_contingency(dfObserved.values)\n",
    "            dfExpected = pd.DataFrame(expected, columns=dfObserved.columns, index = dfObserved.index)\n",
    "            if p<alpha:\n",
    "                result=\"{0} is IMPORTANT for Prediction\".format(var)\n",
    "            else:\n",
    "                result=\"{0} is NOT important for Prediction. (Discard {0} from model)\".format(var)\n",
    "            print(result)\n",
    "        \n",
    "        for var in X_train_cat:\n",
    "            TestIndependence(X_train_cat[var],y_train, var)\n",
    "    \n",
    "    sel_lasso = sel_lasso/splits\n",
    "            \n",
    "#     final = pd.DataFrame(np.array([sel_log,sel_tree,sel_lasso.round(2)]),\\\n",
    "#                          columns=num_var,index=['Logistic Regression','Decision Tree','Lasso'])\n",
    "            \n",
    "    final = pd.DataFrame(np.array([sel_log,sel_tree,sel_forest,sel_lasso,sel_svc]),\\\n",
    "                         columns=num_var,index=['Logistic Regression','Decision Tree',\\\n",
    "                                                'Random Forest','Lasso','SVC'])\n",
    "            \n",
    "    print(final.T)"
   ]
  },
  {
   "cell_type": "code",
   "execution_count": null,
   "id": "818808c8",
   "metadata": {},
   "outputs": [],
   "source": [
    "select_best_features(data, target, 5, 3)"
   ]
  },
  {
   "cell_type": "code",
   "execution_count": 118,
   "id": "f9b793e7",
   "metadata": {},
   "outputs": [],
   "source": [
    "# Models\n",
    "def compare_models(X, y, model, splits):\n",
    "    # apply StratifiedK-Fold\n",
    "    skf = StratifiedKFold(n_splits = splits)\n",
    "    score_train = []\n",
    "    score_val = []\n",
    "    for train_index, val_index in skf.split(X, y):\n",
    "        X_train, X_val = X.iloc[train_index], X.iloc[val_index]\n",
    "        y_train, y_val = y.iloc[train_index], y.iloc[val_index]\n",
    "\n",
    "        # If need to replace from categorical to numerical\n",
    "        #y_train = y_train.replace('nochurn',0).replace('churn',1)\n",
    "        #y_val = y_val.replace('nochurn',0).replace('churn',1)\n",
    "        \n",
    "        catvars = X_train.select_dtypes(exclude=np.number).set_index(X_train.index).columns\n",
    "        \n",
    "        # Fill NA values\n",
    "        for i in range(db.shape[1]):\n",
    "            if db[db.columns[i]].count() < db.shape[0]:\n",
    "                mode_do = data_all[data_all.columns[i]].mode()[0]\n",
    "                data_all[data_all.columns[i]].fillna(mode_do, inplace = True)\n",
    "        \n",
    "        # Create dummies and remove one of the variables (to avoid multicollinearity)\n",
    "        X_train_dummies = pd.get_dummies(X_train, columns=catvars, drop_first=True)\n",
    "        X_val_dummies = pd.get_dummies(X_val, columns=catvars, drop_first=True)\n",
    "        \n",
    "        # Ensure the order of column in the test set is in the same order than in train set\n",
    "        X_val_dummies = X_val_dummies[X_train_dummies.columns]\n",
    "        \n",
    "        # Apply scaling to numerical data\n",
    "        scaler = MinMaxScaler().fit(X_train_dummies)\n",
    "        X_train_scaled = pd.DataFrame(scaler.transform(X_train_dummies), columns = X_train_dummies.columns, index = X_train_dummies.index,) # MinMaxScaler in the training data\n",
    "        X_val_scaled = pd.DataFrame(scaler.transform(X_val_dummies), columns = X_val_dummies.columns, index = X_val_dummies.index,) # MinMaxScaler in the validation data\n",
    "\n",
    "        # Apply model\n",
    "        model.fit(X_train_scaled, y_train)\n",
    "        predictions_train = model.predict(X_train_scaled)\n",
    "        predictions_val = model.predict(X_val_scaled)\n",
    "        score_train.append(f1_score(y_train, predictions_train,average='micro'))\n",
    "        score_val.append(f1_score(y_val, predictions_val,average='micro'))\n",
    "\n",
    "    avg_train = round(np.mean(score_train),3)\n",
    "    avg_val = round(np.mean(score_val),3)\n",
    "    std_train = round(np.std(score_train),2)\n",
    "    std_val = round(np.std(score_val),2)\n",
    "\n",
    "    return str(avg_train) + '+/-' + str(std_train),str(avg_val) + '+/-' + str(std_val)"
   ]
  },
  {
   "cell_type": "code",
   "execution_count": 119,
   "id": "3c6591d5",
   "metadata": {},
   "outputs": [],
   "source": [
    "def show_results(df, X, y, *args):\n",
    "    count = 0\n",
    "    # for each model passed as argument\n",
    "    for arg in args:\n",
    "        # obtain the results provided by avg_score\n",
    "        avg_train, avg_test = compare_models(X, y, arg, 5)\n",
    "        # store the results in the right row\n",
    "        df.iloc[count] = avg_train, avg_test\n",
    "        count+=1\n",
    "    return df"
   ]
  },
  {
   "cell_type": "code",
   "execution_count": 100,
   "id": "1cd3ad09",
   "metadata": {},
   "outputs": [],
   "source": [
    "model_LR = LogisticRegression()\n",
    "model_KNN = KNeighborsClassifier()\n",
    "model_DT = DecisionTreeClassifier()\n",
    "model_RF =  RandomForestClassifier()\n",
    "model_SVC = SVC(kernel=\"linear\")\n",
    "model_GB = GradientBoostingClassifier()\n",
    "model_NN = MLPClassifier()"
   ]
  },
  {
   "cell_type": "code",
   "execution_count": null,
   "id": "fba408c4",
   "metadata": {},
   "outputs": [],
   "source": [
    "# Select the variables to use\n",
    "data_sel = data_all[['Place']+\\\n",
    "                ['score_1','score_3','score_5']].copy()\n",
    "# Fill NA values\n",
    "for i in range(db.shape[1]):\n",
    "    if db[db.columns[i]].count() < db.shape[0]:\n",
    "        mode_do = data_all[data_all.columns[i]].mode()[0]\n",
    "        data_all[data_all.columns[i]].fillna(mode_do, inplace = True)\n",
    "        \n",
    "catvars = data_sel.select_dtypes(exclude=np.number).set_index(data_sel.index).columns\n",
    "data_final_dummies = pd.get_dummies(data_sel, columns=catvars, drop_first=True)\n",
    "scaler = MinMaxScaler().fit(data_final_dummies)\n",
    "data_final_scaled = scaler.transform(data_final_dummies)\n",
    "\n",
    "pd.DataFrame(data_final_scaled).iloc[:,(pd.DataFrame(data_final_scaled).dtypes=='int64').values] = \\\n",
    "pd.DataFrame(data_final_scaled).iloc[:,(pd.DataFrame(data_final_scaled).dtypes=='int64').values].astype(np.int8)\n",
    "\n",
    "df = pd.DataFrame(columns = ['Train','Validation'], index = ['Logistic Regression','KNN',\\\n",
    "                                                             'Decision Tree','Random Forest','SVC', 'GB','NN'])\n",
    "show_results(df, pd.DataFrame(data_final_scaled), target, model_LR, model_KNN,model_DT,model_RF,model_SVC,model_GB,model_NN)"
   ]
  },
  {
   "cell_type": "code",
   "execution_count": null,
   "id": "a8346f40",
   "metadata": {},
   "outputs": [],
   "source": [
    "# Prediction\n",
    "data_final = data[['Longevity','TypeTravel','RoomType','Gender']+\\\n",
    "                ['Comfort','Amenities','PriceQuality','RoomSpace','OnlineBooking']].copy()\n",
    "target_final = target.copy()\n",
    "catvars = data_final.select_dtypes(exclude=np.number).set_index(data_final.index).columns\n",
    "# Create dummies and remove one of the variables (to avoid multicollinearity)\n",
    "data_final_dummies = pd.get_dummies(data_final, columns=catvars, drop_first=True)\n",
    "# Data Scaling\n",
    "# Apply MinMaxScaler\n",
    "scaler = MinMaxScaler().fit(data_final_dummies)\n",
    "data_final_scaled = scaler.transform(data_final_dummies)\n",
    "\n",
    "# Create your final model with exactly the same parameters than your best model during model comparison\n",
    "final_model = model_GB.fit(data_final_scaled, target_final)"
   ]
  },
  {
   "cell_type": "code",
   "execution_count": null,
   "id": "cdd248ce",
   "metadata": {},
   "outputs": [],
   "source": [
    "test_final = test[['Longevity','TypeTravel','RoomType','Gender']+\\\n",
    "                ['Comfort','Amenities','PriceQuality','RoomSpace','OnlineBooking']].copy()\n",
    "\n",
    "catvars = test_final.select_dtypes(exclude=np.number).set_index(test_final.index).columns\n",
    "        \n",
    "# Create dummies and remove one of the variables (to avoid multicollinearity)\n",
    "test_final_dummies = pd.get_dummies(test_final, columns=catvars, drop_first=True)\n",
    "\n",
    "missing_cols = set(data_final_dummies.columns ) - set(test_final_dummies.columns )\n",
    "for c in missing_cols:\n",
    "    test_final_dummies[c] = 0\n",
    "# Ensure the order of column in the test set is in the same order than in train set\n",
    "test_final_dummies = test_final_dummies[data_final_dummies.columns]\n",
    "\n",
    "# Data Scaling\n",
    "# Apply exactly the same MinMaxScaler used before\n",
    "test_final_scaled = scaler.transform(test_final_dummies)"
   ]
  },
  {
   "cell_type": "code",
   "execution_count": null,
   "id": "952f4bb6",
   "metadata": {},
   "outputs": [],
   "source": [
    "# Get predictions\n",
    "predictions = final_model.predict(test_final_scaled)\n",
    "\n",
    "# Save the final predictions\n",
    "final_index = test['ID']\n",
    "answer = pd.DataFrame([final_index, predictions]).T\n",
    "answer.columns = ['ID','overall']\n",
    "answer.set_index('ID', inplace = True)\n",
    "#if need to replace\n",
    "#answer['Churn'] = answer['Churn'].replace('nochurn',0).replace('churn',1)\n",
    "answer.to_csv('prediction.csv')"
   ]
  }
 ],
 "metadata": {
  "kernelspec": {
   "display_name": "Python 3 (ipykernel)",
   "language": "python",
   "name": "python3"
  },
  "language_info": {
   "codemirror_mode": {
    "name": "ipython",
    "version": 3
   },
   "file_extension": ".py",
   "mimetype": "text/x-python",
   "name": "python",
   "nbconvert_exporter": "python",
   "pygments_lexer": "ipython3",
   "version": "3.9.12"
  }
 },
 "nbformat": 4,
 "nbformat_minor": 5
}
