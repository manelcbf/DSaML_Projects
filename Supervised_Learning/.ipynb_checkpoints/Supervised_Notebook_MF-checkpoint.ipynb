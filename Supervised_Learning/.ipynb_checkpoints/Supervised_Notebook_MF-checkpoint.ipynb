{
 "cells": [
  {
   "cell_type": "markdown",
   "id": "fd56bc3c",
   "metadata": {},
   "source": [
    "<h1 id=\"header\">BookMe Company</h1>"
   ]
  },
  {
   "cell_type": "markdown",
   "id": "4483c4c0",
   "metadata": {},
   "source": [
    "### Supervised Project"
   ]
  },
  {
   "cell_type": "code",
   "execution_count": 1,
   "id": "1895b2f7",
   "metadata": {},
   "outputs": [],
   "source": [
    "# Relevant Package Importing\n",
    "import pandas as pd\n",
    "import numpy as np\n",
    "import matplotlib.pyplot as plt\n",
    "import seaborn as sns\n",
    "from sklearn.feature_selection import RFE\n",
    "import scipy.stats as stats\n",
    "from scipy.stats import chi2_contingency\n",
    "# Scaling\n",
    "from sklearn.preprocessing import MinMaxScaler\n",
    "# Models\n",
    "from sklearn.neighbors import KNeighborsClassifier\n",
    "from sklearn.linear_model import LogisticRegression\n",
    "# Model Assessment\n",
    "from sklearn.model_selection import train_test_split\n",
    "from sklearn.model_selection import StratifiedKFold\n",
    "from sklearn.metrics import f1_score\n",
    "import warnings\n",
    "warnings.filterwarnings('ignore')"
   ]
  },
  {
   "cell_type": "markdown",
   "id": "dc23668a",
   "metadata": {},
   "source": [
    "### Pre-Processing\n"
   ]
  },
  {
   "cell_type": "code",
   "execution_count": 2,
   "id": "067c022d",
   "metadata": {},
   "outputs": [
    {
     "data": {
      "text/html": [
       "<div>\n",
       "<style scoped>\n",
       "    .dataframe tbody tr th:only-of-type {\n",
       "        vertical-align: middle;\n",
       "    }\n",
       "\n",
       "    .dataframe tbody tr th {\n",
       "        vertical-align: top;\n",
       "    }\n",
       "\n",
       "    .dataframe thead th {\n",
       "        text-align: right;\n",
       "    }\n",
       "</style>\n",
       "<table border=\"1\" class=\"dataframe\">\n",
       "  <thead>\n",
       "    <tr style=\"text-align: right;\">\n",
       "      <th></th>\n",
       "      <th>Cust_ID</th>\n",
       "      <th>Churn</th>\n",
       "      <th>Name</th>\n",
       "      <th>Longevity</th>\n",
       "      <th>Year_Birth</th>\n",
       "      <th>TypeTravel</th>\n",
       "      <th>RoomType</th>\n",
       "      <th>RewardPoints</th>\n",
       "      <th>Comfort</th>\n",
       "      <th>ReceptionSchedule</th>\n",
       "      <th>...</th>\n",
       "      <th>Wifi</th>\n",
       "      <th>Amenities</th>\n",
       "      <th>Staff</th>\n",
       "      <th>OnlineBooking</th>\n",
       "      <th>PriceQuality</th>\n",
       "      <th>RoomSpace</th>\n",
       "      <th>CheckOut</th>\n",
       "      <th>Checkin</th>\n",
       "      <th>Cleanliness</th>\n",
       "      <th>BarService</th>\n",
       "    </tr>\n",
       "  </thead>\n",
       "  <tbody>\n",
       "  </tbody>\n",
       "</table>\n",
       "<p>0 rows × 22 columns</p>\n",
       "</div>"
      ],
      "text/plain": [
       "Empty DataFrame\n",
       "Columns: [Cust_ID, Churn, Name, Longevity, Year_Birth, TypeTravel, RoomType, RewardPoints, Comfort, ReceptionSchedule, FoodDrink, Location, Wifi, Amenities, Staff, OnlineBooking, PriceQuality, RoomSpace, CheckOut, Checkin, Cleanliness, BarService]\n",
       "Index: []\n",
       "\n",
       "[0 rows x 22 columns]"
      ]
     },
     "execution_count": 2,
     "metadata": {},
     "output_type": "execute_result"
    }
   ],
   "source": [
    "#Import Data from cluster.csv\n",
    "db = pd.read_csv('train.csv')\n",
    "db[db.duplicated(keep = False)] # We don't have duplicates"
   ]
  },
  {
   "cell_type": "markdown",
   "id": "58756efd",
   "metadata": {},
   "source": [
    "- There aren't any duplicates in our data"
   ]
  },
  {
   "cell_type": "markdown",
   "id": "41c90545",
   "metadata": {},
   "source": [
    "##### Set Customer ID as Index"
   ]
  },
  {
   "cell_type": "code",
   "execution_count": 3,
   "id": "9c36d4b1",
   "metadata": {},
   "outputs": [],
   "source": [
    "db.set_index('Cust_ID', inplace = True)"
   ]
  },
  {
   "cell_type": "markdown",
   "id": "15e8b245",
   "metadata": {},
   "source": [
    "##### Devide Target from data"
   ]
  },
  {
   "cell_type": "code",
   "execution_count": 4,
   "id": "b471c2c6",
   "metadata": {},
   "outputs": [],
   "source": [
    "data = db.drop(['Churn'], axis=1)\n",
    "target = db['Churn']"
   ]
  },
  {
   "cell_type": "code",
   "execution_count": 5,
   "id": "df7ce65e",
   "metadata": {},
   "outputs": [
    {
     "name": "stdout",
     "output_type": "stream",
     "text": [
      "<class 'pandas.core.frame.DataFrame'>\n",
      "Int64Index: 15589 entries, 1 to 15589\n",
      "Data columns (total 20 columns):\n",
      " #   Column             Non-Null Count  Dtype  \n",
      "---  ------             --------------  -----  \n",
      " 0   Name               15589 non-null  object \n",
      " 1   Longevity          15589 non-null  object \n",
      " 2   Year_Birth         15394 non-null  float64\n",
      " 3   TypeTravel         15589 non-null  object \n",
      " 4   RoomType           15589 non-null  object \n",
      " 5   RewardPoints       15589 non-null  int64  \n",
      " 6   Comfort            15589 non-null  int64  \n",
      " 7   ReceptionSchedule  15589 non-null  int64  \n",
      " 8   FoodDrink          15589 non-null  int64  \n",
      " 9   Location           15589 non-null  int64  \n",
      " 10  Wifi               15589 non-null  int64  \n",
      " 11  Amenities          15589 non-null  int64  \n",
      " 12  Staff              15589 non-null  int64  \n",
      " 13  OnlineBooking      15589 non-null  int64  \n",
      " 14  PriceQuality       15589 non-null  int64  \n",
      " 15  RoomSpace          15589 non-null  int64  \n",
      " 16  CheckOut           15589 non-null  int64  \n",
      " 17  Checkin            15589 non-null  int64  \n",
      " 18  Cleanliness        15589 non-null  int64  \n",
      " 19  BarService         15589 non-null  int64  \n",
      "dtypes: float64(1), int64(15), object(4)\n",
      "memory usage: 2.5+ MB\n"
     ]
    }
   ],
   "source": [
    "data.info()"
   ]
  },
  {
   "cell_type": "markdown",
   "id": "aa8ab3e5",
   "metadata": {},
   "source": [
    "Data types:\n",
    "- We'll need to change the data types of all the int64 to int4 or int8 after normalization\n",
    "- We have nulls in the year of birth variable"
   ]
  },
  {
   "cell_type": "code",
   "execution_count": 6,
   "id": "ec7df389",
   "metadata": {},
   "outputs": [
    {
     "data": {
      "text/html": [
       "<div>\n",
       "<style scoped>\n",
       "    .dataframe tbody tr th:only-of-type {\n",
       "        vertical-align: middle;\n",
       "    }\n",
       "\n",
       "    .dataframe tbody tr th {\n",
       "        vertical-align: top;\n",
       "    }\n",
       "\n",
       "    .dataframe thead th {\n",
       "        text-align: right;\n",
       "    }\n",
       "</style>\n",
       "<table border=\"1\" class=\"dataframe\">\n",
       "  <thead>\n",
       "    <tr style=\"text-align: right;\">\n",
       "      <th></th>\n",
       "      <th>count</th>\n",
       "      <th>mean</th>\n",
       "      <th>std</th>\n",
       "      <th>min</th>\n",
       "      <th>25%</th>\n",
       "      <th>50%</th>\n",
       "      <th>75%</th>\n",
       "      <th>max</th>\n",
       "      <th>var</th>\n",
       "      <th>skew</th>\n",
       "      <th>kurt</th>\n",
       "    </tr>\n",
       "  </thead>\n",
       "  <tbody>\n",
       "    <tr>\n",
       "      <th>Year_Birth</th>\n",
       "      <td>15394.0</td>\n",
       "      <td>1981.706444</td>\n",
       "      <td>15.179042</td>\n",
       "      <td>1936.0</td>\n",
       "      <td>1970.0</td>\n",
       "      <td>1981.0</td>\n",
       "      <td>1994.0</td>\n",
       "      <td>2014.0</td>\n",
       "      <td>2.304033e+02</td>\n",
       "      <td>-0.003847</td>\n",
       "      <td>-0.729800</td>\n",
       "    </tr>\n",
       "    <tr>\n",
       "      <th>RewardPoints</th>\n",
       "      <td>15589.0</td>\n",
       "      <td>5022.593816</td>\n",
       "      <td>1027.962379</td>\n",
       "      <td>409.0</td>\n",
       "      <td>4445.0</td>\n",
       "      <td>5088.0</td>\n",
       "      <td>5649.0</td>\n",
       "      <td>6950.0</td>\n",
       "      <td>1.056707e+06</td>\n",
       "      <td>-0.453779</td>\n",
       "      <td>0.260135</td>\n",
       "    </tr>\n",
       "    <tr>\n",
       "      <th>Comfort</th>\n",
       "      <td>15589.0</td>\n",
       "      <td>2.841619</td>\n",
       "      <td>1.388624</td>\n",
       "      <td>0.0</td>\n",
       "      <td>2.0</td>\n",
       "      <td>3.0</td>\n",
       "      <td>4.0</td>\n",
       "      <td>5.0</td>\n",
       "      <td>1.928275e+00</td>\n",
       "      <td>-0.100907</td>\n",
       "      <td>-0.935544</td>\n",
       "    </tr>\n",
       "    <tr>\n",
       "      <th>ReceptionSchedule</th>\n",
       "      <td>15589.0</td>\n",
       "      <td>2.997242</td>\n",
       "      <td>1.518994</td>\n",
       "      <td>0.0</td>\n",
       "      <td>2.0</td>\n",
       "      <td>3.0</td>\n",
       "      <td>4.0</td>\n",
       "      <td>5.0</td>\n",
       "      <td>2.307344e+00</td>\n",
       "      <td>-0.260705</td>\n",
       "      <td>-1.077243</td>\n",
       "    </tr>\n",
       "    <tr>\n",
       "      <th>FoodDrink</th>\n",
       "      <td>15589.0</td>\n",
       "      <td>2.844570</td>\n",
       "      <td>1.436948</td>\n",
       "      <td>0.0</td>\n",
       "      <td>2.0</td>\n",
       "      <td>3.0</td>\n",
       "      <td>4.0</td>\n",
       "      <td>5.0</td>\n",
       "      <td>2.064819e+00</td>\n",
       "      <td>-0.123610</td>\n",
       "      <td>-0.967047</td>\n",
       "    </tr>\n",
       "    <tr>\n",
       "      <th>Location</th>\n",
       "      <td>15589.0</td>\n",
       "      <td>2.986016</td>\n",
       "      <td>1.299438</td>\n",
       "      <td>1.0</td>\n",
       "      <td>2.0</td>\n",
       "      <td>3.0</td>\n",
       "      <td>4.0</td>\n",
       "      <td>5.0</td>\n",
       "      <td>1.688539e+00</td>\n",
       "      <td>-0.050229</td>\n",
       "      <td>-1.076583</td>\n",
       "    </tr>\n",
       "    <tr>\n",
       "      <th>Wifi</th>\n",
       "      <td>15589.0</td>\n",
       "      <td>3.245109</td>\n",
       "      <td>1.327026</td>\n",
       "      <td>0.0</td>\n",
       "      <td>2.0</td>\n",
       "      <td>3.0</td>\n",
       "      <td>4.0</td>\n",
       "      <td>6.0</td>\n",
       "      <td>1.760998e+00</td>\n",
       "      <td>-0.171255</td>\n",
       "      <td>-1.111251</td>\n",
       "    </tr>\n",
       "    <tr>\n",
       "      <th>Amenities</th>\n",
       "      <td>15589.0</td>\n",
       "      <td>3.374816</td>\n",
       "      <td>1.352417</td>\n",
       "      <td>0.0</td>\n",
       "      <td>2.0</td>\n",
       "      <td>4.0</td>\n",
       "      <td>4.0</td>\n",
       "      <td>5.0</td>\n",
       "      <td>1.829032e+00</td>\n",
       "      <td>-0.599498</td>\n",
       "      <td>-0.540657</td>\n",
       "    </tr>\n",
       "    <tr>\n",
       "      <th>Staff</th>\n",
       "      <td>15589.0</td>\n",
       "      <td>3.506383</td>\n",
       "      <td>1.319565</td>\n",
       "      <td>1.0</td>\n",
       "      <td>3.0</td>\n",
       "      <td>4.0</td>\n",
       "      <td>5.0</td>\n",
       "      <td>5.0</td>\n",
       "      <td>1.741251e+00</td>\n",
       "      <td>-0.554561</td>\n",
       "      <td>-0.858889</td>\n",
       "    </tr>\n",
       "    <tr>\n",
       "      <th>OnlineBooking</th>\n",
       "      <td>15589.0</td>\n",
       "      <td>3.454231</td>\n",
       "      <td>1.310343</td>\n",
       "      <td>0.0</td>\n",
       "      <td>2.0</td>\n",
       "      <td>4.0</td>\n",
       "      <td>5.0</td>\n",
       "      <td>5.0</td>\n",
       "      <td>1.717000e+00</td>\n",
       "      <td>-0.472074</td>\n",
       "      <td>-0.931811</td>\n",
       "    </tr>\n",
       "    <tr>\n",
       "      <th>PriceQuality</th>\n",
       "      <td>15589.0</td>\n",
       "      <td>3.459683</td>\n",
       "      <td>1.268130</td>\n",
       "      <td>1.0</td>\n",
       "      <td>3.0</td>\n",
       "      <td>4.0</td>\n",
       "      <td>4.0</td>\n",
       "      <td>5.0</td>\n",
       "      <td>1.608154e+00</td>\n",
       "      <td>-0.503381</td>\n",
       "      <td>-0.772663</td>\n",
       "    </tr>\n",
       "    <tr>\n",
       "      <th>RoomSpace</th>\n",
       "      <td>15589.0</td>\n",
       "      <td>3.470845</td>\n",
       "      <td>1.293873</td>\n",
       "      <td>0.0</td>\n",
       "      <td>2.0</td>\n",
       "      <td>4.0</td>\n",
       "      <td>5.0</td>\n",
       "      <td>5.0</td>\n",
       "      <td>1.674108e+00</td>\n",
       "      <td>-0.482952</td>\n",
       "      <td>-0.864644</td>\n",
       "    </tr>\n",
       "    <tr>\n",
       "      <th>CheckOut</th>\n",
       "      <td>15589.0</td>\n",
       "      <td>3.700558</td>\n",
       "      <td>1.158644</td>\n",
       "      <td>1.0</td>\n",
       "      <td>3.0</td>\n",
       "      <td>4.0</td>\n",
       "      <td>5.0</td>\n",
       "      <td>5.0</td>\n",
       "      <td>1.342456e+00</td>\n",
       "      <td>-0.750689</td>\n",
       "      <td>-0.225016</td>\n",
       "    </tr>\n",
       "    <tr>\n",
       "      <th>Checkin</th>\n",
       "      <td>15589.0</td>\n",
       "      <td>3.327282</td>\n",
       "      <td>1.266872</td>\n",
       "      <td>1.0</td>\n",
       "      <td>3.0</td>\n",
       "      <td>3.0</td>\n",
       "      <td>4.0</td>\n",
       "      <td>5.0</td>\n",
       "      <td>1.604966e+00</td>\n",
       "      <td>-0.382588</td>\n",
       "      <td>-0.812149</td>\n",
       "    </tr>\n",
       "    <tr>\n",
       "      <th>Cleanliness</th>\n",
       "      <td>15589.0</td>\n",
       "      <td>3.692347</td>\n",
       "      <td>1.154437</td>\n",
       "      <td>1.0</td>\n",
       "      <td>3.0</td>\n",
       "      <td>4.0</td>\n",
       "      <td>5.0</td>\n",
       "      <td>5.0</td>\n",
       "      <td>1.332724e+00</td>\n",
       "      <td>-0.745131</td>\n",
       "      <td>-0.225183</td>\n",
       "    </tr>\n",
       "    <tr>\n",
       "      <th>BarService</th>\n",
       "      <td>15589.0</td>\n",
       "      <td>3.347360</td>\n",
       "      <td>1.300452</td>\n",
       "      <td>0.0</td>\n",
       "      <td>2.0</td>\n",
       "      <td>3.0</td>\n",
       "      <td>4.0</td>\n",
       "      <td>5.0</td>\n",
       "      <td>1.691176e+00</td>\n",
       "      <td>-0.358297</td>\n",
       "      <td>-0.949765</td>\n",
       "    </tr>\n",
       "  </tbody>\n",
       "</table>\n",
       "</div>"
      ],
      "text/plain": [
       "                     count         mean          std     min     25%     50%  \\\n",
       "Year_Birth         15394.0  1981.706444    15.179042  1936.0  1970.0  1981.0   \n",
       "RewardPoints       15589.0  5022.593816  1027.962379   409.0  4445.0  5088.0   \n",
       "Comfort            15589.0     2.841619     1.388624     0.0     2.0     3.0   \n",
       "ReceptionSchedule  15589.0     2.997242     1.518994     0.0     2.0     3.0   \n",
       "FoodDrink          15589.0     2.844570     1.436948     0.0     2.0     3.0   \n",
       "Location           15589.0     2.986016     1.299438     1.0     2.0     3.0   \n",
       "Wifi               15589.0     3.245109     1.327026     0.0     2.0     3.0   \n",
       "Amenities          15589.0     3.374816     1.352417     0.0     2.0     4.0   \n",
       "Staff              15589.0     3.506383     1.319565     1.0     3.0     4.0   \n",
       "OnlineBooking      15589.0     3.454231     1.310343     0.0     2.0     4.0   \n",
       "PriceQuality       15589.0     3.459683     1.268130     1.0     3.0     4.0   \n",
       "RoomSpace          15589.0     3.470845     1.293873     0.0     2.0     4.0   \n",
       "CheckOut           15589.0     3.700558     1.158644     1.0     3.0     4.0   \n",
       "Checkin            15589.0     3.327282     1.266872     1.0     3.0     3.0   \n",
       "Cleanliness        15589.0     3.692347     1.154437     1.0     3.0     4.0   \n",
       "BarService         15589.0     3.347360     1.300452     0.0     2.0     3.0   \n",
       "\n",
       "                      75%     max           var      skew      kurt  \n",
       "Year_Birth         1994.0  2014.0  2.304033e+02 -0.003847 -0.729800  \n",
       "RewardPoints       5649.0  6950.0  1.056707e+06 -0.453779  0.260135  \n",
       "Comfort               4.0     5.0  1.928275e+00 -0.100907 -0.935544  \n",
       "ReceptionSchedule     4.0     5.0  2.307344e+00 -0.260705 -1.077243  \n",
       "FoodDrink             4.0     5.0  2.064819e+00 -0.123610 -0.967047  \n",
       "Location              4.0     5.0  1.688539e+00 -0.050229 -1.076583  \n",
       "Wifi                  4.0     6.0  1.760998e+00 -0.171255 -1.111251  \n",
       "Amenities             4.0     5.0  1.829032e+00 -0.599498 -0.540657  \n",
       "Staff                 5.0     5.0  1.741251e+00 -0.554561 -0.858889  \n",
       "OnlineBooking         5.0     5.0  1.717000e+00 -0.472074 -0.931811  \n",
       "PriceQuality          4.0     5.0  1.608154e+00 -0.503381 -0.772663  \n",
       "RoomSpace             5.0     5.0  1.674108e+00 -0.482952 -0.864644  \n",
       "CheckOut              5.0     5.0  1.342456e+00 -0.750689 -0.225016  \n",
       "Checkin               4.0     5.0  1.604966e+00 -0.382588 -0.812149  \n",
       "Cleanliness           5.0     5.0  1.332724e+00 -0.745131 -0.225183  \n",
       "BarService            4.0     5.0  1.691176e+00 -0.358297 -0.949765  "
      ]
     },
     "execution_count": 6,
     "metadata": {},
     "output_type": "execute_result"
    }
   ],
   "source": [
    "stats = data.describe()\n",
    "stats.loc['var'] = data.var().tolist()\n",
    "stats.loc['skew'] = data.skew().tolist()\n",
    "stats.loc['kurt'] = data.kurtosis().tolist()\n",
    "stats.T"
   ]
  },
  {
   "cell_type": "markdown",
   "id": "6925f54e",
   "metadata": {},
   "source": [
    "We have both numerical and categorical variables on our dataset, so we move forward by first exploring and preparing our dataset focusing on numerical variables. Using the describe method, we get to understand some general, descriptive statistics of the data stored in the different columns of our dataset. We can point:\n",
    "\n",
    "1. Out of every variable, probably the most subjective one (albeit a numerical variable) is _RewardPoints. There is little or no information given about this variable.\n",
    "2. Although the scaling system is attributed from 0 to 5, some inputs have entry values starting from 1 and others from 0. We have to discuss if this scale should be normalize, or instead create an average value, so that 0s will turn into 1s as the lowest rank of the interval. This way, we would be considering an odd-numbered scale for classification, which is common when surveying people. Also, Wifi is also ranked from 0 to 6, so we must change the maximum possible value to 5.\n",
    "3. We notice that the maximum year of birth in our dataset is 2014, which means that people under 18 years are present in our dataset. We must understand whose customers are these.\n",
    "4. There isn't any numerical variable that's **Univariate**\n"
   ]
  },
  {
   "cell_type": "markdown",
   "id": "31e39058",
   "metadata": {},
   "source": [
    "##### Skewness\n",
    "We then proceeded to investigate the skewness of our numerical variables, related to the asymmetry of the probability distribution of each variable about its mean value. We only detected moderate degrees of skewness (between |0.5| and |1.0| for the variables Staff, CheckOut and Cleanliness, all negative, thus representing left-tailed distributions. At this points, we should explore the type of curves presented here, as their skewness might suggest that these services are the \"best\" ones out of the assessed ones. Upon checking, their mean and median values are higher than 3, so classified as positive."
   ]
  },
  {
   "cell_type": "markdown",
   "id": "2beb0c0f",
   "metadata": {},
   "source": [
    "##### Kurtosis\n",
    "Another statistical measure we took a look at is kurtosis, which together with skweness might indicate the presence of outliers. There are no particular high values of kurtosos for any of the variables. Almost all kurtosis values are negative, suggesting the probability distributions for the variables associated to them have flatter peaks and thinner tails. Only the variable RewardPoints has a positive kurtosis value, suggesting that it has a probability distribution with a sharper peak and heavier tails. Perhaps we should take a look at this variable later on."
   ]
  },
  {
   "cell_type": "markdown",
   "id": "cc1dff84",
   "metadata": {},
   "source": [
    "#### Outliers\n",
    "People who give same classification in every category: We only identify 3 customers who gave the same classification in all satisfaction variables, so they should not be a problem in our analysis."
   ]
  },
  {
   "cell_type": "code",
   "execution_count": 7,
   "id": "b95fa247",
   "metadata": {},
   "outputs": [
    {
     "data": {
      "text/plain": [
       "3"
      ]
     },
     "execution_count": 7,
     "metadata": {},
     "output_type": "execute_result"
    }
   ],
   "source": [
    "len(db[db.loc[:,'Comfort':'BarService'].apply(lambda x:min(x)==max(x),1)])"
   ]
  },
  {
   "cell_type": "markdown",
   "id": "9be73d98",
   "metadata": {},
   "source": [
    "Moreover, just in case, we took a look at some histograms and boxplots of the variables to which we had associated moderate skweness or kurtosis. Only the variable RewardPoints seemed it could present some outliers, for which the number of reward points was below 1000 or 1500.\n",
    "\n",
    "Since we have little or no information on this variable, we assume it can be seen as a measure of the usage of BookMe. The more the customers use it, the greater the number of reward point they have. Therefore, no action was taken towards the elimination or replacement of such observations that could be considered outliers.\n"
   ]
  },
  {
   "cell_type": "code",
   "execution_count": 8,
   "id": "af65511c",
   "metadata": {},
   "outputs": [
    {
     "data": {
      "text/plain": [
       "Text(0.5, 1.0, 'Cleanliness')"
      ]
     },
     "execution_count": 8,
     "metadata": {},
     "output_type": "execute_result"
    },
    {
     "data": {
      "image/png": "[encoded data removed]",
      "text/plain": [
       "<Figure size 864x864 with 4 Axes>"
      ]
     },
     "metadata": {
      "needs_background": "light"
     },
     "output_type": "display_data"
    }
   ],
   "source": [
    "fig, axs = plt.subplots(2, 2, figsize = (12,12))\n",
    "\n",
    "axs[0, 0].boxplot(data = data, x = 'RewardPoints')\n",
    "axs[0, 0].set_title('RewardPoints')\n",
    "axs[0, 1].boxplot(data = data, x = 'Staff')\n",
    "axs[0, 1].set_title('Staff')\n",
    "axs[1, 0].boxplot(data = data, x = 'CheckOut')\n",
    "axs[1, 0].set_title('CheckOut')\n",
    "axs[1, 1].boxplot(data = data, x = 'Cleanliness')\n",
    "axs[1, 1].set_title('Cleanliness')"
   ]
  },
  {
   "cell_type": "code",
   "execution_count": 9,
   "id": "34b066e7",
   "metadata": {},
   "outputs": [
    {
     "data": {
      "text/plain": [
       "<AxesSubplot:xlabel='RewardPoints', ylabel='Count'>"
      ]
     },
     "execution_count": 9,
     "metadata": {},
     "output_type": "execute_result"
    },
    {
     "data": {
      "image/png": "[encoded data removed]",
      "text/plain": [
       "<Figure size 432x288 with 1 Axes>"
      ]
     },
     "metadata": {
      "needs_background": "light"
     },
     "output_type": "display_data"
    }
   ],
   "source": [
    "sns.histplot(data = data, x = 'RewardPoints')"
   ]
  },
  {
   "cell_type": "markdown",
   "id": "eb34353e",
   "metadata": {},
   "source": [
    "-----\n",
    "## Faz Sentido: NÃO FAZ\n",
    "##### Tranformação logaritmica ou de raiz quadrada apenas deve sre feita para variáveis com skewness direita. Neste caso, poderiamos utilizar transformação quadrática ou cúbica, mas uma vez que a skewness não é acentoada, não há necessidade\n",
    "In order to understand if a transformations should be made regarding the variables with highest skewness in order to normalize them.\n",
    "\n",
    "As it can be seen, both log and sqrt transformations would only increase the skewness of the variables"
   ]
  },
  {
   "cell_type": "code",
   "execution_count": 10,
   "id": "1780238b",
   "metadata": {
    "scrolled": true
   },
   "outputs": [],
   "source": [
    "# print('Skewness\\n\\nCleanliness:\\n','Normal: ',data['Cleanliness'].skew(),'\\n'\\\n",
    "#       ' Log: ',np.log(data['Cleanliness']).skew(),'\\n'\\\n",
    "#       ' sqrt: ',np.sqrt(data['Cleanliness']).skew(),'\\n'\\\n",
    "#       '\\nCheckOut:\\n','Normal: ',data['CheckOut'].skew(),'\\n'\\\n",
    "#       ' Log: ',np.log(data['CheckOut']).skew(),'\\n'\\\n",
    "#       ' sqrt: ',np.sqrt(data['CheckOut']).skew(),'\\n'\\\n",
    "#       '\\nStaff:\\n','Normal: ',data['Staff'].skew(),'\\n'\\\n",
    "#       ' Log: ',np.log(data['Staff']).skew(),'\\n'\\\n",
    "#       ' sqrt: ',np.sqrt(data['Staff']).skew(),'\\n'\\\n",
    "#      )"
   ]
  },
  {
   "cell_type": "markdown",
   "id": "a13db631",
   "metadata": {},
   "source": [
    "Regarding the possible issue of having customers under the age of 18 years, we proceeded to understand how many are these. They represent 1051 customers on our database.\n",
    "\n",
    "In fact, it might be possible to travel solo having less than 18 years. Instead, these customers can be accompanying other adults. Perhaps they should not be disregarded from our analysis."
   ]
  },
  {
   "cell_type": "code",
   "execution_count": 11,
   "id": "0af8ea33",
   "metadata": {},
   "outputs": [
    {
     "data": {
      "text/plain": [
       "1051"
      ]
     },
     "execution_count": 11,
     "metadata": {},
     "output_type": "execute_result"
    }
   ],
   "source": [
    "len(data.query(\"Year_Birth > 2004\"))"
   ]
  },
  {
   "cell_type": "markdown",
   "id": "ce8813aa",
   "metadata": {},
   "source": [
    "We also took a general look on the spearman correlations between the numerical variables, even though we know some corrections to data might be performed later.\n",
    "\n",
    "We observe that Comfort and FoodDrink have a high positive correlation of 0.7, as well as the variable pairs Staff and BarService, and OnlineBooking and BarService. We also can identify some \"blocks\" of variables that jointly appear to be correlated. We will address these findings later."
   ]
  },
  {
   "cell_type": "code",
   "execution_count": 12,
   "id": "59ec30f8",
   "metadata": {},
   "outputs": [
    {
     "data": {
      "text/plain": [
       "<AxesSubplot:>"
      ]
     },
     "execution_count": 12,
     "metadata": {},
     "output_type": "execute_result"
    },
    {
     "data": {
      "image/png": "[encoded data removed]",
      "text/plain": [
       "<Figure size 1152x720 with 2 Axes>"
      ]
     },
     "metadata": {
      "needs_background": "light"
     },
     "output_type": "display_data"
    }
   ],
   "source": [
    "data_corr = data.corr(method = 'spearman')\n",
    "matrix = np.triu(data_corr)\n",
    "# annot_labels = np.empty_like(data_corr, dtype=str)\n",
    "# annot_mask = data_corr > 0.6\n",
    "# annot_labels[annot_mask] = 'True'\n",
    "figure = plt.figure(figsize=(16,10))\n",
    "sns.heatmap(data_corr, annot=True, cmap = sns.diverging_palette(220, 20, as_cmap=True),  fmt = '.1g', mask = matrix)"
   ]
  },
  {
   "cell_type": "markdown",
   "id": "33c9a492",
   "metadata": {},
   "source": [
    "Given our findings by looking at the correlation matrix above, the creation of three buckets of variables according to the correlations between the 14 satisfaction variables could help. There buckets would be divided as follows:\n",
    "\n",
    "1. Rating1 includes variables Comfort, ReceptionSchedule, FoodDrink and Location.\n",
    "2. Rating2 includes variables Amenities, Wifi, OnlineBooking, Staff and BarService.\n",
    "3. Rating3 includes variables PriceQuality, RoomSpace, CheckOut, Checkin and Cleanliness.\n"
   ]
  },
  {
   "cell_type": "markdown",
   "id": "60872c25",
   "metadata": {},
   "source": [
    "We now move forward to explore our categorical variables. Using the methods _describe_ and _value_counts_ we can dive deeper on the exploration of these variables.\n",
    "\n",
    "Some interesting findings are summarized below:\n",
    "1. Most of our customers are \"old\" customers that use our services for more than a year. We are not seeming to catch new customers.\n",
    "2. Most of the customers on our dataset travel by business.\n",
    "3. Few customers book suite rooms.\n",
    "4. There isn't any categorical variable that's Univariate."
   ]
  },
  {
   "cell_type": "code",
   "execution_count": 13,
   "id": "3ed8a402",
   "metadata": {},
   "outputs": [
    {
     "data": {
      "text/html": [
       "<div>\n",
       "<style scoped>\n",
       "    .dataframe tbody tr th:only-of-type {\n",
       "        vertical-align: middle;\n",
       "    }\n",
       "\n",
       "    .dataframe tbody tr th {\n",
       "        vertical-align: top;\n",
       "    }\n",
       "\n",
       "    .dataframe thead th {\n",
       "        text-align: right;\n",
       "    }\n",
       "</style>\n",
       "<table border=\"1\" class=\"dataframe\">\n",
       "  <thead>\n",
       "    <tr style=\"text-align: right;\">\n",
       "      <th></th>\n",
       "      <th>count</th>\n",
       "      <th>unique</th>\n",
       "      <th>top</th>\n",
       "      <th>freq</th>\n",
       "    </tr>\n",
       "  </thead>\n",
       "  <tbody>\n",
       "    <tr>\n",
       "      <th>Name</th>\n",
       "      <td>15589</td>\n",
       "      <td>14227</td>\n",
       "      <td>Mr. Michael Smith</td>\n",
       "      <td>9</td>\n",
       "    </tr>\n",
       "    <tr>\n",
       "      <th>Longevity</th>\n",
       "      <td>15589</td>\n",
       "      <td>3</td>\n",
       "      <td>yes</td>\n",
       "      <td>12548</td>\n",
       "    </tr>\n",
       "    <tr>\n",
       "      <th>TypeTravel</th>\n",
       "      <td>15589</td>\n",
       "      <td>2</td>\n",
       "      <td>business</td>\n",
       "      <td>10756</td>\n",
       "    </tr>\n",
       "    <tr>\n",
       "      <th>RoomType</th>\n",
       "      <td>15589</td>\n",
       "      <td>3</td>\n",
       "      <td>single</td>\n",
       "      <td>7442</td>\n",
       "    </tr>\n",
       "  </tbody>\n",
       "</table>\n",
       "</div>"
      ],
      "text/plain": [
       "            count unique                top   freq\n",
       "Name        15589  14227  Mr. Michael Smith      9\n",
       "Longevity   15589      3                yes  12548\n",
       "TypeTravel  15589      2           business  10756\n",
       "RoomType    15589      3             single   7442"
      ]
     },
     "execution_count": 13,
     "metadata": {},
     "output_type": "execute_result"
    }
   ],
   "source": [
    "data.describe(include=\"O\").T"
   ]
  },
  {
   "cell_type": "code",
   "execution_count": 14,
   "id": "83a082c1",
   "metadata": {},
   "outputs": [
    {
     "name": "stdout",
     "output_type": "stream",
     "text": [
      "--> Longevity:\n",
      " yes    12548\n",
      "no      2874\n",
      "y        167\n",
      "Name: Longevity, dtype: int64 \n",
      "\n",
      "--> TypeTravel:\n",
      " business    10756\n",
      "leisure      4833\n",
      "Name: TypeTravel, dtype: int64 \n",
      "\n",
      "--> RoomType:\n",
      " single    7442\n",
      "double    7021\n",
      "suite     1126\n",
      "Name: RoomType, dtype: int64\n"
     ]
    }
   ],
   "source": [
    "print('--> Longevity:\\n',db['Longevity'].value_counts(),'\\n')\n",
    "print('--> TypeTravel:\\n',db['TypeTravel'].value_counts(),'\\n')\n",
    "print('--> RoomType:\\n',db['RoomType'].value_counts())"
   ]
  },
  {
   "cell_type": "markdown",
   "id": "34dae26a",
   "metadata": {},
   "source": [
    "##### Type Travel vs RoomType"
   ]
  },
  {
   "cell_type": "code",
   "execution_count": 15,
   "id": "d087ebd6",
   "metadata": {},
   "outputs": [
    {
     "data": {
      "text/plain": [
       "<AxesSubplot:xlabel='count', ylabel='TypeTravel'>"
      ]
     },
     "execution_count": 15,
     "metadata": {},
     "output_type": "execute_result"
    },
    {
     "data": {
      "image/png": "[encoded data removed]",
      "text/plain": [
       "<Figure size 432x288 with 1 Axes>"
      ]
     },
     "metadata": {
      "needs_background": "light"
     },
     "output_type": "display_data"
    }
   ],
   "source": [
    "sns.countplot(y = 'TypeTravel', hue = 'RoomType', data = db,\n",
    "             order = ['business','leisure'])"
   ]
  },
  {
   "cell_type": "markdown",
   "id": "90d8deb5",
   "metadata": {},
   "source": [
    "##### Type Travel vs Longevity"
   ]
  },
  {
   "cell_type": "code",
   "execution_count": 16,
   "id": "410b0b0d",
   "metadata": {},
   "outputs": [
    {
     "data": {
      "text/plain": [
       "<AxesSubplot:xlabel='count', ylabel='TypeTravel'>"
      ]
     },
     "execution_count": 16,
     "metadata": {},
     "output_type": "execute_result"
    },
    {
     "data": {
      "image/png": "[encoded data removed]",
      "text/plain": [
       "<Figure size 432x288 with 1 Axes>"
      ]
     },
     "metadata": {
      "needs_background": "light"
     },
     "output_type": "display_data"
    }
   ],
   "source": [
    "sns.countplot(y = 'TypeTravel', hue = 'Longevity', data = db,\n",
    "             order = ['business','leisure'])"
   ]
  },
  {
   "cell_type": "markdown",
   "id": "0863a708",
   "metadata": {},
   "source": [
    "Before moving forward to some more data cleaning, we wanted to verify if there are recurrent visits from the same customers on our dataset. We checked that there are repeated visits from customers with the same name and year of birth in our dataset.\n",
    "\n",
    "At this point, our analysis leads us to assume that these might be the same customers. The number of reward points changes according to each visit.\n",
    "- 39 clients have the same name and year of birth, meaning that they might be recurrent visits.\n",
    "- 26 of those clients have the same Longevity status, meaning that enough time has passed on 13 clients to change the Longevity status from 0 to 1.\n",
    "- 13 of those clients have kept the same RoomType and Longevity. They can potentially be the same people.\n",
    "- No client has the same amount of RewardPoints, meaning that they change according to the number of visits.\n",
    "- On average, RewardPoints varies 697 points [from 30 to 1892] or 165 [from -645 to 1892]"
   ]
  },
  {
   "cell_type": "code",
   "execution_count": 17,
   "id": "3a2f6137",
   "metadata": {},
   "outputs": [
    {
     "data": {
      "text/html": [
       "<div>\n",
       "<style scoped>\n",
       "    .dataframe tbody tr th:only-of-type {\n",
       "        vertical-align: middle;\n",
       "    }\n",
       "\n",
       "    .dataframe tbody tr th {\n",
       "        vertical-align: top;\n",
       "    }\n",
       "\n",
       "    .dataframe thead th {\n",
       "        text-align: right;\n",
       "    }\n",
       "</style>\n",
       "<table border=\"1\" class=\"dataframe\">\n",
       "  <thead>\n",
       "    <tr style=\"text-align: right;\">\n",
       "      <th></th>\n",
       "      <th></th>\n",
       "      <th></th>\n",
       "      <th></th>\n",
       "      <th></th>\n",
       "      <th>Recurrent</th>\n",
       "    </tr>\n",
       "    <tr>\n",
       "      <th>Name</th>\n",
       "      <th>Year_Birth</th>\n",
       "      <th>Longevity</th>\n",
       "      <th>RoomType</th>\n",
       "      <th>RewardPoints</th>\n",
       "      <th></th>\n",
       "    </tr>\n",
       "  </thead>\n",
       "  <tbody>\n",
       "    <tr>\n",
       "      <th>Ms. Abigail Buchanan</th>\n",
       "      <th>1972.0</th>\n",
       "      <th>yes</th>\n",
       "      <th>double</th>\n",
       "      <th>6769</th>\n",
       "      <td>2</td>\n",
       "    </tr>\n",
       "    <tr>\n",
       "      <th>Ms. Abigail Kennedy</th>\n",
       "      <th>1991.0</th>\n",
       "      <th>yes</th>\n",
       "      <th>suite</th>\n",
       "      <th>5932</th>\n",
       "      <td>2</td>\n",
       "    </tr>\n",
       "    <tr>\n",
       "      <th>Ms. Abigail York</th>\n",
       "      <th>1995.0</th>\n",
       "      <th>yes</th>\n",
       "      <th>double</th>\n",
       "      <th>5098</th>\n",
       "      <td>2</td>\n",
       "    </tr>\n",
       "  </tbody>\n",
       "</table>\n",
       "</div>"
      ],
      "text/plain": [
       "                                                                 Recurrent\n",
       "Name                 Year_Birth Longevity RoomType RewardPoints           \n",
       "Ms. Abigail Buchanan 1972.0     yes       double   6769                  2\n",
       "Ms. Abigail Kennedy  1991.0     yes       suite    5932                  2\n",
       "Ms. Abigail York     1995.0     yes       double   5098                  2"
      ]
     },
     "execution_count": 17,
     "metadata": {},
     "output_type": "execute_result"
    }
   ],
   "source": [
    "#Recurrent Visits - exploration\n",
    "#This is aimed at getting more insight about recurrent visits and how they would affect RewardPoints\n",
    "\n",
    "recur1 =  pd.DataFrame(db.groupby(['Name', 'Year_Birth'])['Name'].count())\n",
    "recur1.rename(columns = {'Name':'Recurrent'}, inplace = True)\n",
    "recur1.query(\"Recurrent >= 2\", inplace = True) #'Number_of_Visits >= 2'\n",
    "recur1\n",
    "\n",
    "#39 clients have the same name and year of birth, meaning that they might be recurrent visits.\n",
    "\n",
    "recur2 =  pd.DataFrame(db.groupby(['Name', 'Year_Birth', 'Longevity'])['Name'].count())\n",
    "recur2.rename(columns = {'Name':'Recurrent'}, inplace = True)\n",
    "recur2.query(\"Recurrent >= 2\", inplace = True) #'Number_of_Visits >= 2'\n",
    "recur2\n",
    "\n",
    "#26 of those clients have the same Longevity status, meaning that enough time has passed on 13 clients to change the Longevity status from 0 to 1.\n",
    "\n",
    "recur3 =  pd.DataFrame(db.groupby(['Name', 'Year_Birth', 'Longevity', 'RoomType'])['Name'].count())\n",
    "recur3.rename(columns = {'Name':'Recurrent'}, inplace = True)\n",
    "recur3.query(\"Recurrent >= 2\", inplace = True) #'Number_of_Visits >= 2'\n",
    "recur3\n",
    "\n",
    "#13 of those clients have kept the same RoomType and Longevity. They can potentially be the same people.\n",
    "\n",
    "recur4 =  pd.DataFrame(db.groupby(['Name', 'Year_Birth', 'Longevity', 'RoomType', 'RewardPoints'])['Name'].count())\n",
    "recur4.rename(columns = {'Name':'Recurrent'}, inplace = True)\n",
    "recur4.query(\"Recurrent >= 2\", inplace = True) #'Number_of_Visits >= 2'\n",
    "recur4\n",
    "\n",
    "#No client has the same amount of RewardPoints, meaning that they change according to the number of visits.\n",
    "#On average, RewardPoints varies 697 points [from 30 to 1892] or 165 [from -645 to 1892]\n",
    "\n",
    "#db.loc[db.Name == \"Ms. Danielle Taylor\"]\n",
    "#For Anthony Smith (1982) - 4508/5275/5554, Business Single and Suite\n",
    "#For Brian Smith (1979) - 4478/4567, Business Single\n",
    "#For Christopher Murphy (1979) - 6367/6152, Business Single\n",
    "#For Jason Bell (1996) - 4539/3404, Business Single\n",
    "#For John Russel (1977) - 3645/4013, Business Single\n",
    "#For John Schwartz (1980) - 5607/5577, Business Double\n",
    "#For Joseph Thomas (1970) - 5051/6570, Business Single\n",
    "#For Michael Miller (1992) - 3907/4442, Business Single\n",
    "#For Timothy Lee (1980) - 5113/3221, Business Single - Churn\n",
    "#For Amanda Smith (1962) - 6190/3906, Business Double - Churn and Business Single\n",
    "#For Amanda Smith (1969) - 6577/6655, Business Single\n",
    "#For Cynthia Martin (1991) 4939/4456, Business Single - Churn\n",
    "#For Dana Anderson (1972) 5807/6452, Business Double\n",
    "#For Danielle Taylor (1981) 5147/4990, Business Double"
   ]
  },
  {
   "cell_type": "markdown",
   "id": "b7fbed17",
   "metadata": {},
   "source": [
    "##### Replace incorrect performance values"
   ]
  },
  {
   "cell_type": "code",
   "execution_count": 18,
   "id": "128ab2cb",
   "metadata": {},
   "outputs": [
    {
     "name": "stdout",
     "output_type": "stream",
     "text": [
      "2525\n",
      "25447\n",
      "34395\n",
      "45349\n",
      "62009\n",
      "48485\n",
      "36\n"
     ]
    }
   ],
   "source": [
    "print((data.loc[:, 'Comfort':] == 0).sum().sum())\n",
    "print((data.loc[:, 'Comfort':] == 1).sum().sum())\n",
    "print((data.loc[:, 'Comfort':] == 2).sum().sum())\n",
    "print((data.loc[:, 'Comfort':] == 3).sum().sum())\n",
    "print((data.loc[:, 'Comfort':] == 4).sum().sum())\n",
    "print((data.loc[:, 'Comfort':] == 5).sum().sum())\n",
    "print((data.loc[:, 'Comfort':] == 6).sum().sum())"
   ]
  },
  {
   "cell_type": "markdown",
   "id": "90aa220b",
   "metadata": {},
   "source": [
    "About valuation of Customer Satisfaction\n",
    "- 0.01% of valuation 6 --> To remove the 6\n",
    "- 1.2% of valuation 0 --> seams legit. Keep the 0"
   ]
  },
  {
   "cell_type": "markdown",
   "id": "524ca190",
   "metadata": {},
   "source": [
    "##### Transformations to be made\n",
    "- Remove 6 from Wifi Valuations\n",
    "- Create bins from Reward Points changing from numerical to categorical\n",
    "- Create variable 'Gender' from the name variable & Drop 'Name' variable\n",
    "- Transform all 'y' to 'yes' in Longevity\n",
    "- Year of birth using KNN Imputer\n",
    "- Create 3 buckets of variables\n",
    "- Convert datatypes"
   ]
  },
  {
   "cell_type": "markdown",
   "id": "d04fe24e",
   "metadata": {},
   "source": [
    "##### Transformations to be made onle after separating training from validation"
   ]
  },
  {
   "cell_type": "markdown",
   "id": "52b52708",
   "metadata": {},
   "source": [
    "- Remove valuation 6 from Wifi variable"
   ]
  },
  {
   "cell_type": "code",
   "execution_count": 19,
   "id": "b9f5760c",
   "metadata": {},
   "outputs": [],
   "source": [
    "data['Wifi'] = data['Wifi'].replace(6,5)"
   ]
  },
  {
   "cell_type": "markdown",
   "id": "6d8a18f3",
   "metadata": {},
   "source": [
    "----\n",
    "- Change RewardPoints from Numerical to Categorical"
   ]
  },
  {
   "cell_type": "code",
   "execution_count": 20,
   "id": "c92d89d7",
   "metadata": {},
   "outputs": [],
   "source": [
    "data['RewardPoints_Bins'] = pd.cut(data['RewardPoints'], 4, labels=['Bronze', 'Silver', 'Gold', 'Platinum'])\n",
    "# data['RewardPoints_Bins'] = data['RewardPoints_Bins'].replace('Bronze',0).replace('Silver',1).replace('Gold',2).replace('Platinum',3)\n",
    "data.drop(columns = ['RewardPoints'], axis=1, inplace=True)"
   ]
  },
  {
   "cell_type": "markdown",
   "id": "1e61568b",
   "metadata": {},
   "source": [
    "----\n",
    "- Change Name to Gender"
   ]
  },
  {
   "cell_type": "code",
   "execution_count": 21,
   "id": "c70f3ed9",
   "metadata": {},
   "outputs": [],
   "source": [
    "gender = data['Name'].str.split(' ',expand = True,n=1)[0]\n",
    "data['Gender'] = gender\n",
    "data['Gender'] = data['Gender'].replace('Ms.','F').replace('Mr.','M')\n",
    "data.drop(columns = ['Name'], axis = 1, inplace = True)"
   ]
  },
  {
   "cell_type": "markdown",
   "id": "3ff3e89c",
   "metadata": {},
   "source": [
    "----\n",
    "- Correct 'y' to 'yes' in Longevity variable"
   ]
  },
  {
   "cell_type": "code",
   "execution_count": 22,
   "id": "d5aa73d1",
   "metadata": {},
   "outputs": [],
   "source": [
    "data['Longevity'] = data['Longevity'].replace('y','yes')"
   ]
  },
  {
   "cell_type": "markdown",
   "id": "a8c609ba",
   "metadata": {},
   "source": [
    "----\n",
    "- Year of Birth variable: correct NA values in "
   ]
  },
  {
   "cell_type": "markdown",
   "id": "26a4f216",
   "metadata": {},
   "source": [
    "We notice the missing values in the Year_Birth column are of type MAR (Missing At Random). In fact, 81.5% of the customers with this column missing are women.\n",
    "\n",
    "The KNN Imputer algorythm was used to compare the results with other ways of replacing the missing data (mean, median and mode).\n",
    "Running the algorythm shows that both the mean, median and mode of the overall data don't change much, having a slight change on the mean from 1981.7064 to 1981.6958, and maintaining the median in 1981 and mode in 1982.\n",
    "\n",
    "However, when we check only the indexes that had missing values, we see that their mean is 1983.1384 (year and a half higher than the overall), the median is 1983 (2 years higher) and the mode 1977 (5 years lower).\n",
    "\n",
    "Since the overall values didn't change much, it seams preferable to replace the missing values with the KNN Imputer algorithm since it's is sensible to the rest of the data and no only to the variables in question.\n",
    "\n",
    "We decided to use the default values of this imputer provided by sklearn, then considering 125 neighbors (square root of the length of the data), euclidean distance, and uniform weights for all neighbors.\n"
   ]
  },
  {
   "cell_type": "code",
   "execution_count": 23,
   "id": "f5840368",
   "metadata": {},
   "outputs": [
    {
     "name": "stdout",
     "output_type": "stream",
     "text": [
      "Year of Birth:\n",
      "\n",
      "Mean:  1981.7064440691179 \n",
      "Median:  1981.0 \n",
      "Mode: 0    1982.0\n",
      "Name: Year_Birth, dtype: float64\n"
     ]
    }
   ],
   "source": [
    "print('Year of Birth:\\n\\nMean: ',db['Year_Birth'].mean(),\\\n",
    "      '\\nMedian: ',db['Year_Birth'].median(),\\\n",
    "      '\\nMode:',db['Year_Birth'].mode(),)"
   ]
  },
  {
   "cell_type": "code",
   "execution_count": 24,
   "id": "fa7d2a1b",
   "metadata": {},
   "outputs": [
    {
     "name": "stdout",
     "output_type": "stream",
     "text": [
      "Year of Birth Specific previews NA Values:\n",
      "\n",
      "Mean:  1983.1692307692308 \n",
      "Median:  1983.0 \n",
      "Mode: 0    1977.0\n",
      "1    1981.0\n",
      "2    1984.0\n",
      "3    1994.0\n",
      "4    1997.0\n",
      "Name: 0, dtype: float64 \n",
      "\n",
      "Year of Birth Overall Values:\n",
      "\n",
      "Mean:  1981.692860350247 \n",
      "Median:  1981.0 \n",
      "Mode: 0    1982.0\n",
      "Name: 0, dtype: float64\n"
     ]
    }
   ],
   "source": [
    "from sklearn.impute import KNNImputer\n",
    "num_var = data.select_dtypes(include=np.number).set_index(data.index).columns\n",
    "list_na_year = data[data['Year_Birth'].isna()].index.tolist()\n",
    "k_imputer = round(np.sqrt(len(data[num_var])),0).astype('int32') # 125\n",
    "imputer = KNNImputer(n_neighbors=k_imputer, weights=\"uniform\", metric='nan_euclidean')\n",
    "imputer.fit(data[num_var])\n",
    "data_KNN = imputer.transform(data[num_var])\n",
    "data_KNN = pd.DataFrame(data_KNN)\n",
    "data_KNN[0] = data_KNN[0].round(0)\n",
    "data_KNN[0].count\n",
    "print('Year of Birth Specific previews NA Values:\\n\\nMean: ',data_KNN[0][list_na_year].mean(),\\\n",
    "      '\\nMedian: ',data_KNN[0][list_na_year].median(),\\\n",
    "      '\\nMode:',data_KNN[0][list_na_year].mode(),'\\n')\n",
    "print('Year of Birth Overall Values:\\n\\nMean: ',data_KNN[0].mean(),\\\n",
    "      '\\nMedian: ',data_KNN[0].median(),\\\n",
    "      '\\nMode:',data_KNN[0].mode(),)"
   ]
  },
  {
   "cell_type": "markdown",
   "id": "f5e47ae5",
   "metadata": {},
   "source": [
    "-> Only to be made after seperation of train and validation"
   ]
  },
  {
   "cell_type": "raw",
   "id": "d2eebad5",
   "metadata": {},
   "source": [
    "data['Year_Birth'] = data_KNN[0].values"
   ]
  },
  {
   "cell_type": "code",
   "execution_count": 25,
   "id": "29a2f197",
   "metadata": {},
   "outputs": [],
   "source": [
    "data['Year_Birth_Bins'] = pd.cut(data['Year_Birth'], 8, labels=['40','50','60','70','80','90','00','10'])\n",
    "# data['RewardPoints_Bins'] = data['RewardPoints_Bins'].replace('Bronze',0).replace('Silver',1).replace('Gold',2).replace('Platinum',3)\n",
    "data.drop(columns = ['Year_Birth'], axis=1, inplace=True)"
   ]
  },
  {
   "cell_type": "markdown",
   "id": "7bfa3286",
   "metadata": {},
   "source": [
    "----\n",
    "- Creation of Buckets"
   ]
  },
  {
   "cell_type": "code",
   "execution_count": 26,
   "id": "49fed066",
   "metadata": {},
   "outputs": [],
   "source": [
    "data['Rating1'] = round((data['Comfort'] + data['ReceptionSchedule'] + data['FoodDrink'] + data['Location'])/4,2)\n",
    "data['Rating2'] = round((data['Amenities'] + data['Wifi'] + data['OnlineBooking'] + data['Staff']+ data['BarService'])/5,2)\n",
    "data['Rating3'] = round((data['PriceQuality'] + data['RoomSpace'] + data['CheckOut']+ data['Checkin']+ data['Cleanliness'])/5,2)"
   ]
  },
  {
   "cell_type": "markdown",
   "id": "52680659",
   "metadata": {},
   "source": [
    "----\n",
    "- Scale the numerical data"
   ]
  },
  {
   "cell_type": "markdown",
   "id": "ff11f131",
   "metadata": {},
   "source": [
    "-> Only to be made after seperation of train and validation"
   ]
  },
  {
   "cell_type": "raw",
   "id": "0706a75a",
   "metadata": {},
   "source": [
    "scaler = MinMaxScaler().fit(data[num_var])"
   ]
  },
  {
   "cell_type": "markdown",
   "id": "c159e2eb",
   "metadata": {},
   "source": [
    "----\n",
    "- Separate Numerical from Categorical Data"
   ]
  },
  {
   "cell_type": "code",
   "execution_count": 27,
   "id": "2aed5151",
   "metadata": {
    "scrolled": true
   },
   "outputs": [
    {
     "name": "stdout",
     "output_type": "stream",
     "text": [
      "Index(['Comfort', 'ReceptionSchedule', 'FoodDrink', 'Location', 'Wifi',\n",
      "       'Amenities', 'Staff', 'OnlineBooking', 'PriceQuality', 'RoomSpace',\n",
      "       'CheckOut', 'Checkin', 'Cleanliness', 'BarService', 'Rating1',\n",
      "       'Rating2', 'Rating3'],\n",
      "      dtype='object')\n",
      "Index(['Longevity', 'TypeTravel', 'RoomType', 'RewardPoints_Bins', 'Gender',\n",
      "       'Year_Birth_Bins'],\n",
      "      dtype='object')\n"
     ]
    }
   ],
   "source": [
    "num_var = data.select_dtypes(include=np.number).set_index(data.index).columns\n",
    "cat_var = data.select_dtypes(exclude=np.number).set_index(data.index).columns\n",
    "print(num_var)\n",
    "print(cat_var)"
   ]
  },
  {
   "cell_type": "markdown",
   "id": "94e5f97e",
   "metadata": {},
   "source": [
    "----\n",
    "- Change DataTypes"
   ]
  },
  {
   "cell_type": "markdown",
   "id": "97459de5",
   "metadata": {},
   "source": [
    "-> Only to be made after scaling the data"
   ]
  },
  {
   "cell_type": "raw",
   "id": "1b78d480",
   "metadata": {},
   "source": [
    "# Converting every column that is int64 to int8 for performance issues\n",
    "data.iloc[:,(db.dtypes=='int64').values] = db.iloc[:,(db.dtypes=='int64').values].astype(np.int8)"
   ]
  },
  {
   "cell_type": "markdown",
   "id": "c9accf13",
   "metadata": {},
   "source": [
    "----\n",
    "- Create numerical variable list without the buckets to compare"
   ]
  },
  {
   "cell_type": "code",
   "execution_count": 28,
   "id": "c1359048",
   "metadata": {},
   "outputs": [],
   "source": [
    "num_var_nbuckes = num_var[:-3]"
   ]
  },
  {
   "cell_type": "markdown",
   "id": "8d75276d",
   "metadata": {},
   "source": [
    "----\n",
    "# Feature Selection"
   ]
  },
  {
   "cell_type": "markdown",
   "id": "1c26be74",
   "metadata": {},
   "source": [
    "### Weight of the dependent variable in categorical data"
   ]
  },
  {
   "cell_type": "markdown",
   "id": "2b226ac5",
   "metadata": {},
   "source": [
    "- From the Spearman Correlation, the variable Amenities shows a relation greater then 0,5.\n",
    "- Also, Rating 2 (composed by Amenities, Wifi, Online Booking, Staff and Bar Service) shows a correlation of 0,5"
   ]
  },
  {
   "cell_type": "code",
   "execution_count": 29,
   "id": "b8dc3865",
   "metadata": {},
   "outputs": [
    {
     "data": {
      "text/plain": [
       "<AxesSubplot:>"
      ]
     },
     "execution_count": 29,
     "metadata": {},
     "output_type": "execute_result"
    },
    {
     "data": {
      "image/png": "[encoded data removed]",
      "text/plain": [
       "<Figure size 1152x720 with 2 Axes>"
      ]
     },
     "metadata": {
      "needs_background": "light"
     },
     "output_type": "display_data"
    }
   ],
   "source": [
    "all_data_cor = data.join(target)\n",
    "all_data_cor['Churn'] = all_data_cor['Churn'].replace('nochurn',0).replace('churn',1)\n",
    "data_corr = all_data_cor.corr(method = 'spearman')\n",
    "matrix = np.triu(data_corr)\n",
    "figure = plt.figure(figsize=(16,10))\n",
    "sns.heatmap(data_corr, annot=True, cmap = sns.diverging_palette(220, 20, as_cmap=True), fmt = '.1g', mask = matrix)"
   ]
  },
  {
   "cell_type": "markdown",
   "id": "1d408efc",
   "metadata": {},
   "source": [
    "----\n",
    "From the graphical analysis between the dependent variable and the categorical variables, the following outputs can be taken:\n",
    "- A non-longevity client is more likely to churn, but these clients are the minority of our dataset on a proportion of 1/4 to 3/4\n",
    "- Business clients are less likelly to churn and also the majority on a proportion of 2/3 to 1/3\n",
    "- Single room clients are less likely to churn, being of the same amount as double room clients\n",
    "- There seams to be no great relevance of the Rewards points on the dependent variable\n",
    "- Lastly, male clients are more likely to churn than female clients, being their proportion similar"
   ]
  },
  {
   "cell_type": "code",
   "execution_count": 30,
   "id": "ebd9ebd8",
   "metadata": {},
   "outputs": [
    {
     "data": {
      "image/png": "[encoded data removed]",
      "text/plain": [
       "<Figure size 1440x360 with 5 Axes>"
      ]
     },
     "metadata": {
      "needs_background": "light"
     },
     "output_type": "display_data"
    },
    {
     "data": {
      "image/png": "[encoded data removed]",
      "text/plain": [
       "<Figure size 1440x360 with 5 Axes>"
      ]
     },
     "metadata": {
      "needs_background": "light"
     },
     "output_type": "display_data"
    }
   ],
   "source": [
    "def frequency_charts_categorical(df, feature, target):\n",
    "    fig = plt.figure(figsize=(20, 5))\n",
    "    subplots=[151,152,153,154,155]\n",
    "    \n",
    "    for i in range(len(feature)):\n",
    "        cont_tab = pd.crosstab(df[feature[i]], df[target], margins = True)\n",
    "        #print(cont_tab)\n",
    "        categories = cont_tab.index[:-1]\n",
    "        #print(cont_tab.iloc[:-1, 0])\n",
    "        plt.subplot(subplots[i])\n",
    "        p1 = plt.bar(categories, cont_tab.iloc[:-1, 0].values, 0.55, color=\"gray\") # Churn\n",
    "        p2 = plt.bar(categories, cont_tab.iloc[:-1, 1].values, 0.55, bottom=cont_tab.iloc[:-1, 0], color=\"#EC7063\")\n",
    "        plt.legend((p2[0], p1[0]), ('$y_i=0$', '$y_i=1$'))\n",
    "        plt.title(\"Frequency bar chart\")\n",
    "        plt.xlabel(feature)\n",
    "        plt.ylabel(\"$Frequency$\")\n",
    "\n",
    "    plt.show()\n",
    "\n",
    "def proportion_charts_categorical(df, feature, target):\n",
    "    fig = plt.figure(figsize=(20, 5))\n",
    "    subplots=[151,152,153,154,155]\n",
    "    \n",
    "    for i in range(len(feature)):\n",
    "        cont_tab = pd.crosstab(df[feature[i]], df[target], margins = True)\n",
    "        categories = cont_tab.index[:-1]\n",
    "        obs_pct = np.array([np.divide(cont_tab.iloc[:-1, 0].values, cont_tab.iloc[:-1, 2].values), \n",
    "                            np.divide(cont_tab.iloc[:-1, 1].values, cont_tab.iloc[:-1, 2].values)])\n",
    "        plt.subplot(subplots[i])\n",
    "        p1 = plt.bar(categories, obs_pct[0], 0.55, color=\"gray\")\n",
    "        p2 = plt.bar(categories, obs_pct[1], 0.55, bottom=obs_pct[0], color=\"#AED6F1\")\n",
    "        plt.legend((p2[0], p1[0]), ('$y_i=0$', '$y_i=1$'))\n",
    "        plt.title(\"Proportion bar chart\")\n",
    "        plt.xlabel(feature)\n",
    "        plt.ylabel(\"$Proportion$\")\n",
    "\n",
    "    plt.show()\n",
    "    \n",
    "frequency_charts_categorical(data.join(target), ['Longevity','TypeTravel','RoomType','RewardPoints_Bins','Gender'], \"Churn\")\n",
    "proportion_charts_categorical(data.join(target), ['Longevity','TypeTravel','RoomType','RewardPoints_Bins','Gender'], \"Churn\")"
   ]
  },
  {
   "cell_type": "markdown",
   "id": "479ee806",
   "metadata": {},
   "source": [
    "----\n",
    "##### Rating 1 variables"
   ]
  },
  {
   "cell_type": "code",
   "execution_count": 31,
   "id": "7aee3544",
   "metadata": {},
   "outputs": [
    {
     "data": {
      "image/png": "[encoded data removed]",
      "text/plain": [
       "<Figure size 1440x360 with 4 Axes>"
      ]
     },
     "metadata": {
      "needs_background": "light"
     },
     "output_type": "display_data"
    }
   ],
   "source": [
    "proportion_charts_categorical(data.join(target), ['Comfort','ReceptionSchedule','FoodDrink','Location'], \"Churn\")"
   ]
  },
  {
   "cell_type": "markdown",
   "id": "21237080",
   "metadata": {},
   "source": [
    "----\n",
    "##### Rating 2 variables"
   ]
  },
  {
   "cell_type": "code",
   "execution_count": 32,
   "id": "5eff7899",
   "metadata": {},
   "outputs": [
    {
     "data": {
      "image/png": "[encoded data removed]",
      "text/plain": [
       "<Figure size 1440x360 with 5 Axes>"
      ]
     },
     "metadata": {
      "needs_background": "light"
     },
     "output_type": "display_data"
    }
   ],
   "source": [
    "proportion_charts_categorical(data.join(target), ['Amenities','Wifi','OnlineBooking','Staff','BarService'], \"Churn\")"
   ]
  },
  {
   "cell_type": "markdown",
   "id": "a5fa7204",
   "metadata": {},
   "source": [
    "----\n",
    "##### Rating 3 variables"
   ]
  },
  {
   "cell_type": "code",
   "execution_count": 33,
   "id": "3d99259f",
   "metadata": {},
   "outputs": [
    {
     "data": {
      "image/png": "[encoded data removed]",
      "text/plain": [
       "<Figure size 1440x360 with 5 Axes>"
      ]
     },
     "metadata": {
      "needs_background": "light"
     },
     "output_type": "display_data"
    }
   ],
   "source": [
    "proportion_charts_categorical(data.join(target), ['PriceQuality','RoomSpace','CheckOut','Checkin','Cleanliness'], \"Churn\")"
   ]
  },
  {
   "cell_type": "code",
   "execution_count": 34,
   "id": "bc8f2a24",
   "metadata": {},
   "outputs": [
    {
     "data": {
      "text/plain": [
       "Text(0, 0.5, '$Proportion$')"
      ]
     },
     "execution_count": 34,
     "metadata": {},
     "output_type": "execute_result"
    },
    {
     "data": {
      "image/png": "[encoded data removed]",
      "text/plain": [
       "<Figure size 1440x360 with 1 Axes>"
      ]
     },
     "metadata": {
      "needs_background": "light"
     },
     "output_type": "display_data"
    }
   ],
   "source": [
    "df=data.join(target)\n",
    "fig = plt.figure(figsize=(20, 5))\n",
    "cont_tab = pd.crosstab(df['Year_Birth_Bins'], df['Churn'], margins = True)\n",
    "#print(cont_tab)\n",
    "categories = cont_tab.index[:-1]\n",
    "obs_pct = np.array([np.divide(cont_tab.iloc[:-1, 0].values, cont_tab.iloc[:-1, 2].values), \n",
    "                    np.divide(cont_tab.iloc[:-1, 1].values, cont_tab.iloc[:-1, 2].values)])\n",
    "p1 = plt.bar(categories, obs_pct[0], 0.55, color=\"gray\")\n",
    "p2 = plt.bar(categories, obs_pct[1], 0.55, bottom=obs_pct[0], color=\"#AED6F1\")\n",
    "plt.legend((p2[0], p1[0]), ('$y_i=0$', '$y_i=1$'))\n",
    "plt.title(\"Proportion bar chart\")\n",
    "plt.xlabel('Year_Birth')\n",
    "plt.ylabel(\"$Proportion$\")"
   ]
  },
  {
   "cell_type": "markdown",
   "id": "8d15febc",
   "metadata": {},
   "source": [
    "----\n",
    "In order to help us select the variables to use in the model, we'll apply a Stratified K-Fold with different models, mainly:\n",
    "- For Numerical Variables:\n",
    "    - Logistic Regression\n",
    "    - Decision Tree\n",
    "    - Random Forest\n",
    "- For Categorical Variables:\n",
    "    - Chi-Square"
   ]
  },
  {
   "cell_type": "code",
   "execution_count": 35,
   "id": "cbff2f10",
   "metadata": {},
   "outputs": [],
   "source": [
    "from sklearn.tree import DecisionTreeClassifier\n",
    "from sklearn.ensemble import RandomForestClassifier\n",
    "from sklearn.linear_model import LassoCV\n",
    "from sklearn.svm import SVC\n",
    "from sklearn.neural_network import MLPClassifier\n",
    "from sklearn.ensemble import GradientBoostingClassifier\n",
    "from sklearn.naive_bayes import GaussianNB"
   ]
  },
  {
   "cell_type": "code",
   "execution_count": 36,
   "id": "02816268",
   "metadata": {},
   "outputs": [],
   "source": [
    "data.drop(['Rating1','Rating2','Rating3'],axis=1,inplace=True)"
   ]
  },
  {
   "cell_type": "code",
   "execution_count": 37,
   "id": "ba0a4806",
   "metadata": {},
   "outputs": [],
   "source": [
    "num_var = num_var_nbuckes"
   ]
  },
  {
   "cell_type": "code",
   "execution_count": 38,
   "id": "b2a8b60f",
   "metadata": {},
   "outputs": [],
   "source": [
    "def select_best_features(X, y, splits):\n",
    "    sel_log = [0, 0, 0, 0, 0, 0, 0, 0, 0, 0, 0, 0, 0, 0, 0]\n",
    "    sel_tree = [0, 0, 0, 0, 0, 0, 0, 0, 0, 0, 0, 0, 0, 0, 0]\n",
    "    sel_forest = [0, 0, 0, 0, 0, 0, 0, 0, 0, 0, 0, 0, 0, 0, 0]\n",
    "    sel_lasso = [0, 0, 0, 0, 0, 0, 0, 0, 0, 0, 0, 0, 0, 0, 0]\n",
    "    sel_svc = [0, 0, 0, 0, 0, 0, 0, 0, 0, 0, 0, 0, 0, 0, 0]\n",
    "    sel_gb = [0, 0, 0, 0, 0, 0, 0, 0, 0, 0, 0, 0, 0, 0, 0]\n",
    "    sel_gauss = [0, 0, 0, 0, 0, 0, 0, 0, 0, 0, 0, 0, 0, 0, 0]\n",
    "    skf = StratifiedKFold(n_splits =  splits)\n",
    "    counter = 0\n",
    "    for train_index, val_index in skf.split(X, y):\n",
    "        counter +=1\n",
    "        print('')\n",
    "        print('--------------------------------------------------------')\n",
    "        print('SPLIT ', counter)\n",
    "        print('--------------------------------------------------------')\n",
    "        print('')\n",
    "        X_train, X_val = X.iloc[train_index], X.iloc[val_index]\n",
    "        y_train, y_val = y.iloc[train_index], y.iloc[val_index]\n",
    "        \n",
    "        # get all numerical variables\n",
    "        X_train_num = X_train[num_var]\n",
    "        X_val_num = X_val[num_var]\n",
    "        \n",
    "        # get all categorical variables\n",
    "        X_train_cat = X_train[cat_var]\n",
    "        X_val_cat = X_val[cat_var]\n",
    "        \n",
    "        # fill missing values (KNN Imputer for Year of Birth: first variable of numerical variables)\n",
    "        k_imputer = round(np.sqrt(len(X_train_num)),0).astype('int32') # 125\n",
    "        imputer = KNNImputer(n_neighbors=k_imputer, weights=\"uniform\", metric='nan_euclidean')\n",
    "        imputer.fit(X_train_num)\n",
    "        data_KNN_train = imputer.transform(X_train_num)\n",
    "        data_KNN_train = pd.DataFrame(data_KNN_train)\n",
    "        data_KNN_train[0] = data_KNN_train[0].round(0)\n",
    "        X_train_num['Year_Birth'] = data_KNN_train[0].values\n",
    "        # Use Train Imputer for Validation Data\n",
    "        data_KNN_val = imputer.transform(X_val_num)\n",
    "        data_KNN_val = pd.DataFrame(data_KNN_val)\n",
    "        data_KNN_val[0] = data_KNN_val[0].round(0)\n",
    "        X_val_num['Year_Birth'] = data_KNN_val[0].values\n",
    "        \n",
    "        # Apply scaling to numerical data\n",
    "        scaler = MinMaxScaler().fit(X_train_num)\n",
    "        X_train_scaled = pd.DataFrame(scaler.transform(X_train_num), columns = X_train_num.columns, index = X_train_num.index,) # MinMaxScaler in the training data\n",
    "        X_val_scaled = pd.DataFrame(scaler.transform(X_val_num), columns = X_val_num.columns, index = X_val_num.index,) # MinMaxScaler in the validation data\n",
    "        \n",
    "        # Converting every column that is int64 to int8 for performance issues\n",
    "        X_train_scaled.iloc[:,(X_train_scaled.dtypes=='int64').values] = \\\n",
    "        X_train_scaled.iloc[:,(X_train_scaled.dtypes=='int64').values].astype(np.int8)\n",
    "        \n",
    "        X_val_scaled.iloc[:,(X_val_scaled.dtypes=='int64').values] = \\\n",
    "        X_val_scaled.iloc[:,(X_val_scaled.dtypes=='int64').values].astype(np.int8)\n",
    "        \n",
    "        # Check which features to use using RFE and logistic regression\n",
    "        model = LogisticRegression()\n",
    "        rfe = RFE(estimator = model, n_features_to_select = 6)\n",
    "        X_rfe = rfe.fit_transform(X = X_train_scaled, y = y_train)\n",
    "        selected_features = pd.Series(rfe.support_, index = X_train_scaled.columns)\n",
    "        sel_log=np.add(sel_log,list(map(int, selected_features)))\n",
    "        \n",
    "        # Check which features to use using RFE and decision tree\n",
    "        model = DecisionTreeClassifier()\n",
    "        rfe = RFE(estimator = model, n_features_to_select = 6)\n",
    "        X_rfe = rfe.fit_transform(X = X_train_scaled, y = y_train)\n",
    "        selected_features = pd.Series(rfe.support_, index = X_train_scaled.columns)\n",
    "        sel_tree=np.add(sel_tree,list(map(int, selected_features)))\n",
    "        \n",
    "        # Check which features to use using RFE and random forest\n",
    "        model = RandomForestClassifier()\n",
    "        rfe = RFE(estimator = model, n_features_to_select = 6)\n",
    "        X_rfe = rfe.fit_transform(X = X_train_scaled, y = y_train)\n",
    "        selected_features = pd.Series(rfe.support_, index = X_train_scaled.columns)\n",
    "        sel_forest=np.add(sel_forest,list(map(int, selected_features)))\n",
    "        \n",
    "        # Check which features to use using RFE and SVC\n",
    "        model = SVC(kernel=\"linear\")\n",
    "        rfe = RFE(estimator = model, n_features_to_select = 6)\n",
    "        X_rfe = rfe.fit_transform(X = X_train_scaled, y = y_train)\n",
    "        selected_features = pd.Series(rfe.support_, index = X_train_scaled.columns)\n",
    "        sel_svc=np.add(sel_svc,list(map(int, selected_features)))\n",
    "        \n",
    "        # Check which features to use using RFE and GB\n",
    "        model = GradientBoostingClassifier()\n",
    "        rfe = RFE(estimator = model, n_features_to_select = 6)\n",
    "        X_rfe = rfe.fit_transform(X = X_train_scaled, y = y_train)\n",
    "        selected_features = pd.Series(rfe.support_, index = X_train_scaled.columns)\n",
    "        sel_gb=np.add(sel_gb,list(map(int, selected_features)))\n",
    "        \n",
    "        # Check which features to use using RFE and GB\n",
    "#         model = GaussianNB()\n",
    "#         rfe = RFE(estimator = model, n_features_to_select = 5)\n",
    "#         X_rfe = rfe.fit_transform(X = X_train_scaled, y = y_train)\n",
    "#         selected_features = pd.Series(rfe.support_, index = X_train_scaled.columns)\n",
    "#         sel_gauss=np.add(sel_gauss,list(map(int, selected_features)))\n",
    "\n",
    "        #Lasso\n",
    "        reg = LassoCV()\n",
    "        reg.fit(X=X_train_scaled, y=y_train.replace('nochurn',0).replace('churn',1))\n",
    "        print(\"Best alpha using built-in LassoCV: %f\" % reg.alpha_)\n",
    "        print(\"Best score using built-in LassoCV: %f\" %reg.score(X = X_train_scaled,y = y_train.replace('nochurn',0).replace('churn',1)))\n",
    "        coef = pd.Series(reg.coef_, index = X_train_scaled.columns)\n",
    "        sel_lasso=np.add(sel_lasso,coef.values)\n",
    "        \n",
    "        # Check which features to use using Chi-Square\n",
    "        print('')\n",
    "        print('----------------- CHI-SQUARE ----------------------')\n",
    "        def TestIndependence(X,y,var,alpha=0.05):        \n",
    "            dfObserved = pd.crosstab(y,X) \n",
    "            chi2, p, dof, expected = chi2_contingency(dfObserved.values)\n",
    "            dfExpected = pd.DataFrame(expected, columns=dfObserved.columns, index = dfObserved.index)\n",
    "            if p<alpha:\n",
    "                result=\"{0} is IMPORTANT for Prediction\".format(var)\n",
    "            else:\n",
    "                result=\"{0} is NOT important for Prediction. (Discard {0} from model)\".format(var)\n",
    "            print(result)\n",
    "        \n",
    "        for var in X_train_cat:\n",
    "            TestIndependence(X_train_cat[var],y_train, var)\n",
    "    \n",
    "    sel_lasso = sel_lasso/splits\n",
    "            \n",
    "#     final = pd.DataFrame(np.array([sel_log,sel_tree,sel_lasso.round(2)]),\\\n",
    "#                          columns=num_var,index=['Logistic Regression','Decision Tree','Lasso'])\n",
    "            \n",
    "    final = pd.DataFrame(np.array([sel_log,sel_tree,sel_forest,sel_lasso,sel_svc,sel_gb]),\\\n",
    "                         columns=num_var,index=['Logistic Regression','Decision Tree',\\\n",
    "                                                'Random Forest','Lasso','SVC','GB'])\n",
    "            \n",
    "    print(final.T)\n",
    "    "
   ]
  },
  {
   "cell_type": "code",
   "execution_count": 106,
   "id": "b6b2c7c6",
   "metadata": {},
   "outputs": [
    {
     "name": "stdout",
     "output_type": "stream",
     "text": [
      "\n",
      "--------------------------------------------------------\n",
      "SPLIT  1\n",
      "--------------------------------------------------------\n",
      "\n",
      "Best alpha using built-in LassoCV: 0.000106\n",
      "Best score using built-in LassoCV: 0.410520\n",
      "\n",
      "----------------- CHI-SQUARE ----------------------\n",
      "Longevity is IMPORTANT for Prediction\n",
      "TypeTravel is IMPORTANT for Prediction\n",
      "RoomType is IMPORTANT for Prediction\n",
      "RewardPoints_Bins is IMPORTANT for Prediction\n",
      "Gender is IMPORTANT for Prediction\n",
      "\n",
      "--------------------------------------------------------\n",
      "SPLIT  2\n",
      "--------------------------------------------------------\n",
      "\n",
      "Best alpha using built-in LassoCV: 0.000122\n",
      "Best score using built-in LassoCV: 0.408727\n",
      "\n",
      "----------------- CHI-SQUARE ----------------------\n",
      "Longevity is IMPORTANT for Prediction\n",
      "TypeTravel is IMPORTANT for Prediction\n",
      "RoomType is IMPORTANT for Prediction\n",
      "RewardPoints_Bins is IMPORTANT for Prediction\n",
      "Gender is IMPORTANT for Prediction\n",
      "\n",
      "--------------------------------------------------------\n",
      "SPLIT  3\n",
      "--------------------------------------------------------\n",
      "\n",
      "Best alpha using built-in LassoCV: 0.000080\n",
      "Best score using built-in LassoCV: 0.411430\n",
      "\n",
      "----------------- CHI-SQUARE ----------------------\n",
      "Longevity is IMPORTANT for Prediction\n",
      "TypeTravel is IMPORTANT for Prediction\n",
      "RoomType is IMPORTANT for Prediction\n",
      "RewardPoints_Bins is IMPORTANT for Prediction\n",
      "Gender is IMPORTANT for Prediction\n",
      "\n",
      "--------------------------------------------------------\n",
      "SPLIT  4\n",
      "--------------------------------------------------------\n",
      "\n",
      "Best alpha using built-in LassoCV: 0.000161\n",
      "Best score using built-in LassoCV: 0.408237\n",
      "\n",
      "----------------- CHI-SQUARE ----------------------\n",
      "Longevity is IMPORTANT for Prediction\n",
      "TypeTravel is IMPORTANT for Prediction\n",
      "RoomType is IMPORTANT for Prediction\n",
      "RewardPoints_Bins is IMPORTANT for Prediction\n",
      "Gender is IMPORTANT for Prediction\n",
      "\n",
      "--------------------------------------------------------\n",
      "SPLIT  5\n",
      "--------------------------------------------------------\n",
      "\n",
      "Best alpha using built-in LassoCV: 0.000114\n",
      "Best score using built-in LassoCV: 0.409277\n",
      "\n",
      "----------------- CHI-SQUARE ----------------------\n",
      "Longevity is IMPORTANT for Prediction\n",
      "TypeTravel is IMPORTANT for Prediction\n",
      "RoomType is IMPORTANT for Prediction\n",
      "RewardPoints_Bins is IMPORTANT for Prediction\n",
      "Gender is IMPORTANT for Prediction\n",
      "\n",
      "--------------------------------------------------------\n",
      "SPLIT  6\n",
      "--------------------------------------------------------\n",
      "\n",
      "Best alpha using built-in LassoCV: 0.000070\n",
      "Best score using built-in LassoCV: 0.409981\n",
      "\n",
      "----------------- CHI-SQUARE ----------------------\n",
      "Longevity is IMPORTANT for Prediction\n",
      "TypeTravel is IMPORTANT for Prediction\n",
      "RoomType is IMPORTANT for Prediction\n",
      "RewardPoints_Bins is IMPORTANT for Prediction\n",
      "Gender is IMPORTANT for Prediction\n",
      "\n",
      "--------------------------------------------------------\n",
      "SPLIT  7\n",
      "--------------------------------------------------------\n",
      "\n",
      "Best alpha using built-in LassoCV: 0.000151\n",
      "Best score using built-in LassoCV: 0.411753\n",
      "\n",
      "----------------- CHI-SQUARE ----------------------\n",
      "Longevity is IMPORTANT for Prediction\n",
      "TypeTravel is IMPORTANT for Prediction\n",
      "RoomType is IMPORTANT for Prediction\n",
      "RewardPoints_Bins is IMPORTANT for Prediction\n",
      "Gender is IMPORTANT for Prediction\n",
      "\n",
      "--------------------------------------------------------\n",
      "SPLIT  8\n",
      "--------------------------------------------------------\n",
      "\n",
      "Best alpha using built-in LassoCV: 0.000105\n",
      "Best score using built-in LassoCV: 0.404982\n",
      "\n",
      "----------------- CHI-SQUARE ----------------------\n",
      "Longevity is IMPORTANT for Prediction\n",
      "TypeTravel is IMPORTANT for Prediction\n",
      "RoomType is IMPORTANT for Prediction\n",
      "RewardPoints_Bins is IMPORTANT for Prediction\n",
      "Gender is IMPORTANT for Prediction\n",
      "\n",
      "--------------------------------------------------------\n",
      "SPLIT  9\n",
      "--------------------------------------------------------\n",
      "\n",
      "Best alpha using built-in LassoCV: 0.000105\n",
      "Best score using built-in LassoCV: 0.407847\n",
      "\n",
      "----------------- CHI-SQUARE ----------------------\n",
      "Longevity is IMPORTANT for Prediction\n",
      "TypeTravel is IMPORTANT for Prediction\n",
      "RoomType is IMPORTANT for Prediction\n",
      "RewardPoints_Bins is IMPORTANT for Prediction\n",
      "Gender is IMPORTANT for Prediction\n",
      "\n",
      "--------------------------------------------------------\n",
      "SPLIT  10\n",
      "--------------------------------------------------------\n",
      "\n",
      "Best alpha using built-in LassoCV: 0.000131\n",
      "Best score using built-in LassoCV: 0.410288\n",
      "\n",
      "----------------- CHI-SQUARE ----------------------\n",
      "Longevity is IMPORTANT for Prediction\n",
      "TypeTravel is IMPORTANT for Prediction\n",
      "RoomType is IMPORTANT for Prediction\n",
      "RewardPoints_Bins is IMPORTANT for Prediction\n",
      "Gender is IMPORTANT for Prediction\n",
      "                   Logistic Regression  Decision Tree  Random Forest  \\\n",
      "Year_Birth                         0.0           10.0           10.0   \n",
      "Comfort                            0.0           10.0           10.0   \n",
      "ReceptionSchedule                  0.0            8.0            0.0   \n",
      "FoodDrink                          6.0            0.0            0.0   \n",
      "Location                           0.0           10.0            0.0   \n",
      "Wifi                               0.0            0.0            0.0   \n",
      "Amenities                         10.0           10.0           10.0   \n",
      "Staff                              4.0            0.0           10.0   \n",
      "OnlineBooking                     10.0           10.0           10.0   \n",
      "PriceQuality                      10.0            0.0            0.0   \n",
      "RoomSpace                         10.0            0.0           10.0   \n",
      "CheckOut                           0.0            0.0            0.0   \n",
      "Checkin                           10.0            0.0            0.0   \n",
      "Cleanliness                        0.0            0.0            0.0   \n",
      "BarService                         0.0            2.0            0.0   \n",
      "\n",
      "                      Lasso   SVC    GB  \n",
      "Year_Birth         0.085841   0.0   0.0  \n",
      "Comfort           -0.125174   0.0  10.0  \n",
      "ReceptionSchedule  0.136836   2.0   0.0  \n",
      "FoodDrink          0.121049   3.0   0.0  \n",
      "Location          -0.067403   0.0   0.0  \n",
      "Wifi               0.061327   0.0   0.0  \n",
      "Amenities         -0.676109  10.0  10.0  \n",
      "Staff             -0.119468   5.0  10.0  \n",
      "OnlineBooking     -0.277372  10.0  10.0  \n",
      "PriceQuality      -0.197387  10.0  10.0  \n",
      "RoomSpace         -0.217482  10.0  10.0  \n",
      "CheckOut          -0.007647   0.0   0.0  \n",
      "Checkin           -0.150849  10.0   0.0  \n",
      "Cleanliness       -0.000209   0.0   0.0  \n",
      "BarService        -0.064683   0.0   0.0  \n"
     ]
    }
   ],
   "source": [
    "select_best_features(data, target, 10)"
   ]
  },
  {
   "cell_type": "markdown",
   "id": "017964a1",
   "metadata": {},
   "source": [
    "#### Without Ratings"
   ]
  },
  {
   "cell_type": "markdown",
   "id": "b8f168e0",
   "metadata": {},
   "source": [
    "| Predictor | RFE Logistic | RFE Decision Tree | RFE Random Forest | Lasso | SVC | Correlation | GB | Include in the model?\n",
    "| --- | --- | --- | --- |--- | --- | --- | --- | --- |\n",
    "| Year_Birth | Discard | Keep | Keep | Keep? | Discard | Discard | Discard | Keep?\n",
    "| Comfort | Discard | Keep | Keep | Keep | Discard | Discard | Keep | Keep\n",
    "| ReceptionSchedule | Keep? | Discard | Discard | Keep | Discard | Discard | Discard |  Discard\n",
    "| FoodDrink | Discard | Discard | Discard | Keep | Discard | Keep | Discard | Discard \n",
    "| Location | Discard | Keep | Discard | Keep? | Discard | Keep? | Discard | Keep?\n",
    "| Wifi | Keep | Discard | Discard | Keep? | Discard | Discard | Discard | Keep?\n",
    "| Amenities | Keep | Keep | Keep | Keep | Keep | Keep | Keep | Keep\n",
    "| Staff | Discard | Discard | Keep | Keep | Discard | Keep? | Keep | Keep\n",
    "| OnlineBooking | Keep | Keep | Keep | Keep | Keep | Keep? | Keep | Keep\n",
    "| PriceQuality | Keep | Discard | Discard | Keep | Keep? | Discard | Keep? | Keep?\n",
    "| RoomSpace | Keep | Discard | Discard | Keep | Keep | Discard | Keep | Keep\n",
    "| CheckOut | Discard | Discard | Discard | Discard | Discard | Discard | Discard | Discard\n",
    "| CheckIn | Keep | Discard | Discard | Keep? | Discard | Discard | Discard | Discard\n",
    "| Cleanliness | Discard | Discard | Discard | Keep? | Discard | Discard | Discard | Discard\n",
    "| BarService | Discard | Discard | Discard | Keep? | Discard | Discard | Discard | Discard"
   ]
  },
  {
   "cell_type": "markdown",
   "id": "7afac582",
   "metadata": {},
   "source": [
    "#### With Ratings"
   ]
  },
  {
   "cell_type": "markdown",
   "id": "e6344925",
   "metadata": {},
   "source": [
    "| Predictor | RFE Logistic | RFE Decision Tree | RFE Random Forest | Lasso | SVC | Correlation | Include in the model?\n",
    "| --- | --- | --- | --- |--- | --- | --- | --- |\n",
    "| Year_Birth | Discard | Keep | Keep? | Keep? | Discard | Discard |  Keep?\n",
    "| Comfort | Discard | Keep | Keep | Keep | Discard | Discard | Keep\n",
    "| ReceptionSchedule | Discard | Discard | Discard | Keep | Discard | Discard | Discard\n",
    "| FoodDrink | Discard | Discard | Discard | Discard | Discard | Keep |Discard \n",
    "| Location | Discard | Discard | Discard | Discard | Discard | Keep? | Discard\n",
    "| Wifi | Keep | Discard | Discard | Keep? | Keep? | Discard | Keep?\n",
    "| Amenities | Keep | Keep | Keep | Keep | Keep | Keep | Keep\n",
    "| Staff | Discard | Discard | Discard | Keep | Discard | Keep? | Keep?\n",
    "| OnlineBooking | Discard | Discard | Discard | Keep | Keep? | Keep? | Keep?\n",
    "| PriceQuality | Keep | Discard | Discard | Keep | Keep | Discard | Discard\n",
    "| RoomSpace | Keep | Discard | Discard | Keep | Keep | Discard | Keep?\n",
    "| CheckOut | Discard | Discard | Discard | Discard | Discard | Discard | Discard\n",
    "| CheckIn | Discard | Discard | Discard | Keep? | Discard | Discard | Discard\n",
    "| Cleanliness | Discard | Discard | Discard | Keep? | Discard | Discard | Discard\n",
    "| BarService | Discard | Discard | Discard | Discard | Discard | Discard | Discard\n",
    "| Rating1 | Discard | Keep? | Keep? | Discard | Discard | Discard | Discard\n",
    "| Rating2 | Keep | Keep | Keep | Discard | Keep | Keep | Keep?\n",
    "| Rating3 | Discard | Keep | Keep | Discard | Discard | Keep? | Keep?\n"
   ]
  },
  {
   "cell_type": "markdown",
   "id": "6d0cec64",
   "metadata": {},
   "source": [
    "#### Numerical variables to keep\n",
    "- Comfort\n",
    "- Amenities\n",
    "- Rating3 / PriceQuality and RoomSpace\n",
    "- Year_Birth\n",
    "\n",
    "- Rating2 will be discarded since it is clearly influenced by the Amenities variable\n",
    "----\n",
    "#### Categorical variables to keep\n",
    "From the Chi-Square, every single variable was marked as important\n",
    "however, from the weighting of the dependant variable, the variable RewardPoints won't be used"
   ]
  },
  {
   "cell_type": "markdown",
   "id": "ce260158",
   "metadata": {},
   "source": [
    "----\n",
    "# Models"
   ]
  },
  {
   "cell_type": "code",
   "execution_count": 39,
   "id": "f88872ef",
   "metadata": {},
   "outputs": [],
   "source": [
    "def compare_models(X, y, model, splits):\n",
    "    # apply StratifiedK-Fold\n",
    "    skf = StratifiedKFold(n_splits = splits)\n",
    "    score_train = []\n",
    "    score_val = []\n",
    "    for train_index, val_index in skf.split(X, y):\n",
    "        X_train, X_val = X.iloc[train_index], X.iloc[val_index]\n",
    "        y_train, y_val = y.iloc[train_index], y.iloc[val_index]\n",
    "\n",
    "        y_train = y_train.replace('nochurn',0).replace('churn',1)\n",
    "        y_val = y_val.replace('nochurn',0).replace('churn',1)\n",
    "        \n",
    "        catvars = X_train.select_dtypes(exclude=np.number).set_index(X_train.index).columns\n",
    "        # This time we are going to use validation to check overfitting \n",
    "        # so we need also to make all the needed changes in the validation\n",
    "        \n",
    "        # WITH MODE\n",
    "        if 'Year_Birth' in X_train.columns:\n",
    "            mode_year_train = X_train['Year_Birth'].mode()[0]\n",
    "            X_train['Year_Birth'].fillna(mode_year_train, inplace = True)\n",
    "            X_val['Year_Birth'].fillna(mode_year_train, inplace = True)\n",
    "        \n",
    "        # fill missing values (KNN Imputer for Year of Birth: first variable of numerical variables)\n",
    "#         k_imputer = round(np.sqrt(len(X_train[selected_num])),0).astype('int32') # 125\n",
    "#         imputer = KNNImputer(n_neighbors=k_imputer, weights=\"uniform\", metric='nan_euclidean')\n",
    "#         imputer.fit(X_train[selected_num])\n",
    "#         data_KNN_train = imputer.transform(X_train[selected_num])\n",
    "#         data_KNN_train = pd.DataFrame(data_KNN_train)\n",
    "#         data_KNN_train[0] = data_KNN_train[0].round(0)\n",
    "#         X_train['Year_Birth'] = data_KNN_train[0].values\n",
    "#         # Use Train Imputer for Validation Data\n",
    "#         data_KNN_val = imputer.transform(X_val[selected_num])\n",
    "#         data_KNN_val = pd.DataFrame(data_KNN_val)\n",
    "#         data_KNN_val[0] = data_KNN_val[0].round(0)\n",
    "#         X_val['Year_Birth'] = data_KNN_val[0].values\n",
    "        \n",
    "        # Create dummies and remove one of the variables (to avoid multicollinearity)\n",
    "        X_train_dummies = pd.get_dummies(X_train, columns=catvars, drop_first=True)\n",
    "        X_val_dummies = pd.get_dummies(X_val, columns=catvars, drop_first=True)\n",
    "        \n",
    "        # If we don't have all the values in the validation dataset that we have in the train, that column will not be created\n",
    "        # We should assure that all columns in train are also present in validation\n",
    "        # Get missing columns from the training dataset\n",
    "        missing_cols = set(X_train_dummies.columns ) - set(X_val_dummies.columns )\n",
    "        # Add a missing column in test set with default value equal to 0\n",
    "        for c in missing_cols:\n",
    "            X_val_dummies[c] = 0\n",
    "        # Ensure the order of column in the test set is in the same order than in train set\n",
    "        X_val_dummies = X_val_dummies[X_train_dummies.columns]\n",
    "        \n",
    "        # Apply scaling to numerical data\n",
    "        scaler = MinMaxScaler().fit(X_train_dummies)\n",
    "        X_train_scaled = pd.DataFrame(scaler.transform(X_train_dummies), columns = X_train_dummies.columns, index = X_train_dummies.index,) # MinMaxScaler in the training data\n",
    "        X_val_scaled = pd.DataFrame(scaler.transform(X_val_dummies), columns = X_val_dummies.columns, index = X_val_dummies.index,) # MinMaxScaler in the validation data\n",
    "\n",
    "        # Apply model\n",
    "        model.fit(X_train_scaled, y_train)\n",
    "        predictions_train = model.predict(X_train_scaled)\n",
    "        predictions_val = model.predict(X_val_scaled)\n",
    "        score_train.append(f1_score(y_train, predictions_train))\n",
    "        score_val.append(f1_score(y_val, predictions_val))\n",
    "\n",
    "    avg_train = round(np.mean(score_train),3)\n",
    "    avg_val = round(np.mean(score_val),3)\n",
    "    std_train = round(np.std(score_train),2)\n",
    "    std_val = round(np.std(score_val),2)\n",
    "\n",
    "    return str(avg_train) + '+/-' + str(std_train),str(avg_val) + '+/-' + str(std_val)"
   ]
  },
  {
   "cell_type": "code",
   "execution_count": 40,
   "id": "199278dd",
   "metadata": {},
   "outputs": [],
   "source": [
    "def show_results(df, X, y, *args):\n",
    "    \"\"\"\n",
    "    Receive an empty dataframe and the different models and call the function avg_score\n",
    "    \"\"\"\n",
    "    count = 0\n",
    "    # for each model passed as argument\n",
    "    for arg in args:\n",
    "        # obtain the results provided by avg_score\n",
    "        avg_train, avg_test = compare_models(X, y, arg, 5)\n",
    "        # store the results in the right row\n",
    "        df.iloc[count] = avg_train, avg_test\n",
    "        count+=1\n",
    "    \n",
    "    return df"
   ]
  },
  {
   "cell_type": "code",
   "execution_count": 41,
   "id": "295b66bd",
   "metadata": {},
   "outputs": [],
   "source": [
    "from sklearn.svm import SVC\n",
    "from sklearn.neural_network import MLPClassifier\n",
    "from sklearn.ensemble import GradientBoostingClassifier"
   ]
  },
  {
   "cell_type": "markdown",
   "id": "6eda5f9c",
   "metadata": {},
   "source": [
    "##### We tried imputing the missing values with both KNN-Imputer, Median and Mode reaching less overfitting and similar results using the mode or median"
   ]
  },
  {
   "cell_type": "markdown",
   "id": "dd22bffd",
   "metadata": {},
   "source": [
    "- Using Year_Birth or Rating2 Increases the overfitting\n",
    "- Rating3 increases the train and val scores\n",
    "- Both amenities and Confort greatly increase the scores\n",
    "- Using PriceQuality and RoomSpace instead of Rating3 decreases the scores in all models, except RandomForest"
   ]
  },
  {
   "cell_type": "markdown",
   "id": "7c332323",
   "metadata": {},
   "source": [
    "----\n",
    "##### Preparing data for model testing"
   ]
  },
  {
   "cell_type": "code",
   "execution_count": 42,
   "id": "043ce811",
   "metadata": {},
   "outputs": [],
   "source": [
    "data_sel = data[['Longevity','TypeTravel','RoomType','Gender']+\\\n",
    "                ['Comfort','Amenities', 'OnlineBooking','PriceQuality']].copy()\n",
    "#Need to try with PriceQuality and RoomSpace instead of Rating3\n",
    "catvars = data_sel.select_dtypes(exclude=np.number).set_index(data_sel.index).columns\n",
    "# Create dummies and remove one of the variables (to avoid multicollinearity)\n",
    "data_final_dummies = pd.get_dummies(data_sel, columns=catvars, drop_first=True)\n",
    "# Data Scaling\n",
    "# Apply MinMaxScaler\n",
    "scaler = MinMaxScaler().fit(data_final_dummies)\n",
    "data_final_scaled = scaler.transform(data_final_dummies)\n",
    "pd.DataFrame(data_final_scaled).iloc[:,(pd.DataFrame(data_final_scaled).dtypes=='int64').values] = \\\n",
    "pd.DataFrame(data_final_scaled).iloc[:,(pd.DataFrame(data_final_scaled).dtypes=='int64').values].astype(np.int8)"
   ]
  },
  {
   "cell_type": "markdown",
   "id": "e95cf0c6",
   "metadata": {},
   "source": [
    "----\n",
    "##### Grid Search for Decision Tree"
   ]
  },
  {
   "cell_type": "code",
   "execution_count": 43,
   "id": "89d7b84e",
   "metadata": {},
   "outputs": [],
   "source": [
    "from sklearn.model_selection import GridSearchCV"
   ]
  },
  {
   "cell_type": "code",
   "execution_count": 66,
   "id": "128e8e48",
   "metadata": {},
   "outputs": [],
   "source": [
    "parameter_space = {\n",
    "    'criterion': ['gini','entropy','log_loss'],\n",
    "    'splitter':['best','random'],\n",
    "    'min_samples_split':[2,3,4,5],\n",
    "    'min_samples_leaf':[1,2,3],\n",
    "    'max_features': ['auto','sqrt','log2'],\n",
    "}"
   ]
  },
  {
   "cell_type": "code",
   "execution_count": 67,
   "id": "d1cf9b2f",
   "metadata": {},
   "outputs": [],
   "source": [
    "model = DecisionTreeClassifier()"
   ]
  },
  {
   "cell_type": "code",
   "execution_count": 68,
   "id": "1f11e161",
   "metadata": {},
   "outputs": [],
   "source": [
    "clf_dt = GridSearchCV(model, parameter_space)"
   ]
  },
  {
   "cell_type": "code",
   "execution_count": 69,
   "id": "04be8289",
   "metadata": {},
   "outputs": [
    {
     "data": {
      "text/plain": [
       "GridSearchCV(estimator=DecisionTreeClassifier(),\n",
       "             param_grid={'criterion': ['gini', 'entropy', 'log_loss'],\n",
       "                         'max_features': ['auto', 'sqrt', 'log2'],\n",
       "                         'min_samples_leaf': [1, 2, 3],\n",
       "                         'min_samples_split': [2, 3, 4, 5],\n",
       "                         'splitter': ['best', 'random']})"
      ]
     },
     "execution_count": 69,
     "metadata": {},
     "output_type": "execute_result"
    }
   ],
   "source": [
    "clf_dt.fit(data_final_scaled, target)"
   ]
  },
  {
   "cell_type": "code",
   "execution_count": 70,
   "id": "fe35a351",
   "metadata": {
    "scrolled": false
   },
   "outputs": [
    {
     "data": {
      "text/plain": [
       "{'criterion': 'entropy',\n",
       " 'max_features': 'sqrt',\n",
       " 'min_samples_leaf': 1,\n",
       " 'min_samples_split': 4,\n",
       " 'splitter': 'best'}"
      ]
     },
     "execution_count": 70,
     "metadata": {},
     "output_type": "execute_result"
    }
   ],
   "source": [
    "clf_dt.best_params_"
   ]
  },
  {
   "cell_type": "markdown",
   "id": "b7bb78cd",
   "metadata": {},
   "source": [
    "##### Best for:\n",
    "\n",
    "[['Longevity','TypeTravel','RoomType','Gender']+['Comfort','Amenities','Rating3']]\n",
    "\n",
    "{'criterion': 'entropy',\n",
    " 'max_features': 'log2',\n",
    " 'min_samples_leaf': 3,\n",
    " 'min_samples_split': 3,\n",
    " 'splitter': 'best'}\n",
    " \n",
    " DecisionTreeClassifier(criterion= 'entropy',max_features= 'log2',min_samples_leaf= 3,\\\n",
    " min_samples_split= 5, splitter= 'best')"
   ]
  },
  {
   "cell_type": "markdown",
   "id": "2afbabfc",
   "metadata": {},
   "source": [
    "##### Best for:\n",
    "\n",
    "['Longevity','TypeTravel','RoomType','Gender']+['Comfort','Amenities','PriceQuality','RoomSpace','OnlineBooking']\n",
    "\n",
    "{'criterion': 'entropy',\n",
    " 'max_features': 'log2',\n",
    " 'min_samples_leaf': 1,\n",
    " 'min_samples_split': 3,\n",
    " 'splitter': 'best'}\n",
    "\n",
    " DecisionTreeClassifier(criterion= 'entropy',max_features= 'log2',min_samples_leaf= 1,\\\n",
    " min_samples_split= 3, splitter= 'best')"
   ]
  },
  {
   "cell_type": "markdown",
   "id": "36e68597",
   "metadata": {},
   "source": [
    "##### Best for:\n",
    "\n",
    "['Longevity','TypeTravel','RoomType','Gender']+['Comfort', 'ReceptionSchedule', 'Location', 'Amenities', 'Staff', 'OnlineBooking']\n",
    "\n",
    "{'criterion': 'entropy',\n",
    " 'max_features': 'sqrt',\n",
    " 'min_samples_leaf': 1,\n",
    " 'min_samples_split': 2,\n",
    " 'splitter': 'best'}\n",
    "\n",
    " DecisionTreeClassifier(criterion= 'entropy',max_features= 'sqrt',min_samples_leaf= 1,\\\n",
    " min_samples_split= 2, splitter= 'best')"
   ]
  },
  {
   "cell_type": "markdown",
   "id": "f412bad3",
   "metadata": {},
   "source": [
    "##### Best for:\n",
    "\n",
    "['Longevity','TypeTravel','RoomType','Gender']+['Comfort', 'RoomSpace', 'Location', 'Amenities', 'Staff', 'OnlineBooking']\n",
    "\n",
    "{'criterion': 'entropy',\n",
    " 'max_features': 'sqrt',\n",
    " 'min_samples_leaf': 1,\n",
    " 'min_samples_split': 4,\n",
    " 'splitter': 'best'}\n",
    "\n",
    " DecisionTreeClassifier(criterion= 'entropy',max_features= 'sqrt',min_samples_leaf= 1,\\\n",
    " min_samples_split= 4, splitter= 'best')"
   ]
  },
  {
   "cell_type": "markdown",
   "id": "feccbf5a",
   "metadata": {},
   "source": [
    "----\n",
    "##### Grid Search for Random Forest"
   ]
  },
  {
   "cell_type": "code",
   "execution_count": 199,
   "id": "1ff32db9",
   "metadata": {},
   "outputs": [],
   "source": [
    "parameter_space = {\n",
    "    'n_estimators': [50,100,200,300],\n",
    "    'criterion': ['gini','entropy','log_loss'],\n",
    "    'min_samples_split':[2,3,4,5],\n",
    "    'min_samples_leaf':[1,2,3],\n",
    "    'max_features': [None,'sqrt','log2'],\n",
    "}"
   ]
  },
  {
   "cell_type": "code",
   "execution_count": 200,
   "id": "6ba66041",
   "metadata": {},
   "outputs": [],
   "source": [
    "model = RandomForestClassifier()"
   ]
  },
  {
   "cell_type": "code",
   "execution_count": 201,
   "id": "8c7a0397",
   "metadata": {},
   "outputs": [],
   "source": [
    "clf_rf = GridSearchCV(model, parameter_space)"
   ]
  },
  {
   "cell_type": "code",
   "execution_count": 202,
   "id": "9219f2cb",
   "metadata": {},
   "outputs": [
    {
     "data": {
      "text/plain": [
       "GridSearchCV(estimator=RandomForestClassifier(),\n",
       "             param_grid={'criterion': ['gini', 'entropy', 'log_loss'],\n",
       "                         'max_features': [None, 'sqrt', 'log2'],\n",
       "                         'min_samples_leaf': [1, 2, 3],\n",
       "                         'min_samples_split': [2, 3, 4, 5],\n",
       "                         'n_estimators': [50, 100, 200, 300]})"
      ]
     },
     "execution_count": 202,
     "metadata": {},
     "output_type": "execute_result"
    }
   ],
   "source": [
    "clf_rf.fit(data_final_scaled, target)"
   ]
  },
  {
   "cell_type": "code",
   "execution_count": 203,
   "id": "05c66a9c",
   "metadata": {},
   "outputs": [
    {
     "data": {
      "text/plain": [
       "{'criterion': 'gini',\n",
       " 'max_features': 'sqrt',\n",
       " 'min_samples_leaf': 3,\n",
       " 'min_samples_split': 4,\n",
       " 'n_estimators': 50}"
      ]
     },
     "execution_count": 203,
     "metadata": {},
     "output_type": "execute_result"
    }
   ],
   "source": [
    "clf_rf.best_params_"
   ]
  },
  {
   "cell_type": "markdown",
   "id": "ee99c538",
   "metadata": {},
   "source": [
    "##### Best for:\n",
    "\n",
    "[['Longevity','TypeTravel','RoomType','Gender']+['Comfort','Amenities','Rating3']]\n",
    "\n",
    "{'criterion': 'gini',\n",
    " 'max_features': 'sqrt',\n",
    " 'min_samples_leaf': 2,\n",
    " 'min_samples_split': 5,\n",
    " 'n_estimators': 200}\n",
    " \n",
    " RandomForestClassifier(criterion='gini',max_features='sqrt',min_samples_leaf=2,\\\n",
    " min_samples_split=5,n_estimators=200)"
   ]
  },
  {
   "cell_type": "markdown",
   "id": "1aa67fec",
   "metadata": {},
   "source": [
    "##### Best for:\n",
    "\n",
    "['Longevity','TypeTravel','RoomType','Gender']+['Comfort','Amenities','PriceQuality','RoomSpace','OnlineBooking']\n",
    "\n",
    "{'criterion': 'gini',\n",
    " 'max_features': 'log2',\n",
    " 'min_samples_leaf': 3,\n",
    " 'min_samples_split': 3,\n",
    " 'n_estimators': 300}\n",
    " \n",
    " RandomForestClassifier(criterion='gini',max_features='log2',min_samples_leaf=3,\\\n",
    " min_samples_split=3,n_estimators=300)"
   ]
  },
  {
   "cell_type": "markdown",
   "id": "40f9921b",
   "metadata": {},
   "source": [
    "##### Best for:\n",
    "\n",
    "['Longevity','TypeTravel','RoomType','Gender']+['Comfort', 'ReceptionSchedule', 'Location', 'Amenities', 'Staff', 'OnlineBooking']\n",
    "\n",
    "{'criterion': 'gini',\n",
    " 'max_features': 'sqrt',\n",
    " 'min_samples_leaf': 2,\n",
    " 'min_samples_split': 5,\n",
    " 'n_estimators': 50}\n",
    " \n",
    " RandomForestClassifier(criterion='gini',max_features='sqrt',min_samples_leaf=2,\\\n",
    " min_samples_split=5,n_estimators=50)"
   ]
  },
  {
   "cell_type": "markdown",
   "id": "fc87ce51",
   "metadata": {},
   "source": [
    "##### Best for:\n",
    "\n",
    "['Longevity','TypeTravel','RoomType','Gender']+['Comfort', 'RoomSpace', 'Location', 'Amenities', 'Staff', 'OnlineBooking']\n",
    "\n",
    "{'criterion': 'gini',\n",
    " 'max_features': 'log2',\n",
    " 'min_samples_leaf': 2,\n",
    " 'min_samples_split': 2,\n",
    " 'n_estimators': 100}\n",
    " \n",
    " RandomForestClassifier(criterion='gini',max_features='log2',min_samples_leaf=2,\\\n",
    " min_samples_split=2,n_estimators=100)"
   ]
  },
  {
   "cell_type": "markdown",
   "id": "17686e67",
   "metadata": {},
   "source": [
    "##### Best for Base Line:\n",
    "\n",
    "['Longevity','TypeTravel','RoomType','Gender']+['Comfort','Amenities', 'OnlineBooking','PriceQuality']]\n",
    "\n",
    "{'criterion': 'gini',\n",
    " 'max_features': 'sqrt',\n",
    " 'min_samples_leaf': 3,\n",
    " 'min_samples_split': 4,\n",
    " 'n_estimators': 50}\n",
    " \n",
    " RandomForestClassifier(criterion='gini',max_features='sqrt',min_samples_leaf=3,\\\n",
    " min_samples_split=4,n_estimators=50)"
   ]
  },
  {
   "cell_type": "markdown",
   "id": "84e80591",
   "metadata": {},
   "source": [
    "##### Best for Optimal:\n",
    "\n",
    "['Longevity','TypeTravel','RoomType','Gender']+['Comfort','Location', 'Amenities', 'Staff', 'OnlineBooking','PriceQuality']]\n",
    "\n",
    "{'criterion': 'gini',\n",
    " 'max_features': 'sqrt',\n",
    " 'min_samples_leaf': 1,\n",
    " 'min_samples_split': 5,\n",
    " 'n_estimators': 50}\n",
    " \n",
    "  RandomForestClassifier(criterion='gini',max_features='sqrt',min_samples_leaf=1,\\\n",
    " min_samples_split=5,n_estimators=50)"
   ]
  },
  {
   "cell_type": "markdown",
   "id": "67ec9107",
   "metadata": {},
   "source": [
    "----\n",
    "##### Grid Search for Neural Network"
   ]
  },
  {
   "cell_type": "code",
   "execution_count": 204,
   "id": "5f578b18",
   "metadata": {},
   "outputs": [],
   "source": [
    "parameter_space = {\n",
    "    'hidden_layer_sizes': [(50,50,50),(100),(75,75),(75,75,75)],\n",
    "    'activation': ['logistic','tanh', 'relu'],\n",
    "    'solver': ['sgd', 'adam'],\n",
    "    'learning_rate_init': [0.0001, 0.001, 0.01, 0.1]\n",
    "}"
   ]
  },
  {
   "cell_type": "code",
   "execution_count": 205,
   "id": "1b18947e",
   "metadata": {},
   "outputs": [],
   "source": [
    "model = MLPClassifier()"
   ]
  },
  {
   "cell_type": "code",
   "execution_count": 206,
   "id": "00927c8c",
   "metadata": {},
   "outputs": [],
   "source": [
    "clf_nn = GridSearchCV(model, parameter_space)"
   ]
  },
  {
   "cell_type": "code",
   "execution_count": 207,
   "id": "982046c1",
   "metadata": {},
   "outputs": [
    {
     "data": {
      "text/plain": [
       "GridSearchCV(estimator=MLPClassifier(),\n",
       "             param_grid={'activation': ['logistic', 'tanh', 'relu'],\n",
       "                         'hidden_layer_sizes': [(50, 50, 50), 100, (75, 75),\n",
       "                                                (75, 75, 75)],\n",
       "                         'learning_rate_init': [0.0001, 0.001, 0.01, 0.1],\n",
       "                         'solver': ['sgd', 'adam']})"
      ]
     },
     "execution_count": 207,
     "metadata": {},
     "output_type": "execute_result"
    }
   ],
   "source": [
    "clf_nn.fit(data_final_scaled, target)"
   ]
  },
  {
   "cell_type": "code",
   "execution_count": 208,
   "id": "dbb6a8d6",
   "metadata": {
    "scrolled": true
   },
   "outputs": [
    {
     "data": {
      "text/plain": [
       "{'activation': 'relu',\n",
       " 'hidden_layer_sizes': (75, 75, 75),\n",
       " 'learning_rate_init': 0.01,\n",
       " 'solver': 'adam'}"
      ]
     },
     "execution_count": 208,
     "metadata": {},
     "output_type": "execute_result"
    }
   ],
   "source": [
    "clf_nn.best_params_"
   ]
  },
  {
   "cell_type": "markdown",
   "id": "d91e4c75",
   "metadata": {},
   "source": [
    "##### Best for:\n",
    "\n",
    "[['Longevity','TypeTravel','RoomType','Gender']+['Comfort','Amenities','Rating3']]\n",
    "\n",
    "{'activation': 'tanh',\n",
    " 'hidden_layer_sizes': (50, 50, 50),\n",
    " 'learning_rate_init': 0.001,\n",
    " 'solver': 'adam'}\n",
    " \n",
    " MLPClassifier(hidden_layer_sizes=(50,50,50), activation = 'tanh', \\\n",
    "                         solver = 'adam', learning_rate_init = 0.001)"
   ]
  },
  {
   "cell_type": "markdown",
   "id": "228c3401",
   "metadata": {},
   "source": [
    "##### Best for:\n",
    "\n",
    "['Longevity','TypeTravel','RoomType','Gender']+['Comfort','Amenities','PriceQuality','RoomSpace','OnlineBooking']\n",
    "\n",
    "{'activation': 'relu',\n",
    " 'hidden_layer_sizes': (75, 75),\n",
    " 'learning_rate_init': 0.001,\n",
    " 'solver': 'adam'}\n",
    " \n",
    " MLPClassifier(hidden_layer_sizes=(75, 75), activation = 'relu', \\\n",
    "                         solver = 'adam', learning_rate_init = 0.001)"
   ]
  },
  {
   "cell_type": "markdown",
   "id": "8f1eb2e9",
   "metadata": {},
   "source": [
    "##### Best for:\n",
    "\n",
    "['Longevity','TypeTravel','RoomType','Gender']+['Comfort', 'ReceptionSchedule', 'Location', 'Amenities', 'Staff', 'OnlineBooking']\n",
    "\n",
    "{'activation': 'tanh',\n",
    " 'hidden_layer_sizes': (50, 50, 50),\n",
    " 'learning_rate_init': 0.001,\n",
    " 'solver': 'adam'}\n",
    " \n",
    " MLPClassifier(hidden_layer_sizes=(50, 50, 50), activation = 'tanh', solver = 'adam', learning_rate_init = 0.001)"
   ]
  },
  {
   "cell_type": "markdown",
   "id": "cde4a3a8",
   "metadata": {},
   "source": [
    "##### Best for:\n",
    "\n",
    "['Longevity','TypeTravel','RoomType','Gender']+['Comfort', 'RoomSpace', 'Location', 'Amenities', 'Staff', 'OnlineBooking']\n",
    "\n",
    "{'activation': 'tanh',\n",
    " 'hidden_layer_sizes': (50, 50, 50),\n",
    " 'learning_rate_init': 0.001,\n",
    " 'solver': 'adam'}\n",
    " \n",
    " MLPClassifier(hidden_layer_sizes=(50, 50, 50), activation = 'tanh', solver = 'adam', learning_rate_init = 0.001)"
   ]
  },
  {
   "cell_type": "markdown",
   "id": "d0417236",
   "metadata": {},
   "source": [
    "##### Best for:\n",
    "\n",
    "['Longevity','TypeTravel','RoomType','Gender']+['Rating1','Rating2','Rating3','Comfort', 'ReceptionSchedule', 'Location', 'Amenities', 'Staff', 'OnlineBooking']\n",
    "\n",
    "{'activation': 'logistic',\n",
    " 'hidden_layer_sizes': (75, 75),\n",
    " 'learning_rate_init': 0.01,\n",
    " 'solver': 'adam'}\n",
    "\n",
    "MLPClassifier(hidden_layer_sizes=(75, 75), activation = 'logistic', solver = 'adam', learning_rate_init = 0.01)"
   ]
  },
  {
   "cell_type": "markdown",
   "id": "08da76fa",
   "metadata": {},
   "source": [
    "##### Best for Base Line:\n",
    "\n",
    "['Longevity','TypeTravel','RoomType','Gender']+['Comfort','Amenities', 'OnlineBooking','PriceQuality']]\n",
    "\n",
    "{'activation': 'relu',\n",
    " 'hidden_layer_sizes': (75, 75, 75),\n",
    " 'learning_rate_init': 0.01,\n",
    " 'solver': 'adam'}\n",
    " \n",
    " MLPClassifier(hidden_layer_sizes=(75, 75, 75), activation = 'relu', solver = 'adam', learning_rate_init = 0.01)"
   ]
  },
  {
   "cell_type": "markdown",
   "id": "ea5668b5",
   "metadata": {},
   "source": [
    "##### Best for Optimal:\n",
    "\n",
    "['Longevity','TypeTravel','RoomType','Gender']+['Comfort','Location', 'Amenities', 'Staff', 'OnlineBooking','PriceQuality']]\n",
    "\n",
    "{'activation': 'logistic',\n",
    " 'hidden_layer_sizes': (75, 75, 75),\n",
    " 'learning_rate_init': 0.01,\n",
    " 'solver': 'adam'}\n",
    " \n",
    " MLPClassifier(hidden_layer_sizes=(75, 75, 75), activation = 'logistic', solver = 'adam', learning_rate_init = 0.01)"
   ]
  },
  {
   "cell_type": "markdown",
   "id": "bcafa97a",
   "metadata": {},
   "source": [
    "----\n",
    "##### Grid Search Gradient Boosting"
   ]
  },
  {
   "cell_type": "code",
   "execution_count": 44,
   "id": "59101e9a",
   "metadata": {},
   "outputs": [],
   "source": [
    "parameter_space = {\n",
    "    'loss':['log_loss','deviance'],\n",
    "    'learning_rate':[0.08,0.1,0.12,0.14],\n",
    "    'n_estimators':[500,750,1000,1100],\n",
    "    'subsample':[0.5,0.75,1],\n",
    "    'min_samples_leaf':[1,2],\n",
    "    'max_depth':[3,4,5],\n",
    "    'max_features':['auto','sqrt','log2']\n",
    "}"
   ]
  },
  {
   "cell_type": "code",
   "execution_count": 45,
   "id": "87a773a1",
   "metadata": {},
   "outputs": [],
   "source": [
    "model = GradientBoostingClassifier()"
   ]
  },
  {
   "cell_type": "code",
   "execution_count": 46,
   "id": "2f0ea842",
   "metadata": {},
   "outputs": [],
   "source": [
    "clf_gb = GridSearchCV(model, parameter_space)"
   ]
  },
  {
   "cell_type": "code",
   "execution_count": 47,
   "id": "219cff25",
   "metadata": {},
   "outputs": [
    {
     "data": {
      "text/plain": [
       "GridSearchCV(estimator=GradientBoostingClassifier(),\n",
       "             param_grid={'learning_rate': [0.08, 0.1, 0.12, 0.14],\n",
       "                         'loss': ['log_loss', 'deviance'],\n",
       "                         'max_depth': [3, 4, 5],\n",
       "                         'max_features': ['auto', 'sqrt', 'log2'],\n",
       "                         'min_samples_leaf': [1, 2],\n",
       "                         'n_estimators': [500, 750, 1000, 1100],\n",
       "                         'subsample': [0.5, 0.75, 1]})"
      ]
     },
     "execution_count": 47,
     "metadata": {},
     "output_type": "execute_result"
    }
   ],
   "source": [
    "clf_gb.fit(data_final_scaled, target)"
   ]
  },
  {
   "cell_type": "code",
   "execution_count": 48,
   "id": "b3c4774b",
   "metadata": {},
   "outputs": [
    {
     "data": {
      "text/plain": [
       "{'learning_rate': 0.12,\n",
       " 'loss': 'deviance',\n",
       " 'max_depth': 4,\n",
       " 'max_features': 'auto',\n",
       " 'min_samples_leaf': 2,\n",
       " 'n_estimators': 500,\n",
       " 'subsample': 1}"
      ]
     },
     "execution_count": 48,
     "metadata": {},
     "output_type": "execute_result"
    }
   ],
   "source": [
    "clf_gb.best_params_"
   ]
  },
  {
   "cell_type": "markdown",
   "id": "01889d2f",
   "metadata": {},
   "source": [
    "##### Best for:\n",
    "\n",
    "[['Longevity','TypeTravel','RoomType','Gender']+['Comfort','Amenities','Rating3']]\n",
    "\n",
    "{'learning_rate': 0.12,\n",
    " 'loss': 'deviance',\n",
    " 'max_depth': 4,\n",
    " 'max_features': 'sqrt',\n",
    " 'min_samples_leaf': 1,\n",
    " 'n_estimators': 500,\n",
    " 'subsample': 0.5}\n",
    " \n",
    " GradientBoostingClassifier(learning_rate=0.12, loss='deviance',max_depth=4,max_features='sqrt',\\\n",
    " min_samples_leaf=1,n_estimators=500,subsample=0.5)"
   ]
  },
  {
   "cell_type": "markdown",
   "id": "cc78a950",
   "metadata": {},
   "source": [
    "##### Best for:\n",
    "\n",
    "['Longevity','TypeTravel','RoomType','Gender']+['Comfort','Amenities','PriceQuality','RoomSpace','OnlineBooking']\n",
    "\n",
    "{'learning_rate': 0.08,\n",
    " 'loss': 'deviance',\n",
    " 'max_depth': 4,\n",
    " 'max_features': 'log2',\n",
    " 'min_samples_leaf': 1,\n",
    " 'n_estimators': 750,\n",
    " 'subsample': 0.75}\n",
    " \n",
    "GradientBoostingClassifier(learning_rate=0.08, loss='deviance',max_depth=4,max_features='log2',\\\n",
    " min_samples_leaf=1,n_estimators=750,subsample=0.75)"
   ]
  },
  {
   "cell_type": "markdown",
   "id": "534481ab",
   "metadata": {},
   "source": [
    "##### Best for:\n",
    "\n",
    "['Longevity','TypeTravel','RoomType','Gender']+['Comfort', 'ReceptionSchedule', 'Location', 'Amenities', 'Staff', 'OnlineBooking']\n",
    "\n",
    "{'learning_rate': 0.08,\n",
    " 'loss': 'deviance',\n",
    " 'max_depth': 4,\n",
    " 'max_features': 'auto',\n",
    " 'min_samples_leaf': 2,\n",
    " 'n_estimators': 750,\n",
    " 'subsample': 0.75}\n",
    " \n",
    " GradientBoostingClassifier(learning_rate=0.08, loss='deviance',max_depth=4,max_features='auto',\\\n",
    " min_samples_leaf=2,n_estimators=750,subsample=0.75)"
   ]
  },
  {
   "cell_type": "markdown",
   "id": "627b9e58",
   "metadata": {},
   "source": [
    "##### Best for:\n",
    "\n",
    "['Longevity','TypeTravel','RoomType','Gender']+['Comfort', 'RoomSpace', 'Location', 'Amenities', 'Staff', 'OnlineBooking']\n",
    "\n",
    "{'learning_rate': 0.12,\n",
    " 'loss': 'deviance',\n",
    " 'max_depth': 4,\n",
    " 'max_features': 'auto',\n",
    " 'min_samples_leaf': 1,\n",
    " 'n_estimators': 750,\n",
    " 'subsample': 1}\n",
    " \n",
    "GradientBoostingClassifier(learning_rate=0.12, loss='deviance',max_depth=4,max_features='auto',\\\n",
    " min_samples_leaf=1,n_estimators=750,subsample=1)"
   ]
  },
  {
   "cell_type": "markdown",
   "id": "10a9922d",
   "metadata": {},
   "source": [
    "##### Best for Base Line:\n",
    "\n",
    "['Longevity','TypeTravel','RoomType','Gender']+['Comfort','Amenities', 'OnlineBooking','PriceQuality']]\n",
    "\n",
    "{'learning_rate': 0.12,\n",
    " 'loss': 'deviance',\n",
    " 'max_depth': 4,\n",
    " 'max_features': 'auto',\n",
    " 'min_samples_leaf': 2,\n",
    " 'n_estimators': 500,\n",
    " 'subsample': 1}\n",
    " \n",
    " GradientBoostingClassifier(learning_rate=0.12, loss='deviance',max_depth=4,max_features='auto',\\\n",
    " min_samples_leaf=2,n_estimators=500,subsample=1)"
   ]
  },
  {
   "cell_type": "markdown",
   "id": "6c184d7f",
   "metadata": {},
   "source": [
    "##### Best for Optimal:\n",
    "\n",
    "['Longevity','TypeTravel','RoomType','Gender']+['Comfort','Location', 'Amenities', 'Staff', 'OnlineBooking','PriceQuality']]\n",
    "\n"
   ]
  },
  {
   "cell_type": "markdown",
   "id": "5f4b0502",
   "metadata": {},
   "source": [
    "----\n",
    "##### Testing Models"
   ]
  },
  {
   "cell_type": "code",
   "execution_count": 99,
   "id": "9687da24",
   "metadata": {},
   "outputs": [],
   "source": [
    "model_LR = LogisticRegression()\n",
    "model_KNN = KNeighborsClassifier()\n",
    "model_DT = DecisionTreeClassifier(criterion= 'entropy',max_features= 'sqrt',min_samples_leaf= 1,\\\n",
    " min_samples_split= 4, splitter= 'best')\n",
    "model_RF =  RandomForestClassifier(criterion='gini',max_features='log2',min_samples_leaf=2,\\\n",
    " min_samples_split=2,n_estimators=100)\n",
    "model_SVC = SVC(kernel=\"linear\")\n",
    "model_GB = GradientBoostingClassifier(learning_rate=0.12, loss='deviance',max_depth=4,max_features='auto',\\\n",
    " min_samples_leaf=1,n_estimators=750,subsample=1)\n",
    "model_NN = MLPClassifier(hidden_layer_sizes=(75, 75), activation = 'logistic', solver = 'adam', learning_rate_init = 0.01)"
   ]
  },
  {
   "cell_type": "code",
   "execution_count": 173,
   "id": "4b1d0a87",
   "metadata": {},
   "outputs": [
    {
     "data": {
      "text/html": [
       "<div>\n",
       "<style scoped>\n",
       "    .dataframe tbody tr th:only-of-type {\n",
       "        vertical-align: middle;\n",
       "    }\n",
       "\n",
       "    .dataframe tbody tr th {\n",
       "        vertical-align: top;\n",
       "    }\n",
       "\n",
       "    .dataframe thead th {\n",
       "        text-align: right;\n",
       "    }\n",
       "</style>\n",
       "<table border=\"1\" class=\"dataframe\">\n",
       "  <thead>\n",
       "    <tr style=\"text-align: right;\">\n",
       "      <th></th>\n",
       "      <th>Train</th>\n",
       "      <th>Validation</th>\n",
       "    </tr>\n",
       "  </thead>\n",
       "  <tbody>\n",
       "    <tr>\n",
       "      <th>Logistic Regression</th>\n",
       "      <td>0.793+/-0.0</td>\n",
       "      <td>0.792+/-0.01</td>\n",
       "    </tr>\n",
       "    <tr>\n",
       "      <th>KNN</th>\n",
       "      <td>0.907+/-0.0</td>\n",
       "      <td>0.868+/-0.01</td>\n",
       "    </tr>\n",
       "    <tr>\n",
       "      <th>Decision Tree</th>\n",
       "      <td>0.944+/-0.0</td>\n",
       "      <td>0.874+/-0.01</td>\n",
       "    </tr>\n",
       "    <tr>\n",
       "      <th>Random Forest</th>\n",
       "      <td>0.94+/-0.0</td>\n",
       "      <td>0.907+/-0.0</td>\n",
       "    </tr>\n",
       "    <tr>\n",
       "      <th>SVC</th>\n",
       "      <td>0.801+/-0.0</td>\n",
       "      <td>0.799+/-0.0</td>\n",
       "    </tr>\n",
       "    <tr>\n",
       "      <th>GB</th>\n",
       "      <td>0.937+/-0.0</td>\n",
       "      <td>0.908+/-0.0</td>\n",
       "    </tr>\n",
       "    <tr>\n",
       "      <th>NN</th>\n",
       "      <td>0.928+/-0.0</td>\n",
       "      <td>0.896+/-0.01</td>\n",
       "    </tr>\n",
       "  </tbody>\n",
       "</table>\n",
       "</div>"
      ],
      "text/plain": [
       "                           Train    Validation\n",
       "Logistic Regression  0.793+/-0.0  0.792+/-0.01\n",
       "KNN                  0.907+/-0.0  0.868+/-0.01\n",
       "Decision Tree        0.944+/-0.0  0.874+/-0.01\n",
       "Random Forest         0.94+/-0.0   0.907+/-0.0\n",
       "SVC                  0.801+/-0.0   0.799+/-0.0\n",
       "GB                   0.937+/-0.0   0.908+/-0.0\n",
       "NN                   0.928+/-0.0  0.896+/-0.01"
      ]
     },
     "execution_count": 173,
     "metadata": {},
     "output_type": "execute_result"
    }
   ],
   "source": [
    "data_sel = data[['Longevity','TypeTravel','RoomType','Gender','Year_Birth_Bins']+\\\n",
    "                ['Comfort','Amenities','PriceQuality','RoomSpace']].copy()\n",
    "catvars = data_sel.select_dtypes(exclude=np.number).set_index(data_sel.index).columns\n",
    "# Create dummies and remove one of the variables (to avoid multicollinearity)\n",
    "data_final_dummies = pd.get_dummies(data_sel, columns=catvars, drop_first=True)\n",
    "# Data Scaling\n",
    "# Apply MinMaxScaler\n",
    "scaler = MinMaxScaler().fit(data_final_dummies)\n",
    "data_final_scaled = scaler.transform(data_final_dummies)\n",
    "\n",
    "df = pd.DataFrame(columns = ['Train','Validation'], index = ['Logistic Regression','KNN',\\\n",
    "                                                             'Decision Tree','Random Forest','SVC', 'GB','NN'])\n",
    "show_results(df, pd.DataFrame(data_final_scaled), target, model_LR, model_KNN,model_DT,model_RF,model_SVC,model_GB,model_NN)"
   ]
  },
  {
   "cell_type": "markdown",
   "id": "3cb2d375",
   "metadata": {},
   "source": [
    "data[['Longevity','TypeTravel','RoomType','Gender','Year_Birth_Bins']+\\\n",
    "                ['Comfort','Amenities','PriceQuality','RoomSpace']]\n",
    "\n",
    "Train\tValidation\n",
    "Logistic Regression\t0.793+/-0.0\t0.792+/-0.01\n",
    "KNN\t                0.907+/-0.0\t0.868+/-0.01\n",
    "Decision Tree\t    0.944+/-0.0\t0.874+/-0.01\n",
    "Random Forest\t    0.94+/-0.0\t0.907+/-0.0\n",
    "SVC\t\t            0.801+/-0.0\t0.799+/-0.0\n",
    "GB\t\t            0.937+/-0.0\t0.908+/-0.0\n",
    "NN\t\t            0.928+/-0.0\t0.896+/-0.01"
   ]
  },
  {
   "cell_type": "markdown",
   "id": "0c5b07d3",
   "metadata": {},
   "source": [
    "data[['Longevity','TypeTravel','RoomType','Gender']+\\\n",
    "                ['Comfort','Amenities','PriceQuality','RoomSpace']]\n",
    "\n",
    "Train\tValidation\n",
    "Logistic Regression\t0.795+/-0.0\t0.795+/-0.01\n",
    "KNN\t                0.909+/-0.0\t0.885+/-0.0\n",
    "Decision Tree\t    0.91+/-0.0\t0.887+/-0.01\n",
    "Random Forest\t    0.926+/-0.0\t0.905+/-0.0\n",
    "SVC\t                0.801+/-0.0\t0.802+/-0.0\n",
    "GB\t\t            0.92+/-0.0\t0.907+/-0.0\n",
    "NN\t\t            0.913+/-0.0\t0.902+/-0.0\n"
   ]
  },
  {
   "cell_type": "markdown",
   "id": "08526114",
   "metadata": {},
   "source": [
    "----\n",
    "##### New Parameters with selectinon"
   ]
  },
  {
   "cell_type": "code",
   "execution_count": null,
   "id": "520f32e9",
   "metadata": {},
   "outputs": [],
   "source": [
    "model_LR = LogisticRegression()\n",
    "model_KNN = KNeighborsClassifier()\n",
    "model_DT = DecisionTreeClassifier(criterion= 'entropy',max_features= 'sqrt',min_samples_leaf= 1,\\\n",
    " min_samples_split= 4, splitter= 'best')\n",
    "model_RF =  RandomForestClassifier(criterion='gini',max_features='log2',min_samples_leaf=2,\\\n",
    " min_samples_split=2,n_estimators=100)\n",
    "model_SVC = SVC(kernel=\"linear\")\n",
    "model_GB = GradientBoostingClassifier(learning_rate=0.12, loss='deviance',max_depth=4,max_features='auto',\\\n",
    " min_samples_leaf=1,n_estimators=750,subsample=1)\n",
    "model_NN = MLPClassifier(hidden_layer_sizes=(75, 75), activation = 'logistic', solver = 'adam', learning_rate_init = 0.01)"
   ]
  },
  {
   "cell_type": "code",
   "execution_count": 174,
   "id": "4286f68a",
   "metadata": {},
   "outputs": [
    {
     "data": {
      "text/html": [
       "<div>\n",
       "<style scoped>\n",
       "    .dataframe tbody tr th:only-of-type {\n",
       "        vertical-align: middle;\n",
       "    }\n",
       "\n",
       "    .dataframe tbody tr th {\n",
       "        vertical-align: top;\n",
       "    }\n",
       "\n",
       "    .dataframe thead th {\n",
       "        text-align: right;\n",
       "    }\n",
       "</style>\n",
       "<table border=\"1\" class=\"dataframe\">\n",
       "  <thead>\n",
       "    <tr style=\"text-align: right;\">\n",
       "      <th></th>\n",
       "      <th>Train</th>\n",
       "      <th>Validation</th>\n",
       "    </tr>\n",
       "  </thead>\n",
       "  <tbody>\n",
       "    <tr>\n",
       "      <th>Logistic Regression</th>\n",
       "      <td>0.81+/-0.0</td>\n",
       "      <td>0.809+/-0.01</td>\n",
       "    </tr>\n",
       "    <tr>\n",
       "      <th>KNN</th>\n",
       "      <td>0.92+/-0.0</td>\n",
       "      <td>0.89+/-0.01</td>\n",
       "    </tr>\n",
       "    <tr>\n",
       "      <th>Decision Tree</th>\n",
       "      <td>0.966+/-0.0</td>\n",
       "      <td>0.877+/-0.01</td>\n",
       "    </tr>\n",
       "    <tr>\n",
       "      <th>Random Forest</th>\n",
       "      <td>0.972+/-0.0</td>\n",
       "      <td>0.924+/-0.0</td>\n",
       "    </tr>\n",
       "    <tr>\n",
       "      <th>SVC</th>\n",
       "      <td>0.816+/-0.0</td>\n",
       "      <td>0.814+/-0.01</td>\n",
       "    </tr>\n",
       "    <tr>\n",
       "      <th>GB</th>\n",
       "      <td>0.973+/-0.0</td>\n",
       "      <td>0.932+/-0.0</td>\n",
       "    </tr>\n",
       "    <tr>\n",
       "      <th>NN</th>\n",
       "      <td>0.951+/-0.0</td>\n",
       "      <td>0.923+/-0.01</td>\n",
       "    </tr>\n",
       "  </tbody>\n",
       "</table>\n",
       "</div>"
      ],
      "text/plain": [
       "                           Train    Validation\n",
       "Logistic Regression   0.81+/-0.0  0.809+/-0.01\n",
       "KNN                   0.92+/-0.0   0.89+/-0.01\n",
       "Decision Tree        0.966+/-0.0  0.877+/-0.01\n",
       "Random Forest        0.972+/-0.0   0.924+/-0.0\n",
       "SVC                  0.816+/-0.0  0.814+/-0.01\n",
       "GB                   0.973+/-0.0   0.932+/-0.0\n",
       "NN                   0.951+/-0.0  0.923+/-0.01"
      ]
     },
     "execution_count": 174,
     "metadata": {},
     "output_type": "execute_result"
    }
   ],
   "source": [
    "data_sel = data[['Longevity','TypeTravel','RoomType','Gender']+\\\n",
    "                ['Comfort','Checkin','RoomSpace', 'Location', 'Amenities', 'Staff', 'OnlineBooking','Wifi','PriceQuality']].copy()\n",
    "# if 'Year_Birth' in data_sel.columns:\n",
    "#             data_sel_mode = data_sel['Year_Birth'].mode()[0]\n",
    "#             data_sel['Year_Birth'].fillna(data_sel_mode, inplace = True)\n",
    "catvars = data_sel.select_dtypes(exclude=np.number).set_index(data_sel.index).columns\n",
    "# Create dummies and remove one of the variables (to avoid multicollinearity)\n",
    "data_final_dummies = pd.get_dummies(data_sel, columns=catvars, drop_first=True)\n",
    "# Data Scaling\n",
    "# Apply MinMaxScaler\n",
    "scaler = MinMaxScaler().fit(data_final_dummies)\n",
    "data_final_scaled = scaler.transform(data_final_dummies)\n",
    "\n",
    "pd.DataFrame(data_final_scaled).iloc[:,(pd.DataFrame(data_final_scaled).dtypes=='int64').values] = \\\n",
    "pd.DataFrame(data_final_scaled).iloc[:,(pd.DataFrame(data_final_scaled).dtypes=='int64').values].astype(np.int8)\n",
    "\n",
    "df = pd.DataFrame(columns = ['Train','Validation'], index = ['Logistic Regression','KNN',\\\n",
    "                                                             'Decision Tree','Random Forest','SVC', 'GB','NN'])\n",
    "show_results(df, pd.DataFrame(data_final_scaled), target, model_LR, model_KNN,model_DT,model_RF,model_SVC,model_GB,model_NN)"
   ]
  },
  {
   "cell_type": "markdown",
   "id": "ae2f6360",
   "metadata": {},
   "source": [
    "data[['Longevity','TypeTravel','RoomType','Gender','Year_Birth_Bins']+\\\n",
    "                ['Comfort','ReceptionSchedule','Checkin','RoomSpace', 'Location', 'Amenities', 'Staff', 'OnlineBooking']]\n",
    "\n",
    "Train\tValidation\n",
    "Logistic Regression\t0.811+/-0.0\t0.809+/-0.01\n",
    "KNN                 0.914+/-0.0\t0.881+/-0.01\n",
    "Decision Tree\t    0.968+/-0.0\t0.878+/-0.0\n",
    "Random Forest\t    0.974+/-0.0\t0.925+/-0.0\n",
    "SVC                 0.818+/-0.0\t0.816+/-0.01\n",
    "GB                  0.979+/-0.0\t0.933+/-0.0\n",
    "NN                  0.967+/-0.0\t0.918+/-0.0"
   ]
  },
  {
   "cell_type": "markdown",
   "id": "b093c885",
   "metadata": {},
   "source": [
    "data[['Longevity','TypeTravel','RoomType','Gender']+\\\n",
    "                ['Comfort','ReceptionSchedule','Checkin','RoomSpace', 'Location', 'Amenities', 'Staff', 'OnlineBooking']]\n",
    "                \n",
    "Train\tValidation\n",
    "Logistic Regression\t0.809+/-0.0\t0.807+/-0.01\n",
    "KNN                 0.924+/-0.0\t0.895+/-0.0\n",
    "Decision Tree\t    0.966+/-0.0\t0.885+/-0.01\n",
    "Random Forest\t    0.97+/-0.0\t0.928+/-0.0\n",
    "SVC\t                0.817+/-0.0\t0.816+/-0.01\n",
    "GB\t                0.972+/-0.0\t0.931+/-0.01\n",
    "NN\t                0.948+/-0.0\t0.927+/-0.01"
   ]
  },
  {
   "cell_type": "markdown",
   "id": "7fa14a57",
   "metadata": {},
   "source": [
    "data[['Longevity','TypeTravel','RoomType','Gender']+\\\n",
    "                ['Comfort','Checkin','RoomSpace', 'Location', 'Amenities', 'Staff', 'OnlineBooking','Wifi','PriceQuality']]\n",
    "\n",
    "Train\tValidation\n",
    "Logistic Regression\t0.81+/-0.0\t0.809+/-0.01\n",
    "KNN\t                0.92+/-0.0\t0.89+/-0.01\n",
    "Decision Tree\t    0.966+/-0.0\t0.877+/-0.01\n",
    "Random Forest\t    0.972+/-0.0\t0.924+/-0.0\n",
    "SVC\t                0.816+/-0.0\t0.814+/-0.01\n",
    "GB\t                0.973+/-0.0\t0.932+/-0.0\n",
    "NN\t                0.951+/-0.0\t0.923+/-0.01"
   ]
  },
  {
   "cell_type": "markdown",
   "id": "02e45590",
   "metadata": {},
   "source": [
    "----\n",
    "##### New Parameters"
   ]
  },
  {
   "cell_type": "code",
   "execution_count": 175,
   "id": "f2e4995b",
   "metadata": {},
   "outputs": [],
   "source": [
    "model_RF =  RandomForestClassifier()\n",
    "model_GB = GradientBoostingClassifier()\n",
    "model_NN = MLPClassifier()"
   ]
  },
  {
   "cell_type": "code",
   "execution_count": 197,
   "id": "fa98fae7",
   "metadata": {},
   "outputs": [
    {
     "data": {
      "text/html": [
       "<div>\n",
       "<style scoped>\n",
       "    .dataframe tbody tr th:only-of-type {\n",
       "        vertical-align: middle;\n",
       "    }\n",
       "\n",
       "    .dataframe tbody tr th {\n",
       "        vertical-align: top;\n",
       "    }\n",
       "\n",
       "    .dataframe thead th {\n",
       "        text-align: right;\n",
       "    }\n",
       "</style>\n",
       "<table border=\"1\" class=\"dataframe\">\n",
       "  <thead>\n",
       "    <tr style=\"text-align: right;\">\n",
       "      <th></th>\n",
       "      <th>Train</th>\n",
       "      <th>Validation</th>\n",
       "    </tr>\n",
       "  </thead>\n",
       "  <tbody>\n",
       "    <tr>\n",
       "      <th>Random Forest</th>\n",
       "      <td>0.991+/-0.0</td>\n",
       "      <td>0.921+/-0.01</td>\n",
       "    </tr>\n",
       "    <tr>\n",
       "      <th>GB</th>\n",
       "      <td>0.909+/-0.0</td>\n",
       "      <td>0.905+/-0.0</td>\n",
       "    </tr>\n",
       "    <tr>\n",
       "      <th>NN</th>\n",
       "      <td>0.927+/-0.0</td>\n",
       "      <td>0.916+/-0.01</td>\n",
       "    </tr>\n",
       "  </tbody>\n",
       "</table>\n",
       "</div>"
      ],
      "text/plain": [
       "                     Train    Validation\n",
       "Random Forest  0.991+/-0.0  0.921+/-0.01\n",
       "GB             0.909+/-0.0   0.905+/-0.0\n",
       "NN             0.927+/-0.0  0.916+/-0.01"
      ]
     },
     "execution_count": 197,
     "metadata": {},
     "output_type": "execute_result"
    }
   ],
   "source": [
    "data_sel = data[['Longevity','TypeTravel','RoomType','Gender']+\\\n",
    "                ['Comfort','Location', 'Amenities', 'Staff', 'OnlineBooking','PriceQuality','RoomSpace','Wifi']].copy()\n",
    "# if 'Year_Birth' in data_sel.columns:\n",
    "#             data_sel_mode = data_sel['Year_Birth'].mode()[0]\n",
    "#             data_sel['Year_Birth'].fillna(data_sel_mode, inplace = True)\n",
    "catvars = data_sel.select_dtypes(exclude=np.number).set_index(data_sel.index).columns\n",
    "data_final_dummies = pd.get_dummies(data_sel, columns=catvars, drop_first=True)\n",
    "scaler = MinMaxScaler().fit(data_final_dummies)\n",
    "data_final_scaled = scaler.transform(data_final_dummies)\n",
    "\n",
    "pd.DataFrame(data_final_scaled).iloc[:,(pd.DataFrame(data_final_scaled).dtypes=='int64').values] = \\\n",
    "pd.DataFrame(data_final_scaled).iloc[:,(pd.DataFrame(data_final_scaled).dtypes=='int64').values].astype(np.int8)\n",
    "\n",
    "df = pd.DataFrame(columns = ['Train','Validation'], index = ['Random Forest','GB','NN'])\n",
    "show_results(df, pd.DataFrame(data_final_scaled), target, model_RF,model_GB,model_NN)"
   ]
  },
  {
   "cell_type": "markdown",
   "id": "5517a79b",
   "metadata": {},
   "source": [
    "data[['Longevity','TypeTravel','RoomType','Gender']+\\\n",
    "                ['Comfort','Checkin','RoomSpace', 'Location', 'Amenities', 'Staff', 'OnlineBooking','Wifi','PriceQuality']]\n",
    "\n",
    "Train\tValidation\n",
    "Random Forest\t0.998+/-0.0\t0.923+/-0.0\n",
    "GB\t            0.912+/-0.0\t0.908+/-0.0\n",
    "NN          \t0.929+/-0.0\t0.919+/-0.01"
   ]
  },
  {
   "cell_type": "markdown",
   "id": "f118aa00",
   "metadata": {},
   "source": [
    "data[['Longevity','TypeTravel','RoomType','Gender']+\\\n",
    "                ['Comfort','Location', 'Amenities', 'Staff', 'OnlineBooking','Wifi','PriceQuality']]\n",
    "\n",
    "Train\tValidation\n",
    "Random Forest\t0.979+/-0.0\t0.919+/-0.0\n",
    "GB\t            0.908+/-0.0\t0.906+/-0.0\n",
    "NN\t            0.924+/-0.0\t0.916+/-0.01"
   ]
  },
  {
   "cell_type": "markdown",
   "id": "7bd22f37",
   "metadata": {},
   "source": [
    "data[['Longevity','TypeTravel','RoomType','Gender']+\\\n",
    "                ['Comfort','Location', 'Amenities', 'Staff', 'OnlineBooking','PriceQuality']]\n",
    "\n",
    "Train\tValidation\n",
    "Random Forest\t0.975+/-0.0\t0.919+/-0.0\n",
    "GB\t            0.907+/-0.0\t0.904+/-0.0\n",
    "NN\t            0.927+/-0.0\t0.92+/-0.01"
   ]
  },
  {
   "cell_type": "markdown",
   "id": "b1eaa782",
   "metadata": {},
   "source": [
    "data[['Longevity','TypeTravel','RoomType','Gender']+\\\n",
    "                ['Comfort','Location', 'Amenities', 'Staff', 'OnlineBooking','PriceQuality','RoomSpace']]\n",
    "\n",
    "Train\tValidation\n",
    "Random Forest\t0.988+/-0.0\t0.92+/-0.01\n",
    "GB\t            0.909+/-0.0\t0.904+/-0.0\n",
    "NN\t            0.927+/-0.0\t0.918+/-0.01"
   ]
  },
  {
   "cell_type": "markdown",
   "id": "78f35c99",
   "metadata": {},
   "source": [
    "data[['Longevity','TypeTravel','RoomType','Gender']+\\\n",
    "                ['Comfort','Location', 'Amenities', 'Staff', 'OnlineBooking','PriceQuality','Checkin']]\n",
    "\n",
    "Train\tValidation\n",
    "Random Forest\t0.99+/-0.0\t0.923+/-0.01\n",
    "GB\t            0.911+/-0.0\t0.907+/-0.01\n",
    "NN\t            0.928+/-0.0\t0.919+/-0.01"
   ]
  },
  {
   "cell_type": "markdown",
   "id": "04755fc1",
   "metadata": {},
   "source": [
    "data[['Longevity','TypeTravel','RoomType','Gender']+\\\n",
    "                ['Comfort','Amenities', 'Staff', 'OnlineBooking','PriceQuality','RoomSpace']]\n",
    "\n",
    "Train\tValidation\n",
    "Random Forest\t0.968+/-0.0\t0.912+/-0.01\n",
    "GB\t            0.903+/-0.0\t0.899+/-0.0\n",
    "NN\t            0.914+/-0.0\t0.904+/-0.01"
   ]
  },
  {
   "cell_type": "markdown",
   "id": "33bee54d",
   "metadata": {},
   "source": [
    "data[['Longevity','TypeTravel','RoomType','Gender']+\\\n",
    "                ['Comfort','Amenities', 'OnlineBooking','PriceQuality']]\n",
    "\n",
    "Train\tValidation\n",
    "Random Forest\t0.932+/-0.0\t0.907+/-0.01\n",
    "GB\t            0.893+/-0.0\t0.892+/-0.0\n",
    "NN\t            0.903+/-0.0\t0.898+/-0.01"
   ]
  },
  {
   "cell_type": "markdown",
   "id": "83dea158",
   "metadata": {},
   "source": [
    "----\n",
    "#### Base Line"
   ]
  },
  {
   "cell_type": "code",
   "execution_count": 49,
   "id": "b461fc1e",
   "metadata": {},
   "outputs": [],
   "source": [
    "model_RF = RandomForestClassifier(criterion='gini',max_features='sqrt',min_samples_leaf=3,\\\n",
    " min_samples_split=4,n_estimators=500)\n",
    "model_GB = GradientBoostingClassifier(learning_rate=0.12, loss='deviance',max_depth=4,max_features='auto',\\\n",
    " min_samples_leaf=2,n_estimators=500,subsample=1)\n",
    "model_NN = MLPClassifier(hidden_layer_sizes=(75, 75, 75), activation = 'relu', solver = 'adam', learning_rate_init = 0.01)"
   ]
  },
  {
   "cell_type": "code",
   "execution_count": null,
   "id": "8d604a33",
   "metadata": {},
   "outputs": [],
   "source": [
    "data_sel = data[['Longevity','TypeTravel','RoomType','Gender']+\\\n",
    "                ['Comfort','Amenities', 'OnlineBooking','PriceQuality']].copy()\n",
    "# if 'Year_Birth' in data_sel.columns:\n",
    "#             data_sel_mode = data_sel['Year_Birth'].mode()[0]\n",
    "#             data_sel['Year_Birth'].fillna(data_sel_mode, inplace = True)\n",
    "catvars = data_sel.select_dtypes(exclude=np.number).set_index(data_sel.index).columns\n",
    "data_final_dummies = pd.get_dummies(data_sel, columns=catvars, drop_first=True)\n",
    "scaler = MinMaxScaler().fit(data_final_dummies)\n",
    "data_final_scaled = scaler.transform(data_final_dummies)\n",
    "\n",
    "pd.DataFrame(data_final_scaled).iloc[:,(pd.DataFrame(data_final_scaled).dtypes=='int64').values] = \\\n",
    "pd.DataFrame(data_final_scaled).iloc[:,(pd.DataFrame(data_final_scaled).dtypes=='int64').values].astype(np.int8)\n",
    "\n",
    "df = pd.DataFrame(columns = ['Train','Validation'], index = ['Random Forest','GB','NN'])\n",
    "show_results(df, pd.DataFrame(data_final_scaled), target, model_RF,model_GB,model_NN)"
   ]
  },
  {
   "cell_type": "markdown",
   "id": "c57ca4ec",
   "metadata": {},
   "source": [
    "----\n",
    "#### Optimal"
   ]
  },
  {
   "cell_type": "code",
   "execution_count": null,
   "id": "f52d8947",
   "metadata": {},
   "outputs": [],
   "source": [
    "model_RF = RandomForestClassifier(criterion='gini',max_features='sqrt',min_samples_leaf=1,\\\n",
    " min_samples_split=5,n_estimators=50)\n",
    "model_GB = GradientBoostingClassifier()\n",
    "model_NN = MLPClassifier(hidden_layer_sizes=(75, 75, 75), activation = 'logistic', solver = 'adam', learning_rate_init = 0.01)"
   ]
  },
  {
   "cell_type": "code",
   "execution_count": null,
   "id": "44f48b00",
   "metadata": {},
   "outputs": [],
   "source": [
    "data_sel = data[['Longevity','TypeTravel','RoomType','Gender']+\\\n",
    "                ['Comfort','Location', 'Amenities', 'Staff', 'OnlineBooking','PriceQuality']].copy()\n",
    "# if 'Year_Birth' in data_sel.columns:\n",
    "#             data_sel_mode = data_sel['Year_Birth'].mode()[0]\n",
    "#             data_sel['Year_Birth'].fillna(data_sel_mode, inplace = True)\n",
    "catvars = data_sel.select_dtypes(exclude=np.number).set_index(data_sel.index).columns\n",
    "data_final_dummies = pd.get_dummies(data_sel, columns=catvars, drop_first=True)\n",
    "scaler = MinMaxScaler().fit(data_final_dummies)\n",
    "data_final_scaled = scaler.transform(data_final_dummies)\n",
    "\n",
    "pd.DataFrame(data_final_scaled).iloc[:,(pd.DataFrame(data_final_scaled).dtypes=='int64').values] = \\\n",
    "pd.DataFrame(data_final_scaled).iloc[:,(pd.DataFrame(data_final_scaled).dtypes=='int64').values].astype(np.int8)\n",
    "\n",
    "df = pd.DataFrame(columns = ['Train','Validation'], index = ['Random Forest','GB','NN'])\n",
    "show_results(df, pd.DataFrame(data_final_scaled), target, model_RF,model_GB,model_NN)"
   ]
  },
  {
   "cell_type": "code",
   "execution_count": null,
   "id": "8ae9dbdf",
   "metadata": {},
   "outputs": [],
   "source": []
  },
  {
   "cell_type": "code",
   "execution_count": null,
   "id": "eb5fd578",
   "metadata": {},
   "outputs": [],
   "source": []
  },
  {
   "cell_type": "markdown",
   "id": "883eb679",
   "metadata": {},
   "source": [
    "----\n",
    "Replacing 0 for 1 - Score is worst"
   ]
  },
  {
   "cell_type": "code",
   "execution_count": 195,
   "id": "e2598e19",
   "metadata": {},
   "outputs": [],
   "source": [
    "data2 = data.copy()\n",
    "data2['Comfort'] = data2['Comfort'].replace(0,1)\n",
    "data2['ReceptionSchedule'] = data2['ReceptionSchedule'].replace(0,1)\n",
    "data2['FoodDrink'] = data2['FoodDrink'].replace(0,1)\n",
    "data2['Amenities'] = data2['Amenities'].replace(0,1)\n",
    "data2['OnlineBooking'] = data2['OnlineBooking'].replace(0,1)\n",
    "data2['RoomSpace'] = data2['RoomSpace'].replace(0,1)\n",
    "data2['BarService'] = data2['BarService'].replace(0,1)"
   ]
  },
  {
   "cell_type": "code",
   "execution_count": 196,
   "id": "ec846a26",
   "metadata": {},
   "outputs": [
    {
     "data": {
      "text/html": [
       "<div>\n",
       "<style scoped>\n",
       "    .dataframe tbody tr th:only-of-type {\n",
       "        vertical-align: middle;\n",
       "    }\n",
       "\n",
       "    .dataframe tbody tr th {\n",
       "        vertical-align: top;\n",
       "    }\n",
       "\n",
       "    .dataframe thead th {\n",
       "        text-align: right;\n",
       "    }\n",
       "</style>\n",
       "<table border=\"1\" class=\"dataframe\">\n",
       "  <thead>\n",
       "    <tr style=\"text-align: right;\">\n",
       "      <th></th>\n",
       "      <th>Train</th>\n",
       "      <th>Validation</th>\n",
       "    </tr>\n",
       "  </thead>\n",
       "  <tbody>\n",
       "    <tr>\n",
       "      <th>Random Forest</th>\n",
       "      <td>0.97+/-0.0</td>\n",
       "      <td>0.902+/-0.0</td>\n",
       "    </tr>\n",
       "    <tr>\n",
       "      <th>GB</th>\n",
       "      <td>0.894+/-0.0</td>\n",
       "      <td>0.89+/-0.0</td>\n",
       "    </tr>\n",
       "    <tr>\n",
       "      <th>NN</th>\n",
       "      <td>0.912+/-0.0</td>\n",
       "      <td>0.905+/-0.0</td>\n",
       "    </tr>\n",
       "  </tbody>\n",
       "</table>\n",
       "</div>"
      ],
      "text/plain": [
       "                     Train   Validation\n",
       "Random Forest   0.97+/-0.0  0.902+/-0.0\n",
       "GB             0.894+/-0.0   0.89+/-0.0\n",
       "NN             0.912+/-0.0  0.905+/-0.0"
      ]
     },
     "execution_count": 196,
     "metadata": {},
     "output_type": "execute_result"
    }
   ],
   "source": [
    "data_sel = data2[['Longevity','TypeTravel','RoomType','Gender']+\\\n",
    "                ['Comfort','Location', 'Amenities', 'Staff', 'OnlineBooking','PriceQuality']].copy()\n",
    "# if 'Year_Birth' in data_sel.columns:\n",
    "#             data_sel_mode = data_sel['Year_Birth'].mode()[0]\n",
    "#             data_sel['Year_Birth'].fillna(data_sel_mode, inplace = True)\n",
    "catvars = data_sel.select_dtypes(exclude=np.number).set_index(data_sel.index).columns\n",
    "data_final_dummies = pd.get_dummies(data_sel, columns=catvars, drop_first=True)\n",
    "scaler = MinMaxScaler().fit(data_final_dummies)\n",
    "data_final_scaled = scaler.transform(data_final_dummies)\n",
    "\n",
    "pd.DataFrame(data_final_scaled).iloc[:,(pd.DataFrame(data_final_scaled).dtypes=='int64').values] = \\\n",
    "pd.DataFrame(data_final_scaled).iloc[:,(pd.DataFrame(data_final_scaled).dtypes=='int64').values].astype(np.int8)\n",
    "\n",
    "df = pd.DataFrame(columns = ['Train','Validation'], index = ['Random Forest','GB','NN'])\n",
    "show_results(df, pd.DataFrame(data_final_scaled), target, model_RF,model_GB,model_NN)"
   ]
  },
  {
   "cell_type": "markdown",
   "id": "3ac6c9f2",
   "metadata": {},
   "source": [
    "data2[['Longevity','TypeTravel','RoomType','Gender']+\\\n",
    "                ['Comfort','Location', 'Amenities', 'Staff', 'OnlineBooking','PriceQuality']]\n",
    "\n",
    "Train\tValidation\n",
    "Random Forest\t0.97+/-0.0\t0.902+/-0.0\n",
    "GB\t            0.894+/-0.0\t0.89+/-0.0\n",
    "NN\t            0.912+/-0.0\t0.905+/-0.0"
   ]
  },
  {
   "cell_type": "markdown",
   "id": "b1c7f4db",
   "metadata": {},
   "source": [
    "----"
   ]
  },
  {
   "cell_type": "code",
   "execution_count": null,
   "id": "80e63b83",
   "metadata": {},
   "outputs": [],
   "source": []
  },
  {
   "cell_type": "code",
   "execution_count": null,
   "id": "9556d07f",
   "metadata": {},
   "outputs": [],
   "source": []
  },
  {
   "cell_type": "code",
   "execution_count": null,
   "id": "7e016829",
   "metadata": {},
   "outputs": [],
   "source": []
  },
  {
   "cell_type": "code",
   "execution_count": null,
   "id": "257864f3",
   "metadata": {},
   "outputs": [],
   "source": []
  },
  {
   "cell_type": "code",
   "execution_count": null,
   "id": "8d23a89b",
   "metadata": {},
   "outputs": [],
   "source": []
  },
  {
   "cell_type": "code",
   "execution_count": 53,
   "id": "b351e473",
   "metadata": {},
   "outputs": [],
   "source": [
    "from sklearn_genetic import GASearchCV\n",
    "from sklearn_genetic.space import Continuous, Categorical, Integer\n",
    "from sklearn_genetic.plots import plot_fitness_evolution, plot_search_space"
   ]
  },
  {
   "cell_type": "code",
   "execution_count": 54,
   "id": "7f12afaa",
   "metadata": {},
   "outputs": [],
   "source": [
    "clf = RandomForestClassifier()"
   ]
  },
  {
   "cell_type": "code",
   "execution_count": 60,
   "id": "afa3c4f0",
   "metadata": {},
   "outputs": [],
   "source": [
    "param_grid = {\n",
    "    'n_estimators': Integer(200,300),\n",
    "    'min_samples_split':Integer(3,4),\n",
    "    'min_samples_leaf':Integer(2,3),\n",
    "}"
   ]
  },
  {
   "cell_type": "code",
   "execution_count": 61,
   "id": "792afdb7",
   "metadata": {},
   "outputs": [],
   "source": [
    "evolved_estimator = GASearchCV(estimator=clf,\n",
    "                               param_grid=param_grid)"
   ]
  },
  {
   "cell_type": "code",
   "execution_count": null,
   "id": "a581b7de",
   "metadata": {},
   "outputs": [
    {
     "name": "stdout",
     "output_type": "stream",
     "text": [
      "gen\tnevals\tfitness \tfitness_std\tfitness_max\tfitness_min\n",
      "0  \t50    \t0.918972\t0.000402054\t0.9202     \t0.918083   \n",
      "1  \t100   \t0.919293\t0.000388513\t0.9202     \t0.918276   \n",
      "2  \t100   \t0.919442\t0.000336942\t0.9202     \t0.918789   \n",
      "3  \t100   \t0.919494\t0.000326349\t0.920328   \t0.918789   \n",
      "4  \t100   \t0.919553\t0.000331791\t0.9202     \t0.918853   \n",
      "5  \t100   \t0.919559\t0.00033257 \t0.920008   \t0.918725   \n",
      "6  \t100   \t0.919639\t0.00027659 \t0.920008   \t0.918853   \n",
      "7  \t100   \t0.919632\t0.000279312\t0.920457   \t0.918725   \n",
      "8  \t100   \t0.919628\t0.00029054 \t0.920457   \t0.918981   \n",
      "9  \t100   \t0.919669\t0.00026973 \t0.920457   \t0.918917   \n",
      "10 \t100   \t0.919664\t0.000260962\t0.920008   \t0.919045   \n",
      "11 \t100   \t0.919632\t0.000276357\t0.920008   \t0.918917   \n",
      "12 \t100   \t0.919606\t0.000329065\t0.920072   \t0.918725   \n",
      "13 \t100   \t0.919677\t0.000321353\t0.9202     \t0.918917   \n",
      "14 \t100   \t0.919669\t0.000317137\t0.9202     \t0.918981   \n",
      "15 \t100   \t0.919722\t0.000273128\t0.920136   \t0.918917   \n",
      "16 \t100   \t0.919638\t0.000294118\t0.920136   \t0.918981   \n",
      "17 \t100   \t0.919661\t0.0002837  \t0.920136   \t0.918981   \n",
      "18 \t100   \t0.919728\t0.00023613 \t0.920136   \t0.919174   \n",
      "19 \t100   \t0.9197  \t0.000239331\t0.920136   \t0.919174   \n",
      "20 \t100   \t0.919702\t0.000340784\t0.920136   \t0.918661   \n",
      "21 \t100   \t0.919666\t0.000318026\t0.920008   \t0.918981   \n",
      "22 \t100   \t0.919582\t0.000341555\t0.920008   \t0.918661   \n",
      "23 \t100   \t0.919689\t0.000225514\t0.920008   \t0.918981   \n",
      "24 \t100   \t0.91966 \t0.000246151\t0.920008   \t0.919045   \n",
      "25 \t100   \t0.919704\t0.000251021\t0.920136   \t0.919045   \n",
      "26 \t100   \t0.919595\t0.000310883\t0.920008   \t0.918853   \n",
      "27 \t100   \t0.919582\t0.000315506\t0.920008   \t0.918981   \n",
      "28 \t100   \t0.919623\t0.000243089\t0.920008   \t0.918981   \n",
      "29 \t100   \t0.919611\t0.000334472\t0.920264   \t0.918789   \n",
      "30 \t100   \t0.9196  \t0.000339125\t0.920072   \t0.918597   \n",
      "31 \t100   \t0.919643\t0.000270773\t0.920136   \t0.918981   \n",
      "32 \t100   \t0.919687\t0.000290287\t0.920264   \t0.918981   \n",
      "33 \t100   \t0.919619\t0.000312519\t0.920264   \t0.918725   \n",
      "34 \t100   \t0.919689\t0.000284561\t0.920264   \t0.91911    \n",
      "35 \t100   \t0.919673\t0.000339998\t0.920264   \t0.918789   \n",
      "36 \t100   \t0.919646\t0.000392451\t0.920136   \t0.918596   \n",
      "37 \t100   \t0.919724\t0.000340176\t0.920393   \t0.918981   \n",
      "38 \t100   \t0.919755\t0.000391537\t0.920393   \t0.918661   \n",
      "39 \t100   \t0.919764\t0.000327333\t0.920393   \t0.919045   \n",
      "40 \t100   \t0.919702\t0.000396771\t0.920393   \t0.918917   \n",
      "41 \t100   \t0.919663\t0.000372683\t0.920393   \t0.918725   \n",
      "42 \t100   \t0.919779\t0.000390423\t0.920393   \t0.918917   \n",
      "43 \t100   \t0.919759\t0.000360282\t0.920393   \t0.918917   \n",
      "44 \t100   \t0.919729\t0.000336893\t0.920136   \t0.918981   \n",
      "45 \t100   \t0.919657\t0.000334839\t0.920136   \t0.918917   \n",
      "46 \t100   \t0.919719\t0.000279383\t0.920136   \t0.919174   \n",
      "47 \t100   \t0.919666\t0.00034626 \t0.9202     \t0.918981   \n",
      "48 \t100   \t0.919661\t0.000338458\t0.920136   \t0.918917   \n",
      "49 \t100   \t0.919696\t0.000355302\t0.920136   \t0.918917   \n",
      "50 \t100   \t0.919797\t0.000303325\t0.920136   \t0.919238   \n",
      "51 \t100   \t0.919757\t0.000372098\t0.9202     \t0.918917   \n",
      "52 \t100   \t0.919697\t0.000356078\t0.9202     \t0.918853   \n",
      "53 \t100   \t0.919695\t0.000332978\t0.9202     \t0.91911    \n",
      "54 \t100   \t0.919611\t0.000391385\t0.9202     \t0.918468   \n",
      "55 \t100   \t0.919614\t0.000395   \t0.9202     \t0.918404   \n",
      "56 \t100   \t0.919681\t0.000430543\t0.9202     \t0.918853   \n",
      "57 \t100   \t0.91974 \t0.000369764\t0.9202     \t0.918725   \n",
      "58 \t100   \t0.919729\t0.000347001\t0.9202     \t0.918661   \n",
      "59 \t100   \t0.919799\t0.000286529\t0.9202     \t0.918917   \n",
      "60 \t100   \t0.919738\t0.000379059\t0.9202     \t0.918661   \n",
      "61 \t100   \t0.919768\t0.000356181\t0.9202     \t0.918725   \n",
      "62 \t100   \t0.919718\t0.000387693\t0.9202     \t0.918789   \n",
      "63 \t100   \t0.919707\t0.000417972\t0.920328   \t0.918661   \n",
      "64 \t100   \t0.919619\t0.000391527\t0.920328   \t0.918853   \n"
     ]
    }
   ],
   "source": [
    "evolved_estimator.fit(pd.DataFrame(data_final_scaled),target)"
   ]
  },
  {
   "cell_type": "code",
   "execution_count": null,
   "id": "fc9e7fc5",
   "metadata": {},
   "outputs": [],
   "source": [
    "#y_predicy_ga = evolved_estimator.predict(test_final_scaled)\n",
    "#accuracy_score(y_test,y_predicy_ga)"
   ]
  },
  {
   "cell_type": "markdown",
   "id": "8d2405e0",
   "metadata": {},
   "source": [
    "----\n",
    "# Prediction"
   ]
  },
  {
   "cell_type": "code",
   "execution_count": 47,
   "id": "eb78bca5",
   "metadata": {},
   "outputs": [
    {
     "ename": "NameError",
     "evalue": "name 'model_GB' is not defined",
     "output_type": "error",
     "traceback": [
      "\u001b[0;31m---------------------------------------------------------------------------\u001b[0m",
      "\u001b[0;31mNameError\u001b[0m                                 Traceback (most recent call last)",
      "Input \u001b[0;32mIn [47]\u001b[0m, in \u001b[0;36m<cell line: 13>\u001b[0;34m()\u001b[0m\n\u001b[1;32m     10\u001b[0m data_final_scaled \u001b[38;5;241m=\u001b[39m scaler\u001b[38;5;241m.\u001b[39mtransform(data_final_dummies)\n\u001b[1;32m     12\u001b[0m \u001b[38;5;66;03m# Create your final model with exactly the same parameters than your best model during model comparison\u001b[39;00m\n\u001b[0;32m---> 13\u001b[0m final_model \u001b[38;5;241m=\u001b[39m \u001b[43mmodel_GB\u001b[49m\u001b[38;5;241m.\u001b[39mfit(data_final_scaled, target_final)\n",
      "\u001b[0;31mNameError\u001b[0m: name 'model_GB' is not defined"
     ]
    }
   ],
   "source": [
    "data_final = data[['Longevity','TypeTravel','RoomType','Gender']+\\\n",
    "                ['Comfort','Amenities','PriceQuality','RoomSpace','OnlineBooking']].copy()\n",
    "target_final = target.copy()\n",
    "catvars = data_final.select_dtypes(exclude=np.number).set_index(data_final.index).columns\n",
    "# Create dummies and remove one of the variables (to avoid multicollinearity)\n",
    "data_final_dummies = pd.get_dummies(data_final, columns=catvars, drop_first=True)\n",
    "# Data Scaling\n",
    "# Apply MinMaxScaler\n",
    "scaler = MinMaxScaler().fit(data_final_dummies)\n",
    "data_final_scaled = scaler.transform(data_final_dummies)\n",
    "\n",
    "# Create your final model with exactly the same parameters than your best model during model comparison\n",
    "final_model = model_GB.fit(data_final_scaled, target_final)"
   ]
  },
  {
   "cell_type": "code",
   "execution_count": 49,
   "id": "839284f6",
   "metadata": {},
   "outputs": [],
   "source": [
    "test = pd.read_csv('test.csv')"
   ]
  },
  {
   "cell_type": "markdown",
   "id": "9ab2212a",
   "metadata": {},
   "source": [
    "##### Notes I've seen from the test dataset\n",
    "- We have a minimum age of 8 years and max of 81 in the test file\n",
    "- Min 8 and max 86 in the train file"
   ]
  },
  {
   "cell_type": "raw",
   "id": "2f0dff62",
   "metadata": {},
   "source": [
    "test.info()"
   ]
  },
  {
   "cell_type": "raw",
   "id": "15a0e87f",
   "metadata": {},
   "source": [
    "test.describe().T"
   ]
  },
  {
   "cell_type": "raw",
   "id": "5739bac9",
   "metadata": {},
   "source": [
    "test.describe(include='O').T"
   ]
  },
  {
   "cell_type": "code",
   "execution_count": 50,
   "id": "b84c7c94",
   "metadata": {},
   "outputs": [],
   "source": [
    "test['Rating3'] = round((test['PriceQuality'] + test['RoomSpace'] + test['CheckOut']+ test['Checkin']+ test['Cleanliness'])/5,2)\n"
   ]
  },
  {
   "cell_type": "code",
   "execution_count": 51,
   "id": "1c409e84",
   "metadata": {},
   "outputs": [],
   "source": [
    "gender = test['Name'].str.split(' ',expand = True,n=1)[0]\n",
    "test['Gender'] = gender\n",
    "test['Gender'] = test['Gender'].replace('Ms.','F').replace('Mr.','M')\n",
    "test.drop(columns = ['Name'], axis = 1, inplace = True)"
   ]
  },
  {
   "cell_type": "code",
   "execution_count": 52,
   "id": "102dd72e",
   "metadata": {},
   "outputs": [],
   "source": [
    "test_final = test[['Longevity','TypeTravel','RoomType','Gender']+\\\n",
    "                ['Comfort','Amenities','PriceQuality','RoomSpace','OnlineBooking']].copy()\n",
    "\n",
    "catvars = test_final.select_dtypes(exclude=np.number).set_index(test_final.index).columns\n",
    "        \n",
    "# Create dummies and remove one of the variables (to avoid multicollinearity)\n",
    "test_final_dummies = pd.get_dummies(test_final, columns=catvars, drop_first=True)\n",
    "\n",
    "missing_cols = set(data_final_dummies.columns ) - set(test_final_dummies.columns )\n",
    "for c in missing_cols:\n",
    "    test_final_dummies[c] = 0\n",
    "# Ensure the order of column in the test set is in the same order than in train set\n",
    "test_final_dummies = test_final_dummies[data_final_dummies.columns]\n",
    "\n",
    "# Data Scaling\n",
    "# Apply exactly the same MinMaxScaler used before\n",
    "test_final_scaled = scaler.transform(test_final_dummies)"
   ]
  },
  {
   "cell_type": "code",
   "execution_count": 56,
   "id": "8f6d8f03",
   "metadata": {},
   "outputs": [],
   "source": [
    "# Get predictions\n",
    "predictions = final_model.predict(test_final_scaled)\n",
    "\n",
    "# Save the final predictions\n",
    "final_index = test['Cust_ID']\n",
    "answer = pd.DataFrame([final_index, predictions]).T\n",
    "answer.columns = ['Cust_ID','Churn']\n",
    "answer.set_index('Cust_ID', inplace = True)\n",
    "answer['Churn'] = answer['Churn'].replace('nochurn',0).replace('churn',1)\n",
    "answer.to_csv('Group07_Version13.csv')"
   ]
  },
  {
   "cell_type": "markdown",
   "id": "643accc9",
   "metadata": {},
   "source": [
    "We have our final prediction :)"
   ]
  }
 ],
 "metadata": {
  "kernelspec": {
   "display_name": "Python 3 (ipykernel)",
   "language": "python",
   "name": "python3"
  },
  "language_info": {
   "codemirror_mode": {
    "name": "ipython",
    "version": 3
   },
   "file_extension": ".py",
   "mimetype": "text/x-python",
   "name": "python",
   "nbconvert_exporter": "python",
   "pygments_lexer": "ipython3",
   "version": "3.9.12"
  }
 },
 "nbformat": 4,
 "nbformat_minor": 5
}
