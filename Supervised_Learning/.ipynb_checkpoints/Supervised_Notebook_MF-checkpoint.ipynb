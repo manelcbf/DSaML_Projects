{
 "cells": [
  {
   "cell_type": "markdown",
   "id": "fd56bc3c",
   "metadata": {},
   "source": [
    "<h1 id=\"header\">BookMe Company</h1>"
   ]
  },
  {
   "cell_type": "markdown",
   "id": "4483c4c0",
   "metadata": {},
   "source": [
    "### Supervised Project"
   ]
  },
  {
   "cell_type": "code",
   "execution_count": 8,
   "id": "1895b2f7",
   "metadata": {},
   "outputs": [],
   "source": [
    "# Relevant Package Importing\n",
    "import pandas as pd\n",
    "import numpy as np\n",
    "import matplotlib.pyplot as plt\n",
    "import seaborn as sns\n",
    "from sklearn.preprocessing import MinMaxScaler\n",
    "import warnings\n",
    "warnings.filterwarnings('ignore')"
   ]
  },
  {
   "cell_type": "markdown",
   "id": "dc23668a",
   "metadata": {},
   "source": [
    "### Pre-Processing\n",
    "Need to solve nulls in year of birth\n",
    "\n",
    "##### Should we change the nulls of year here or after spliting the data?"
   ]
  },
  {
   "cell_type": "code",
   "execution_count": 9,
   "id": "314e5c5f",
   "metadata": {},
   "outputs": [],
   "source": [
    "#Import Data from cluster.csv\n",
    "db = pd.read_csv('train.csv')\n",
    "db[db.duplicated(keep = False)] # We don't have duplicates\n",
    "# Fill year of brith NAs with median\n",
    "db['Year_Birth'] = db['Year_Birth'].fillna(db['Year_Birth'].median()).astype(int).astype(np.int64)"
   ]
  },
  {
   "cell_type": "code",
   "execution_count": 10,
   "id": "d7bc234a",
   "metadata": {},
   "outputs": [],
   "source": [
    "test = pd.read_csv('test.csv')"
   ]
  },
  {
   "cell_type": "markdown",
   "id": "b7fbed17",
   "metadata": {},
   "source": [
    "##### Replace incorrect performance values"
   ]
  },
  {
   "cell_type": "code",
   "execution_count": 11,
   "id": "b9f5760c",
   "metadata": {},
   "outputs": [],
   "source": [
    "db['Wifi'] = db['Wifi'].replace(6,5)\n",
    "# db['Comfort'] = db['Comfort'].replace(0,1)\n",
    "# db['ReceptionSchedule'] = db['ReceptionSchedule'].replace(0,1)\n",
    "# db['FoodDrink'] = db['FoodDrink'].replace(0,1)\n",
    "# db['Wifi'] = db['Wifi'].replace(0,1).replace(6,5)\n",
    "# db['Amenities'] = db['Amenities'].replace(0,1)\n",
    "# db['OnlineBooking'] = db['OnlineBooking'].replace(0,1)\n",
    "# db['RoomSpace'] = db['RoomSpace'].replace(0,1)\n",
    "# db['BarService'] = db['BarService'].replace(0,1)"
   ]
  },
  {
   "cell_type": "code",
   "execution_count": 12,
   "id": "2be29c74",
   "metadata": {},
   "outputs": [],
   "source": [
    "# test['Comfort'] = test['Comfort'].replace(0,1)\n",
    "# test['ReceptionSchedule'] = test['ReceptionSchedule'].replace(0,1)\n",
    "# test['FoodDrink'] = test['FoodDrink'].replace(0,1)\n",
    "# test['Location'] = test['Location'].replace(0,1)\n",
    "# test['Wifi'] = test['Wifi'].replace(0,1)\n",
    "# test['Amenities'] = test['Amenities'].replace(0,1)\n",
    "# test['OnlineBooking'] = test['OnlineBooking'].replace(0,1)\n",
    "# test['RoomSpace'] = test['RoomSpace'].replace(0,1)\n",
    "# test['BarService'] = test['BarService'].replace(0,1)"
   ]
  },
  {
   "cell_type": "code",
   "execution_count": 13,
   "id": "6316cbe2",
   "metadata": {},
   "outputs": [],
   "source": [
    "# Converting every column that is int64 to int8 for performance issues\n",
    "db.iloc[:,(db.dtypes=='int64').values] = db.iloc[:,(db.dtypes=='int64').values].astype(np.int16)\n",
    "test.iloc[:,(test.dtypes=='int64').values] = test.iloc[:,(test.dtypes=='int64').values].astype(np.int16)"
   ]
  },
  {
   "cell_type": "markdown",
   "id": "d102b149",
   "metadata": {},
   "source": [
    "##### Change Year of Birth with Date"
   ]
  },
  {
   "cell_type": "code",
   "execution_count": 14,
   "id": "8b2b9333",
   "metadata": {},
   "outputs": [],
   "source": [
    "# from datetime import date\n",
    "# db['Age'] = date.today().year - db['Year_Birth']\n",
    "# db.drop(columns = ['Year_Birth'], axis=1, inplace=True)\n",
    "# test['Age'] = date.today().year - test['Year_Birth']\n",
    "# test.drop(columns = ['Year_Birth'], axis=1, inplace=True)"
   ]
  },
  {
   "cell_type": "markdown",
   "id": "41c90545",
   "metadata": {},
   "source": [
    "##### Set Customer ID as Index"
   ]
  },
  {
   "cell_type": "code",
   "execution_count": 15,
   "id": "9c36d4b1",
   "metadata": {},
   "outputs": [],
   "source": [
    "db.set_index('Cust_ID', inplace = True)"
   ]
  },
  {
   "cell_type": "code",
   "execution_count": 16,
   "id": "e01c9332",
   "metadata": {},
   "outputs": [],
   "source": [
    "#db.describe().T"
   ]
  },
  {
   "cell_type": "markdown",
   "id": "9ab2212a",
   "metadata": {},
   "source": [
    "##### Notes from initial pre-processing\n",
    "- We have a minimum age of 8 years and max of 81 in the test file\n",
    "- Min 8 and max 86 in the train file\n",
    "\n",
    "##### We should't make new variables, dummy variables, nor replace categorical values for numerical, since we need the end variables to be the same as the test variables"
   ]
  },
  {
   "cell_type": "code",
   "execution_count": 17,
   "id": "60da7190",
   "metadata": {},
   "outputs": [],
   "source": [
    "db['Longevity'] = db['Longevity'].replace('y','yes') #Yes and y both show as different values, will be changed into \"yes\"\n",
    "# db['Longevity'] = db['Longevity'].replace('yes',1).replace('no',0)\n",
    "# test['Longevity'] = test['Longevity'].replace('yes',1).replace('no',0)"
   ]
  },
  {
   "cell_type": "code",
   "execution_count": 18,
   "id": "d636f0f9",
   "metadata": {},
   "outputs": [],
   "source": [
    "# db['TypeTravel'] = db['TypeTravel'].replace('business',1).replace('leisure',0) #1 will represent business and 0 will represent leisure\n",
    "# test['TypeTravel'] = test['TypeTravel'].replace('business',1).replace('leisure',0)"
   ]
  },
  {
   "cell_type": "code",
   "execution_count": 19,
   "id": "c70f3ed9",
   "metadata": {},
   "outputs": [],
   "source": [
    "# gender = db['Name'].str.split(' ',expand = True,n=1)[0]\n",
    "# db['Gender'] = gender\n",
    "# db['Gender'] = db['Gender'].replace('Ms.',0).replace('Mr.',1)\n",
    "# db.drop(columns = ['Name'], axis = 1, inplace = True)\n",
    "\n",
    "# gender = test['Name'].str.split(' ',expand = True,n=1)[0]\n",
    "# test['Gender'] = gender\n",
    "# test['Gender'] = test['Gender'].replace('Ms.',0).replace('Mr.',1)\n",
    "# test.drop(columns = ['Name'], axis = 1, inplace = True)"
   ]
  },
  {
   "cell_type": "markdown",
   "id": "5fb20e9f",
   "metadata": {},
   "source": [
    "----\n",
    "##### Start Division between Data and Target"
   ]
  },
  {
   "cell_type": "code",
   "execution_count": 20,
   "id": "b471c2c6",
   "metadata": {},
   "outputs": [],
   "source": [
    "data = db.drop(['Churn'], axis=1)\n",
    "target = db['Churn']"
   ]
  },
  {
   "cell_type": "code",
   "execution_count": 21,
   "id": "94c2e52c",
   "metadata": {},
   "outputs": [],
   "source": [
    "#print(target.info())\n",
    "#print(data.info())"
   ]
  },
  {
   "cell_type": "markdown",
   "id": "9acf66ec",
   "metadata": {},
   "source": [
    "##### If we want to use Hold-out method"
   ]
  },
  {
   "cell_type": "code",
   "execution_count": 22,
   "id": "94003557",
   "metadata": {},
   "outputs": [],
   "source": [
    "from sklearn.model_selection import train_test_split"
   ]
  },
  {
   "cell_type": "code",
   "execution_count": 23,
   "id": "e4ac73ef",
   "metadata": {},
   "outputs": [],
   "source": [
    "X_train, X_val, y_train, y_val = train_test_split(data, \n",
    "                                                    target, \n",
    "                                                    test_size=0.2, \n",
    "                                                    random_state=15, \n",
    "                                                    shuffle=True, \n",
    "                                                    stratify=target\n",
    "                                                   )"
   ]
  },
  {
   "cell_type": "code",
   "execution_count": 24,
   "id": "b21612d2",
   "metadata": {},
   "outputs": [
    {
     "name": "stdout",
     "output_type": "stream",
     "text": [
      "train:0.8% | validation:0.2%\n"
     ]
    }
   ],
   "source": [
    "print('train:{}% | validation:{}%'.format(round(len(y_train)/len(target),2),\n",
    "                                                     round(len(y_val)/len(target),2)\n",
    "                                                    ))"
   ]
  },
  {
   "cell_type": "markdown",
   "id": "d5942780",
   "metadata": {},
   "source": [
    "##### Dividing DataSet between Numerical and Categorical data"
   ]
  },
  {
   "cell_type": "code",
   "execution_count": 25,
   "id": "0b7c06e2",
   "metadata": {},
   "outputs": [],
   "source": [
    "# Numerical data\n",
    "X_train_num = X_train.select_dtypes(include=np.number).set_index(X_train.index)\n",
    "X_val_num = X_val.select_dtypes(include=np.number).set_index(X_val.index)\n",
    "\n",
    "# Categorical data\n",
    "X_train_cat = X_train.select_dtypes(exclude=np.number).set_index(X_train.index)\n",
    "X_val_cat = X_val.select_dtypes(exclude=np.number).set_index(X_val.index)"
   ]
  },
  {
   "cell_type": "markdown",
   "id": "7b7d25c4",
   "metadata": {},
   "source": [
    "##### Scaling numerical data between 0 and 1"
   ]
  },
  {
   "cell_type": "code",
   "execution_count": 26,
   "id": "cc10ad41",
   "metadata": {},
   "outputs": [
    {
     "data": {
      "text/html": [
       "<div>\n",
       "<style scoped>\n",
       "    .dataframe tbody tr th:only-of-type {\n",
       "        vertical-align: middle;\n",
       "    }\n",
       "\n",
       "    .dataframe tbody tr th {\n",
       "        vertical-align: top;\n",
       "    }\n",
       "\n",
       "    .dataframe thead th {\n",
       "        text-align: right;\n",
       "    }\n",
       "</style>\n",
       "<table border=\"1\" class=\"dataframe\">\n",
       "  <thead>\n",
       "    <tr style=\"text-align: right;\">\n",
       "      <th></th>\n",
       "      <th>Year_Birth</th>\n",
       "      <th>RewardPoints</th>\n",
       "      <th>Comfort</th>\n",
       "      <th>ReceptionSchedule</th>\n",
       "      <th>FoodDrink</th>\n",
       "      <th>Location</th>\n",
       "      <th>Wifi</th>\n",
       "      <th>Amenities</th>\n",
       "      <th>Staff</th>\n",
       "      <th>OnlineBooking</th>\n",
       "      <th>PriceQuality</th>\n",
       "      <th>RoomSpace</th>\n",
       "      <th>CheckOut</th>\n",
       "      <th>Checkin</th>\n",
       "      <th>Cleanliness</th>\n",
       "      <th>BarService</th>\n",
       "    </tr>\n",
       "    <tr>\n",
       "      <th>Cust_ID</th>\n",
       "      <th></th>\n",
       "      <th></th>\n",
       "      <th></th>\n",
       "      <th></th>\n",
       "      <th></th>\n",
       "      <th></th>\n",
       "      <th></th>\n",
       "      <th></th>\n",
       "      <th></th>\n",
       "      <th></th>\n",
       "      <th></th>\n",
       "      <th></th>\n",
       "      <th></th>\n",
       "      <th></th>\n",
       "      <th></th>\n",
       "      <th></th>\n",
       "    </tr>\n",
       "  </thead>\n",
       "  <tbody>\n",
       "    <tr>\n",
       "      <th>9587</th>\n",
       "      <td>0.846154</td>\n",
       "      <td>0.508026</td>\n",
       "      <td>0.6</td>\n",
       "      <td>0.4</td>\n",
       "      <td>0.6</td>\n",
       "      <td>0.50</td>\n",
       "      <td>0.8</td>\n",
       "      <td>0.8</td>\n",
       "      <td>0.75</td>\n",
       "      <td>0.8</td>\n",
       "      <td>0.75</td>\n",
       "      <td>0.8</td>\n",
       "      <td>1.00</td>\n",
       "      <td>0.50</td>\n",
       "      <td>0.75</td>\n",
       "      <td>0.8</td>\n",
       "    </tr>\n",
       "    <tr>\n",
       "      <th>4281</th>\n",
       "      <td>0.551282</td>\n",
       "      <td>0.695459</td>\n",
       "      <td>0.2</td>\n",
       "      <td>0.2</td>\n",
       "      <td>0.2</td>\n",
       "      <td>0.75</td>\n",
       "      <td>0.2</td>\n",
       "      <td>0.2</td>\n",
       "      <td>0.00</td>\n",
       "      <td>0.6</td>\n",
       "      <td>1.00</td>\n",
       "      <td>0.4</td>\n",
       "      <td>0.75</td>\n",
       "      <td>0.00</td>\n",
       "      <td>0.75</td>\n",
       "      <td>0.2</td>\n",
       "    </tr>\n",
       "    <tr>\n",
       "      <th>6256</th>\n",
       "      <td>0.576923</td>\n",
       "      <td>0.153340</td>\n",
       "      <td>0.6</td>\n",
       "      <td>0.6</td>\n",
       "      <td>0.6</td>\n",
       "      <td>0.50</td>\n",
       "      <td>0.6</td>\n",
       "      <td>0.2</td>\n",
       "      <td>0.00</td>\n",
       "      <td>0.6</td>\n",
       "      <td>1.00</td>\n",
       "      <td>0.8</td>\n",
       "      <td>0.75</td>\n",
       "      <td>0.00</td>\n",
       "      <td>1.00</td>\n",
       "      <td>0.2</td>\n",
       "    </tr>\n",
       "    <tr>\n",
       "      <th>10584</th>\n",
       "      <td>0.358974</td>\n",
       "      <td>0.941752</td>\n",
       "      <td>0.6</td>\n",
       "      <td>1.0</td>\n",
       "      <td>1.0</td>\n",
       "      <td>1.00</td>\n",
       "      <td>0.2</td>\n",
       "      <td>0.6</td>\n",
       "      <td>0.75</td>\n",
       "      <td>0.6</td>\n",
       "      <td>0.50</td>\n",
       "      <td>0.6</td>\n",
       "      <td>0.50</td>\n",
       "      <td>0.50</td>\n",
       "      <td>0.50</td>\n",
       "      <td>0.6</td>\n",
       "    </tr>\n",
       "    <tr>\n",
       "      <th>9339</th>\n",
       "      <td>0.384615</td>\n",
       "      <td>0.912399</td>\n",
       "      <td>1.0</td>\n",
       "      <td>1.0</td>\n",
       "      <td>1.0</td>\n",
       "      <td>1.00</td>\n",
       "      <td>1.0</td>\n",
       "      <td>1.0</td>\n",
       "      <td>0.75</td>\n",
       "      <td>1.0</td>\n",
       "      <td>1.00</td>\n",
       "      <td>1.0</td>\n",
       "      <td>1.00</td>\n",
       "      <td>0.75</td>\n",
       "      <td>1.00</td>\n",
       "      <td>0.6</td>\n",
       "    </tr>\n",
       "  </tbody>\n",
       "</table>\n",
       "</div>"
      ],
      "text/plain": [
       "         Year_Birth  RewardPoints  Comfort  ReceptionSchedule  FoodDrink  \\\n",
       "Cust_ID                                                                    \n",
       "9587       0.846154      0.508026      0.6                0.4        0.6   \n",
       "4281       0.551282      0.695459      0.2                0.2        0.2   \n",
       "6256       0.576923      0.153340      0.6                0.6        0.6   \n",
       "10584      0.358974      0.941752      0.6                1.0        1.0   \n",
       "9339       0.384615      0.912399      1.0                1.0        1.0   \n",
       "\n",
       "         Location  Wifi  Amenities  Staff  OnlineBooking  PriceQuality  \\\n",
       "Cust_ID                                                                  \n",
       "9587         0.50   0.8        0.8   0.75            0.8          0.75   \n",
       "4281         0.75   0.2        0.2   0.00            0.6          1.00   \n",
       "6256         0.50   0.6        0.2   0.00            0.6          1.00   \n",
       "10584        1.00   0.2        0.6   0.75            0.6          0.50   \n",
       "9339         1.00   1.0        1.0   0.75            1.0          1.00   \n",
       "\n",
       "         RoomSpace  CheckOut  Checkin  Cleanliness  BarService  \n",
       "Cust_ID                                                         \n",
       "9587           0.8      1.00     0.50         0.75         0.8  \n",
       "4281           0.4      0.75     0.00         0.75         0.2  \n",
       "6256           0.8      0.75     0.00         1.00         0.2  \n",
       "10584          0.6      0.50     0.50         0.50         0.6  \n",
       "9339           1.0      1.00     0.75         1.00         0.6  "
      ]
     },
     "execution_count": 26,
     "metadata": {},
     "output_type": "execute_result"
    }
   ],
   "source": [
    "scaler = MinMaxScaler()\n",
    "scaler.fit(X_train_num)\n",
    "X_train_num_scaled = scaler.transform(X_train_num) # this will return an array\n",
    "X_train_num_scaled = pd.DataFrame(X_train_num_scaled, columns = X_train_num.columns, index = X_train.index) # Convert the array to a pandas dataframe\n",
    "X_train_num_scaled.head(5)"
   ]
  },
  {
   "cell_type": "code",
   "execution_count": 27,
   "id": "4d541e5b",
   "metadata": {},
   "outputs": [
    {
     "data": {
      "text/html": [
       "<div>\n",
       "<style scoped>\n",
       "    .dataframe tbody tr th:only-of-type {\n",
       "        vertical-align: middle;\n",
       "    }\n",
       "\n",
       "    .dataframe tbody tr th {\n",
       "        vertical-align: top;\n",
       "    }\n",
       "\n",
       "    .dataframe thead th {\n",
       "        text-align: right;\n",
       "    }\n",
       "</style>\n",
       "<table border=\"1\" class=\"dataframe\">\n",
       "  <thead>\n",
       "    <tr style=\"text-align: right;\">\n",
       "      <th></th>\n",
       "      <th>Year_Birth</th>\n",
       "      <th>RewardPoints</th>\n",
       "      <th>Comfort</th>\n",
       "      <th>ReceptionSchedule</th>\n",
       "      <th>FoodDrink</th>\n",
       "      <th>Location</th>\n",
       "      <th>Wifi</th>\n",
       "      <th>Amenities</th>\n",
       "      <th>Staff</th>\n",
       "      <th>OnlineBooking</th>\n",
       "      <th>PriceQuality</th>\n",
       "      <th>RoomSpace</th>\n",
       "      <th>CheckOut</th>\n",
       "      <th>Checkin</th>\n",
       "      <th>Cleanliness</th>\n",
       "      <th>BarService</th>\n",
       "    </tr>\n",
       "    <tr>\n",
       "      <th>Cust_ID</th>\n",
       "      <th></th>\n",
       "      <th></th>\n",
       "      <th></th>\n",
       "      <th></th>\n",
       "      <th></th>\n",
       "      <th></th>\n",
       "      <th></th>\n",
       "      <th></th>\n",
       "      <th></th>\n",
       "      <th></th>\n",
       "      <th></th>\n",
       "      <th></th>\n",
       "      <th></th>\n",
       "      <th></th>\n",
       "      <th></th>\n",
       "      <th></th>\n",
       "    </tr>\n",
       "  </thead>\n",
       "  <tbody>\n",
       "    <tr>\n",
       "      <th>6798</th>\n",
       "      <td>0.346154</td>\n",
       "      <td>0.423024</td>\n",
       "      <td>0.6</td>\n",
       "      <td>0.8</td>\n",
       "      <td>0.8</td>\n",
       "      <td>0.75</td>\n",
       "      <td>0.6</td>\n",
       "      <td>0.6</td>\n",
       "      <td>0.50</td>\n",
       "      <td>0.6</td>\n",
       "      <td>0.50</td>\n",
       "      <td>0.6</td>\n",
       "      <td>0.50</td>\n",
       "      <td>0.25</td>\n",
       "      <td>0.50</td>\n",
       "      <td>0.6</td>\n",
       "    </tr>\n",
       "    <tr>\n",
       "      <th>7661</th>\n",
       "      <td>0.564103</td>\n",
       "      <td>0.753096</td>\n",
       "      <td>0.4</td>\n",
       "      <td>0.4</td>\n",
       "      <td>0.4</td>\n",
       "      <td>0.25</td>\n",
       "      <td>0.8</td>\n",
       "      <td>1.0</td>\n",
       "      <td>1.00</td>\n",
       "      <td>0.8</td>\n",
       "      <td>0.75</td>\n",
       "      <td>0.8</td>\n",
       "      <td>0.75</td>\n",
       "      <td>0.75</td>\n",
       "      <td>0.75</td>\n",
       "      <td>0.6</td>\n",
       "    </tr>\n",
       "    <tr>\n",
       "      <th>5965</th>\n",
       "      <td>0.602564</td>\n",
       "      <td>0.735514</td>\n",
       "      <td>0.6</td>\n",
       "      <td>0.6</td>\n",
       "      <td>0.4</td>\n",
       "      <td>0.50</td>\n",
       "      <td>1.0</td>\n",
       "      <td>0.8</td>\n",
       "      <td>1.00</td>\n",
       "      <td>0.6</td>\n",
       "      <td>0.50</td>\n",
       "      <td>0.6</td>\n",
       "      <td>0.50</td>\n",
       "      <td>0.50</td>\n",
       "      <td>0.50</td>\n",
       "      <td>1.0</td>\n",
       "    </tr>\n",
       "    <tr>\n",
       "      <th>1171</th>\n",
       "      <td>0.974359</td>\n",
       "      <td>0.689344</td>\n",
       "      <td>0.2</td>\n",
       "      <td>0.8</td>\n",
       "      <td>0.2</td>\n",
       "      <td>0.50</td>\n",
       "      <td>0.4</td>\n",
       "      <td>0.2</td>\n",
       "      <td>0.25</td>\n",
       "      <td>0.4</td>\n",
       "      <td>1.00</td>\n",
       "      <td>0.8</td>\n",
       "      <td>0.75</td>\n",
       "      <td>0.75</td>\n",
       "      <td>0.75</td>\n",
       "      <td>0.4</td>\n",
       "    </tr>\n",
       "    <tr>\n",
       "      <th>11840</th>\n",
       "      <td>0.756410</td>\n",
       "      <td>0.604953</td>\n",
       "      <td>0.4</td>\n",
       "      <td>0.4</td>\n",
       "      <td>0.4</td>\n",
       "      <td>0.75</td>\n",
       "      <td>0.8</td>\n",
       "      <td>0.4</td>\n",
       "      <td>0.75</td>\n",
       "      <td>0.8</td>\n",
       "      <td>0.50</td>\n",
       "      <td>1.0</td>\n",
       "      <td>0.75</td>\n",
       "      <td>0.75</td>\n",
       "      <td>1.00</td>\n",
       "      <td>0.8</td>\n",
       "    </tr>\n",
       "  </tbody>\n",
       "</table>\n",
       "</div>"
      ],
      "text/plain": [
       "         Year_Birth  RewardPoints  Comfort  ReceptionSchedule  FoodDrink  \\\n",
       "Cust_ID                                                                    \n",
       "6798       0.346154      0.423024      0.6                0.8        0.8   \n",
       "7661       0.564103      0.753096      0.4                0.4        0.4   \n",
       "5965       0.602564      0.735514      0.6                0.6        0.4   \n",
       "1171       0.974359      0.689344      0.2                0.8        0.2   \n",
       "11840      0.756410      0.604953      0.4                0.4        0.4   \n",
       "\n",
       "         Location  Wifi  Amenities  Staff  OnlineBooking  PriceQuality  \\\n",
       "Cust_ID                                                                  \n",
       "6798         0.75   0.6        0.6   0.50            0.6          0.50   \n",
       "7661         0.25   0.8        1.0   1.00            0.8          0.75   \n",
       "5965         0.50   1.0        0.8   1.00            0.6          0.50   \n",
       "1171         0.50   0.4        0.2   0.25            0.4          1.00   \n",
       "11840        0.75   0.8        0.4   0.75            0.8          0.50   \n",
       "\n",
       "         RoomSpace  CheckOut  Checkin  Cleanliness  BarService  \n",
       "Cust_ID                                                         \n",
       "6798           0.6      0.50     0.25         0.50         0.6  \n",
       "7661           0.8      0.75     0.75         0.75         0.6  \n",
       "5965           0.6      0.50     0.50         0.50         1.0  \n",
       "1171           0.8      0.75     0.75         0.75         0.4  \n",
       "11840          1.0      0.75     0.75         1.00         0.8  "
      ]
     },
     "execution_count": 27,
     "metadata": {},
     "output_type": "execute_result"
    }
   ],
   "source": [
    "X_val_num_scaled = scaler.transform(X_val_num)\n",
    "X_val_num_scaled = pd.DataFrame(X_val_num_scaled, columns = X_val_num.columns, index = X_val.index)\n",
    "X_val_num_scaled.head(5)"
   ]
  },
  {
   "cell_type": "markdown",
   "id": "8633670d",
   "metadata": {},
   "source": [
    "### Feature Selection"
   ]
  },
  {
   "cell_type": "code",
   "execution_count": null,
   "id": "c309294a",
   "metadata": {},
   "outputs": [],
   "source": []
  },
  {
   "cell_type": "markdown",
   "id": "0c94b300",
   "metadata": {},
   "source": [
    "----"
   ]
  },
  {
   "cell_type": "markdown",
   "id": "f5269616",
   "metadata": {},
   "source": [
    "#### Apply Logistic Regression"
   ]
  },
  {
   "cell_type": "code",
   "execution_count": 77,
   "id": "4fd792e4",
   "metadata": {},
   "outputs": [],
   "source": [
    "from sklearn.linear_model import LogisticRegression"
   ]
  },
  {
   "cell_type": "code",
   "execution_count": null,
   "id": "6aa24a5f",
   "metadata": {},
   "outputs": [],
   "source": [
    "log_model = LogisticRegression()\n",
    "log_model.fit(X_train, y_train)"
   ]
  },
  {
   "cell_type": "code",
   "execution_count": null,
   "id": "96400823",
   "metadata": {},
   "outputs": [],
   "source": [
    "print('Train:', log_model.score(X_train, y_train))\n",
    "print('Validation:', log_model.score(X_val, y_val))"
   ]
  },
  {
   "cell_type": "markdown",
   "id": "b63789a4",
   "metadata": {},
   "source": [
    "----"
   ]
  },
  {
   "cell_type": "markdown",
   "id": "193825d5",
   "metadata": {},
   "source": [
    "##### K-Fold Cross Validation"
   ]
  },
  {
   "cell_type": "code",
   "execution_count": null,
   "id": "6826b621",
   "metadata": {},
   "outputs": [],
   "source": [
    "from sklearn.linear_model import LogisticRegression"
   ]
  }
 ],
 "metadata": {
  "kernelspec": {
   "display_name": "Python 3 (ipykernel)",
   "language": "python",
   "name": "python3"
  },
  "language_info": {
   "codemirror_mode": {
    "name": "ipython",
    "version": 3
   },
   "file_extension": ".py",
   "mimetype": "text/x-python",
   "name": "python",
   "nbconvert_exporter": "python",
   "pygments_lexer": "ipython3",
   "version": "3.8.8"
  }
 },
 "nbformat": 4,
 "nbformat_minor": 5
}
