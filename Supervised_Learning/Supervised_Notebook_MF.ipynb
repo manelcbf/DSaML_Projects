{
 "cells": [
  {
   "cell_type": "markdown",
   "id": "fd56bc3c",
   "metadata": {},
   "source": [
    "<h1 id=\"header\">BookMe Company</h1>"
   ]
  },
  {
   "cell_type": "markdown",
   "id": "4483c4c0",
   "metadata": {},
   "source": [
    "### Supervised Project"
   ]
  },
  {
   "cell_type": "code",
   "execution_count": 16,
   "id": "1895b2f7",
   "metadata": {},
   "outputs": [],
   "source": [
    "# Relevant Package Importing\n",
    "import pandas as pd\n",
    "import numpy as np\n",
    "import matplotlib.pyplot as plt\n",
    "import seaborn as sns\n",
    "from sklearn.feature_selection import RFE\n",
    "import scipy.stats as stats\n",
    "from scipy.stats import chi2_contingency\n",
    "# Scaling\n",
    "from sklearn.preprocessing import MinMaxScaler\n",
    "# Models\n",
    "from sklearn.neighbors import KNeighborsClassifier\n",
    "from sklearn.linear_model import LogisticRegression\n",
    "# Model Assessment\n",
    "from sklearn.model_selection import train_test_split\n",
    "from sklearn.model_selection import StratifiedKFold\n",
    "from sklearn.metrics import f1_score\n",
    "import warnings\n",
    "warnings.filterwarnings('ignore')"
   ]
  },
  {
   "cell_type": "markdown",
   "id": "dc23668a",
   "metadata": {},
   "source": [
    "### Pre-Processing\n"
   ]
  },
  {
   "cell_type": "code",
   "execution_count": 17,
   "id": "314e5c5f",
   "metadata": {},
   "outputs": [
    {
     "data": {
      "text/html": [
       "<div>\n",
       "<style scoped>\n",
       "    .dataframe tbody tr th:only-of-type {\n",
       "        vertical-align: middle;\n",
       "    }\n",
       "\n",
       "    .dataframe tbody tr th {\n",
       "        vertical-align: top;\n",
       "    }\n",
       "\n",
       "    .dataframe thead th {\n",
       "        text-align: right;\n",
       "    }\n",
       "</style>\n",
       "<table border=\"1\" class=\"dataframe\">\n",
       "  <thead>\n",
       "    <tr style=\"text-align: right;\">\n",
       "      <th></th>\n",
       "      <th>Cust_ID</th>\n",
       "      <th>Churn</th>\n",
       "      <th>Name</th>\n",
       "      <th>Longevity</th>\n",
       "      <th>Year_Birth</th>\n",
       "      <th>TypeTravel</th>\n",
       "      <th>RoomType</th>\n",
       "      <th>RewardPoints</th>\n",
       "      <th>Comfort</th>\n",
       "      <th>ReceptionSchedule</th>\n",
       "      <th>...</th>\n",
       "      <th>Wifi</th>\n",
       "      <th>Amenities</th>\n",
       "      <th>Staff</th>\n",
       "      <th>OnlineBooking</th>\n",
       "      <th>PriceQuality</th>\n",
       "      <th>RoomSpace</th>\n",
       "      <th>CheckOut</th>\n",
       "      <th>Checkin</th>\n",
       "      <th>Cleanliness</th>\n",
       "      <th>BarService</th>\n",
       "    </tr>\n",
       "  </thead>\n",
       "  <tbody>\n",
       "  </tbody>\n",
       "</table>\n",
       "<p>0 rows × 22 columns</p>\n",
       "</div>"
      ],
      "text/plain": [
       "Empty DataFrame\n",
       "Columns: [Cust_ID, Churn, Name, Longevity, Year_Birth, TypeTravel, RoomType, RewardPoints, Comfort, ReceptionSchedule, FoodDrink, Location, Wifi, Amenities, Staff, OnlineBooking, PriceQuality, RoomSpace, CheckOut, Checkin, Cleanliness, BarService]\n",
       "Index: []\n",
       "\n",
       "[0 rows x 22 columns]"
      ]
     },
     "execution_count": 17,
     "metadata": {},
     "output_type": "execute_result"
    }
   ],
   "source": [
    "#Import Data from cluster.csv\n",
    "db = pd.read_csv('train.csv')\n",
    "db[db.duplicated(keep = False)] # We don't have duplicates"
   ]
  },
  {
   "cell_type": "markdown",
   "id": "58756efd",
   "metadata": {},
   "source": [
    "- There aren't any duplicates in our data"
   ]
  },
  {
   "cell_type": "markdown",
   "id": "41c90545",
   "metadata": {},
   "source": [
    "##### Set Customer ID as Index"
   ]
  },
  {
   "cell_type": "code",
   "execution_count": 18,
   "id": "9c36d4b1",
   "metadata": {},
   "outputs": [],
   "source": [
    "db.set_index('Cust_ID', inplace = True)"
   ]
  },
  {
   "cell_type": "markdown",
   "id": "15e8b245",
   "metadata": {},
   "source": [
    "##### Devide Target from data"
   ]
  },
  {
   "cell_type": "code",
   "execution_count": 19,
   "id": "b471c2c6",
   "metadata": {},
   "outputs": [],
   "source": [
    "data = db.drop(['Churn'], axis=1)\n",
    "target = db['Churn']"
   ]
  },
  {
   "cell_type": "code",
   "execution_count": 20,
   "id": "df7ce65e",
   "metadata": {},
   "outputs": [
    {
     "name": "stdout",
     "output_type": "stream",
     "text": [
      "<class 'pandas.core.frame.DataFrame'>\n",
      "Int64Index: 15589 entries, 1 to 15589\n",
      "Data columns (total 20 columns):\n",
      " #   Column             Non-Null Count  Dtype  \n",
      "---  ------             --------------  -----  \n",
      " 0   Name               15589 non-null  object \n",
      " 1   Longevity          15589 non-null  object \n",
      " 2   Year_Birth         15394 non-null  float64\n",
      " 3   TypeTravel         15589 non-null  object \n",
      " 4   RoomType           15589 non-null  object \n",
      " 5   RewardPoints       15589 non-null  int64  \n",
      " 6   Comfort            15589 non-null  int64  \n",
      " 7   ReceptionSchedule  15589 non-null  int64  \n",
      " 8   FoodDrink          15589 non-null  int64  \n",
      " 9   Location           15589 non-null  int64  \n",
      " 10  Wifi               15589 non-null  int64  \n",
      " 11  Amenities          15589 non-null  int64  \n",
      " 12  Staff              15589 non-null  int64  \n",
      " 13  OnlineBooking      15589 non-null  int64  \n",
      " 14  PriceQuality       15589 non-null  int64  \n",
      " 15  RoomSpace          15589 non-null  int64  \n",
      " 16  CheckOut           15589 non-null  int64  \n",
      " 17  Checkin            15589 non-null  int64  \n",
      " 18  Cleanliness        15589 non-null  int64  \n",
      " 19  BarService         15589 non-null  int64  \n",
      "dtypes: float64(1), int64(15), object(4)\n",
      "memory usage: 2.5+ MB\n"
     ]
    }
   ],
   "source": [
    "data.info()"
   ]
  },
  {
   "cell_type": "markdown",
   "id": "aa8ab3e5",
   "metadata": {},
   "source": [
    "Data types:\n",
    "- We'll need to change the data types of all the int64 to int4 or int8 after normalization\n",
    "- We have nulls in the year of birth variable"
   ]
  },
  {
   "cell_type": "code",
   "execution_count": 21,
   "id": "ec7df389",
   "metadata": {},
   "outputs": [
    {
     "data": {
      "text/html": [
       "<div>\n",
       "<style scoped>\n",
       "    .dataframe tbody tr th:only-of-type {\n",
       "        vertical-align: middle;\n",
       "    }\n",
       "\n",
       "    .dataframe tbody tr th {\n",
       "        vertical-align: top;\n",
       "    }\n",
       "\n",
       "    .dataframe thead th {\n",
       "        text-align: right;\n",
       "    }\n",
       "</style>\n",
       "<table border=\"1\" class=\"dataframe\">\n",
       "  <thead>\n",
       "    <tr style=\"text-align: right;\">\n",
       "      <th></th>\n",
       "      <th>count</th>\n",
       "      <th>mean</th>\n",
       "      <th>std</th>\n",
       "      <th>min</th>\n",
       "      <th>25%</th>\n",
       "      <th>50%</th>\n",
       "      <th>75%</th>\n",
       "      <th>max</th>\n",
       "      <th>var</th>\n",
       "      <th>skew</th>\n",
       "      <th>kurt</th>\n",
       "    </tr>\n",
       "  </thead>\n",
       "  <tbody>\n",
       "    <tr>\n",
       "      <th>Year_Birth</th>\n",
       "      <td>15394.0</td>\n",
       "      <td>1981.706444</td>\n",
       "      <td>15.179042</td>\n",
       "      <td>1936.0</td>\n",
       "      <td>1970.0</td>\n",
       "      <td>1981.0</td>\n",
       "      <td>1994.0</td>\n",
       "      <td>2014.0</td>\n",
       "      <td>2.304033e+02</td>\n",
       "      <td>-0.003847</td>\n",
       "      <td>-0.729800</td>\n",
       "    </tr>\n",
       "    <tr>\n",
       "      <th>RewardPoints</th>\n",
       "      <td>15589.0</td>\n",
       "      <td>5022.593816</td>\n",
       "      <td>1027.962379</td>\n",
       "      <td>409.0</td>\n",
       "      <td>4445.0</td>\n",
       "      <td>5088.0</td>\n",
       "      <td>5649.0</td>\n",
       "      <td>6950.0</td>\n",
       "      <td>1.056707e+06</td>\n",
       "      <td>-0.453779</td>\n",
       "      <td>0.260135</td>\n",
       "    </tr>\n",
       "    <tr>\n",
       "      <th>Comfort</th>\n",
       "      <td>15589.0</td>\n",
       "      <td>2.841619</td>\n",
       "      <td>1.388624</td>\n",
       "      <td>0.0</td>\n",
       "      <td>2.0</td>\n",
       "      <td>3.0</td>\n",
       "      <td>4.0</td>\n",
       "      <td>5.0</td>\n",
       "      <td>1.928275e+00</td>\n",
       "      <td>-0.100907</td>\n",
       "      <td>-0.935544</td>\n",
       "    </tr>\n",
       "    <tr>\n",
       "      <th>ReceptionSchedule</th>\n",
       "      <td>15589.0</td>\n",
       "      <td>2.997242</td>\n",
       "      <td>1.518994</td>\n",
       "      <td>0.0</td>\n",
       "      <td>2.0</td>\n",
       "      <td>3.0</td>\n",
       "      <td>4.0</td>\n",
       "      <td>5.0</td>\n",
       "      <td>2.307344e+00</td>\n",
       "      <td>-0.260705</td>\n",
       "      <td>-1.077243</td>\n",
       "    </tr>\n",
       "    <tr>\n",
       "      <th>FoodDrink</th>\n",
       "      <td>15589.0</td>\n",
       "      <td>2.844570</td>\n",
       "      <td>1.436948</td>\n",
       "      <td>0.0</td>\n",
       "      <td>2.0</td>\n",
       "      <td>3.0</td>\n",
       "      <td>4.0</td>\n",
       "      <td>5.0</td>\n",
       "      <td>2.064819e+00</td>\n",
       "      <td>-0.123610</td>\n",
       "      <td>-0.967047</td>\n",
       "    </tr>\n",
       "    <tr>\n",
       "      <th>Location</th>\n",
       "      <td>15589.0</td>\n",
       "      <td>2.986016</td>\n",
       "      <td>1.299438</td>\n",
       "      <td>1.0</td>\n",
       "      <td>2.0</td>\n",
       "      <td>3.0</td>\n",
       "      <td>4.0</td>\n",
       "      <td>5.0</td>\n",
       "      <td>1.688539e+00</td>\n",
       "      <td>-0.050229</td>\n",
       "      <td>-1.076583</td>\n",
       "    </tr>\n",
       "    <tr>\n",
       "      <th>Wifi</th>\n",
       "      <td>15589.0</td>\n",
       "      <td>3.245109</td>\n",
       "      <td>1.327026</td>\n",
       "      <td>0.0</td>\n",
       "      <td>2.0</td>\n",
       "      <td>3.0</td>\n",
       "      <td>4.0</td>\n",
       "      <td>6.0</td>\n",
       "      <td>1.760998e+00</td>\n",
       "      <td>-0.171255</td>\n",
       "      <td>-1.111251</td>\n",
       "    </tr>\n",
       "    <tr>\n",
       "      <th>Amenities</th>\n",
       "      <td>15589.0</td>\n",
       "      <td>3.374816</td>\n",
       "      <td>1.352417</td>\n",
       "      <td>0.0</td>\n",
       "      <td>2.0</td>\n",
       "      <td>4.0</td>\n",
       "      <td>4.0</td>\n",
       "      <td>5.0</td>\n",
       "      <td>1.829032e+00</td>\n",
       "      <td>-0.599498</td>\n",
       "      <td>-0.540657</td>\n",
       "    </tr>\n",
       "    <tr>\n",
       "      <th>Staff</th>\n",
       "      <td>15589.0</td>\n",
       "      <td>3.506383</td>\n",
       "      <td>1.319565</td>\n",
       "      <td>1.0</td>\n",
       "      <td>3.0</td>\n",
       "      <td>4.0</td>\n",
       "      <td>5.0</td>\n",
       "      <td>5.0</td>\n",
       "      <td>1.741251e+00</td>\n",
       "      <td>-0.554561</td>\n",
       "      <td>-0.858889</td>\n",
       "    </tr>\n",
       "    <tr>\n",
       "      <th>OnlineBooking</th>\n",
       "      <td>15589.0</td>\n",
       "      <td>3.454231</td>\n",
       "      <td>1.310343</td>\n",
       "      <td>0.0</td>\n",
       "      <td>2.0</td>\n",
       "      <td>4.0</td>\n",
       "      <td>5.0</td>\n",
       "      <td>5.0</td>\n",
       "      <td>1.717000e+00</td>\n",
       "      <td>-0.472074</td>\n",
       "      <td>-0.931811</td>\n",
       "    </tr>\n",
       "    <tr>\n",
       "      <th>PriceQuality</th>\n",
       "      <td>15589.0</td>\n",
       "      <td>3.459683</td>\n",
       "      <td>1.268130</td>\n",
       "      <td>1.0</td>\n",
       "      <td>3.0</td>\n",
       "      <td>4.0</td>\n",
       "      <td>4.0</td>\n",
       "      <td>5.0</td>\n",
       "      <td>1.608154e+00</td>\n",
       "      <td>-0.503381</td>\n",
       "      <td>-0.772663</td>\n",
       "    </tr>\n",
       "    <tr>\n",
       "      <th>RoomSpace</th>\n",
       "      <td>15589.0</td>\n",
       "      <td>3.470845</td>\n",
       "      <td>1.293873</td>\n",
       "      <td>0.0</td>\n",
       "      <td>2.0</td>\n",
       "      <td>4.0</td>\n",
       "      <td>5.0</td>\n",
       "      <td>5.0</td>\n",
       "      <td>1.674108e+00</td>\n",
       "      <td>-0.482952</td>\n",
       "      <td>-0.864644</td>\n",
       "    </tr>\n",
       "    <tr>\n",
       "      <th>CheckOut</th>\n",
       "      <td>15589.0</td>\n",
       "      <td>3.700558</td>\n",
       "      <td>1.158644</td>\n",
       "      <td>1.0</td>\n",
       "      <td>3.0</td>\n",
       "      <td>4.0</td>\n",
       "      <td>5.0</td>\n",
       "      <td>5.0</td>\n",
       "      <td>1.342456e+00</td>\n",
       "      <td>-0.750689</td>\n",
       "      <td>-0.225016</td>\n",
       "    </tr>\n",
       "    <tr>\n",
       "      <th>Checkin</th>\n",
       "      <td>15589.0</td>\n",
       "      <td>3.327282</td>\n",
       "      <td>1.266872</td>\n",
       "      <td>1.0</td>\n",
       "      <td>3.0</td>\n",
       "      <td>3.0</td>\n",
       "      <td>4.0</td>\n",
       "      <td>5.0</td>\n",
       "      <td>1.604966e+00</td>\n",
       "      <td>-0.382588</td>\n",
       "      <td>-0.812149</td>\n",
       "    </tr>\n",
       "    <tr>\n",
       "      <th>Cleanliness</th>\n",
       "      <td>15589.0</td>\n",
       "      <td>3.692347</td>\n",
       "      <td>1.154437</td>\n",
       "      <td>1.0</td>\n",
       "      <td>3.0</td>\n",
       "      <td>4.0</td>\n",
       "      <td>5.0</td>\n",
       "      <td>5.0</td>\n",
       "      <td>1.332724e+00</td>\n",
       "      <td>-0.745131</td>\n",
       "      <td>-0.225183</td>\n",
       "    </tr>\n",
       "    <tr>\n",
       "      <th>BarService</th>\n",
       "      <td>15589.0</td>\n",
       "      <td>3.347360</td>\n",
       "      <td>1.300452</td>\n",
       "      <td>0.0</td>\n",
       "      <td>2.0</td>\n",
       "      <td>3.0</td>\n",
       "      <td>4.0</td>\n",
       "      <td>5.0</td>\n",
       "      <td>1.691176e+00</td>\n",
       "      <td>-0.358297</td>\n",
       "      <td>-0.949765</td>\n",
       "    </tr>\n",
       "  </tbody>\n",
       "</table>\n",
       "</div>"
      ],
      "text/plain": [
       "                     count         mean          std     min     25%     50%  \\\n",
       "Year_Birth         15394.0  1981.706444    15.179042  1936.0  1970.0  1981.0   \n",
       "RewardPoints       15589.0  5022.593816  1027.962379   409.0  4445.0  5088.0   \n",
       "Comfort            15589.0     2.841619     1.388624     0.0     2.0     3.0   \n",
       "ReceptionSchedule  15589.0     2.997242     1.518994     0.0     2.0     3.0   \n",
       "FoodDrink          15589.0     2.844570     1.436948     0.0     2.0     3.0   \n",
       "Location           15589.0     2.986016     1.299438     1.0     2.0     3.0   \n",
       "Wifi               15589.0     3.245109     1.327026     0.0     2.0     3.0   \n",
       "Amenities          15589.0     3.374816     1.352417     0.0     2.0     4.0   \n",
       "Staff              15589.0     3.506383     1.319565     1.0     3.0     4.0   \n",
       "OnlineBooking      15589.0     3.454231     1.310343     0.0     2.0     4.0   \n",
       "PriceQuality       15589.0     3.459683     1.268130     1.0     3.0     4.0   \n",
       "RoomSpace          15589.0     3.470845     1.293873     0.0     2.0     4.0   \n",
       "CheckOut           15589.0     3.700558     1.158644     1.0     3.0     4.0   \n",
       "Checkin            15589.0     3.327282     1.266872     1.0     3.0     3.0   \n",
       "Cleanliness        15589.0     3.692347     1.154437     1.0     3.0     4.0   \n",
       "BarService         15589.0     3.347360     1.300452     0.0     2.0     3.0   \n",
       "\n",
       "                      75%     max           var      skew      kurt  \n",
       "Year_Birth         1994.0  2014.0  2.304033e+02 -0.003847 -0.729800  \n",
       "RewardPoints       5649.0  6950.0  1.056707e+06 -0.453779  0.260135  \n",
       "Comfort               4.0     5.0  1.928275e+00 -0.100907 -0.935544  \n",
       "ReceptionSchedule     4.0     5.0  2.307344e+00 -0.260705 -1.077243  \n",
       "FoodDrink             4.0     5.0  2.064819e+00 -0.123610 -0.967047  \n",
       "Location              4.0     5.0  1.688539e+00 -0.050229 -1.076583  \n",
       "Wifi                  4.0     6.0  1.760998e+00 -0.171255 -1.111251  \n",
       "Amenities             4.0     5.0  1.829032e+00 -0.599498 -0.540657  \n",
       "Staff                 5.0     5.0  1.741251e+00 -0.554561 -0.858889  \n",
       "OnlineBooking         5.0     5.0  1.717000e+00 -0.472074 -0.931811  \n",
       "PriceQuality          4.0     5.0  1.608154e+00 -0.503381 -0.772663  \n",
       "RoomSpace             5.0     5.0  1.674108e+00 -0.482952 -0.864644  \n",
       "CheckOut              5.0     5.0  1.342456e+00 -0.750689 -0.225016  \n",
       "Checkin               4.0     5.0  1.604966e+00 -0.382588 -0.812149  \n",
       "Cleanliness           5.0     5.0  1.332724e+00 -0.745131 -0.225183  \n",
       "BarService            4.0     5.0  1.691176e+00 -0.358297 -0.949765  "
      ]
     },
     "execution_count": 21,
     "metadata": {},
     "output_type": "execute_result"
    }
   ],
   "source": [
    "stats = data.describe()\n",
    "stats.loc['var'] = data.var().tolist()\n",
    "stats.loc['skew'] = data.skew().tolist()\n",
    "stats.loc['kurt'] = data.kurtosis().tolist()\n",
    "stats.T"
   ]
  },
  {
   "cell_type": "markdown",
   "id": "6925f54e",
   "metadata": {},
   "source": [
    "We have both numerical and categorical variables on our dataset, so we move forward by first exploring and preparing our dataset focusing on numerical variables. Using the describe method, we get to understand some general, descriptive statistics of the data stored in the different columns of our dataset. We can point:\n",
    "\n",
    "1. Out of every variable, probably the most subjective one (albeit a numerical variable) is _RewardPoints. There is little or no information given about this variable.\n",
    "2. Although the scaling system is attributed from 0 to 5, some inputs have entry values starting from 1 and others from 0. We have to discuss if this scale should be normalize, or instead create an average value, so that 0s will turn into 1s as the lowest rank of the interval. This way, we would be considering an odd-numbered scale for classification, which is common when surveying people. Also, Wifi is also ranked from 0 to 6, so we must change the maximum possible value to 5.\n",
    "3. We notice that the maximum year of birth in our dataset is 2014, which means that people under 18 years are present in our dataset. We must understand whose customers are these.\n",
    "4. There isn't any numerical variable that's **Univariate**\n"
   ]
  },
  {
   "cell_type": "markdown",
   "id": "31e39058",
   "metadata": {},
   "source": [
    "##### Skewness\n",
    "We then proceeded to investigate the skewness of our numerical variables, related to the asymmetry of the probability distribution of each variable about its mean value. We only detected moderate degrees of skewness (between |0.5| and |1.0| for the variables Staff, CheckOut and Cleanliness, all negative, thus representing left-tailed distributions. At this points, we should explore the type of curves presented here, as their skewness might suggest that these services are the \"best\" ones out of the assessed ones. Upon checking, their mean and median values are higher than 3, so classified as positive."
   ]
  },
  {
   "cell_type": "markdown",
   "id": "2beb0c0f",
   "metadata": {},
   "source": [
    "##### Kurtosis\n",
    "Another statistical measure we took a look at is kurtosis, which together with skweness might indicate the presence of outliers. There are no particular high values of kurtosos for any of the variables. Almost all kurtosis values are negative, suggesting the probability distributions for the variables associated to them have flatter peaks and thinner tails. Only the variable RewardPoints has a positive kurtosis value, suggesting that it has a probability distribution with a sharper peak and heavier tails. Perhaps we should take a look at this variable later on."
   ]
  },
  {
   "cell_type": "markdown",
   "id": "cc1dff84",
   "metadata": {},
   "source": [
    "#### Outliers\n",
    "People who give same classification in every category: We only identify 3 customers who gave the same classification in all satisfaction variables, so they should not be a problem in our analysis."
   ]
  },
  {
   "cell_type": "code",
   "execution_count": 22,
   "id": "b95fa247",
   "metadata": {},
   "outputs": [
    {
     "data": {
      "text/plain": [
       "3"
      ]
     },
     "execution_count": 22,
     "metadata": {},
     "output_type": "execute_result"
    }
   ],
   "source": [
    "len(db[db.loc[:,'Comfort':'BarService'].apply(lambda x:min(x)==max(x),1)])"
   ]
  },
  {
   "cell_type": "markdown",
   "id": "9be73d98",
   "metadata": {},
   "source": [
    "Moreover, just in case, we took a look at some histograms and boxplots of the variables to which we had associated moderate skweness or kurtosis. Only the variable RewardPoints seemed it could present some outliers, for which the number of reward points was below 1000 or 1500.\n",
    "\n",
    "Since we have little or no information on this variable, we assume it can be seen as a measure of the usage of BookMe. The more the customers use it, the greater the number of reward point they have. Therefore, no action was taken towards the elimination or replacement of such observations that could be considered outliers.\n"
   ]
  },
  {
   "cell_type": "code",
   "execution_count": 23,
   "id": "af65511c",
   "metadata": {},
   "outputs": [
    {
     "data": {
      "text/plain": [
       "Text(0.5, 1.0, 'Cleanliness')"
      ]
     },
     "execution_count": 23,
     "metadata": {},
     "output_type": "execute_result"
    },
    {
     "data": {
      "image/png": "[encoded data removed]",
      "text/plain": [
       "<Figure size 864x864 with 4 Axes>"
      ]
     },
     "metadata": {
      "needs_background": "light"
     },
     "output_type": "display_data"
    }
   ],
   "source": [
    "fig, axs = plt.subplots(2, 2, figsize = (12,12))\n",
    "\n",
    "axs[0, 0].boxplot(data = data, x = 'RewardPoints')\n",
    "axs[0, 0].set_title('RewardPoints')\n",
    "axs[0, 1].boxplot(data = data, x = 'Staff')\n",
    "axs[0, 1].set_title('Staff')\n",
    "axs[1, 0].boxplot(data = data, x = 'CheckOut')\n",
    "axs[1, 0].set_title('CheckOut')\n",
    "axs[1, 1].boxplot(data = data, x = 'Cleanliness')\n",
    "axs[1, 1].set_title('Cleanliness')"
   ]
  },
  {
   "cell_type": "code",
   "execution_count": 24,
   "id": "34b066e7",
   "metadata": {},
   "outputs": [
    {
     "data": {
      "text/plain": [
       "<AxesSubplot:xlabel='RewardPoints', ylabel='Count'>"
      ]
     },
     "execution_count": 24,
     "metadata": {},
     "output_type": "execute_result"
    },
    {
     "data": {
      "image/png": "[encoded data removed]",
      "text/plain": [
       "<Figure size 432x288 with 1 Axes>"
      ]
     },
     "metadata": {
      "needs_background": "light"
     },
     "output_type": "display_data"
    }
   ],
   "source": [
    "sns.histplot(data = data, x = 'RewardPoints')"
   ]
  },
  {
   "cell_type": "markdown",
   "id": "eb34353e",
   "metadata": {},
   "source": [
    "-----\n",
    "## Faz Sentido???\n",
    "In order to understand if a transformations should be made regarding the variables with highest skewness in order to normalize them.\n",
    "\n",
    "As it can be seen, both log and sqrt transformations would only increase the skewness of the variables"
   ]
  },
  {
   "cell_type": "code",
   "execution_count": 25,
   "id": "1780238b",
   "metadata": {
    "scrolled": true
   },
   "outputs": [
    {
     "name": "stdout",
     "output_type": "stream",
     "text": [
      "Skewness\n",
      "\n",
      "Cleanliness:\n",
      " Normal:  -0.7451308023040214 \n",
      " Log:  -1.6179718521423334 \n",
      " sqrt:  -1.146960633014526 \n",
      "\n",
      "CheckOut:\n",
      " Normal:  -0.7506892049123418 \n",
      " Log:  -1.621997833441498 \n",
      " sqrt:  -1.1518082725531602 \n",
      "\n",
      "Staff:\n",
      " Normal:  -0.5545612930250308 \n",
      " Log:  -1.2120571023848645 \n",
      " sqrt:  -0.867577973631736 \n",
      "\n"
     ]
    }
   ],
   "source": [
    "print('Skewness\\n\\nCleanliness:\\n','Normal: ',data['Cleanliness'].skew(),'\\n'\\\n",
    "      ' Log: ',np.log(data['Cleanliness']).skew(),'\\n'\\\n",
    "      ' sqrt: ',np.sqrt(data['Cleanliness']).skew(),'\\n'\\\n",
    "      '\\nCheckOut:\\n','Normal: ',data['CheckOut'].skew(),'\\n'\\\n",
    "      ' Log: ',np.log(data['CheckOut']).skew(),'\\n'\\\n",
    "      ' sqrt: ',np.sqrt(data['CheckOut']).skew(),'\\n'\\\n",
    "      '\\nStaff:\\n','Normal: ',data['Staff'].skew(),'\\n'\\\n",
    "      ' Log: ',np.log(data['Staff']).skew(),'\\n'\\\n",
    "      ' sqrt: ',np.sqrt(data['Staff']).skew(),'\\n'\\\n",
    "     )"
   ]
  },
  {
   "cell_type": "markdown",
   "id": "a13db631",
   "metadata": {},
   "source": [
    "Regarding the possible issue of having customers under the age of 18 years, we proceeded to understand how many are these. They represent 1051 customers on our database.\n",
    "\n",
    "In fact, it might be possible to travel solo having less than 18 years. Instead, these customers can be accompanying other adults. Perhaps they should not be disregarded from our analysis."
   ]
  },
  {
   "cell_type": "code",
   "execution_count": 26,
   "id": "0af8ea33",
   "metadata": {},
   "outputs": [
    {
     "data": {
      "text/plain": [
       "1051"
      ]
     },
     "execution_count": 26,
     "metadata": {},
     "output_type": "execute_result"
    }
   ],
   "source": [
    "len(data.query(\"Year_Birth > 2004\"))"
   ]
  },
  {
   "cell_type": "markdown",
   "id": "ce8813aa",
   "metadata": {},
   "source": [
    "We also took a general look on the spearman correlations between the numerical variables, even though we know some corrections to data might be performed later.\n",
    "\n",
    "We observe that Comfort and FoodDrink have a high positive correlation of 0.7, as well as the variable pairs Staff and BarService, and OnlineBooking and BarService. We also can identify some \"blocks\" of variables that jointly appear to be correlated. We will address these findings later."
   ]
  },
  {
   "cell_type": "code",
   "execution_count": 27,
   "id": "59ec30f8",
   "metadata": {},
   "outputs": [
    {
     "data": {
      "text/plain": [
       "<AxesSubplot:>"
      ]
     },
     "execution_count": 27,
     "metadata": {},
     "output_type": "execute_result"
    },
    {
     "data": {
      "image/png": "[encoded data removed]",
      "text/plain": [
       "<Figure size 1152x720 with 2 Axes>"
      ]
     },
     "metadata": {
      "needs_background": "light"
     },
     "output_type": "display_data"
    }
   ],
   "source": [
    "data_corr = data.corr(method = 'spearman')\n",
    "\n",
    "figure = plt.figure(figsize=(16,10))\n",
    "sns.heatmap(data_corr, annot=True, fmt = '.1g')"
   ]
  },
  {
   "cell_type": "markdown",
   "id": "33c9a492",
   "metadata": {},
   "source": [
    "Given our findings by looking at the correlation matrix above, the creation of three buckets of variables according to the correlations between the 14 satisfaction variables could help. There buckets would be divided as follows:\n",
    "\n",
    "1. Rating1 includes variables Comfort, ReceptionSchedule, FoodDrink and Location.\n",
    "2. Rating2 includes variables Amenities, Wifi, OnlineBooking, Staff and BarService.\n",
    "3. Rating3 includes variables PriceQuality, RoomSpace, CheckOut, Checkin and Cleanliness.\n"
   ]
  },
  {
   "cell_type": "markdown",
   "id": "60872c25",
   "metadata": {},
   "source": [
    "We now move forward to explore our categorical variables. Using the methods _describe_ and _value_counts_ we can dive deeper on the exploration of these variables.\n",
    "\n",
    "Some interesting findings are summarized below:\n",
    "1. Most of our customers are \"old\" customers that use our services for more than a year. We are not seeming to catch new customers.\n",
    "2. Most of the customers on our dataset travel by business.\n",
    "3. Few customers book suite rooms.\n",
    "4. There isn't any categorical variable that's Univariate."
   ]
  },
  {
   "cell_type": "code",
   "execution_count": 28,
   "id": "3ed8a402",
   "metadata": {},
   "outputs": [
    {
     "data": {
      "text/html": [
       "<div>\n",
       "<style scoped>\n",
       "    .dataframe tbody tr th:only-of-type {\n",
       "        vertical-align: middle;\n",
       "    }\n",
       "\n",
       "    .dataframe tbody tr th {\n",
       "        vertical-align: top;\n",
       "    }\n",
       "\n",
       "    .dataframe thead th {\n",
       "        text-align: right;\n",
       "    }\n",
       "</style>\n",
       "<table border=\"1\" class=\"dataframe\">\n",
       "  <thead>\n",
       "    <tr style=\"text-align: right;\">\n",
       "      <th></th>\n",
       "      <th>count</th>\n",
       "      <th>unique</th>\n",
       "      <th>top</th>\n",
       "      <th>freq</th>\n",
       "    </tr>\n",
       "  </thead>\n",
       "  <tbody>\n",
       "    <tr>\n",
       "      <th>Name</th>\n",
       "      <td>15589</td>\n",
       "      <td>14227</td>\n",
       "      <td>Mr. Michael Smith</td>\n",
       "      <td>9</td>\n",
       "    </tr>\n",
       "    <tr>\n",
       "      <th>Longevity</th>\n",
       "      <td>15589</td>\n",
       "      <td>3</td>\n",
       "      <td>yes</td>\n",
       "      <td>12548</td>\n",
       "    </tr>\n",
       "    <tr>\n",
       "      <th>TypeTravel</th>\n",
       "      <td>15589</td>\n",
       "      <td>2</td>\n",
       "      <td>business</td>\n",
       "      <td>10756</td>\n",
       "    </tr>\n",
       "    <tr>\n",
       "      <th>RoomType</th>\n",
       "      <td>15589</td>\n",
       "      <td>3</td>\n",
       "      <td>single</td>\n",
       "      <td>7442</td>\n",
       "    </tr>\n",
       "  </tbody>\n",
       "</table>\n",
       "</div>"
      ],
      "text/plain": [
       "            count unique                top   freq\n",
       "Name        15589  14227  Mr. Michael Smith      9\n",
       "Longevity   15589      3                yes  12548\n",
       "TypeTravel  15589      2           business  10756\n",
       "RoomType    15589      3             single   7442"
      ]
     },
     "execution_count": 28,
     "metadata": {},
     "output_type": "execute_result"
    }
   ],
   "source": [
    "data.describe(include=\"O\").T"
   ]
  },
  {
   "cell_type": "code",
   "execution_count": 29,
   "id": "83a082c1",
   "metadata": {},
   "outputs": [
    {
     "name": "stdout",
     "output_type": "stream",
     "text": [
      "--> Longevity:\n",
      " yes    12548\n",
      "no      2874\n",
      "y        167\n",
      "Name: Longevity, dtype: int64 \n",
      "\n",
      "--> TypeTravel:\n",
      " business    10756\n",
      "leisure      4833\n",
      "Name: TypeTravel, dtype: int64 \n",
      "\n",
      "--> RoomType:\n",
      " single    7442\n",
      "double    7021\n",
      "suite     1126\n",
      "Name: RoomType, dtype: int64\n"
     ]
    }
   ],
   "source": [
    "print('--> Longevity:\\n',db['Longevity'].value_counts(),'\\n')\n",
    "print('--> TypeTravel:\\n',db['TypeTravel'].value_counts(),'\\n')\n",
    "print('--> RoomType:\\n',db['RoomType'].value_counts())"
   ]
  },
  {
   "cell_type": "markdown",
   "id": "34dae26a",
   "metadata": {},
   "source": [
    "##### Type Travel vs RoomType"
   ]
  },
  {
   "cell_type": "code",
   "execution_count": 30,
   "id": "d087ebd6",
   "metadata": {},
   "outputs": [
    {
     "data": {
      "text/plain": [
       "<AxesSubplot:xlabel='count', ylabel='TypeTravel'>"
      ]
     },
     "execution_count": 30,
     "metadata": {},
     "output_type": "execute_result"
    },
    {
     "data": {
      "image/png": "[encoded data removed]",
      "text/plain": [
       "<Figure size 432x288 with 1 Axes>"
      ]
     },
     "metadata": {
      "needs_background": "light"
     },
     "output_type": "display_data"
    }
   ],
   "source": [
    "sns.countplot(y = 'TypeTravel', hue = 'RoomType', data = db,\n",
    "             order = ['business','leisure'])"
   ]
  },
  {
   "cell_type": "markdown",
   "id": "90d8deb5",
   "metadata": {},
   "source": [
    "##### Type Travel vs Longevity"
   ]
  },
  {
   "cell_type": "code",
   "execution_count": 31,
   "id": "410b0b0d",
   "metadata": {},
   "outputs": [
    {
     "data": {
      "text/plain": [
       "<AxesSubplot:xlabel='count', ylabel='TypeTravel'>"
      ]
     },
     "execution_count": 31,
     "metadata": {},
     "output_type": "execute_result"
    },
    {
     "data": {
      "image/png": "[encoded data removed]",
      "text/plain": [
       "<Figure size 432x288 with 1 Axes>"
      ]
     },
     "metadata": {
      "needs_background": "light"
     },
     "output_type": "display_data"
    }
   ],
   "source": [
    "sns.countplot(y = 'TypeTravel', hue = 'Longevity', data = db,\n",
    "             order = ['business','leisure'])"
   ]
  },
  {
   "cell_type": "markdown",
   "id": "0863a708",
   "metadata": {},
   "source": [
    "Before moving forward to some more data cleaning, we wanted to verify if there are recurrent visits from the same customers on our dataset. We checked that there are repeated visits from customers with the same name and year of birth in our dataset.\n",
    "\n",
    "At this point, our analysis leads us to assume that these might be the same customers. The number of reward points changes according to each visit.\n",
    "- 39 clients have the same name and year of birth, meaning that they might be recurrent visits.\n",
    "- 26 of those clients have the same Longevity status, meaning that enough time has passed on 13 clients to change the Longevity status from 0 to 1.\n",
    "- 13 of those clients have kept the same RoomType and Longevity. They can potentially be the same people.\n",
    "- No client has the same amount of RewardPoints, meaning that they change according to the number of visits.\n",
    "- On average, RewardPoints varies 697 points [from 30 to 1892] or 165 [from -645 to 1892]"
   ]
  },
  {
   "cell_type": "code",
   "execution_count": 32,
   "id": "3a2f6137",
   "metadata": {},
   "outputs": [
    {
     "data": {
      "text/html": [
       "<div>\n",
       "<style scoped>\n",
       "    .dataframe tbody tr th:only-of-type {\n",
       "        vertical-align: middle;\n",
       "    }\n",
       "\n",
       "    .dataframe tbody tr th {\n",
       "        vertical-align: top;\n",
       "    }\n",
       "\n",
       "    .dataframe thead th {\n",
       "        text-align: right;\n",
       "    }\n",
       "</style>\n",
       "<table border=\"1\" class=\"dataframe\">\n",
       "  <thead>\n",
       "    <tr style=\"text-align: right;\">\n",
       "      <th></th>\n",
       "      <th></th>\n",
       "      <th></th>\n",
       "      <th></th>\n",
       "      <th></th>\n",
       "      <th>Recurrent</th>\n",
       "    </tr>\n",
       "    <tr>\n",
       "      <th>Name</th>\n",
       "      <th>Year_Birth</th>\n",
       "      <th>Longevity</th>\n",
       "      <th>RoomType</th>\n",
       "      <th>RewardPoints</th>\n",
       "      <th></th>\n",
       "    </tr>\n",
       "  </thead>\n",
       "  <tbody>\n",
       "    <tr>\n",
       "      <th>Ms. Abigail Buchanan</th>\n",
       "      <th>1972.0</th>\n",
       "      <th>yes</th>\n",
       "      <th>double</th>\n",
       "      <th>6769</th>\n",
       "      <td>2</td>\n",
       "    </tr>\n",
       "    <tr>\n",
       "      <th>Ms. Abigail Kennedy</th>\n",
       "      <th>1991.0</th>\n",
       "      <th>yes</th>\n",
       "      <th>suite</th>\n",
       "      <th>5932</th>\n",
       "      <td>2</td>\n",
       "    </tr>\n",
       "    <tr>\n",
       "      <th>Ms. Abigail York</th>\n",
       "      <th>1995.0</th>\n",
       "      <th>yes</th>\n",
       "      <th>double</th>\n",
       "      <th>5098</th>\n",
       "      <td>2</td>\n",
       "    </tr>\n",
       "  </tbody>\n",
       "</table>\n",
       "</div>"
      ],
      "text/plain": [
       "                                                                 Recurrent\n",
       "Name                 Year_Birth Longevity RoomType RewardPoints           \n",
       "Ms. Abigail Buchanan 1972.0     yes       double   6769                  2\n",
       "Ms. Abigail Kennedy  1991.0     yes       suite    5932                  2\n",
       "Ms. Abigail York     1995.0     yes       double   5098                  2"
      ]
     },
     "execution_count": 32,
     "metadata": {},
     "output_type": "execute_result"
    }
   ],
   "source": [
    "#Recurrent Visits - exploration\n",
    "#This is aimed at getting more insight about recurrent visits and how they would affect RewardPoints\n",
    "\n",
    "recur1 =  pd.DataFrame(db.groupby(['Name', 'Year_Birth'])['Name'].count())\n",
    "recur1.rename(columns = {'Name':'Recurrent'}, inplace = True)\n",
    "recur1.query(\"Recurrent >= 2\", inplace = True) #'Number_of_Visits >= 2'\n",
    "recur1\n",
    "\n",
    "#39 clients have the same name and year of birth, meaning that they might be recurrent visits.\n",
    "\n",
    "recur2 =  pd.DataFrame(db.groupby(['Name', 'Year_Birth', 'Longevity'])['Name'].count())\n",
    "recur2.rename(columns = {'Name':'Recurrent'}, inplace = True)\n",
    "recur2.query(\"Recurrent >= 2\", inplace = True) #'Number_of_Visits >= 2'\n",
    "recur2\n",
    "\n",
    "#26 of those clients have the same Longevity status, meaning that enough time has passed on 13 clients to change the Longevity status from 0 to 1.\n",
    "\n",
    "recur3 =  pd.DataFrame(db.groupby(['Name', 'Year_Birth', 'Longevity', 'RoomType'])['Name'].count())\n",
    "recur3.rename(columns = {'Name':'Recurrent'}, inplace = True)\n",
    "recur3.query(\"Recurrent >= 2\", inplace = True) #'Number_of_Visits >= 2'\n",
    "recur3\n",
    "\n",
    "#13 of those clients have kept the same RoomType and Longevity. They can potentially be the same people.\n",
    "\n",
    "recur4 =  pd.DataFrame(db.groupby(['Name', 'Year_Birth', 'Longevity', 'RoomType', 'RewardPoints'])['Name'].count())\n",
    "recur4.rename(columns = {'Name':'Recurrent'}, inplace = True)\n",
    "recur4.query(\"Recurrent >= 2\", inplace = True) #'Number_of_Visits >= 2'\n",
    "recur4\n",
    "\n",
    "#No client has the same amount of RewardPoints, meaning that they change according to the number of visits.\n",
    "#On average, RewardPoints varies 697 points [from 30 to 1892] or 165 [from -645 to 1892]\n",
    "\n",
    "#db.loc[db.Name == \"Ms. Danielle Taylor\"]\n",
    "#For Anthony Smith (1982) - 4508/5275/5554, Business Single and Suite\n",
    "#For Brian Smith (1979) - 4478/4567, Business Single\n",
    "#For Christopher Murphy (1979) - 6367/6152, Business Single\n",
    "#For Jason Bell (1996) - 4539/3404, Business Single\n",
    "#For John Russel (1977) - 3645/4013, Business Single\n",
    "#For John Schwartz (1980) - 5607/5577, Business Double\n",
    "#For Joseph Thomas (1970) - 5051/6570, Business Single\n",
    "#For Michael Miller (1992) - 3907/4442, Business Single\n",
    "#For Timothy Lee (1980) - 5113/3221, Business Single - Churn\n",
    "#For Amanda Smith (1962) - 6190/3906, Business Double - Churn and Business Single\n",
    "#For Amanda Smith (1969) - 6577/6655, Business Single\n",
    "#For Cynthia Martin (1991) 4939/4456, Business Single - Churn\n",
    "#For Dana Anderson (1972) 5807/6452, Business Double\n",
    "#For Danielle Taylor (1981) 5147/4990, Business Double"
   ]
  },
  {
   "cell_type": "markdown",
   "id": "b7fbed17",
   "metadata": {},
   "source": [
    "##### Replace incorrect performance values"
   ]
  },
  {
   "cell_type": "code",
   "execution_count": 35,
   "id": "128ab2cb",
   "metadata": {},
   "outputs": [
    {
     "name": "stdout",
     "output_type": "stream",
     "text": [
      "2525\n",
      "25447\n",
      "34395\n",
      "45349\n",
      "62009\n",
      "48485\n",
      "36\n"
     ]
    }
   ],
   "source": [
    "print((data.loc[:, 'Comfort':] == 0).sum().sum())\n",
    "print((data.loc[:, 'Comfort':] == 1).sum().sum())\n",
    "print((data.loc[:, 'Comfort':] == 2).sum().sum())\n",
    "print((data.loc[:, 'Comfort':] == 3).sum().sum())\n",
    "print((data.loc[:, 'Comfort':] == 4).sum().sum())\n",
    "print((data.loc[:, 'Comfort':] == 5).sum().sum())\n",
    "print((data.loc[:, 'Comfort':] == 6).sum().sum())"
   ]
  },
  {
   "cell_type": "markdown",
   "id": "90aa220b",
   "metadata": {},
   "source": [
    "About valuation of Customer Satisfaction\n",
    "- 0.01% of valuation 6 --> To remove the 6\n",
    "- 1.2% of valuation 0 --> seams legit. Keep the 0"
   ]
  },
  {
   "cell_type": "markdown",
   "id": "524ca190",
   "metadata": {},
   "source": [
    "##### Transformations to be made\n",
    "- Remove 6 from Wifi Valuations\n",
    "- Create bins from Reward Points changing from numerical to categorical\n",
    "- Create variable 'Gender' from the name variable & Drop 'Name' variable\n",
    "- Transform all 'y' to 'yes' in Longevity\n",
    "- Year of birth using KNN Imputer\n",
    "- Create 3 buckets of variables\n",
    "- Convert datatypes"
   ]
  },
  {
   "cell_type": "markdown",
   "id": "d04fe24e",
   "metadata": {},
   "source": [
    "##### Transformations to be made onle after separating training from validation"
   ]
  },
  {
   "cell_type": "markdown",
   "id": "52b52708",
   "metadata": {},
   "source": [
    "- Remove valuation 6 from Wifi variable"
   ]
  },
  {
   "cell_type": "code",
   "execution_count": 37,
   "id": "b9f5760c",
   "metadata": {},
   "outputs": [],
   "source": [
    "data['Wifi'] = data['Wifi'].replace(6,5)"
   ]
  },
  {
   "cell_type": "markdown",
   "id": "6d8a18f3",
   "metadata": {},
   "source": [
    "----\n",
    "- Change RewardPoints from Numerical to Categorical"
   ]
  },
  {
   "cell_type": "code",
   "execution_count": 38,
   "id": "c92d89d7",
   "metadata": {},
   "outputs": [],
   "source": [
    "data['RewardPoints_Bins'] = pd.cut(data['RewardPoints'], 4, labels=['Bronze', 'Silver', 'Gold', 'Platinum'])\n",
    "# data['RewardPoints_Bins'] = data['RewardPoints_Bins'].replace('Bronze',0).replace('Silver',1).replace('Gold',2).replace('Platinum',3)\n",
    "data.drop(columns = ['RewardPoints'], axis=1, inplace=True)"
   ]
  },
  {
   "cell_type": "markdown",
   "id": "1e61568b",
   "metadata": {},
   "source": [
    "----\n",
    "- Change Name to Gender"
   ]
  },
  {
   "cell_type": "code",
   "execution_count": 39,
   "id": "c70f3ed9",
   "metadata": {},
   "outputs": [],
   "source": [
    "gender = data['Name'].str.split(' ',expand = True,n=1)[0]\n",
    "data['Gender'] = gender\n",
    "data['Gender'] = data['Gender'].replace('Ms.','F').replace('Mr.','M')\n",
    "data.drop(columns = ['Name'], axis = 1, inplace = True)"
   ]
  },
  {
   "cell_type": "code",
   "execution_count": null,
   "id": "10f5848f",
   "metadata": {},
   "outputs": [],
   "source": [
    "fig = plt.figure(figsize=(15, 5))\n",
    "p1 = plt.bar(categories, obs_pct[0], 0.55, color=\"gray\")\n",
    "p2 = plt.bar(categories, obs_pct[1], 0.55, bottom=obs_pct[0], color=\"yellowgreen\")\n",
    "plt.legend((p2[0], p1[0]), ('$y_i=1$', '$y_i=0$'))\n",
    "plt.title(\"Proportion bar chart\")\n",
    "plt.xlabel(feature)\n",
    "plt.ylabel(\"$Proportion$\")\n",
    "plt.show()"
   ]
  },
  {
   "cell_type": "markdown",
   "id": "1c26be74",
   "metadata": {},
   "source": [
    "----\n",
    "### Weight of the dependent variable in categorical data"
   ]
  },
  {
   "cell_type": "code",
   "execution_count": 89,
   "id": "70696503",
   "metadata": {},
   "outputs": [
    {
     "data": {
      "image/png": "[encoded data removed]",
      "text/plain": [
       "<Figure size 1440x360 with 5 Axes>"
      ]
     },
     "metadata": {
      "needs_background": "light"
     },
     "output_type": "display_data"
    },
    {
     "data": {
      "image/png": "[encoded data removed]",
      "text/plain": [
       "<Figure size 1440x360 with 5 Axes>"
      ]
     },
     "metadata": {
      "needs_background": "light"
     },
     "output_type": "display_data"
    }
   ],
   "source": [
    "def frequency_charts_categorical(df, feature, target):\n",
    "    fig = plt.figure(figsize=(20, 5))\n",
    "    subplots=[151,152,153,154,155]\n",
    "    \n",
    "    for i in range(len(feature)):\n",
    "        cont_tab = pd.crosstab(df[feature[i]], df[target], margins = True)\n",
    "        categories = cont_tab.index[:-1]\n",
    "        plt.subplot(subplots[i])\n",
    "        p1 = plt.bar(categories, cont_tab.iloc[:-1, 0].values, 0.55, color=\"gray\")\n",
    "        p2 = plt.bar(categories, cont_tab.iloc[:-1, 1].values, 0.55, bottom=cont_tab.iloc[:-1, 0], color=\"#EC7063\")\n",
    "        plt.legend((p2[0], p1[0]), ('$y_i=1$', '$y_i=0$'))\n",
    "        plt.title(\"Frequency bar chart\")\n",
    "        plt.xlabel(feature)\n",
    "        plt.ylabel(\"$Frequency$\")\n",
    "\n",
    "    plt.show()\n",
    "\n",
    "def proportion_charts_categorical(df, feature, target):\n",
    "    fig = plt.figure(figsize=(20, 5))\n",
    "    subplots=[151,152,153,154,155]\n",
    "    \n",
    "    for i in range(len(feature)):\n",
    "        cont_tab = pd.crosstab(df[feature[i]], df[target], margins = True)\n",
    "        categories = cont_tab.index[:-1]\n",
    "        obs_pct = np.array([np.divide(cont_tab.iloc[:-1, 0].values, cont_tab.iloc[:-1, 2].values), \n",
    "                            np.divide(cont_tab.iloc[:-1, 1].values, cont_tab.iloc[:-1, 2].values)])\n",
    "        plt.subplot(subplots[i])\n",
    "        p1 = plt.bar(categories, obs_pct[0], 0.55, color=\"gray\")\n",
    "        p2 = plt.bar(categories, obs_pct[1], 0.55, bottom=obs_pct[0], color=\"#AED6F1\")\n",
    "        plt.legend((p2[0], p1[0]), ('$y_i=1$', '$y_i=0$'))\n",
    "        plt.title(\"Proportion bar chart\")\n",
    "        plt.xlabel(feature)\n",
    "        plt.ylabel(\"$Proportion$\")\n",
    "\n",
    "    plt.show()\n",
    "    \n",
    "frequency_charts_categorical(data.join(target), ['Longevity','TypeTravel','RoomType','RewardPoints_Bins','Gender'], \"Churn\")\n",
    "proportion_charts_categorical(data.join(target), ['Longevity','TypeTravel','RoomType','RewardPoints_Bins','Gender'], \"Churn\")"
   ]
  },
  {
   "cell_type": "markdown",
   "id": "f2ed1235",
   "metadata": {},
   "source": [
    "From the graphical analysis between the dependent variable and the categorical variables, the following outputs can be taken:\n",
    "- A longevity client is more likely to churn, but these clients are the majority of our dataset on a proportion of 3/4 to 1/4\n",
    "- Business clients are more likelly to churn and also the majority on a proportion of 2/3 to 1/3\n",
    "- Single room clients are more likely to churn, being of the same amount as double room clients\n",
    "- There seams to be no great relevance of the Rewards points on the dependent variable\n",
    "- Lastly, female clients are more likely to churn than male clients, being their proportion similar"
   ]
  },
  {
   "cell_type": "markdown",
   "id": "3ff3e89c",
   "metadata": {},
   "source": [
    "----\n",
    "- Correct 'y' to 'yes' in Longevity variable"
   ]
  },
  {
   "cell_type": "code",
   "execution_count": 40,
   "id": "d5aa73d1",
   "metadata": {},
   "outputs": [],
   "source": [
    "data['Longevity'] = data['Longevity'].replace('y','yes')"
   ]
  },
  {
   "cell_type": "markdown",
   "id": "a8c609ba",
   "metadata": {},
   "source": [
    "----\n",
    "- Year of Birth variable: correct NA values in "
   ]
  },
  {
   "cell_type": "markdown",
   "id": "26a4f216",
   "metadata": {},
   "source": [
    "We notice the missing values in the Year_Birth column are of type MAR (Missing At Random). In fact, 81.5% of the customers with this column missing are women.\n",
    "\n",
    "The KNN Imputer algorythm was used to compare the results with other ways of replacing the missing data (mean, median and mode).\n",
    "Running the algorythm shows that both the mean, median and mode of the overall data don't change much, having a slight change on the mean from 1981.7064 to 1981.6958, and maintaining the median in 1981 and mode in 1982.\n",
    "\n",
    "However, when we check only the indexes that had missing values, we see that their mean is 1983.1384 (year and a half higher than the overall), the median is 1983 (2 years higher) and the mode 1977 (5 years lower).\n",
    "\n",
    "Since the overall values didn't change much, it seams preferable to replace the missing values with the KNN Imputer algorithm since it's is sensible to the rest of the data and no only to the variables in question.\n",
    "\n",
    "We decided to use the default values of this imputer provided by sklearn, then considering 125 neighbors (square root of the length of the data), euclidean distance, and uniform weights for all neighbors.\n"
   ]
  },
  {
   "cell_type": "code",
   "execution_count": 41,
   "id": "f5840368",
   "metadata": {},
   "outputs": [
    {
     "name": "stdout",
     "output_type": "stream",
     "text": [
      "Year of Birth:\n",
      "\n",
      "Mean:  1981.7064440691179 \n",
      "Median:  1981.0 \n",
      "Mode: 0    1982.0\n",
      "Name: Year_Birth, dtype: float64\n"
     ]
    }
   ],
   "source": [
    "print('Year of Birth:\\n\\nMean: ',db['Year_Birth'].mean(),\\\n",
    "      '\\nMedian: ',db['Year_Birth'].median(),\\\n",
    "      '\\nMode:',db['Year_Birth'].mode(),)"
   ]
  },
  {
   "cell_type": "code",
   "execution_count": 43,
   "id": "fa7d2a1b",
   "metadata": {},
   "outputs": [
    {
     "name": "stdout",
     "output_type": "stream",
     "text": [
      "Year of Birth Specific previews NA Values:\n",
      "\n",
      "Mean:  1983.1692307692308 \n",
      "Median:  1983.0 \n",
      "Mode: 0    1977.0\n",
      "1    1981.0\n",
      "2    1984.0\n",
      "3    1994.0\n",
      "4    1997.0\n",
      "Name: 0, dtype: float64 \n",
      "\n",
      "Year of Birth Overall Values:\n",
      "\n",
      "Mean:  1981.692860350247 \n",
      "Median:  1981.0 \n",
      "Mode: 0    1982.0\n",
      "Name: 0, dtype: float64\n"
     ]
    }
   ],
   "source": [
    "from sklearn.impute import KNNImputer\n",
    "num_var = data.select_dtypes(include=np.number).set_index(data.index).columns\n",
    "list_na_year = data[data['Year_Birth'].isna()].index.tolist()\n",
    "k_imputer = round(np.sqrt(len(data[num_var])),0).astype('int32') # 125\n",
    "imputer = KNNImputer(n_neighbors=k_imputer, weights=\"uniform\", metric='nan_euclidean')\n",
    "imputer.fit(data[num_var])\n",
    "data_KNN = imputer.transform(data[num_var])\n",
    "data_KNN = pd.DataFrame(data_KNN)\n",
    "data_KNN[0] = data_KNN[0].round(0)\n",
    "data_KNN[0].count\n",
    "print('Year of Birth Specific previews NA Values:\\n\\nMean: ',data_KNN[0][list_na_year].mean(),\\\n",
    "      '\\nMedian: ',data_KNN[0][list_na_year].median(),\\\n",
    "      '\\nMode:',data_KNN[0][list_na_year].mode(),'\\n')\n",
    "print('Year of Birth Overall Values:\\n\\nMean: ',data_KNN[0].mean(),\\\n",
    "      '\\nMedian: ',data_KNN[0].median(),\\\n",
    "      '\\nMode:',data_KNN[0].mode(),)"
   ]
  },
  {
   "cell_type": "markdown",
   "id": "f5e47ae5",
   "metadata": {},
   "source": [
    "-> Only to be made after seperation of train and validation"
   ]
  },
  {
   "cell_type": "raw",
   "id": "d2eebad5",
   "metadata": {},
   "source": [
    "data['Year_Birth'] = data_KNN[0].values"
   ]
  },
  {
   "cell_type": "markdown",
   "id": "7bfa3286",
   "metadata": {},
   "source": [
    "----\n",
    "- Creation of Buckets"
   ]
  },
  {
   "cell_type": "code",
   "execution_count": 44,
   "id": "e12f25eb",
   "metadata": {},
   "outputs": [],
   "source": [
    "data['Rating1'] = round((data['Comfort'] + data['ReceptionSchedule'] + data['FoodDrink'] + data['Location'])/4,2)\n",
    "data['Rating2'] = round((data['Amenities'] + data['Wifi'] + data['OnlineBooking'] + data['Staff']+ data['BarService'])/5,2)\n",
    "data['Rating3'] = round((data['PriceQuality'] + data['RoomSpace'] + data['CheckOut']+ data['Checkin']+ data['Cleanliness'])/5,2)"
   ]
  },
  {
   "cell_type": "markdown",
   "id": "52680659",
   "metadata": {},
   "source": [
    "----\n",
    "- Scale the numerical data"
   ]
  },
  {
   "cell_type": "markdown",
   "id": "ff11f131",
   "metadata": {},
   "source": [
    "-> Only to be made after seperation of train and validation"
   ]
  },
  {
   "cell_type": "raw",
   "id": "0706a75a",
   "metadata": {},
   "source": [
    "scaler = MinMaxScaler().fit(data[num_var])"
   ]
  },
  {
   "cell_type": "markdown",
   "id": "c159e2eb",
   "metadata": {},
   "source": [
    "----\n",
    "- Separate Numerical from Categorical Data"
   ]
  },
  {
   "cell_type": "code",
   "execution_count": 45,
   "id": "2aed5151",
   "metadata": {
    "scrolled": true
   },
   "outputs": [
    {
     "name": "stdout",
     "output_type": "stream",
     "text": [
      "Index(['Year_Birth', 'Comfort', 'ReceptionSchedule', 'FoodDrink', 'Location',\n",
      "       'Wifi', 'Amenities', 'Staff', 'OnlineBooking', 'PriceQuality',\n",
      "       'RoomSpace', 'CheckOut', 'Checkin', 'Cleanliness', 'BarService',\n",
      "       'Rating1', 'Rating2', 'Rating3'],\n",
      "      dtype='object')\n",
      "Index(['Longevity', 'TypeTravel', 'RoomType', 'RewardPoints_Bins', 'Gender'], dtype='object')\n"
     ]
    }
   ],
   "source": [
    "num_var = data.select_dtypes(include=np.number).set_index(data.index).columns\n",
    "cat_var = data.select_dtypes(exclude=np.number).set_index(data.index).columns\n",
    "print(num_var)\n",
    "print(cat_var)"
   ]
  },
  {
   "cell_type": "markdown",
   "id": "94e5f97e",
   "metadata": {},
   "source": [
    "----\n",
    "- Change DataTypes"
   ]
  },
  {
   "cell_type": "markdown",
   "id": "97459de5",
   "metadata": {},
   "source": [
    "-> Only to be made after scaling the data"
   ]
  },
  {
   "cell_type": "raw",
   "id": "1b78d480",
   "metadata": {},
   "source": [
    "# Converting every column that is int64 to int8 for performance issues\n",
    "data.iloc[:,(db.dtypes=='int64').values] = db.iloc[:,(db.dtypes=='int64').values].astype(np.int8)"
   ]
  },
  {
   "cell_type": "markdown",
   "id": "24a63091",
   "metadata": {},
   "source": [
    "----\n",
    "- Create numerical variable list without the buckets to compare"
   ]
  },
  {
   "cell_type": "code",
   "execution_count": 50,
   "id": "c1359048",
   "metadata": {},
   "outputs": [],
   "source": [
    "num_var_nbuckes = num_var[:-3]"
   ]
  },
  {
   "cell_type": "markdown",
   "id": "8d75276d",
   "metadata": {},
   "source": [
    "----\n",
    "## Feature Selection"
   ]
  },
  {
   "cell_type": "code",
   "execution_count": 279,
   "id": "b2a8b60f",
   "metadata": {},
   "outputs": [],
   "source": [
    "def select_best_features(X, y):\n",
    "    skf = StratifiedKFold(n_splits = 3)\n",
    "    counter = 0\n",
    "    for train_index, val_index in skf.split(X, y):\n",
    "        counter +=1\n",
    "        print('')\n",
    "        print('--------------------------------------------------------')\n",
    "        print('SPLIT ', counter)\n",
    "        print('--------------------------------------------------------')\n",
    "        print('')\n",
    "        X_train, X_val = X.iloc[train_index], X.iloc[val_index]\n",
    "        y_train, y_val = y.iloc[train_index], y.iloc[val_index]\n",
    "        \n",
    "        # get all numerical variables\n",
    "        X_train_num = X_train[num_var]\n",
    "        X_val_num = X_val[num_var]\n",
    "        \n",
    "        # get all categorical variables\n",
    "        X_train_cat = X_train[cat_var]\n",
    "        X_val_cat = X_val[cat_var]\n",
    "        \n",
    "        # fill missing values (KNN Imputer for Year of Birth: first variable of numerical variables)\n",
    "        k_imputer = round(np.sqrt(len(X_train_num)),0).astype('int32') # 125\n",
    "        imputer = KNNImputer(n_neighbors=k_imputer, weights=\"uniform\", metric='nan_euclidean')\n",
    "        imputer.fit(X_train_num)\n",
    "        data_KNN_train = imputer.transform(X_train_num)\n",
    "        data_KNN_train = pd.DataFrame(data_KNN_train)\n",
    "        data_KNN_train[0] = data_KNN_train[0].round(0)\n",
    "        X_train_num['Year_Birth'] = data_KNN_train[0].values\n",
    "        # Use Train Imputer for Validation Data\n",
    "        data_KNN_val = imputer.transform(X_val_num)\n",
    "        data_KNN_val = pd.DataFrame(data_KNN_val)\n",
    "        data_KNN_val[0] = data_KNN_val[0].round(0)\n",
    "        X_val_num['Year_Birth'] = data_KNN_val[0].values\n",
    "        \n",
    "        # Apply scaling to numerical data\n",
    "        scaler = MinMaxScaler().fit(X_train_num)\n",
    "        X_train_scaled = pd.DataFrame(scaler.transform(X_train_num), columns = X_train_num.columns, index = X_train_num.index,) # MinMaxScaler in the training data\n",
    "        X_val_scaled = pd.DataFrame(scaler.transform(X_val_num), columns = X_val_num.columns, index = X_val_num.index,) # MinMaxScaler in the validation data\n",
    "        \n",
    "        # Check which features to use using RFE\n",
    "        print('')\n",
    "        print('----------------- RFE ----------------------')\n",
    "        model = LogisticRegression()\n",
    "        rfe = RFE(estimator = model, n_features_to_select = 4)\n",
    "        X_rfe = rfe.fit_transform(X = X_train_scaled, y = y_train)\n",
    "        selected_features = pd.Series(rfe.support_, index = X_train_scaled.columns)\n",
    "        print(selected_features)\n",
    "        \n",
    "        # Check which features to use using Chi-Square\n",
    "        print('')\n",
    "        print('----------------- CHI-SQUARE ----------------------')\n",
    "        def TestIndependence(X,y,var,alpha=0.05):        \n",
    "            dfObserved = pd.crosstab(y,X) \n",
    "            chi2, p, dof, expected = stats.chi2_contingency(dfObserved.values)\n",
    "            dfExpected = pd.DataFrame(expected, columns=dfObserved.columns, index = dfObserved.index)\n",
    "            if p<alpha:\n",
    "                result=\"{0} is IMPORTANT for Prediction\".format(var)\n",
    "            else:\n",
    "                result=\"{0} is NOT important for Prediction. (Discard {0} from model)\".format(var)\n",
    "            print(result)\n",
    "        \n",
    "        for var in X_train_cat:\n",
    "            TestIndependence(X_train_cat[var],y_train, var)\n",
    "            "
   ]
  },
  {
   "cell_type": "code",
   "execution_count": 280,
   "id": "b6b2c7c6",
   "metadata": {},
   "outputs": [
    {
     "name": "stdout",
     "output_type": "stream",
     "text": [
      "\n",
      "--------------------------------------------------------\n",
      "SPLIT  1\n",
      "--------------------------------------------------------\n",
      "\n",
      "\n",
      "----------------- RFE ----------------------\n",
      "Year_Birth           False\n",
      "Comfort              False\n",
      "ReceptionSchedule    False\n",
      "FoodDrink            False\n",
      "Location             False\n",
      "Wifi                  True\n",
      "Amenities             True\n",
      "Staff                False\n",
      "OnlineBooking        False\n",
      "PriceQuality          True\n",
      "RoomSpace            False\n",
      "CheckOut             False\n",
      "Checkin              False\n",
      "Cleanliness          False\n",
      "BarService           False\n",
      "Rating1              False\n",
      "Rating2               True\n",
      "Rating3              False\n",
      "dtype: bool\n",
      "\n",
      "----------------- CHI-SQUARE ----------------------\n",
      "Longevity is IMPORTANT for Prediction\n",
      "TypeTravel is IMPORTANT for Prediction\n",
      "RoomType is IMPORTANT for Prediction\n",
      "RewardPoints_Bins is IMPORTANT for Prediction\n",
      "Gender is IMPORTANT for Prediction\n",
      "\n",
      "--------------------------------------------------------\n",
      "SPLIT  2\n",
      "--------------------------------------------------------\n",
      "\n",
      "\n",
      "----------------- RFE ----------------------\n",
      "Year_Birth           False\n",
      "Comfort              False\n",
      "ReceptionSchedule    False\n",
      "FoodDrink            False\n",
      "Location             False\n",
      "Wifi                 False\n",
      "Amenities             True\n",
      "Staff                False\n",
      "OnlineBooking        False\n",
      "PriceQuality          True\n",
      "RoomSpace             True\n",
      "CheckOut             False\n",
      "Checkin              False\n",
      "Cleanliness          False\n",
      "BarService           False\n",
      "Rating1              False\n",
      "Rating2               True\n",
      "Rating3              False\n",
      "dtype: bool\n",
      "\n",
      "----------------- CHI-SQUARE ----------------------\n",
      "Longevity is IMPORTANT for Prediction\n",
      "TypeTravel is IMPORTANT for Prediction\n",
      "RoomType is IMPORTANT for Prediction\n",
      "RewardPoints_Bins is IMPORTANT for Prediction\n",
      "Gender is IMPORTANT for Prediction\n",
      "\n",
      "--------------------------------------------------------\n",
      "SPLIT  3\n",
      "--------------------------------------------------------\n",
      "\n",
      "\n",
      "----------------- RFE ----------------------\n",
      "Year_Birth           False\n",
      "Comfort              False\n",
      "ReceptionSchedule    False\n",
      "FoodDrink            False\n",
      "Location             False\n",
      "Wifi                 False\n",
      "Amenities             True\n",
      "Staff                False\n",
      "OnlineBooking        False\n",
      "PriceQuality          True\n",
      "RoomSpace             True\n",
      "CheckOut             False\n",
      "Checkin              False\n",
      "Cleanliness          False\n",
      "BarService           False\n",
      "Rating1              False\n",
      "Rating2               True\n",
      "Rating3              False\n",
      "dtype: bool\n",
      "\n",
      "----------------- CHI-SQUARE ----------------------\n",
      "Longevity is IMPORTANT for Prediction\n",
      "TypeTravel is IMPORTANT for Prediction\n",
      "RoomType is IMPORTANT for Prediction\n",
      "RewardPoints_Bins is IMPORTANT for Prediction\n",
      "Gender is IMPORTANT for Prediction\n"
     ]
    }
   ],
   "source": [
    "select_best_features(data, target)"
   ]
  },
  {
   "cell_type": "code",
   "execution_count": null,
   "id": "85aa9c9c",
   "metadata": {},
   "outputs": [],
   "source": []
  },
  {
   "cell_type": "code",
   "execution_count": null,
   "id": "b5ac9321",
   "metadata": {},
   "outputs": [],
   "source": []
  },
  {
   "cell_type": "code",
   "execution_count": null,
   "id": "777fedd1",
   "metadata": {},
   "outputs": [],
   "source": []
  },
  {
   "cell_type": "markdown",
   "id": "9acf66ec",
   "metadata": {},
   "source": [
    "##### If we want to use Hold-out method"
   ]
  },
  {
   "cell_type": "code",
   "execution_count": 22,
   "id": "94003557",
   "metadata": {},
   "outputs": [],
   "source": [
    "from sklearn.model_selection import train_test_split"
   ]
  },
  {
   "cell_type": "code",
   "execution_count": 23,
   "id": "e4ac73ef",
   "metadata": {},
   "outputs": [],
   "source": [
    "X_train, X_val, y_train, y_val = train_test_split(data, \n",
    "                                                    target, \n",
    "                                                    test_size=0.2, \n",
    "                                                    random_state=15, \n",
    "                                                    shuffle=True, \n",
    "                                                    stratify=target\n",
    "                                                   )"
   ]
  },
  {
   "cell_type": "code",
   "execution_count": 24,
   "id": "b21612d2",
   "metadata": {},
   "outputs": [
    {
     "name": "stdout",
     "output_type": "stream",
     "text": [
      "train:0.8% | validation:0.2%\n"
     ]
    }
   ],
   "source": [
    "print('train:{}% | validation:{}%'.format(round(len(y_train)/len(target),2),\n",
    "                                                     round(len(y_val)/len(target),2)\n",
    "                                                    ))"
   ]
  },
  {
   "cell_type": "markdown",
   "id": "d5942780",
   "metadata": {},
   "source": [
    "##### Dividing DataSet between Numerical and Categorical data"
   ]
  },
  {
   "cell_type": "code",
   "execution_count": 25,
   "id": "0b7c06e2",
   "metadata": {},
   "outputs": [],
   "source": [
    "# Numerical data\n",
    "X_train_num = X_train.select_dtypes(include=np.number).set_index(X_train.index)\n",
    "X_val_num = X_val.select_dtypes(include=np.number).set_index(X_val.index)\n",
    "\n",
    "# Categorical data\n",
    "X_train_cat = X_train.select_dtypes(exclude=np.number).set_index(X_train.index)\n",
    "X_val_cat = X_val.select_dtypes(exclude=np.number).set_index(X_val.index)"
   ]
  },
  {
   "cell_type": "markdown",
   "id": "7b7d25c4",
   "metadata": {},
   "source": [
    "##### Scaling numerical data between 0 and 1"
   ]
  },
  {
   "cell_type": "code",
   "execution_count": 26,
   "id": "cc10ad41",
   "metadata": {},
   "outputs": [
    {
     "data": {
      "text/html": [
       "<div>\n",
       "<style scoped>\n",
       "    .dataframe tbody tr th:only-of-type {\n",
       "        vertical-align: middle;\n",
       "    }\n",
       "\n",
       "    .dataframe tbody tr th {\n",
       "        vertical-align: top;\n",
       "    }\n",
       "\n",
       "    .dataframe thead th {\n",
       "        text-align: right;\n",
       "    }\n",
       "</style>\n",
       "<table border=\"1\" class=\"dataframe\">\n",
       "  <thead>\n",
       "    <tr style=\"text-align: right;\">\n",
       "      <th></th>\n",
       "      <th>Year_Birth</th>\n",
       "      <th>RewardPoints</th>\n",
       "      <th>Comfort</th>\n",
       "      <th>ReceptionSchedule</th>\n",
       "      <th>FoodDrink</th>\n",
       "      <th>Location</th>\n",
       "      <th>Wifi</th>\n",
       "      <th>Amenities</th>\n",
       "      <th>Staff</th>\n",
       "      <th>OnlineBooking</th>\n",
       "      <th>PriceQuality</th>\n",
       "      <th>RoomSpace</th>\n",
       "      <th>CheckOut</th>\n",
       "      <th>Checkin</th>\n",
       "      <th>Cleanliness</th>\n",
       "      <th>BarService</th>\n",
       "    </tr>\n",
       "    <tr>\n",
       "      <th>Cust_ID</th>\n",
       "      <th></th>\n",
       "      <th></th>\n",
       "      <th></th>\n",
       "      <th></th>\n",
       "      <th></th>\n",
       "      <th></th>\n",
       "      <th></th>\n",
       "      <th></th>\n",
       "      <th></th>\n",
       "      <th></th>\n",
       "      <th></th>\n",
       "      <th></th>\n",
       "      <th></th>\n",
       "      <th></th>\n",
       "      <th></th>\n",
       "      <th></th>\n",
       "    </tr>\n",
       "  </thead>\n",
       "  <tbody>\n",
       "    <tr>\n",
       "      <th>9587</th>\n",
       "      <td>0.846154</td>\n",
       "      <td>0.508026</td>\n",
       "      <td>0.6</td>\n",
       "      <td>0.4</td>\n",
       "      <td>0.6</td>\n",
       "      <td>0.50</td>\n",
       "      <td>0.8</td>\n",
       "      <td>0.8</td>\n",
       "      <td>0.75</td>\n",
       "      <td>0.8</td>\n",
       "      <td>0.75</td>\n",
       "      <td>0.8</td>\n",
       "      <td>1.00</td>\n",
       "      <td>0.50</td>\n",
       "      <td>0.75</td>\n",
       "      <td>0.8</td>\n",
       "    </tr>\n",
       "    <tr>\n",
       "      <th>4281</th>\n",
       "      <td>0.551282</td>\n",
       "      <td>0.695459</td>\n",
       "      <td>0.2</td>\n",
       "      <td>0.2</td>\n",
       "      <td>0.2</td>\n",
       "      <td>0.75</td>\n",
       "      <td>0.2</td>\n",
       "      <td>0.2</td>\n",
       "      <td>0.00</td>\n",
       "      <td>0.6</td>\n",
       "      <td>1.00</td>\n",
       "      <td>0.4</td>\n",
       "      <td>0.75</td>\n",
       "      <td>0.00</td>\n",
       "      <td>0.75</td>\n",
       "      <td>0.2</td>\n",
       "    </tr>\n",
       "    <tr>\n",
       "      <th>6256</th>\n",
       "      <td>0.576923</td>\n",
       "      <td>0.153340</td>\n",
       "      <td>0.6</td>\n",
       "      <td>0.6</td>\n",
       "      <td>0.6</td>\n",
       "      <td>0.50</td>\n",
       "      <td>0.6</td>\n",
       "      <td>0.2</td>\n",
       "      <td>0.00</td>\n",
       "      <td>0.6</td>\n",
       "      <td>1.00</td>\n",
       "      <td>0.8</td>\n",
       "      <td>0.75</td>\n",
       "      <td>0.00</td>\n",
       "      <td>1.00</td>\n",
       "      <td>0.2</td>\n",
       "    </tr>\n",
       "    <tr>\n",
       "      <th>10584</th>\n",
       "      <td>0.358974</td>\n",
       "      <td>0.941752</td>\n",
       "      <td>0.6</td>\n",
       "      <td>1.0</td>\n",
       "      <td>1.0</td>\n",
       "      <td>1.00</td>\n",
       "      <td>0.2</td>\n",
       "      <td>0.6</td>\n",
       "      <td>0.75</td>\n",
       "      <td>0.6</td>\n",
       "      <td>0.50</td>\n",
       "      <td>0.6</td>\n",
       "      <td>0.50</td>\n",
       "      <td>0.50</td>\n",
       "      <td>0.50</td>\n",
       "      <td>0.6</td>\n",
       "    </tr>\n",
       "    <tr>\n",
       "      <th>9339</th>\n",
       "      <td>0.384615</td>\n",
       "      <td>0.912399</td>\n",
       "      <td>1.0</td>\n",
       "      <td>1.0</td>\n",
       "      <td>1.0</td>\n",
       "      <td>1.00</td>\n",
       "      <td>1.0</td>\n",
       "      <td>1.0</td>\n",
       "      <td>0.75</td>\n",
       "      <td>1.0</td>\n",
       "      <td>1.00</td>\n",
       "      <td>1.0</td>\n",
       "      <td>1.00</td>\n",
       "      <td>0.75</td>\n",
       "      <td>1.00</td>\n",
       "      <td>0.6</td>\n",
       "    </tr>\n",
       "  </tbody>\n",
       "</table>\n",
       "</div>"
      ],
      "text/plain": [
       "         Year_Birth  RewardPoints  Comfort  ReceptionSchedule  FoodDrink  \\\n",
       "Cust_ID                                                                    \n",
       "9587       0.846154      0.508026      0.6                0.4        0.6   \n",
       "4281       0.551282      0.695459      0.2                0.2        0.2   \n",
       "6256       0.576923      0.153340      0.6                0.6        0.6   \n",
       "10584      0.358974      0.941752      0.6                1.0        1.0   \n",
       "9339       0.384615      0.912399      1.0                1.0        1.0   \n",
       "\n",
       "         Location  Wifi  Amenities  Staff  OnlineBooking  PriceQuality  \\\n",
       "Cust_ID                                                                  \n",
       "9587         0.50   0.8        0.8   0.75            0.8          0.75   \n",
       "4281         0.75   0.2        0.2   0.00            0.6          1.00   \n",
       "6256         0.50   0.6        0.2   0.00            0.6          1.00   \n",
       "10584        1.00   0.2        0.6   0.75            0.6          0.50   \n",
       "9339         1.00   1.0        1.0   0.75            1.0          1.00   \n",
       "\n",
       "         RoomSpace  CheckOut  Checkin  Cleanliness  BarService  \n",
       "Cust_ID                                                         \n",
       "9587           0.8      1.00     0.50         0.75         0.8  \n",
       "4281           0.4      0.75     0.00         0.75         0.2  \n",
       "6256           0.8      0.75     0.00         1.00         0.2  \n",
       "10584          0.6      0.50     0.50         0.50         0.6  \n",
       "9339           1.0      1.00     0.75         1.00         0.6  "
      ]
     },
     "execution_count": 26,
     "metadata": {},
     "output_type": "execute_result"
    }
   ],
   "source": [
    "scaler = MinMaxScaler()\n",
    "scaler.fit(X_train_num)\n",
    "X_train_num_scaled = scaler.transform(X_train_num) # this will return an array\n",
    "X_train_num_scaled = pd.DataFrame(X_train_num_scaled, columns = X_train_num.columns, index = X_train.index) # Convert the array to a pandas dataframe\n",
    "X_train_num_scaled.head(5)"
   ]
  },
  {
   "cell_type": "code",
   "execution_count": 27,
   "id": "4d541e5b",
   "metadata": {},
   "outputs": [
    {
     "data": {
      "text/html": [
       "<div>\n",
       "<style scoped>\n",
       "    .dataframe tbody tr th:only-of-type {\n",
       "        vertical-align: middle;\n",
       "    }\n",
       "\n",
       "    .dataframe tbody tr th {\n",
       "        vertical-align: top;\n",
       "    }\n",
       "\n",
       "    .dataframe thead th {\n",
       "        text-align: right;\n",
       "    }\n",
       "</style>\n",
       "<table border=\"1\" class=\"dataframe\">\n",
       "  <thead>\n",
       "    <tr style=\"text-align: right;\">\n",
       "      <th></th>\n",
       "      <th>Year_Birth</th>\n",
       "      <th>RewardPoints</th>\n",
       "      <th>Comfort</th>\n",
       "      <th>ReceptionSchedule</th>\n",
       "      <th>FoodDrink</th>\n",
       "      <th>Location</th>\n",
       "      <th>Wifi</th>\n",
       "      <th>Amenities</th>\n",
       "      <th>Staff</th>\n",
       "      <th>OnlineBooking</th>\n",
       "      <th>PriceQuality</th>\n",
       "      <th>RoomSpace</th>\n",
       "      <th>CheckOut</th>\n",
       "      <th>Checkin</th>\n",
       "      <th>Cleanliness</th>\n",
       "      <th>BarService</th>\n",
       "    </tr>\n",
       "    <tr>\n",
       "      <th>Cust_ID</th>\n",
       "      <th></th>\n",
       "      <th></th>\n",
       "      <th></th>\n",
       "      <th></th>\n",
       "      <th></th>\n",
       "      <th></th>\n",
       "      <th></th>\n",
       "      <th></th>\n",
       "      <th></th>\n",
       "      <th></th>\n",
       "      <th></th>\n",
       "      <th></th>\n",
       "      <th></th>\n",
       "      <th></th>\n",
       "      <th></th>\n",
       "      <th></th>\n",
       "    </tr>\n",
       "  </thead>\n",
       "  <tbody>\n",
       "    <tr>\n",
       "      <th>6798</th>\n",
       "      <td>0.346154</td>\n",
       "      <td>0.423024</td>\n",
       "      <td>0.6</td>\n",
       "      <td>0.8</td>\n",
       "      <td>0.8</td>\n",
       "      <td>0.75</td>\n",
       "      <td>0.6</td>\n",
       "      <td>0.6</td>\n",
       "      <td>0.50</td>\n",
       "      <td>0.6</td>\n",
       "      <td>0.50</td>\n",
       "      <td>0.6</td>\n",
       "      <td>0.50</td>\n",
       "      <td>0.25</td>\n",
       "      <td>0.50</td>\n",
       "      <td>0.6</td>\n",
       "    </tr>\n",
       "    <tr>\n",
       "      <th>7661</th>\n",
       "      <td>0.564103</td>\n",
       "      <td>0.753096</td>\n",
       "      <td>0.4</td>\n",
       "      <td>0.4</td>\n",
       "      <td>0.4</td>\n",
       "      <td>0.25</td>\n",
       "      <td>0.8</td>\n",
       "      <td>1.0</td>\n",
       "      <td>1.00</td>\n",
       "      <td>0.8</td>\n",
       "      <td>0.75</td>\n",
       "      <td>0.8</td>\n",
       "      <td>0.75</td>\n",
       "      <td>0.75</td>\n",
       "      <td>0.75</td>\n",
       "      <td>0.6</td>\n",
       "    </tr>\n",
       "    <tr>\n",
       "      <th>5965</th>\n",
       "      <td>0.602564</td>\n",
       "      <td>0.735514</td>\n",
       "      <td>0.6</td>\n",
       "      <td>0.6</td>\n",
       "      <td>0.4</td>\n",
       "      <td>0.50</td>\n",
       "      <td>1.0</td>\n",
       "      <td>0.8</td>\n",
       "      <td>1.00</td>\n",
       "      <td>0.6</td>\n",
       "      <td>0.50</td>\n",
       "      <td>0.6</td>\n",
       "      <td>0.50</td>\n",
       "      <td>0.50</td>\n",
       "      <td>0.50</td>\n",
       "      <td>1.0</td>\n",
       "    </tr>\n",
       "    <tr>\n",
       "      <th>1171</th>\n",
       "      <td>0.974359</td>\n",
       "      <td>0.689344</td>\n",
       "      <td>0.2</td>\n",
       "      <td>0.8</td>\n",
       "      <td>0.2</td>\n",
       "      <td>0.50</td>\n",
       "      <td>0.4</td>\n",
       "      <td>0.2</td>\n",
       "      <td>0.25</td>\n",
       "      <td>0.4</td>\n",
       "      <td>1.00</td>\n",
       "      <td>0.8</td>\n",
       "      <td>0.75</td>\n",
       "      <td>0.75</td>\n",
       "      <td>0.75</td>\n",
       "      <td>0.4</td>\n",
       "    </tr>\n",
       "    <tr>\n",
       "      <th>11840</th>\n",
       "      <td>0.756410</td>\n",
       "      <td>0.604953</td>\n",
       "      <td>0.4</td>\n",
       "      <td>0.4</td>\n",
       "      <td>0.4</td>\n",
       "      <td>0.75</td>\n",
       "      <td>0.8</td>\n",
       "      <td>0.4</td>\n",
       "      <td>0.75</td>\n",
       "      <td>0.8</td>\n",
       "      <td>0.50</td>\n",
       "      <td>1.0</td>\n",
       "      <td>0.75</td>\n",
       "      <td>0.75</td>\n",
       "      <td>1.00</td>\n",
       "      <td>0.8</td>\n",
       "    </tr>\n",
       "  </tbody>\n",
       "</table>\n",
       "</div>"
      ],
      "text/plain": [
       "         Year_Birth  RewardPoints  Comfort  ReceptionSchedule  FoodDrink  \\\n",
       "Cust_ID                                                                    \n",
       "6798       0.346154      0.423024      0.6                0.8        0.8   \n",
       "7661       0.564103      0.753096      0.4                0.4        0.4   \n",
       "5965       0.602564      0.735514      0.6                0.6        0.4   \n",
       "1171       0.974359      0.689344      0.2                0.8        0.2   \n",
       "11840      0.756410      0.604953      0.4                0.4        0.4   \n",
       "\n",
       "         Location  Wifi  Amenities  Staff  OnlineBooking  PriceQuality  \\\n",
       "Cust_ID                                                                  \n",
       "6798         0.75   0.6        0.6   0.50            0.6          0.50   \n",
       "7661         0.25   0.8        1.0   1.00            0.8          0.75   \n",
       "5965         0.50   1.0        0.8   1.00            0.6          0.50   \n",
       "1171         0.50   0.4        0.2   0.25            0.4          1.00   \n",
       "11840        0.75   0.8        0.4   0.75            0.8          0.50   \n",
       "\n",
       "         RoomSpace  CheckOut  Checkin  Cleanliness  BarService  \n",
       "Cust_ID                                                         \n",
       "6798           0.6      0.50     0.25         0.50         0.6  \n",
       "7661           0.8      0.75     0.75         0.75         0.6  \n",
       "5965           0.6      0.50     0.50         0.50         1.0  \n",
       "1171           0.8      0.75     0.75         0.75         0.4  \n",
       "11840          1.0      0.75     0.75         1.00         0.8  "
      ]
     },
     "execution_count": 27,
     "metadata": {},
     "output_type": "execute_result"
    }
   ],
   "source": [
    "X_val_num_scaled = scaler.transform(X_val_num)\n",
    "X_val_num_scaled = pd.DataFrame(X_val_num_scaled, columns = X_val_num.columns, index = X_val.index)\n",
    "X_val_num_scaled.head(5)"
   ]
  },
  {
   "cell_type": "markdown",
   "id": "8633670d",
   "metadata": {},
   "source": [
    "### Feature Selection"
   ]
  },
  {
   "cell_type": "code",
   "execution_count": null,
   "id": "c309294a",
   "metadata": {},
   "outputs": [],
   "source": []
  },
  {
   "cell_type": "markdown",
   "id": "0c94b300",
   "metadata": {},
   "source": [
    "----"
   ]
  },
  {
   "cell_type": "markdown",
   "id": "f5269616",
   "metadata": {},
   "source": [
    "#### Apply Logistic Regression"
   ]
  },
  {
   "cell_type": "code",
   "execution_count": 77,
   "id": "4fd792e4",
   "metadata": {},
   "outputs": [],
   "source": [
    "from sklearn.linear_model import LogisticRegression"
   ]
  },
  {
   "cell_type": "code",
   "execution_count": null,
   "id": "6aa24a5f",
   "metadata": {},
   "outputs": [],
   "source": [
    "log_model = LogisticRegression()\n",
    "log_model.fit(X_train, y_train)"
   ]
  },
  {
   "cell_type": "code",
   "execution_count": null,
   "id": "96400823",
   "metadata": {},
   "outputs": [],
   "source": [
    "print('Train:', log_model.score(X_train, y_train))\n",
    "print('Validation:', log_model.score(X_val, y_val))"
   ]
  },
  {
   "cell_type": "markdown",
   "id": "b63789a4",
   "metadata": {},
   "source": [
    "----"
   ]
  },
  {
   "cell_type": "markdown",
   "id": "193825d5",
   "metadata": {},
   "source": [
    "##### K-Fold Cross Validation"
   ]
  },
  {
   "cell_type": "code",
   "execution_count": null,
   "id": "6826b621",
   "metadata": {},
   "outputs": [],
   "source": [
    "from sklearn.linear_model import LogisticRegression"
   ]
  },
  {
   "cell_type": "markdown",
   "id": "9ab2212a",
   "metadata": {},
   "source": [
    "----\n",
    "##### Notes from initial pre-processing and test file\n",
    "- We have a minimum age of 8 years and max of 81 in the test file\n",
    "- Min 8 and max 86 in the train file"
   ]
  }
 ],
 "metadata": {
  "kernelspec": {
   "display_name": "Python 3 (ipykernel)",
   "language": "python",
   "name": "python3"
  },
  "language_info": {
   "codemirror_mode": {
    "name": "ipython",
    "version": 3
   },
   "file_extension": ".py",
   "mimetype": "text/x-python",
   "name": "python",
   "nbconvert_exporter": "python",
   "pygments_lexer": "ipython3",
   "version": "3.9.12"
  }
 },
 "nbformat": 4,
 "nbformat_minor": 5
}
