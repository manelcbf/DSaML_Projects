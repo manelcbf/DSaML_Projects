{
 "cells": [
  {
   "cell_type": "markdown",
   "id": "fd56bc3c",
   "metadata": {},
   "source": [
    "<h1 id=\"header\">BookMe Company</h1>"
   ]
  },
  {
   "cell_type": "markdown",
   "id": "4483c4c0",
   "metadata": {},
   "source": [
    "### Supervised Project"
   ]
  },
  {
   "cell_type": "code",
   "execution_count": 2,
   "id": "1895b2f7",
   "metadata": {},
   "outputs": [],
   "source": [
    "# Relevant Package Importing\n",
    "import pandas as pd\n",
    "import numpy as np\n",
    "import matplotlib.pyplot as plt\n",
    "import seaborn as sns\n",
    "from sklearn.feature_selection import RFE\n",
    "import scipy.stats as stats\n",
    "from scipy.stats import chi2_contingency\n",
    "# Scaling\n",
    "from sklearn.preprocessing import MinMaxScaler\n",
    "# Models\n",
    "from sklearn.neighbors import KNeighborsClassifier\n",
    "from sklearn.linear_model import LogisticRegression\n",
    "# Model Assessment\n",
    "from sklearn.model_selection import train_test_split\n",
    "from sklearn.model_selection import StratifiedKFold\n",
    "from sklearn.metrics import f1_score\n",
    "import warnings\n",
    "warnings.filterwarnings('ignore')"
   ]
  },
  {
   "cell_type": "markdown",
   "id": "dc23668a",
   "metadata": {},
   "source": [
    "### Pre-Processing\n"
   ]
  },
  {
   "cell_type": "code",
   "execution_count": 22,
   "id": "314e5c5f",
   "metadata": {},
   "outputs": [
    {
     "data": {
      "text/html": [
       "<div>\n",
       "<style scoped>\n",
       "    .dataframe tbody tr th:only-of-type {\n",
       "        vertical-align: middle;\n",
       "    }\n",
       "\n",
       "    .dataframe tbody tr th {\n",
       "        vertical-align: top;\n",
       "    }\n",
       "\n",
       "    .dataframe thead th {\n",
       "        text-align: right;\n",
       "    }\n",
       "</style>\n",
       "<table border=\"1\" class=\"dataframe\">\n",
       "  <thead>\n",
       "    <tr style=\"text-align: right;\">\n",
       "      <th></th>\n",
       "      <th>Cust_ID</th>\n",
       "      <th>Churn</th>\n",
       "      <th>Name</th>\n",
       "      <th>Longevity</th>\n",
       "      <th>Year_Birth</th>\n",
       "      <th>TypeTravel</th>\n",
       "      <th>RoomType</th>\n",
       "      <th>RewardPoints</th>\n",
       "      <th>Comfort</th>\n",
       "      <th>ReceptionSchedule</th>\n",
       "      <th>...</th>\n",
       "      <th>Wifi</th>\n",
       "      <th>Amenities</th>\n",
       "      <th>Staff</th>\n",
       "      <th>OnlineBooking</th>\n",
       "      <th>PriceQuality</th>\n",
       "      <th>RoomSpace</th>\n",
       "      <th>CheckOut</th>\n",
       "      <th>Checkin</th>\n",
       "      <th>Cleanliness</th>\n",
       "      <th>BarService</th>\n",
       "    </tr>\n",
       "  </thead>\n",
       "  <tbody>\n",
       "  </tbody>\n",
       "</table>\n",
       "<p>0 rows × 22 columns</p>\n",
       "</div>"
      ],
      "text/plain": [
       "Empty DataFrame\n",
       "Columns: [Cust_ID, Churn, Name, Longevity, Year_Birth, TypeTravel, RoomType, RewardPoints, Comfort, ReceptionSchedule, FoodDrink, Location, Wifi, Amenities, Staff, OnlineBooking, PriceQuality, RoomSpace, CheckOut, Checkin, Cleanliness, BarService]\n",
       "Index: []\n",
       "\n",
       "[0 rows x 22 columns]"
      ]
     },
     "execution_count": 22,
     "metadata": {},
     "output_type": "execute_result"
    }
   ],
   "source": [
    "#Import Data from cluster.csv\n",
    "db = pd.read_csv('train.csv')\n",
    "db[db.duplicated(keep = False)] # We don't have duplicates"
   ]
  },
  {
   "cell_type": "markdown",
   "id": "ac7b125b",
   "metadata": {},
   "source": [
    "##### There aren't any duplicates in our data"
   ]
  },
  {
   "cell_type": "markdown",
   "id": "41c90545",
   "metadata": {},
   "source": [
    "##### Set Customer ID as Index"
   ]
  },
  {
   "cell_type": "code",
   "execution_count": 23,
   "id": "9c36d4b1",
   "metadata": {},
   "outputs": [],
   "source": [
    "db.set_index('Cust_ID', inplace = True)"
   ]
  },
  {
   "cell_type": "markdown",
   "id": "e0a521b6",
   "metadata": {},
   "source": [
    "##### Devide Target from data"
   ]
  },
  {
   "cell_type": "code",
   "execution_count": 24,
   "id": "b471c2c6",
   "metadata": {},
   "outputs": [],
   "source": [
    "data = db.drop(['Churn'], axis=1)\n",
    "target = db['Churn']"
   ]
  },
  {
   "cell_type": "code",
   "execution_count": 25,
   "id": "c2eacca0",
   "metadata": {},
   "outputs": [
    {
     "name": "stdout",
     "output_type": "stream",
     "text": [
      "<class 'pandas.core.frame.DataFrame'>\n",
      "Int64Index: 15589 entries, 1 to 15589\n",
      "Data columns (total 20 columns):\n",
      " #   Column             Non-Null Count  Dtype  \n",
      "---  ------             --------------  -----  \n",
      " 0   Name               15589 non-null  object \n",
      " 1   Longevity          15589 non-null  object \n",
      " 2   Year_Birth         15394 non-null  float64\n",
      " 3   TypeTravel         15589 non-null  object \n",
      " 4   RoomType           15589 non-null  object \n",
      " 5   RewardPoints       15589 non-null  int64  \n",
      " 6   Comfort            15589 non-null  int64  \n",
      " 7   ReceptionSchedule  15589 non-null  int64  \n",
      " 8   FoodDrink          15589 non-null  int64  \n",
      " 9   Location           15589 non-null  int64  \n",
      " 10  Wifi               15589 non-null  int64  \n",
      " 11  Amenities          15589 non-null  int64  \n",
      " 12  Staff              15589 non-null  int64  \n",
      " 13  OnlineBooking      15589 non-null  int64  \n",
      " 14  PriceQuality       15589 non-null  int64  \n",
      " 15  RoomSpace          15589 non-null  int64  \n",
      " 16  CheckOut           15589 non-null  int64  \n",
      " 17  Checkin            15589 non-null  int64  \n",
      " 18  Cleanliness        15589 non-null  int64  \n",
      " 19  BarService         15589 non-null  int64  \n",
      "dtypes: float64(1), int64(15), object(4)\n",
      "memory usage: 2.5+ MB\n"
     ]
    }
   ],
   "source": [
    "data.info()"
   ]
  },
  {
   "cell_type": "markdown",
   "id": "f2158330",
   "metadata": {},
   "source": [
    "Data types:\n",
    "- We'll need to change the data types of all the int64 to int4 or int8 after normalization\n",
    "- We have nulls in the year of birth variable"
   ]
  },
  {
   "cell_type": "markdown",
   "id": "ad1a059a",
   "metadata": {},
   "source": [
    "##### Separate Numerical from Categorical Data"
   ]
  },
  {
   "cell_type": "code",
   "execution_count": 55,
   "id": "c3638d2e",
   "metadata": {},
   "outputs": [
    {
     "name": "stdout",
     "output_type": "stream",
     "text": [
      "Index(['Year_Birth', 'RewardPoints', 'Comfort', 'ReceptionSchedule',\n",
      "       'FoodDrink', 'Location', 'Wifi', 'Amenities', 'Staff', 'OnlineBooking',\n",
      "       'PriceQuality', 'RoomSpace', 'CheckOut', 'Checkin', 'Cleanliness',\n",
      "       'BarService'],\n",
      "      dtype='object')\n",
      "Index(['Name', 'Longevity', 'TypeTravel', 'RoomType'], dtype='object')\n"
     ]
    }
   ],
   "source": [
    "num_var = data.select_dtypes(include=np.number).set_index(data.index).columns\n",
    "car_var = data.select_dtypes(exclude=np.number).set_index(data.index).columns\n",
    "print(num_var)\n",
    "print(cat_var)"
   ]
  },
  {
   "cell_type": "markdown",
   "id": "b7fbed17",
   "metadata": {},
   "source": [
    "##### Replace incorrect performance values"
   ]
  },
  {
   "cell_type": "code",
   "execution_count": 27,
   "id": "d0a4a245",
   "metadata": {},
   "outputs": [
    {
     "data": {
      "text/html": [
       "<div>\n",
       "<style scoped>\n",
       "    .dataframe tbody tr th:only-of-type {\n",
       "        vertical-align: middle;\n",
       "    }\n",
       "\n",
       "    .dataframe tbody tr th {\n",
       "        vertical-align: top;\n",
       "    }\n",
       "\n",
       "    .dataframe thead th {\n",
       "        text-align: right;\n",
       "    }\n",
       "</style>\n",
       "<table border=\"1\" class=\"dataframe\">\n",
       "  <thead>\n",
       "    <tr style=\"text-align: right;\">\n",
       "      <th></th>\n",
       "      <th>Year_Birth</th>\n",
       "      <th>RewardPoints</th>\n",
       "      <th>Comfort</th>\n",
       "      <th>ReceptionSchedule</th>\n",
       "      <th>FoodDrink</th>\n",
       "      <th>Location</th>\n",
       "      <th>Wifi</th>\n",
       "      <th>Amenities</th>\n",
       "      <th>Staff</th>\n",
       "      <th>OnlineBooking</th>\n",
       "      <th>PriceQuality</th>\n",
       "      <th>RoomSpace</th>\n",
       "      <th>CheckOut</th>\n",
       "      <th>Checkin</th>\n",
       "      <th>Cleanliness</th>\n",
       "      <th>BarService</th>\n",
       "    </tr>\n",
       "  </thead>\n",
       "  <tbody>\n",
       "    <tr>\n",
       "      <th>count</th>\n",
       "      <td>15394.000000</td>\n",
       "      <td>15589.000000</td>\n",
       "      <td>15589.000000</td>\n",
       "      <td>15589.000000</td>\n",
       "      <td>15589.000000</td>\n",
       "      <td>15589.000000</td>\n",
       "      <td>15589.000000</td>\n",
       "      <td>15589.000000</td>\n",
       "      <td>15589.000000</td>\n",
       "      <td>15589.000000</td>\n",
       "      <td>15589.000000</td>\n",
       "      <td>15589.000000</td>\n",
       "      <td>15589.000000</td>\n",
       "      <td>15589.000000</td>\n",
       "      <td>15589.000000</td>\n",
       "      <td>15589.000000</td>\n",
       "    </tr>\n",
       "    <tr>\n",
       "      <th>mean</th>\n",
       "      <td>1981.706444</td>\n",
       "      <td>5022.593816</td>\n",
       "      <td>2.841619</td>\n",
       "      <td>2.997242</td>\n",
       "      <td>2.844570</td>\n",
       "      <td>2.986016</td>\n",
       "      <td>3.245109</td>\n",
       "      <td>3.374816</td>\n",
       "      <td>3.506383</td>\n",
       "      <td>3.454231</td>\n",
       "      <td>3.459683</td>\n",
       "      <td>3.470845</td>\n",
       "      <td>3.700558</td>\n",
       "      <td>3.327282</td>\n",
       "      <td>3.692347</td>\n",
       "      <td>3.347360</td>\n",
       "    </tr>\n",
       "    <tr>\n",
       "      <th>std</th>\n",
       "      <td>15.179042</td>\n",
       "      <td>1027.962379</td>\n",
       "      <td>1.388624</td>\n",
       "      <td>1.518994</td>\n",
       "      <td>1.436948</td>\n",
       "      <td>1.299438</td>\n",
       "      <td>1.327026</td>\n",
       "      <td>1.352417</td>\n",
       "      <td>1.319565</td>\n",
       "      <td>1.310343</td>\n",
       "      <td>1.268130</td>\n",
       "      <td>1.293873</td>\n",
       "      <td>1.158644</td>\n",
       "      <td>1.266872</td>\n",
       "      <td>1.154437</td>\n",
       "      <td>1.300452</td>\n",
       "    </tr>\n",
       "    <tr>\n",
       "      <th>min</th>\n",
       "      <td>1936.000000</td>\n",
       "      <td>409.000000</td>\n",
       "      <td>0.000000</td>\n",
       "      <td>0.000000</td>\n",
       "      <td>0.000000</td>\n",
       "      <td>1.000000</td>\n",
       "      <td>0.000000</td>\n",
       "      <td>0.000000</td>\n",
       "      <td>1.000000</td>\n",
       "      <td>0.000000</td>\n",
       "      <td>1.000000</td>\n",
       "      <td>0.000000</td>\n",
       "      <td>1.000000</td>\n",
       "      <td>1.000000</td>\n",
       "      <td>1.000000</td>\n",
       "      <td>0.000000</td>\n",
       "    </tr>\n",
       "    <tr>\n",
       "      <th>25%</th>\n",
       "      <td>1970.000000</td>\n",
       "      <td>4445.000000</td>\n",
       "      <td>2.000000</td>\n",
       "      <td>2.000000</td>\n",
       "      <td>2.000000</td>\n",
       "      <td>2.000000</td>\n",
       "      <td>2.000000</td>\n",
       "      <td>2.000000</td>\n",
       "      <td>3.000000</td>\n",
       "      <td>2.000000</td>\n",
       "      <td>3.000000</td>\n",
       "      <td>2.000000</td>\n",
       "      <td>3.000000</td>\n",
       "      <td>3.000000</td>\n",
       "      <td>3.000000</td>\n",
       "      <td>2.000000</td>\n",
       "    </tr>\n",
       "    <tr>\n",
       "      <th>50%</th>\n",
       "      <td>1981.000000</td>\n",
       "      <td>5088.000000</td>\n",
       "      <td>3.000000</td>\n",
       "      <td>3.000000</td>\n",
       "      <td>3.000000</td>\n",
       "      <td>3.000000</td>\n",
       "      <td>3.000000</td>\n",
       "      <td>4.000000</td>\n",
       "      <td>4.000000</td>\n",
       "      <td>4.000000</td>\n",
       "      <td>4.000000</td>\n",
       "      <td>4.000000</td>\n",
       "      <td>4.000000</td>\n",
       "      <td>3.000000</td>\n",
       "      <td>4.000000</td>\n",
       "      <td>3.000000</td>\n",
       "    </tr>\n",
       "    <tr>\n",
       "      <th>75%</th>\n",
       "      <td>1994.000000</td>\n",
       "      <td>5649.000000</td>\n",
       "      <td>4.000000</td>\n",
       "      <td>4.000000</td>\n",
       "      <td>4.000000</td>\n",
       "      <td>4.000000</td>\n",
       "      <td>4.000000</td>\n",
       "      <td>4.000000</td>\n",
       "      <td>5.000000</td>\n",
       "      <td>5.000000</td>\n",
       "      <td>4.000000</td>\n",
       "      <td>5.000000</td>\n",
       "      <td>5.000000</td>\n",
       "      <td>4.000000</td>\n",
       "      <td>5.000000</td>\n",
       "      <td>4.000000</td>\n",
       "    </tr>\n",
       "    <tr>\n",
       "      <th>max</th>\n",
       "      <td>2014.000000</td>\n",
       "      <td>6950.000000</td>\n",
       "      <td>5.000000</td>\n",
       "      <td>5.000000</td>\n",
       "      <td>5.000000</td>\n",
       "      <td>5.000000</td>\n",
       "      <td>6.000000</td>\n",
       "      <td>5.000000</td>\n",
       "      <td>5.000000</td>\n",
       "      <td>5.000000</td>\n",
       "      <td>5.000000</td>\n",
       "      <td>5.000000</td>\n",
       "      <td>5.000000</td>\n",
       "      <td>5.000000</td>\n",
       "      <td>5.000000</td>\n",
       "      <td>5.000000</td>\n",
       "    </tr>\n",
       "  </tbody>\n",
       "</table>\n",
       "</div>"
      ],
      "text/plain": [
       "         Year_Birth  RewardPoints       Comfort  ReceptionSchedule  \\\n",
       "count  15394.000000  15589.000000  15589.000000       15589.000000   \n",
       "mean    1981.706444   5022.593816      2.841619           2.997242   \n",
       "std       15.179042   1027.962379      1.388624           1.518994   \n",
       "min     1936.000000    409.000000      0.000000           0.000000   \n",
       "25%     1970.000000   4445.000000      2.000000           2.000000   \n",
       "50%     1981.000000   5088.000000      3.000000           3.000000   \n",
       "75%     1994.000000   5649.000000      4.000000           4.000000   \n",
       "max     2014.000000   6950.000000      5.000000           5.000000   \n",
       "\n",
       "          FoodDrink      Location          Wifi     Amenities         Staff  \\\n",
       "count  15589.000000  15589.000000  15589.000000  15589.000000  15589.000000   \n",
       "mean       2.844570      2.986016      3.245109      3.374816      3.506383   \n",
       "std        1.436948      1.299438      1.327026      1.352417      1.319565   \n",
       "min        0.000000      1.000000      0.000000      0.000000      1.000000   \n",
       "25%        2.000000      2.000000      2.000000      2.000000      3.000000   \n",
       "50%        3.000000      3.000000      3.000000      4.000000      4.000000   \n",
       "75%        4.000000      4.000000      4.000000      4.000000      5.000000   \n",
       "max        5.000000      5.000000      6.000000      5.000000      5.000000   \n",
       "\n",
       "       OnlineBooking  PriceQuality     RoomSpace      CheckOut       Checkin  \\\n",
       "count   15589.000000  15589.000000  15589.000000  15589.000000  15589.000000   \n",
       "mean        3.454231      3.459683      3.470845      3.700558      3.327282   \n",
       "std         1.310343      1.268130      1.293873      1.158644      1.266872   \n",
       "min         0.000000      1.000000      0.000000      1.000000      1.000000   \n",
       "25%         2.000000      3.000000      2.000000      3.000000      3.000000   \n",
       "50%         4.000000      4.000000      4.000000      4.000000      3.000000   \n",
       "75%         5.000000      4.000000      5.000000      5.000000      4.000000   \n",
       "max         5.000000      5.000000      5.000000      5.000000      5.000000   \n",
       "\n",
       "        Cleanliness    BarService  \n",
       "count  15589.000000  15589.000000  \n",
       "mean       3.692347      3.347360  \n",
       "std        1.154437      1.300452  \n",
       "min        1.000000      0.000000  \n",
       "25%        3.000000      2.000000  \n",
       "50%        4.000000      3.000000  \n",
       "75%        5.000000      4.000000  \n",
       "max        5.000000      5.000000  "
      ]
     },
     "execution_count": 27,
     "metadata": {},
     "output_type": "execute_result"
    }
   ],
   "source": [
    "data[num_var].describe()"
   ]
  },
  {
   "cell_type": "code",
   "execution_count": 53,
   "id": "1a821cf7",
   "metadata": {},
   "outputs": [
    {
     "name": "stdout",
     "output_type": "stream",
     "text": [
      "2525\n",
      "25447\n",
      "34395\n",
      "45349\n",
      "62009\n",
      "48485\n",
      "36\n"
     ]
    }
   ],
   "source": [
    "print((data.loc[:, 'Comfort':] == 0).sum().sum())\n",
    "print((data.loc[:, 'Comfort':] == 1).sum().sum())\n",
    "print((data.loc[:, 'Comfort':] == 2).sum().sum())\n",
    "print((data.loc[:, 'Comfort':] == 3).sum().sum())\n",
    "print((data.loc[:, 'Comfort':] == 4).sum().sum())\n",
    "print((data.loc[:, 'Comfort':] == 5).sum().sum())\n",
    "print((data.loc[:, 'Comfort':] == 6).sum().sum())"
   ]
  },
  {
   "cell_type": "markdown",
   "id": "10b8c219",
   "metadata": {},
   "source": [
    "About valuation of Customer Satisfaction\n",
    "- 0.01% of valuation 6 --> To remove the 6\n",
    "- 1.2% of valuation 0 --> seams legit. Keep the 0"
   ]
  },
  {
   "cell_type": "markdown",
   "id": "8c23bf4d",
   "metadata": {},
   "source": [
    "##### Transformations to be made\n",
    "- Remove 6 from Wifi Valuations\n",
    "- Transform all 'y' to 'yes' in Longevity\n",
    "- Create bins from Reward Points\n",
    "- Create variable Gender from the name variable & Drop name variable"
   ]
  },
  {
   "cell_type": "markdown",
   "id": "acc96fa1",
   "metadata": {},
   "source": [
    "##### Make transformations onle after separating training from validation"
   ]
  },
  {
   "cell_type": "code",
   "execution_count": 11,
   "id": "b9f5760c",
   "metadata": {},
   "outputs": [],
   "source": [
    "data[num_var]['Wifi'] = data[num_var]['Wifi'].replace(6,5)\n",
    "data[car_var]['Longevity'] = data[car_var]['Longevity'].replace('y','yes')"
   ]
  },
  {
   "cell_type": "code",
   "execution_count": null,
   "id": "7a435a48",
   "metadata": {},
   "outputs": [],
   "source": [
    "data[num_var]['RewardPoints_Bins'] = pd.cut(data[num_var]['RewardPoints'], 4, labels=['Bronze', 'Silver', 'Gold', 'Platinum'])\n",
    "data[num_var]['RewardPoints_Bins'] = data[num_var]['RewardPoints_Bins'].replace('Bronze',0).replace('Silver',1).replace('Gold',2).replace('Platinum',3)\n",
    "data[num_var].drop(columns = ['RewardPoints'], axis=1, inplace=True)"
   ]
  },
  {
   "cell_type": "code",
   "execution_count": 59,
   "id": "4feec039",
   "metadata": {},
   "outputs": [
    {
     "data": {
      "text/plain": [
       "Cust_ID\n",
       "1        Ms.\n",
       "2        Mr.\n",
       "3        Mr.\n",
       "4        Ms.\n",
       "5        Mr.\n",
       "        ... \n",
       "15585    Ms.\n",
       "15586    Ms.\n",
       "15587    Mr.\n",
       "15588    Mr.\n",
       "15589    Mr.\n",
       "Name: 0, Length: 15589, dtype: object"
      ]
     },
     "execution_count": 59,
     "metadata": {},
     "output_type": "execute_result"
    }
   ],
   "source": [
    "gender = data[car_var]['Name'].str.split(' ',expand = True,n=1)[0]\n",
    "gender"
   ]
  },
  {
   "cell_type": "code",
   "execution_count": 56,
   "id": "c70f3ed9",
   "metadata": {},
   "outputs": [
    {
     "ename": "KeyError",
     "evalue": "'Gender'",
     "output_type": "error",
     "traceback": [
      "\u001b[1;31m---------------------------------------------------------------------------\u001b[0m",
      "\u001b[1;31mKeyError\u001b[0m                                  Traceback (most recent call last)",
      "\u001b[1;32mC:\\ProgramData\\Anaconda3\\lib\\site-packages\\pandas\\core\\indexes\\base.py\u001b[0m in \u001b[0;36mget_loc\u001b[1;34m(self, key, method, tolerance)\u001b[0m\n\u001b[0;32m   3079\u001b[0m             \u001b[1;32mtry\u001b[0m\u001b[1;33m:\u001b[0m\u001b[1;33m\u001b[0m\u001b[1;33m\u001b[0m\u001b[0m\n\u001b[1;32m-> 3080\u001b[1;33m                 \u001b[1;32mreturn\u001b[0m \u001b[0mself\u001b[0m\u001b[1;33m.\u001b[0m\u001b[0m_engine\u001b[0m\u001b[1;33m.\u001b[0m\u001b[0mget_loc\u001b[0m\u001b[1;33m(\u001b[0m\u001b[0mcasted_key\u001b[0m\u001b[1;33m)\u001b[0m\u001b[1;33m\u001b[0m\u001b[1;33m\u001b[0m\u001b[0m\n\u001b[0m\u001b[0;32m   3081\u001b[0m             \u001b[1;32mexcept\u001b[0m \u001b[0mKeyError\u001b[0m \u001b[1;32mas\u001b[0m \u001b[0merr\u001b[0m\u001b[1;33m:\u001b[0m\u001b[1;33m\u001b[0m\u001b[1;33m\u001b[0m\u001b[0m\n",
      "\u001b[1;32mpandas\\_libs\\index.pyx\u001b[0m in \u001b[0;36mpandas._libs.index.IndexEngine.get_loc\u001b[1;34m()\u001b[0m\n",
      "\u001b[1;32mpandas\\_libs\\index.pyx\u001b[0m in \u001b[0;36mpandas._libs.index.IndexEngine.get_loc\u001b[1;34m()\u001b[0m\n",
      "\u001b[1;32mpandas\\_libs\\hashtable_class_helper.pxi\u001b[0m in \u001b[0;36mpandas._libs.hashtable.PyObjectHashTable.get_item\u001b[1;34m()\u001b[0m\n",
      "\u001b[1;32mpandas\\_libs\\hashtable_class_helper.pxi\u001b[0m in \u001b[0;36mpandas._libs.hashtable.PyObjectHashTable.get_item\u001b[1;34m()\u001b[0m\n",
      "\u001b[1;31mKeyError\u001b[0m: 'Gender'",
      "\nThe above exception was the direct cause of the following exception:\n",
      "\u001b[1;31mKeyError\u001b[0m                                  Traceback (most recent call last)",
      "\u001b[1;32m<ipython-input-56-f88ed7bfb759>\u001b[0m in \u001b[0;36m<module>\u001b[1;34m\u001b[0m\n\u001b[0;32m      1\u001b[0m \u001b[0mgender\u001b[0m \u001b[1;33m=\u001b[0m \u001b[0mdata\u001b[0m\u001b[1;33m[\u001b[0m\u001b[0mcar_var\u001b[0m\u001b[1;33m]\u001b[0m\u001b[1;33m[\u001b[0m\u001b[1;34m'Name'\u001b[0m\u001b[1;33m]\u001b[0m\u001b[1;33m.\u001b[0m\u001b[0mstr\u001b[0m\u001b[1;33m.\u001b[0m\u001b[0msplit\u001b[0m\u001b[1;33m(\u001b[0m\u001b[1;34m' '\u001b[0m\u001b[1;33m,\u001b[0m\u001b[0mexpand\u001b[0m \u001b[1;33m=\u001b[0m \u001b[1;32mTrue\u001b[0m\u001b[1;33m,\u001b[0m\u001b[0mn\u001b[0m\u001b[1;33m=\u001b[0m\u001b[1;36m1\u001b[0m\u001b[1;33m)\u001b[0m\u001b[1;33m[\u001b[0m\u001b[1;36m0\u001b[0m\u001b[1;33m]\u001b[0m\u001b[1;33m\u001b[0m\u001b[1;33m\u001b[0m\u001b[0m\n\u001b[0;32m      2\u001b[0m \u001b[0mdata\u001b[0m\u001b[1;33m[\u001b[0m\u001b[0mcar_var\u001b[0m\u001b[1;33m]\u001b[0m\u001b[1;33m[\u001b[0m\u001b[1;34m'Gender'\u001b[0m\u001b[1;33m]\u001b[0m \u001b[1;33m=\u001b[0m \u001b[0mgender\u001b[0m\u001b[1;33m\u001b[0m\u001b[1;33m\u001b[0m\u001b[0m\n\u001b[1;32m----> 3\u001b[1;33m \u001b[0mdata\u001b[0m\u001b[1;33m[\u001b[0m\u001b[0mcar_var\u001b[0m\u001b[1;33m]\u001b[0m\u001b[1;33m[\u001b[0m\u001b[1;34m'Gender'\u001b[0m\u001b[1;33m]\u001b[0m \u001b[1;33m=\u001b[0m \u001b[0mdata\u001b[0m\u001b[1;33m[\u001b[0m\u001b[0mcar_var\u001b[0m\u001b[1;33m]\u001b[0m\u001b[1;33m[\u001b[0m\u001b[1;34m'Gender'\u001b[0m\u001b[1;33m]\u001b[0m\u001b[1;33m.\u001b[0m\u001b[0mreplace\u001b[0m\u001b[1;33m(\u001b[0m\u001b[1;34m'Ms.'\u001b[0m\u001b[1;33m,\u001b[0m\u001b[1;36m0\u001b[0m\u001b[1;33m)\u001b[0m\u001b[1;33m.\u001b[0m\u001b[0mreplace\u001b[0m\u001b[1;33m(\u001b[0m\u001b[1;34m'Mr.'\u001b[0m\u001b[1;33m,\u001b[0m\u001b[1;36m1\u001b[0m\u001b[1;33m)\u001b[0m\u001b[1;33m\u001b[0m\u001b[1;33m\u001b[0m\u001b[0m\n\u001b[0m\u001b[0;32m      4\u001b[0m \u001b[0mdata\u001b[0m\u001b[1;33m[\u001b[0m\u001b[0mcar_var\u001b[0m\u001b[1;33m]\u001b[0m\u001b[1;33m.\u001b[0m\u001b[0mdrop\u001b[0m\u001b[1;33m(\u001b[0m\u001b[0mcolumns\u001b[0m \u001b[1;33m=\u001b[0m \u001b[1;33m[\u001b[0m\u001b[1;34m'Name'\u001b[0m\u001b[1;33m]\u001b[0m\u001b[1;33m,\u001b[0m \u001b[0maxis\u001b[0m \u001b[1;33m=\u001b[0m \u001b[1;36m1\u001b[0m\u001b[1;33m,\u001b[0m \u001b[0minplace\u001b[0m \u001b[1;33m=\u001b[0m \u001b[1;32mTrue\u001b[0m\u001b[1;33m)\u001b[0m\u001b[1;33m\u001b[0m\u001b[1;33m\u001b[0m\u001b[0m\n\u001b[0;32m      5\u001b[0m \u001b[1;33m\u001b[0m\u001b[0m\n",
      "\u001b[1;32mC:\\ProgramData\\Anaconda3\\lib\\site-packages\\pandas\\core\\frame.py\u001b[0m in \u001b[0;36m__getitem__\u001b[1;34m(self, key)\u001b[0m\n\u001b[0;32m   3022\u001b[0m             \u001b[1;32mif\u001b[0m \u001b[0mself\u001b[0m\u001b[1;33m.\u001b[0m\u001b[0mcolumns\u001b[0m\u001b[1;33m.\u001b[0m\u001b[0mnlevels\u001b[0m \u001b[1;33m>\u001b[0m \u001b[1;36m1\u001b[0m\u001b[1;33m:\u001b[0m\u001b[1;33m\u001b[0m\u001b[1;33m\u001b[0m\u001b[0m\n\u001b[0;32m   3023\u001b[0m                 \u001b[1;32mreturn\u001b[0m \u001b[0mself\u001b[0m\u001b[1;33m.\u001b[0m\u001b[0m_getitem_multilevel\u001b[0m\u001b[1;33m(\u001b[0m\u001b[0mkey\u001b[0m\u001b[1;33m)\u001b[0m\u001b[1;33m\u001b[0m\u001b[1;33m\u001b[0m\u001b[0m\n\u001b[1;32m-> 3024\u001b[1;33m             \u001b[0mindexer\u001b[0m \u001b[1;33m=\u001b[0m \u001b[0mself\u001b[0m\u001b[1;33m.\u001b[0m\u001b[0mcolumns\u001b[0m\u001b[1;33m.\u001b[0m\u001b[0mget_loc\u001b[0m\u001b[1;33m(\u001b[0m\u001b[0mkey\u001b[0m\u001b[1;33m)\u001b[0m\u001b[1;33m\u001b[0m\u001b[1;33m\u001b[0m\u001b[0m\n\u001b[0m\u001b[0;32m   3025\u001b[0m             \u001b[1;32mif\u001b[0m \u001b[0mis_integer\u001b[0m\u001b[1;33m(\u001b[0m\u001b[0mindexer\u001b[0m\u001b[1;33m)\u001b[0m\u001b[1;33m:\u001b[0m\u001b[1;33m\u001b[0m\u001b[1;33m\u001b[0m\u001b[0m\n\u001b[0;32m   3026\u001b[0m                 \u001b[0mindexer\u001b[0m \u001b[1;33m=\u001b[0m \u001b[1;33m[\u001b[0m\u001b[0mindexer\u001b[0m\u001b[1;33m]\u001b[0m\u001b[1;33m\u001b[0m\u001b[1;33m\u001b[0m\u001b[0m\n",
      "\u001b[1;32mC:\\ProgramData\\Anaconda3\\lib\\site-packages\\pandas\\core\\indexes\\base.py\u001b[0m in \u001b[0;36mget_loc\u001b[1;34m(self, key, method, tolerance)\u001b[0m\n\u001b[0;32m   3080\u001b[0m                 \u001b[1;32mreturn\u001b[0m \u001b[0mself\u001b[0m\u001b[1;33m.\u001b[0m\u001b[0m_engine\u001b[0m\u001b[1;33m.\u001b[0m\u001b[0mget_loc\u001b[0m\u001b[1;33m(\u001b[0m\u001b[0mcasted_key\u001b[0m\u001b[1;33m)\u001b[0m\u001b[1;33m\u001b[0m\u001b[1;33m\u001b[0m\u001b[0m\n\u001b[0;32m   3081\u001b[0m             \u001b[1;32mexcept\u001b[0m \u001b[0mKeyError\u001b[0m \u001b[1;32mas\u001b[0m \u001b[0merr\u001b[0m\u001b[1;33m:\u001b[0m\u001b[1;33m\u001b[0m\u001b[1;33m\u001b[0m\u001b[0m\n\u001b[1;32m-> 3082\u001b[1;33m                 \u001b[1;32mraise\u001b[0m \u001b[0mKeyError\u001b[0m\u001b[1;33m(\u001b[0m\u001b[0mkey\u001b[0m\u001b[1;33m)\u001b[0m \u001b[1;32mfrom\u001b[0m \u001b[0merr\u001b[0m\u001b[1;33m\u001b[0m\u001b[1;33m\u001b[0m\u001b[0m\n\u001b[0m\u001b[0;32m   3083\u001b[0m \u001b[1;33m\u001b[0m\u001b[0m\n\u001b[0;32m   3084\u001b[0m         \u001b[1;32mif\u001b[0m \u001b[0mtolerance\u001b[0m \u001b[1;32mis\u001b[0m \u001b[1;32mnot\u001b[0m \u001b[1;32mNone\u001b[0m\u001b[1;33m:\u001b[0m\u001b[1;33m\u001b[0m\u001b[1;33m\u001b[0m\u001b[0m\n",
      "\u001b[1;31mKeyError\u001b[0m: 'Gender'"
     ]
    }
   ],
   "source": [
    "gender = data[car_var]['Name'].str.split(' ',expand = True,n=1)[0]\n",
    "data[car_var]['Gender'] = gender\n",
    "data[car_var]['Gender'] = data[car_var]['Gender'].replace('Ms.',0).replace('Mr.',1)\n",
    "data[car_var].drop(columns = ['Name'], axis = 1, inplace = True)\n",
    "\n",
    "# gender = test['Name'].str.split(' ',expand = True,n=1)[0]\n",
    "# test['Gender'] = gender\n",
    "# test['Gender'] = test['Gender'].replace('Ms.',0).replace('Mr.',1)\n",
    "# test.drop(columns = ['Name'], axis = 1, inplace = True)"
   ]
  },
  {
   "cell_type": "code",
   "execution_count": null,
   "id": "8f29b15e",
   "metadata": {},
   "outputs": [],
   "source": [
    "# from datetime import date\n",
    "# db['Age'] = date.today().year - db['Year_Birth']\n",
    "# db.drop(columns = ['Year_Birth'], axis=1, inplace=True)\n",
    "# test['Age'] = date.today().year - test['Year_Birth']\n",
    "# test.drop(columns = ['Year_Birth'], axis=1, inplace=True)"
   ]
  },
  {
   "cell_type": "code",
   "execution_count": null,
   "id": "a9c30ca3",
   "metadata": {},
   "outputs": [],
   "source": [
    "# Fill year of brith NAs with median\n",
    "db['Year_Birth'] = db['Year_Birth'].fillna(db['Year_Birth'].median()).astype(int).astype(np.int64)"
   ]
  },
  {
   "cell_type": "code",
   "execution_count": 13,
   "id": "6316cbe2",
   "metadata": {},
   "outputs": [],
   "source": [
    "# Converting every column that is int64 to int8 for performance issues\n",
    "db.iloc[:,(db.dtypes=='int64').values] = db.iloc[:,(db.dtypes=='int64').values].astype(np.int16)\n",
    "test.iloc[:,(test.dtypes=='int64').values] = test.iloc[:,(test.dtypes=='int64').values].astype(np.int16)"
   ]
  },
  {
   "cell_type": "markdown",
   "id": "d102b149",
   "metadata": {},
   "source": [
    "##### Change Year of Birth with Date"
   ]
  },
  {
   "cell_type": "code",
   "execution_count": 14,
   "id": "8b2b9333",
   "metadata": {},
   "outputs": [],
   "source": [
    "# from datetime import date\n",
    "# db['Age'] = date.today().year - db['Year_Birth']\n",
    "# db.drop(columns = ['Year_Birth'], axis=1, inplace=True)\n",
    "# test['Age'] = date.today().year - test['Year_Birth']\n",
    "# test.drop(columns = ['Year_Birth'], axis=1, inplace=True)"
   ]
  },
  {
   "cell_type": "code",
   "execution_count": 16,
   "id": "e01c9332",
   "metadata": {},
   "outputs": [],
   "source": [
    "#db.describe().T"
   ]
  },
  {
   "cell_type": "markdown",
   "id": "9ab2212a",
   "metadata": {},
   "source": [
    "##### Notes from initial pre-processing\n",
    "- We have a minimum age of 8 years and max of 81 in the test file\n",
    "- Min 8 and max 86 in the train file\n",
    "\n",
    "##### We should't make new variables, dummy variables, nor replace categorical values for numerical, since we need the end variables to be the same as the test variables"
   ]
  },
  {
   "cell_type": "markdown",
   "id": "5fb20e9f",
   "metadata": {},
   "source": [
    "----\n",
    "##### Start Division between Data and Target"
   ]
  },
  {
   "cell_type": "code",
   "execution_count": 21,
   "id": "94c2e52c",
   "metadata": {},
   "outputs": [],
   "source": [
    "#print(target.info())\n",
    "#print(data.info())"
   ]
  },
  {
   "cell_type": "markdown",
   "id": "9acf66ec",
   "metadata": {},
   "source": [
    "##### If we want to use Hold-out method"
   ]
  },
  {
   "cell_type": "code",
   "execution_count": 22,
   "id": "94003557",
   "metadata": {},
   "outputs": [],
   "source": [
    "from sklearn.model_selection import train_test_split"
   ]
  },
  {
   "cell_type": "code",
   "execution_count": 23,
   "id": "e4ac73ef",
   "metadata": {},
   "outputs": [],
   "source": [
    "X_train, X_val, y_train, y_val = train_test_split(data, \n",
    "                                                    target, \n",
    "                                                    test_size=0.2, \n",
    "                                                    random_state=15, \n",
    "                                                    shuffle=True, \n",
    "                                                    stratify=target\n",
    "                                                   )"
   ]
  },
  {
   "cell_type": "code",
   "execution_count": 24,
   "id": "b21612d2",
   "metadata": {},
   "outputs": [
    {
     "name": "stdout",
     "output_type": "stream",
     "text": [
      "train:0.8% | validation:0.2%\n"
     ]
    }
   ],
   "source": [
    "print('train:{}% | validation:{}%'.format(round(len(y_train)/len(target),2),\n",
    "                                                     round(len(y_val)/len(target),2)\n",
    "                                                    ))"
   ]
  },
  {
   "cell_type": "markdown",
   "id": "d5942780",
   "metadata": {},
   "source": [
    "##### Dividing DataSet between Numerical and Categorical data"
   ]
  },
  {
   "cell_type": "code",
   "execution_count": 25,
   "id": "0b7c06e2",
   "metadata": {},
   "outputs": [],
   "source": [
    "# Numerical data\n",
    "X_train_num = X_train.select_dtypes(include=np.number).set_index(X_train.index)\n",
    "X_val_num = X_val.select_dtypes(include=np.number).set_index(X_val.index)\n",
    "\n",
    "# Categorical data\n",
    "X_train_cat = X_train.select_dtypes(exclude=np.number).set_index(X_train.index)\n",
    "X_val_cat = X_val.select_dtypes(exclude=np.number).set_index(X_val.index)"
   ]
  },
  {
   "cell_type": "markdown",
   "id": "7b7d25c4",
   "metadata": {},
   "source": [
    "##### Scaling numerical data between 0 and 1"
   ]
  },
  {
   "cell_type": "code",
   "execution_count": 26,
   "id": "cc10ad41",
   "metadata": {},
   "outputs": [
    {
     "data": {
      "text/html": [
       "<div>\n",
       "<style scoped>\n",
       "    .dataframe tbody tr th:only-of-type {\n",
       "        vertical-align: middle;\n",
       "    }\n",
       "\n",
       "    .dataframe tbody tr th {\n",
       "        vertical-align: top;\n",
       "    }\n",
       "\n",
       "    .dataframe thead th {\n",
       "        text-align: right;\n",
       "    }\n",
       "</style>\n",
       "<table border=\"1\" class=\"dataframe\">\n",
       "  <thead>\n",
       "    <tr style=\"text-align: right;\">\n",
       "      <th></th>\n",
       "      <th>Year_Birth</th>\n",
       "      <th>RewardPoints</th>\n",
       "      <th>Comfort</th>\n",
       "      <th>ReceptionSchedule</th>\n",
       "      <th>FoodDrink</th>\n",
       "      <th>Location</th>\n",
       "      <th>Wifi</th>\n",
       "      <th>Amenities</th>\n",
       "      <th>Staff</th>\n",
       "      <th>OnlineBooking</th>\n",
       "      <th>PriceQuality</th>\n",
       "      <th>RoomSpace</th>\n",
       "      <th>CheckOut</th>\n",
       "      <th>Checkin</th>\n",
       "      <th>Cleanliness</th>\n",
       "      <th>BarService</th>\n",
       "    </tr>\n",
       "    <tr>\n",
       "      <th>Cust_ID</th>\n",
       "      <th></th>\n",
       "      <th></th>\n",
       "      <th></th>\n",
       "      <th></th>\n",
       "      <th></th>\n",
       "      <th></th>\n",
       "      <th></th>\n",
       "      <th></th>\n",
       "      <th></th>\n",
       "      <th></th>\n",
       "      <th></th>\n",
       "      <th></th>\n",
       "      <th></th>\n",
       "      <th></th>\n",
       "      <th></th>\n",
       "      <th></th>\n",
       "    </tr>\n",
       "  </thead>\n",
       "  <tbody>\n",
       "    <tr>\n",
       "      <th>9587</th>\n",
       "      <td>0.846154</td>\n",
       "      <td>0.508026</td>\n",
       "      <td>0.6</td>\n",
       "      <td>0.4</td>\n",
       "      <td>0.6</td>\n",
       "      <td>0.50</td>\n",
       "      <td>0.8</td>\n",
       "      <td>0.8</td>\n",
       "      <td>0.75</td>\n",
       "      <td>0.8</td>\n",
       "      <td>0.75</td>\n",
       "      <td>0.8</td>\n",
       "      <td>1.00</td>\n",
       "      <td>0.50</td>\n",
       "      <td>0.75</td>\n",
       "      <td>0.8</td>\n",
       "    </tr>\n",
       "    <tr>\n",
       "      <th>4281</th>\n",
       "      <td>0.551282</td>\n",
       "      <td>0.695459</td>\n",
       "      <td>0.2</td>\n",
       "      <td>0.2</td>\n",
       "      <td>0.2</td>\n",
       "      <td>0.75</td>\n",
       "      <td>0.2</td>\n",
       "      <td>0.2</td>\n",
       "      <td>0.00</td>\n",
       "      <td>0.6</td>\n",
       "      <td>1.00</td>\n",
       "      <td>0.4</td>\n",
       "      <td>0.75</td>\n",
       "      <td>0.00</td>\n",
       "      <td>0.75</td>\n",
       "      <td>0.2</td>\n",
       "    </tr>\n",
       "    <tr>\n",
       "      <th>6256</th>\n",
       "      <td>0.576923</td>\n",
       "      <td>0.153340</td>\n",
       "      <td>0.6</td>\n",
       "      <td>0.6</td>\n",
       "      <td>0.6</td>\n",
       "      <td>0.50</td>\n",
       "      <td>0.6</td>\n",
       "      <td>0.2</td>\n",
       "      <td>0.00</td>\n",
       "      <td>0.6</td>\n",
       "      <td>1.00</td>\n",
       "      <td>0.8</td>\n",
       "      <td>0.75</td>\n",
       "      <td>0.00</td>\n",
       "      <td>1.00</td>\n",
       "      <td>0.2</td>\n",
       "    </tr>\n",
       "    <tr>\n",
       "      <th>10584</th>\n",
       "      <td>0.358974</td>\n",
       "      <td>0.941752</td>\n",
       "      <td>0.6</td>\n",
       "      <td>1.0</td>\n",
       "      <td>1.0</td>\n",
       "      <td>1.00</td>\n",
       "      <td>0.2</td>\n",
       "      <td>0.6</td>\n",
       "      <td>0.75</td>\n",
       "      <td>0.6</td>\n",
       "      <td>0.50</td>\n",
       "      <td>0.6</td>\n",
       "      <td>0.50</td>\n",
       "      <td>0.50</td>\n",
       "      <td>0.50</td>\n",
       "      <td>0.6</td>\n",
       "    </tr>\n",
       "    <tr>\n",
       "      <th>9339</th>\n",
       "      <td>0.384615</td>\n",
       "      <td>0.912399</td>\n",
       "      <td>1.0</td>\n",
       "      <td>1.0</td>\n",
       "      <td>1.0</td>\n",
       "      <td>1.00</td>\n",
       "      <td>1.0</td>\n",
       "      <td>1.0</td>\n",
       "      <td>0.75</td>\n",
       "      <td>1.0</td>\n",
       "      <td>1.00</td>\n",
       "      <td>1.0</td>\n",
       "      <td>1.00</td>\n",
       "      <td>0.75</td>\n",
       "      <td>1.00</td>\n",
       "      <td>0.6</td>\n",
       "    </tr>\n",
       "  </tbody>\n",
       "</table>\n",
       "</div>"
      ],
      "text/plain": [
       "         Year_Birth  RewardPoints  Comfort  ReceptionSchedule  FoodDrink  \\\n",
       "Cust_ID                                                                    \n",
       "9587       0.846154      0.508026      0.6                0.4        0.6   \n",
       "4281       0.551282      0.695459      0.2                0.2        0.2   \n",
       "6256       0.576923      0.153340      0.6                0.6        0.6   \n",
       "10584      0.358974      0.941752      0.6                1.0        1.0   \n",
       "9339       0.384615      0.912399      1.0                1.0        1.0   \n",
       "\n",
       "         Location  Wifi  Amenities  Staff  OnlineBooking  PriceQuality  \\\n",
       "Cust_ID                                                                  \n",
       "9587         0.50   0.8        0.8   0.75            0.8          0.75   \n",
       "4281         0.75   0.2        0.2   0.00            0.6          1.00   \n",
       "6256         0.50   0.6        0.2   0.00            0.6          1.00   \n",
       "10584        1.00   0.2        0.6   0.75            0.6          0.50   \n",
       "9339         1.00   1.0        1.0   0.75            1.0          1.00   \n",
       "\n",
       "         RoomSpace  CheckOut  Checkin  Cleanliness  BarService  \n",
       "Cust_ID                                                         \n",
       "9587           0.8      1.00     0.50         0.75         0.8  \n",
       "4281           0.4      0.75     0.00         0.75         0.2  \n",
       "6256           0.8      0.75     0.00         1.00         0.2  \n",
       "10584          0.6      0.50     0.50         0.50         0.6  \n",
       "9339           1.0      1.00     0.75         1.00         0.6  "
      ]
     },
     "execution_count": 26,
     "metadata": {},
     "output_type": "execute_result"
    }
   ],
   "source": [
    "scaler = MinMaxScaler()\n",
    "scaler.fit(X_train_num)\n",
    "X_train_num_scaled = scaler.transform(X_train_num) # this will return an array\n",
    "X_train_num_scaled = pd.DataFrame(X_train_num_scaled, columns = X_train_num.columns, index = X_train.index) # Convert the array to a pandas dataframe\n",
    "X_train_num_scaled.head(5)"
   ]
  },
  {
   "cell_type": "code",
   "execution_count": 27,
   "id": "4d541e5b",
   "metadata": {},
   "outputs": [
    {
     "data": {
      "text/html": [
       "<div>\n",
       "<style scoped>\n",
       "    .dataframe tbody tr th:only-of-type {\n",
       "        vertical-align: middle;\n",
       "    }\n",
       "\n",
       "    .dataframe tbody tr th {\n",
       "        vertical-align: top;\n",
       "    }\n",
       "\n",
       "    .dataframe thead th {\n",
       "        text-align: right;\n",
       "    }\n",
       "</style>\n",
       "<table border=\"1\" class=\"dataframe\">\n",
       "  <thead>\n",
       "    <tr style=\"text-align: right;\">\n",
       "      <th></th>\n",
       "      <th>Year_Birth</th>\n",
       "      <th>RewardPoints</th>\n",
       "      <th>Comfort</th>\n",
       "      <th>ReceptionSchedule</th>\n",
       "      <th>FoodDrink</th>\n",
       "      <th>Location</th>\n",
       "      <th>Wifi</th>\n",
       "      <th>Amenities</th>\n",
       "      <th>Staff</th>\n",
       "      <th>OnlineBooking</th>\n",
       "      <th>PriceQuality</th>\n",
       "      <th>RoomSpace</th>\n",
       "      <th>CheckOut</th>\n",
       "      <th>Checkin</th>\n",
       "      <th>Cleanliness</th>\n",
       "      <th>BarService</th>\n",
       "    </tr>\n",
       "    <tr>\n",
       "      <th>Cust_ID</th>\n",
       "      <th></th>\n",
       "      <th></th>\n",
       "      <th></th>\n",
       "      <th></th>\n",
       "      <th></th>\n",
       "      <th></th>\n",
       "      <th></th>\n",
       "      <th></th>\n",
       "      <th></th>\n",
       "      <th></th>\n",
       "      <th></th>\n",
       "      <th></th>\n",
       "      <th></th>\n",
       "      <th></th>\n",
       "      <th></th>\n",
       "      <th></th>\n",
       "    </tr>\n",
       "  </thead>\n",
       "  <tbody>\n",
       "    <tr>\n",
       "      <th>6798</th>\n",
       "      <td>0.346154</td>\n",
       "      <td>0.423024</td>\n",
       "      <td>0.6</td>\n",
       "      <td>0.8</td>\n",
       "      <td>0.8</td>\n",
       "      <td>0.75</td>\n",
       "      <td>0.6</td>\n",
       "      <td>0.6</td>\n",
       "      <td>0.50</td>\n",
       "      <td>0.6</td>\n",
       "      <td>0.50</td>\n",
       "      <td>0.6</td>\n",
       "      <td>0.50</td>\n",
       "      <td>0.25</td>\n",
       "      <td>0.50</td>\n",
       "      <td>0.6</td>\n",
       "    </tr>\n",
       "    <tr>\n",
       "      <th>7661</th>\n",
       "      <td>0.564103</td>\n",
       "      <td>0.753096</td>\n",
       "      <td>0.4</td>\n",
       "      <td>0.4</td>\n",
       "      <td>0.4</td>\n",
       "      <td>0.25</td>\n",
       "      <td>0.8</td>\n",
       "      <td>1.0</td>\n",
       "      <td>1.00</td>\n",
       "      <td>0.8</td>\n",
       "      <td>0.75</td>\n",
       "      <td>0.8</td>\n",
       "      <td>0.75</td>\n",
       "      <td>0.75</td>\n",
       "      <td>0.75</td>\n",
       "      <td>0.6</td>\n",
       "    </tr>\n",
       "    <tr>\n",
       "      <th>5965</th>\n",
       "      <td>0.602564</td>\n",
       "      <td>0.735514</td>\n",
       "      <td>0.6</td>\n",
       "      <td>0.6</td>\n",
       "      <td>0.4</td>\n",
       "      <td>0.50</td>\n",
       "      <td>1.0</td>\n",
       "      <td>0.8</td>\n",
       "      <td>1.00</td>\n",
       "      <td>0.6</td>\n",
       "      <td>0.50</td>\n",
       "      <td>0.6</td>\n",
       "      <td>0.50</td>\n",
       "      <td>0.50</td>\n",
       "      <td>0.50</td>\n",
       "      <td>1.0</td>\n",
       "    </tr>\n",
       "    <tr>\n",
       "      <th>1171</th>\n",
       "      <td>0.974359</td>\n",
       "      <td>0.689344</td>\n",
       "      <td>0.2</td>\n",
       "      <td>0.8</td>\n",
       "      <td>0.2</td>\n",
       "      <td>0.50</td>\n",
       "      <td>0.4</td>\n",
       "      <td>0.2</td>\n",
       "      <td>0.25</td>\n",
       "      <td>0.4</td>\n",
       "      <td>1.00</td>\n",
       "      <td>0.8</td>\n",
       "      <td>0.75</td>\n",
       "      <td>0.75</td>\n",
       "      <td>0.75</td>\n",
       "      <td>0.4</td>\n",
       "    </tr>\n",
       "    <tr>\n",
       "      <th>11840</th>\n",
       "      <td>0.756410</td>\n",
       "      <td>0.604953</td>\n",
       "      <td>0.4</td>\n",
       "      <td>0.4</td>\n",
       "      <td>0.4</td>\n",
       "      <td>0.75</td>\n",
       "      <td>0.8</td>\n",
       "      <td>0.4</td>\n",
       "      <td>0.75</td>\n",
       "      <td>0.8</td>\n",
       "      <td>0.50</td>\n",
       "      <td>1.0</td>\n",
       "      <td>0.75</td>\n",
       "      <td>0.75</td>\n",
       "      <td>1.00</td>\n",
       "      <td>0.8</td>\n",
       "    </tr>\n",
       "  </tbody>\n",
       "</table>\n",
       "</div>"
      ],
      "text/plain": [
       "         Year_Birth  RewardPoints  Comfort  ReceptionSchedule  FoodDrink  \\\n",
       "Cust_ID                                                                    \n",
       "6798       0.346154      0.423024      0.6                0.8        0.8   \n",
       "7661       0.564103      0.753096      0.4                0.4        0.4   \n",
       "5965       0.602564      0.735514      0.6                0.6        0.4   \n",
       "1171       0.974359      0.689344      0.2                0.8        0.2   \n",
       "11840      0.756410      0.604953      0.4                0.4        0.4   \n",
       "\n",
       "         Location  Wifi  Amenities  Staff  OnlineBooking  PriceQuality  \\\n",
       "Cust_ID                                                                  \n",
       "6798         0.75   0.6        0.6   0.50            0.6          0.50   \n",
       "7661         0.25   0.8        1.0   1.00            0.8          0.75   \n",
       "5965         0.50   1.0        0.8   1.00            0.6          0.50   \n",
       "1171         0.50   0.4        0.2   0.25            0.4          1.00   \n",
       "11840        0.75   0.8        0.4   0.75            0.8          0.50   \n",
       "\n",
       "         RoomSpace  CheckOut  Checkin  Cleanliness  BarService  \n",
       "Cust_ID                                                         \n",
       "6798           0.6      0.50     0.25         0.50         0.6  \n",
       "7661           0.8      0.75     0.75         0.75         0.6  \n",
       "5965           0.6      0.50     0.50         0.50         1.0  \n",
       "1171           0.8      0.75     0.75         0.75         0.4  \n",
       "11840          1.0      0.75     0.75         1.00         0.8  "
      ]
     },
     "execution_count": 27,
     "metadata": {},
     "output_type": "execute_result"
    }
   ],
   "source": [
    "X_val_num_scaled = scaler.transform(X_val_num)\n",
    "X_val_num_scaled = pd.DataFrame(X_val_num_scaled, columns = X_val_num.columns, index = X_val.index)\n",
    "X_val_num_scaled.head(5)"
   ]
  },
  {
   "cell_type": "markdown",
   "id": "8633670d",
   "metadata": {},
   "source": [
    "### Feature Selection"
   ]
  },
  {
   "cell_type": "code",
   "execution_count": null,
   "id": "c309294a",
   "metadata": {},
   "outputs": [],
   "source": []
  },
  {
   "cell_type": "markdown",
   "id": "0c94b300",
   "metadata": {},
   "source": [
    "----"
   ]
  },
  {
   "cell_type": "markdown",
   "id": "f5269616",
   "metadata": {},
   "source": [
    "#### Apply Logistic Regression"
   ]
  },
  {
   "cell_type": "code",
   "execution_count": 77,
   "id": "4fd792e4",
   "metadata": {},
   "outputs": [],
   "source": [
    "from sklearn.linear_model import LogisticRegression"
   ]
  },
  {
   "cell_type": "code",
   "execution_count": null,
   "id": "6aa24a5f",
   "metadata": {},
   "outputs": [],
   "source": [
    "log_model = LogisticRegression()\n",
    "log_model.fit(X_train, y_train)"
   ]
  },
  {
   "cell_type": "code",
   "execution_count": null,
   "id": "96400823",
   "metadata": {},
   "outputs": [],
   "source": [
    "print('Train:', log_model.score(X_train, y_train))\n",
    "print('Validation:', log_model.score(X_val, y_val))"
   ]
  },
  {
   "cell_type": "markdown",
   "id": "b63789a4",
   "metadata": {},
   "source": [
    "----"
   ]
  },
  {
   "cell_type": "markdown",
   "id": "193825d5",
   "metadata": {},
   "source": [
    "##### K-Fold Cross Validation"
   ]
  },
  {
   "cell_type": "code",
   "execution_count": null,
   "id": "6826b621",
   "metadata": {},
   "outputs": [],
   "source": [
    "from sklearn.linear_model import LogisticRegression"
   ]
  }
 ],
 "metadata": {
  "kernelspec": {
   "display_name": "Python 3",
   "language": "python",
   "name": "python3"
  },
  "language_info": {
   "codemirror_mode": {
    "name": "ipython",
    "version": 3
   },
   "file_extension": ".py",
   "mimetype": "text/x-python",
   "name": "python",
   "nbconvert_exporter": "python",
   "pygments_lexer": "ipython3",
   "version": "3.8.8"
  }
 },
 "nbformat": 4,
 "nbformat_minor": 5
}
